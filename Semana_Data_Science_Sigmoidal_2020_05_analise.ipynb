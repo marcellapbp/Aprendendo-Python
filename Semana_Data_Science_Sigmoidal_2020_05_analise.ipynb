{
  "nbformat": 4,
  "nbformat_minor": 0,
  "metadata": {
    "colab": {
      "name": "Semana_Data_Science_Sigmoidal_2020-05_analise.ipynb",
      "provenance": [],
      "authorship_tag": "ABX9TyPEhjo2N3B/Ea6FL9fMpGG7",
      "include_colab_link": true
    },
    "kernelspec": {
      "name": "python3",
      "display_name": "Python 3"
    }
  },
  "cells": [
    {
      "cell_type": "markdown",
      "metadata": {
        "id": "view-in-github",
        "colab_type": "text"
      },
      "source": [
        "<a href=\"https://colab.research.google.com/github/marcellapbp/Aprendendo-Python/blob/master/Semana_Data_Science_Sigmoidal_2020_05_analise.ipynb\" target=\"_parent\"><img src=\"https://colab.research.google.com/assets/colab-badge.svg\" alt=\"Open In Colab\"/></a>"
      ]
    },
    {
      "cell_type": "markdown",
      "metadata": {
        "id": "7vEXdEM1gq28",
        "colab_type": "text"
      },
      "source": [
        "#Leitura Arquivo Acidentes SP"
      ]
    },
    {
      "cell_type": "code",
      "metadata": {
        "id": "Rt12QaOcaDtX",
        "colab_type": "code",
        "colab": {
          "base_uri": "https://localhost:8080/",
          "height": 382
        },
        "outputId": "4d4ad3c0-e1bf-4a4e-daba-70ee6a9d1c35"
      },
      "source": [
        "#leitura do arquivo\n",
        "import pandas as pd\n",
        "\n",
        "arq_acidentes = pd.read_csv('/content/acidentes_sp_clean.csv')\n",
        "\n",
        "arq_acidentes.head()"
      ],
      "execution_count": 1,
      "outputs": [
        {
          "output_type": "execute_result",
          "data": {
            "text/html": [
              "<div>\n",
              "<style scoped>\n",
              "    .dataframe tbody tr th:only-of-type {\n",
              "        vertical-align: middle;\n",
              "    }\n",
              "\n",
              "    .dataframe tbody tr th {\n",
              "        vertical-align: top;\n",
              "    }\n",
              "\n",
              "    .dataframe thead th {\n",
              "        text-align: right;\n",
              "    }\n",
              "</style>\n",
              "<table border=\"1\" class=\"dataframe\">\n",
              "  <thead>\n",
              "    <tr style=\"text-align: right;\">\n",
              "      <th></th>\n",
              "      <th>Id da Delegacia (RDO)</th>\n",
              "      <th>Número do Bo (RDO)</th>\n",
              "      <th>Ano do BO (RDO)</th>\n",
              "      <th>Data do Óbito</th>\n",
              "      <th>Data do Acidente</th>\n",
              "      <th>Tipo de via</th>\n",
              "      <th>Dia do óbito</th>\n",
              "      <th>Mês do Óbito</th>\n",
              "      <th>Mês Óbito Descrição</th>\n",
              "      <th>Ano do Óbito</th>\n",
              "      <th>Ano/Mês do Óbito</th>\n",
              "      <th>Dia da Semana</th>\n",
              "      <th>Hora do Acidente</th>\n",
              "      <th>Turno</th>\n",
              "      <th>Município</th>\n",
              "      <th>Região Administrativa</th>\n",
              "      <th>Logradouro</th>\n",
              "      <th>Númeral / KM</th>\n",
              "      <th>Jurisdição</th>\n",
              "      <th>Administração</th>\n",
              "      <th>Conservação</th>\n",
              "      <th>Tipo do local da ocorrência</th>\n",
              "      <th>LAT_(GEO)</th>\n",
              "      <th>LONG_(GEO)</th>\n",
              "      <th>Tipo do veículo da vítima</th>\n",
              "      <th>Tipo de vítima</th>\n",
              "      <th>Local do óbito</th>\n",
              "      <th>Tipo de acidente</th>\n",
              "      <th>Sub Tipo do Acidente</th>\n",
              "      <th>Tempo entre o Acidente e o óbito</th>\n",
              "      <th>Sexo</th>\n",
              "      <th>Faixa etária</th>\n",
              "      <th>Idade da vítima</th>\n",
              "      <th>Outro Veículo Envolvido</th>\n",
              "    </tr>\n",
              "  </thead>\n",
              "  <tbody>\n",
              "    <tr>\n",
              "      <th>0</th>\n",
              "      <td>120514</td>\n",
              "      <td>889</td>\n",
              "      <td>2020</td>\n",
              "      <td>2020-04-30</td>\n",
              "      <td>2020-04-30</td>\n",
              "      <td>Rodovias</td>\n",
              "      <td>30</td>\n",
              "      <td>4</td>\n",
              "      <td>ABRIL</td>\n",
              "      <td>2020</td>\n",
              "      <td>2020.04</td>\n",
              "      <td>QUINTA</td>\n",
              "      <td>17:30:00</td>\n",
              "      <td>TARDE</td>\n",
              "      <td>ARACARIGUAMA</td>\n",
              "      <td>Sorocaba</td>\n",
              "      <td>SP 280</td>\n",
              "      <td>50,0</td>\n",
              "      <td>ESTADUAL</td>\n",
              "      <td>CONCESSIONÁRIA</td>\n",
              "      <td>VIAOESTE</td>\n",
              "      <td>PUBLICO</td>\n",
              "      <td>-23.439186</td>\n",
              "      <td>-47.065945</td>\n",
              "      <td>ONIBUS</td>\n",
              "      <td>CONDUTOR</td>\n",
              "      <td>VIA</td>\n",
              "      <td>CHOQUE</td>\n",
              "      <td>VEÍCULO ESTACIONADO</td>\n",
              "      <td>Mesmo dia</td>\n",
              "      <td>MASCULINO</td>\n",
              "      <td>45-49</td>\n",
              "      <td>48.0</td>\n",
              "      <td>ONIBUS</td>\n",
              "    </tr>\n",
              "    <tr>\n",
              "      <th>1</th>\n",
              "      <td>120514</td>\n",
              "      <td>889</td>\n",
              "      <td>2020</td>\n",
              "      <td>2020-04-30</td>\n",
              "      <td>2020-04-30</td>\n",
              "      <td>Rodovias</td>\n",
              "      <td>30</td>\n",
              "      <td>4</td>\n",
              "      <td>ABRIL</td>\n",
              "      <td>2020</td>\n",
              "      <td>2020.04</td>\n",
              "      <td>QUINTA</td>\n",
              "      <td>17:30:00</td>\n",
              "      <td>TARDE</td>\n",
              "      <td>ARACARIGUAMA</td>\n",
              "      <td>Sorocaba</td>\n",
              "      <td>SP 280</td>\n",
              "      <td>50,0</td>\n",
              "      <td>ESTADUAL</td>\n",
              "      <td>CONCESSIONÁRIA</td>\n",
              "      <td>VIAOESTE</td>\n",
              "      <td>PUBLICO</td>\n",
              "      <td>-23.439186</td>\n",
              "      <td>-47.065945</td>\n",
              "      <td>ONIBUS</td>\n",
              "      <td>PASSAGEIRO</td>\n",
              "      <td>ESTABELECIMENTO DE SAUDE</td>\n",
              "      <td>CHOQUE</td>\n",
              "      <td>VEÍCULO ESTACIONADO</td>\n",
              "      <td>Mesmo dia</td>\n",
              "      <td>MASCULINO</td>\n",
              "      <td>35-39</td>\n",
              "      <td>36.0</td>\n",
              "      <td>ONIBUS</td>\n",
              "    </tr>\n",
              "    <tr>\n",
              "      <th>2</th>\n",
              "      <td>110429</td>\n",
              "      <td>3887</td>\n",
              "      <td>2020</td>\n",
              "      <td>2020-04-30</td>\n",
              "      <td>2020-04-17</td>\n",
              "      <td>Rodovias</td>\n",
              "      <td>30</td>\n",
              "      <td>4</td>\n",
              "      <td>ABRIL</td>\n",
              "      <td>2020</td>\n",
              "      <td>2020.04</td>\n",
              "      <td>SEXTA</td>\n",
              "      <td>3:50:00</td>\n",
              "      <td>MADRUGADA</td>\n",
              "      <td>SAO JOSE DO RIO PRETO</td>\n",
              "      <td>São José do Rio Preto</td>\n",
              "      <td>BR 153</td>\n",
              "      <td>57,5</td>\n",
              "      <td>FEDERAL</td>\n",
              "      <td>CONCESSIONÁRIA</td>\n",
              "      <td>TRANSBRASILIANA</td>\n",
              "      <td>PUBLICO</td>\n",
              "      <td>-20.772532</td>\n",
              "      <td>-49.350863</td>\n",
              "      <td>MOTOCICLETA</td>\n",
              "      <td>CONDUTOR</td>\n",
              "      <td>ESTABELECIMENTO DE SAUDE</td>\n",
              "      <td>CHOQUE</td>\n",
              "      <td>DEFENSA / BARREIRA</td>\n",
              "      <td>Até 30 dias</td>\n",
              "      <td>MASCULINO</td>\n",
              "      <td>25-29</td>\n",
              "      <td>26.0</td>\n",
              "      <td>NÃO HÁ</td>\n",
              "    </tr>\n",
              "    <tr>\n",
              "      <th>3</th>\n",
              "      <td>30309</td>\n",
              "      <td>1745</td>\n",
              "      <td>2020</td>\n",
              "      <td>2020-04-30</td>\n",
              "      <td>2020-04-30</td>\n",
              "      <td>Rodovias</td>\n",
              "      <td>30</td>\n",
              "      <td>4</td>\n",
              "      <td>ABRIL</td>\n",
              "      <td>2020</td>\n",
              "      <td>2020.04</td>\n",
              "      <td>QUINTA</td>\n",
              "      <td>18:30:00</td>\n",
              "      <td>NOITE</td>\n",
              "      <td>SUZANO</td>\n",
              "      <td>Metropolitana de São Paulo</td>\n",
              "      <td>SP 021</td>\n",
              "      <td>110,0</td>\n",
              "      <td>ESTADUAL</td>\n",
              "      <td>CONCESSIONÁRIA</td>\n",
              "      <td>SPMAR</td>\n",
              "      <td>PUBLICO</td>\n",
              "      <td>-23.566580</td>\n",
              "      <td>-46.342199</td>\n",
              "      <td>PEDESTRE</td>\n",
              "      <td>PEDESTRE</td>\n",
              "      <td>VIA</td>\n",
              "      <td>ATROPELAMENTO</td>\n",
              "      <td>CRUZANDO A VIA</td>\n",
              "      <td>Mesmo dia</td>\n",
              "      <td>MASCULINO</td>\n",
              "      <td>NAO DISPONIVEL</td>\n",
              "      <td>NaN</td>\n",
              "      <td>AUTOMOVEL</td>\n",
              "    </tr>\n",
              "    <tr>\n",
              "      <th>4</th>\n",
              "      <td>70923</td>\n",
              "      <td>1373</td>\n",
              "      <td>2020</td>\n",
              "      <td>2020-04-30</td>\n",
              "      <td>2020-04-30</td>\n",
              "      <td>Vias Municipais</td>\n",
              "      <td>30</td>\n",
              "      <td>4</td>\n",
              "      <td>ABRIL</td>\n",
              "      <td>2020</td>\n",
              "      <td>2020.04</td>\n",
              "      <td>QUINTA</td>\n",
              "      <td>17:50:00</td>\n",
              "      <td>TARDE</td>\n",
              "      <td>LIMEIRA</td>\n",
              "      <td>Campinas</td>\n",
              "      <td>RUA ITAPEMA</td>\n",
              "      <td>481,0</td>\n",
              "      <td>MUNICIPAL</td>\n",
              "      <td>PREFEITURA</td>\n",
              "      <td>PREFEITURA</td>\n",
              "      <td>PUBLICO</td>\n",
              "      <td>-22.552483</td>\n",
              "      <td>-47.405759</td>\n",
              "      <td>BICICLETA</td>\n",
              "      <td>CONDUTOR</td>\n",
              "      <td>VIA</td>\n",
              "      <td>CHOQUE</td>\n",
              "      <td>MURO/PAREDE/TALUDE</td>\n",
              "      <td>Mesmo dia</td>\n",
              "      <td>FEMININO</td>\n",
              "      <td>30-34</td>\n",
              "      <td>30.0</td>\n",
              "      <td>NÃO HÁ</td>\n",
              "    </tr>\n",
              "  </tbody>\n",
              "</table>\n",
              "</div>"
            ],
            "text/plain": [
              "   Id da Delegacia (RDO)  ...  Outro Veículo Envolvido\n",
              "0                 120514  ...                   ONIBUS\n",
              "1                 120514  ...                   ONIBUS\n",
              "2                 110429  ...                   NÃO HÁ\n",
              "3                  30309  ...                AUTOMOVEL\n",
              "4                  70923  ...                   NÃO HÁ\n",
              "\n",
              "[5 rows x 34 columns]"
            ]
          },
          "metadata": {
            "tags": []
          },
          "execution_count": 1
        }
      ]
    },
    {
      "cell_type": "markdown",
      "metadata": {
        "id": "XxrWtt9kgvGO",
        "colab_type": "text"
      },
      "source": [
        "##Análise por Dia da Semana"
      ]
    },
    {
      "cell_type": "code",
      "metadata": {
        "id": "Z6tG8WMWaWZT",
        "colab_type": "code",
        "colab": {
          "base_uri": "https://localhost:8080/",
          "height": 283
        },
        "outputId": "9ed2d19f-febe-4bd0-8bb0-c0e17e670cfa"
      },
      "source": [
        "#testando histograma de qtde de acidentes por dia de semana\n",
        "arq_acidentes['Dia da Semana'].hist()"
      ],
      "execution_count": 4,
      "outputs": [
        {
          "output_type": "execute_result",
          "data": {
            "text/plain": [
              "<matplotlib.axes._subplots.AxesSubplot at 0x7fe9bb3685f8>"
            ]
          },
          "metadata": {
            "tags": []
          },
          "execution_count": 4
        },
        {
          "output_type": "display_data",
          "data": {
            "image/png": "[encoded data removed]",
            "text/plain": [
              "<Figure size 432x288 with 1 Axes>"
            ]
          },
          "metadata": {
            "tags": [],
            "needs_background": "light"
          }
        }
      ]
    },
    {
      "cell_type": "code",
      "metadata": {
        "id": "NPjmMFUCadL1",
        "colab_type": "code",
        "colab": {}
      },
      "source": [
        "#outros gráficos\n",
        "import seaborn as sns\n",
        "import matplotlib.pyplot as plt\n"
      ],
      "execution_count": 0,
      "outputs": []
    },
    {
      "cell_type": "code",
      "metadata": {
        "id": "af62GzhLbFCr",
        "colab_type": "code",
        "colab": {
          "base_uri": "https://localhost:8080/",
          "height": 330
        },
        "outputId": "bf8d3140-35c2-495b-86d6-90e846727fbc"
      },
      "source": [
        "#tentando ordenar resultado por qtde de ocorrência\n",
        "sns.countplot(arq_acidentes['Dia da Semana'], order=arq_acidentes['Dia da Semana'].value_counts().index)\n",
        "plt.xticks(rotation = 45)"
      ],
      "execution_count": 12,
      "outputs": [
        {
          "output_type": "execute_result",
          "data": {
            "text/plain": [
              "(array([0, 1, 2, 3, 4, 5, 6]), <a list of 7 Text major ticklabel objects>)"
            ]
          },
          "metadata": {
            "tags": []
          },
          "execution_count": 12
        },
        {
          "output_type": "display_data",
          "data": {
            "image/png": "[encoded data removed]",
            "text/plain": [
              "<Figure size 432x288 with 1 Axes>"
            ]
          },
          "metadata": {
            "tags": [],
            "needs_background": "light"
          }
        }
      ]
    },
    {
      "cell_type": "code",
      "metadata": {
        "id": "XvdcSR0_b51F",
        "colab_type": "code",
        "colab": {
          "base_uri": "https://localhost:8080/",
          "height": 330
        },
        "outputId": "bcf1516c-5571-412d-df6d-d9de7bd14b13"
      },
      "source": [
        "#ordenação inversa\n",
        "sns.countplot(arq_acidentes['Dia da Semana'], order=reversed(arq_acidentes['Dia da Semana'].value_counts().index))\n",
        "plt.xticks(rotation = 45)"
      ],
      "execution_count": 13,
      "outputs": [
        {
          "output_type": "execute_result",
          "data": {
            "text/plain": [
              "(array([0, 1, 2, 3, 4, 5, 6]), <a list of 7 Text major ticklabel objects>)"
            ]
          },
          "metadata": {
            "tags": []
          },
          "execution_count": 13
        },
        {
          "output_type": "display_data",
          "data": {
            "image/png": "[encoded data removed]",
            "text/plain": [
              "<Figure size 432x288 with 1 Axes>"
            ]
          },
          "metadata": {
            "tags": [],
            "needs_background": "light"
          }
        }
      ]
    },
    {
      "cell_type": "code",
      "metadata": {
        "id": "dVxV0-E4gTLc",
        "colab_type": "code",
        "colab": {
          "base_uri": "https://localhost:8080/",
          "height": 330
        },
        "outputId": "8f11dfd3-0be9-4aeb-9a23-537c221cc645"
      },
      "source": [
        "#analise por ano sem ordenar\n",
        "sns.countplot(arq_acidentes['Ano do BO (RDO)'])\n",
        "plt.xticks(rotation=45)"
      ],
      "execution_count": 40,
      "outputs": [
        {
          "output_type": "execute_result",
          "data": {
            "text/plain": [
              "(array([ 0,  1,  2,  3,  4,  5,  6,  7,  8,  9, 10]),\n",
              " <a list of 11 Text major ticklabel objects>)"
            ]
          },
          "metadata": {
            "tags": []
          },
          "execution_count": 40
        },
        {
          "output_type": "display_data",
          "data": {
            "image/png": "[encoded data removed]",
            "text/plain": [
              "<Figure size 432x288 with 1 Axes>"
            ]
          },
          "metadata": {
            "tags": [],
            "needs_background": "light"
          }
        }
      ]
    },
    {
      "cell_type": "code",
      "metadata": {
        "id": "ISRbfQJejNsm",
        "colab_type": "code",
        "colab": {
          "base_uri": "https://localhost:8080/",
          "height": 330
        },
        "outputId": "6b2964ec-d0d6-4916-a8e9-e711bf581d29"
      },
      "source": [
        "sns.countplot(arq_acidentes['Ano do BO (RDO)'], order=arq_acidentes['Ano do BO (RDO)'].value_counts().index)\n",
        "plt.xticks(rotation=45)"
      ],
      "execution_count": 41,
      "outputs": [
        {
          "output_type": "execute_result",
          "data": {
            "text/plain": [
              "(array([ 0,  1,  2,  3,  4,  5,  6,  7,  8,  9, 10]),\n",
              " <a list of 11 Text major ticklabel objects>)"
            ]
          },
          "metadata": {
            "tags": []
          },
          "execution_count": 41
        },
        {
          "output_type": "display_data",
          "data": {
            "image/png": "[encoded data removed]",
            "text/plain": [
              "<Figure size 432x288 with 1 Axes>"
            ]
          },
          "metadata": {
            "tags": [],
            "needs_background": "light"
          }
        }
      ]
    },
    {
      "cell_type": "code",
      "metadata": {
        "id": "1KIcFuiOiBLl",
        "colab_type": "code",
        "colab": {}
      },
      "source": [
        ""
      ],
      "execution_count": 0,
      "outputs": []
    }
  ]
}