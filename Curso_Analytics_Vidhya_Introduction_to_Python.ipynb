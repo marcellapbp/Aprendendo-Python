{
  "nbformat": 4,
  "nbformat_minor": 0,
  "metadata": {
    "colab": {
      "name": "Curso_Analytics_Vidhya_Introduction_to_Python.ipynb",
      "provenance": [],
      "authorship_tag": "ABX9TyOHN4mVocm2mPqkDk2qk4Y2",
      "include_colab_link": true
    },
    "kernelspec": {
      "name": "python3",
      "display_name": "Python 3"
    }
  },
  "cells": [
    {
      "cell_type": "markdown",
      "metadata": {
        "id": "view-in-github",
        "colab_type": "text"
      },
      "source": [
        "<a href=\"https://colab.research.google.com/github/marcellapbp/Aprendendo-Python/blob/master/Curso_Analytics_Vidhya_Introduction_to_Python.ipynb\" target=\"_parent\"><img src=\"https://colab.research.google.com/assets/colab-badge.svg\" alt=\"Open In Colab\"/></a>"
      ]
    },
    {
      "cell_type": "markdown",
      "metadata": {
        "id": "6BEn44qbs5_5",
        "colab_type": "text"
      },
      "source": [
        "#Curso 1 Analytics Vidhya | Introduction to Python"
      ]
    },
    {
      "cell_type": "markdown",
      "metadata": {
        "id": "rdL420MLtAfG",
        "colab_type": "text"
      },
      "source": [
        "##Data Manipulation and Visualization"
      ]
    },
    {
      "cell_type": "code",
      "metadata": {
        "id": "z11ggEQQsmhl",
        "colab_type": "code",
        "colab": {}
      },
      "source": [
        ""
      ],
      "execution_count": null,
      "outputs": []
    }
  ]
}