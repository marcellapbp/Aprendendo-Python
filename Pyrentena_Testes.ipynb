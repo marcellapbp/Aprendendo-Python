{
  "nbformat": 4,
  "nbformat_minor": 0,
  "metadata": {
    "colab": {
      "name": "Pyrentena_Testes.ipynb",
      "provenance": [],
      "collapsed_sections": [],
      "toc_visible": true,
      "authorship_tag": "ABX9TyNiNVTDnjpEEeQyoBnaZoJw",
      "include_colab_link": true
    },
    "kernelspec": {
      "name": "python3",
      "display_name": "Python 3"
    }
  },
  "cells": [
    {
      "cell_type": "markdown",
      "metadata": {
        "id": "view-in-github",
        "colab_type": "text"
      },
      "source": [
        "<a href=\"https://colab.research.google.com/github/marcellapbp/Aprendendo-Python/blob/master/Pyrentena_Testes.ipynb\" target=\"_parent\"><img src=\"https://colab.research.google.com/assets/colab-badge.svg\" alt=\"Open In Colab\"/></a>"
      ]
    },
    {
      "cell_type": "code",
      "metadata": {
        "id": "WUaK3XgYiSVb",
        "colab_type": "code",
        "colab": {}
      },
      "source": [
        "import pandas as pd"
      ],
      "execution_count": 0,
      "outputs": []
    },
    {
      "cell_type": "code",
      "metadata": {
        "id": "IuIFMnejiuMj",
        "colab_type": "code",
        "colab": {}
      },
      "source": [
        "df = pd.read_csv('acidentes_sp_clean.csv')"
      ],
      "execution_count": 0,
      "outputs": []
    },
    {
      "cell_type": "code",
      "metadata": {
        "id": "Qjsoq2JajgEh",
        "colab_type": "code",
        "outputId": "cad5721e-0f3a-40ee-d9b7-32ff885a6fd4",
        "colab": {
          "base_uri": "https://localhost:8080/",
          "height": 687
        }
      },
      "source": [
        "df.head(-3)"
      ],
      "execution_count": 0,
      "outputs": [
        {
          "output_type": "execute_result",
          "data": {
            "text/html": [
              "<div>\n",
              "<style scoped>\n",
              "    .dataframe tbody tr th:only-of-type {\n",
              "        vertical-align: middle;\n",
              "    }\n",
              "\n",
              "    .dataframe tbody tr th {\n",
              "        vertical-align: top;\n",
              "    }\n",
              "\n",
              "    .dataframe thead th {\n",
              "        text-align: right;\n",
              "    }\n",
              "</style>\n",
              "<table border=\"1\" class=\"dataframe\">\n",
              "  <thead>\n",
              "    <tr style=\"text-align: right;\">\n",
              "      <th></th>\n",
              "      <th>Id da Delegacia (RDO)</th>\n",
              "      <th>Número do Bo (RDO)</th>\n",
              "      <th>Ano do BO (RDO)</th>\n",
              "      <th>Data do Óbito</th>\n",
              "      <th>Data do Acidente</th>\n",
              "      <th>Tipo de via</th>\n",
              "      <th>Dia do óbito</th>\n",
              "      <th>Mês do Óbito</th>\n",
              "      <th>Mês Óbito Descrição</th>\n",
              "      <th>Ano do Óbito</th>\n",
              "      <th>Ano/Mês do Óbito</th>\n",
              "      <th>Dia da Semana</th>\n",
              "      <th>Hora do Acidente</th>\n",
              "      <th>Turno</th>\n",
              "      <th>Município</th>\n",
              "      <th>Região Administrativa</th>\n",
              "      <th>Logradouro</th>\n",
              "      <th>Númeral / KM</th>\n",
              "      <th>Jurisdição</th>\n",
              "      <th>Administração</th>\n",
              "      <th>Conservação</th>\n",
              "      <th>Tipo do local da ocorrência</th>\n",
              "      <th>LAT_(GEO)</th>\n",
              "      <th>LONG_(GEO)</th>\n",
              "      <th>Tipo do veículo da vítima</th>\n",
              "      <th>Tipo de vítima</th>\n",
              "      <th>Local do óbito</th>\n",
              "      <th>Tipo de acidente</th>\n",
              "      <th>Sub Tipo do Acidente</th>\n",
              "      <th>Tempo entre o Acidente e o óbito</th>\n",
              "      <th>Sexo</th>\n",
              "      <th>Faixa etária</th>\n",
              "      <th>Idade da vítima</th>\n",
              "      <th>Outro Veículo Envolvido</th>\n",
              "    </tr>\n",
              "  </thead>\n",
              "  <tbody>\n",
              "    <tr>\n",
              "      <th>0</th>\n",
              "      <td>120514</td>\n",
              "      <td>889</td>\n",
              "      <td>2020</td>\n",
              "      <td>2020-04-30</td>\n",
              "      <td>2020-04-30</td>\n",
              "      <td>Rodovias</td>\n",
              "      <td>30</td>\n",
              "      <td>4</td>\n",
              "      <td>ABRIL</td>\n",
              "      <td>2020</td>\n",
              "      <td>2020.04</td>\n",
              "      <td>QUINTA</td>\n",
              "      <td>17:30:00</td>\n",
              "      <td>TARDE</td>\n",
              "      <td>ARACARIGUAMA</td>\n",
              "      <td>Sorocaba</td>\n",
              "      <td>SP 280</td>\n",
              "      <td>50,0</td>\n",
              "      <td>ESTADUAL</td>\n",
              "      <td>CONCESSIONÁRIA</td>\n",
              "      <td>VIAOESTE</td>\n",
              "      <td>PUBLICO</td>\n",
              "      <td>-23.439186</td>\n",
              "      <td>-47.065945</td>\n",
              "      <td>ONIBUS</td>\n",
              "      <td>CONDUTOR</td>\n",
              "      <td>VIA</td>\n",
              "      <td>CHOQUE</td>\n",
              "      <td>VEÍCULO ESTACIONADO</td>\n",
              "      <td>Mesmo dia</td>\n",
              "      <td>MASCULINO</td>\n",
              "      <td>45-49</td>\n",
              "      <td>48.0</td>\n",
              "      <td>ONIBUS</td>\n",
              "    </tr>\n",
              "    <tr>\n",
              "      <th>1</th>\n",
              "      <td>120514</td>\n",
              "      <td>889</td>\n",
              "      <td>2020</td>\n",
              "      <td>2020-04-30</td>\n",
              "      <td>2020-04-30</td>\n",
              "      <td>Rodovias</td>\n",
              "      <td>30</td>\n",
              "      <td>4</td>\n",
              "      <td>ABRIL</td>\n",
              "      <td>2020</td>\n",
              "      <td>2020.04</td>\n",
              "      <td>QUINTA</td>\n",
              "      <td>17:30:00</td>\n",
              "      <td>TARDE</td>\n",
              "      <td>ARACARIGUAMA</td>\n",
              "      <td>Sorocaba</td>\n",
              "      <td>SP 280</td>\n",
              "      <td>50,0</td>\n",
              "      <td>ESTADUAL</td>\n",
              "      <td>CONCESSIONÁRIA</td>\n",
              "      <td>VIAOESTE</td>\n",
              "      <td>PUBLICO</td>\n",
              "      <td>-23.439186</td>\n",
              "      <td>-47.065945</td>\n",
              "      <td>ONIBUS</td>\n",
              "      <td>PASSAGEIRO</td>\n",
              "      <td>ESTABELECIMENTO DE SAUDE</td>\n",
              "      <td>CHOQUE</td>\n",
              "      <td>VEÍCULO ESTACIONADO</td>\n",
              "      <td>Mesmo dia</td>\n",
              "      <td>MASCULINO</td>\n",
              "      <td>35-39</td>\n",
              "      <td>36.0</td>\n",
              "      <td>ONIBUS</td>\n",
              "    </tr>\n",
              "    <tr>\n",
              "      <th>2</th>\n",
              "      <td>110429</td>\n",
              "      <td>3887</td>\n",
              "      <td>2020</td>\n",
              "      <td>2020-04-30</td>\n",
              "      <td>2020-04-17</td>\n",
              "      <td>Rodovias</td>\n",
              "      <td>30</td>\n",
              "      <td>4</td>\n",
              "      <td>ABRIL</td>\n",
              "      <td>2020</td>\n",
              "      <td>2020.04</td>\n",
              "      <td>SEXTA</td>\n",
              "      <td>3:50:00</td>\n",
              "      <td>MADRUGADA</td>\n",
              "      <td>SAO JOSE DO RIO PRETO</td>\n",
              "      <td>São José do Rio Preto</td>\n",
              "      <td>BR 153</td>\n",
              "      <td>57,5</td>\n",
              "      <td>FEDERAL</td>\n",
              "      <td>CONCESSIONÁRIA</td>\n",
              "      <td>TRANSBRASILIANA</td>\n",
              "      <td>PUBLICO</td>\n",
              "      <td>-20.772532</td>\n",
              "      <td>-49.350863</td>\n",
              "      <td>MOTOCICLETA</td>\n",
              "      <td>CONDUTOR</td>\n",
              "      <td>ESTABELECIMENTO DE SAUDE</td>\n",
              "      <td>CHOQUE</td>\n",
              "      <td>DEFENSA / BARREIRA</td>\n",
              "      <td>Até 30 dias</td>\n",
              "      <td>MASCULINO</td>\n",
              "      <td>25-29</td>\n",
              "      <td>26.0</td>\n",
              "      <td>NÃO HÁ</td>\n",
              "    </tr>\n",
              "    <tr>\n",
              "      <th>3</th>\n",
              "      <td>30309</td>\n",
              "      <td>1745</td>\n",
              "      <td>2020</td>\n",
              "      <td>2020-04-30</td>\n",
              "      <td>2020-04-30</td>\n",
              "      <td>Rodovias</td>\n",
              "      <td>30</td>\n",
              "      <td>4</td>\n",
              "      <td>ABRIL</td>\n",
              "      <td>2020</td>\n",
              "      <td>2020.04</td>\n",
              "      <td>QUINTA</td>\n",
              "      <td>18:30:00</td>\n",
              "      <td>NOITE</td>\n",
              "      <td>SUZANO</td>\n",
              "      <td>Metropolitana de São Paulo</td>\n",
              "      <td>SP 021</td>\n",
              "      <td>110,0</td>\n",
              "      <td>ESTADUAL</td>\n",
              "      <td>CONCESSIONÁRIA</td>\n",
              "      <td>SPMAR</td>\n",
              "      <td>PUBLICO</td>\n",
              "      <td>-23.566580</td>\n",
              "      <td>-46.342199</td>\n",
              "      <td>PEDESTRE</td>\n",
              "      <td>PEDESTRE</td>\n",
              "      <td>VIA</td>\n",
              "      <td>ATROPELAMENTO</td>\n",
              "      <td>CRUZANDO A VIA</td>\n",
              "      <td>Mesmo dia</td>\n",
              "      <td>MASCULINO</td>\n",
              "      <td>NAO DISPONIVEL</td>\n",
              "      <td>NaN</td>\n",
              "      <td>AUTOMOVEL</td>\n",
              "    </tr>\n",
              "    <tr>\n",
              "      <th>4</th>\n",
              "      <td>70923</td>\n",
              "      <td>1373</td>\n",
              "      <td>2020</td>\n",
              "      <td>2020-04-30</td>\n",
              "      <td>2020-04-30</td>\n",
              "      <td>Vias Municipais</td>\n",
              "      <td>30</td>\n",
              "      <td>4</td>\n",
              "      <td>ABRIL</td>\n",
              "      <td>2020</td>\n",
              "      <td>2020.04</td>\n",
              "      <td>QUINTA</td>\n",
              "      <td>17:50:00</td>\n",
              "      <td>TARDE</td>\n",
              "      <td>LIMEIRA</td>\n",
              "      <td>Campinas</td>\n",
              "      <td>RUA ITAPEMA</td>\n",
              "      <td>481,0</td>\n",
              "      <td>MUNICIPAL</td>\n",
              "      <td>PREFEITURA</td>\n",
              "      <td>PREFEITURA</td>\n",
              "      <td>PUBLICO</td>\n",
              "      <td>-22.552483</td>\n",
              "      <td>-47.405759</td>\n",
              "      <td>BICICLETA</td>\n",
              "      <td>CONDUTOR</td>\n",
              "      <td>VIA</td>\n",
              "      <td>CHOQUE</td>\n",
              "      <td>MURO/PAREDE/TALUDE</td>\n",
              "      <td>Mesmo dia</td>\n",
              "      <td>FEMININO</td>\n",
              "      <td>30-34</td>\n",
              "      <td>30.0</td>\n",
              "      <td>NÃO HÁ</td>\n",
              "    </tr>\n",
              "    <tr>\n",
              "      <th>...</th>\n",
              "      <td>...</td>\n",
              "      <td>...</td>\n",
              "      <td>...</td>\n",
              "      <td>...</td>\n",
              "      <td>...</td>\n",
              "      <td>...</td>\n",
              "      <td>...</td>\n",
              "      <td>...</td>\n",
              "      <td>...</td>\n",
              "      <td>...</td>\n",
              "      <td>...</td>\n",
              "      <td>...</td>\n",
              "      <td>...</td>\n",
              "      <td>...</td>\n",
              "      <td>...</td>\n",
              "      <td>...</td>\n",
              "      <td>...</td>\n",
              "      <td>...</td>\n",
              "      <td>...</td>\n",
              "      <td>...</td>\n",
              "      <td>...</td>\n",
              "      <td>...</td>\n",
              "      <td>...</td>\n",
              "      <td>...</td>\n",
              "      <td>...</td>\n",
              "      <td>...</td>\n",
              "      <td>...</td>\n",
              "      <td>...</td>\n",
              "      <td>...</td>\n",
              "      <td>...</td>\n",
              "      <td>...</td>\n",
              "      <td>...</td>\n",
              "      <td>...</td>\n",
              "      <td>...</td>\n",
              "    </tr>\n",
              "    <tr>\n",
              "      <th>30563</th>\n",
              "      <td>130316</td>\n",
              "      <td>2</td>\n",
              "      <td>2015</td>\n",
              "      <td>2015-01-01</td>\n",
              "      <td>2015-01-01</td>\n",
              "      <td>Rodovias</td>\n",
              "      <td>1</td>\n",
              "      <td>1</td>\n",
              "      <td>JANEIRO</td>\n",
              "      <td>2015</td>\n",
              "      <td>2015.01</td>\n",
              "      <td>QUINTA</td>\n",
              "      <td>20:30:00</td>\n",
              "      <td>NOITE</td>\n",
              "      <td>IGARATA</td>\n",
              "      <td>São José dos Campos</td>\n",
              "      <td>SP 065</td>\n",
              "      <td>20,0</td>\n",
              "      <td>ESTADUAL</td>\n",
              "      <td>CONCESSIONÁRIA</td>\n",
              "      <td>ROTA DAS BANDEIRAS</td>\n",
              "      <td>PUBLICO</td>\n",
              "      <td>-23.228509</td>\n",
              "      <td>-46.132494</td>\n",
              "      <td>MOTOCICLETA</td>\n",
              "      <td>CONDUTOR</td>\n",
              "      <td>VIA</td>\n",
              "      <td>COLISAO</td>\n",
              "      <td>NaN</td>\n",
              "      <td>Mesmo dia</td>\n",
              "      <td>MASCULINO</td>\n",
              "      <td>25-29</td>\n",
              "      <td>26.0</td>\n",
              "      <td>NaN</td>\n",
              "    </tr>\n",
              "    <tr>\n",
              "      <th>30564</th>\n",
              "      <td>100912</td>\n",
              "      <td>4</td>\n",
              "      <td>2015</td>\n",
              "      <td>2015-01-01</td>\n",
              "      <td>2015-01-01</td>\n",
              "      <td>Rodovias</td>\n",
              "      <td>1</td>\n",
              "      <td>1</td>\n",
              "      <td>JANEIRO</td>\n",
              "      <td>2015</td>\n",
              "      <td>2015.01</td>\n",
              "      <td>QUINTA</td>\n",
              "      <td>2:50:00</td>\n",
              "      <td>MADRUGADA</td>\n",
              "      <td>BEBEDOURO</td>\n",
              "      <td>Barretos</td>\n",
              "      <td>SP 326</td>\n",
              "      <td>373,0</td>\n",
              "      <td>ESTADUAL</td>\n",
              "      <td>CONCESSIONÁRIA</td>\n",
              "      <td>TRIÂNGULO DO SOL</td>\n",
              "      <td>PUBLICO</td>\n",
              "      <td>-20.986670</td>\n",
              "      <td>-48.434830</td>\n",
              "      <td>AUTOMOVEL</td>\n",
              "      <td>PASSAGEIRO</td>\n",
              "      <td>VIA</td>\n",
              "      <td>CHOQUE</td>\n",
              "      <td>NaN</td>\n",
              "      <td>Mesmo dia</td>\n",
              "      <td>MASCULINO</td>\n",
              "      <td>25-29</td>\n",
              "      <td>26.0</td>\n",
              "      <td>NaN</td>\n",
              "    </tr>\n",
              "    <tr>\n",
              "      <th>30565</th>\n",
              "      <td>130204</td>\n",
              "      <td>9</td>\n",
              "      <td>2015</td>\n",
              "      <td>2015-01-01</td>\n",
              "      <td>2015-01-01</td>\n",
              "      <td>Rodovias</td>\n",
              "      <td>1</td>\n",
              "      <td>1</td>\n",
              "      <td>JANEIRO</td>\n",
              "      <td>2015</td>\n",
              "      <td>2015.01</td>\n",
              "      <td>QUINTA</td>\n",
              "      <td>16:00:00</td>\n",
              "      <td>TARDE</td>\n",
              "      <td>CANAS</td>\n",
              "      <td>São José dos Campos</td>\n",
              "      <td>SP 062</td>\n",
              "      <td>193,0</td>\n",
              "      <td>ESTADUAL</td>\n",
              "      <td>DER</td>\n",
              "      <td>DR06 - Taubaté</td>\n",
              "      <td>PUBLICO</td>\n",
              "      <td>-22.721440</td>\n",
              "      <td>-45.066056</td>\n",
              "      <td>AUTOMOVEL</td>\n",
              "      <td>PASSAGEIRO</td>\n",
              "      <td>VIA</td>\n",
              "      <td>CHOQUE</td>\n",
              "      <td>NaN</td>\n",
              "      <td>Mesmo dia</td>\n",
              "      <td>MASCULINO</td>\n",
              "      <td>18-24</td>\n",
              "      <td>24.0</td>\n",
              "      <td>NaN</td>\n",
              "    </tr>\n",
              "    <tr>\n",
              "      <th>30566</th>\n",
              "      <td>100919</td>\n",
              "      <td>20</td>\n",
              "      <td>2015</td>\n",
              "      <td>2015-01-01</td>\n",
              "      <td>2015-01-01</td>\n",
              "      <td>Rodovias</td>\n",
              "      <td>1</td>\n",
              "      <td>1</td>\n",
              "      <td>JANEIRO</td>\n",
              "      <td>2015</td>\n",
              "      <td>2015.01</td>\n",
              "      <td>QUINTA</td>\n",
              "      <td>5:50:00</td>\n",
              "      <td>MADRUGADA</td>\n",
              "      <td>RIBEIRAO PRETO</td>\n",
              "      <td>Ribeirão Preto</td>\n",
              "      <td>SP 333</td>\n",
              "      <td>47,0</td>\n",
              "      <td>ESTADUAL</td>\n",
              "      <td>DER</td>\n",
              "      <td>DR08 - Ribeirão Preto</td>\n",
              "      <td>PUBLICO</td>\n",
              "      <td>-21.208110</td>\n",
              "      <td>-47.681119</td>\n",
              "      <td>PEDESTRE</td>\n",
              "      <td>PEDESTRE</td>\n",
              "      <td>VIA</td>\n",
              "      <td>ATROPELAMENTO</td>\n",
              "      <td>NaN</td>\n",
              "      <td>Mesmo dia</td>\n",
              "      <td>MASCULINO</td>\n",
              "      <td>25-29</td>\n",
              "      <td>27.0</td>\n",
              "      <td>NaN</td>\n",
              "    </tr>\n",
              "    <tr>\n",
              "      <th>30567</th>\n",
              "      <td>110714</td>\n",
              "      <td>2</td>\n",
              "      <td>2015</td>\n",
              "      <td>2015-01-01</td>\n",
              "      <td>2015-01-01</td>\n",
              "      <td>Rodovias</td>\n",
              "      <td>1</td>\n",
              "      <td>1</td>\n",
              "      <td>JANEIRO</td>\n",
              "      <td>2015</td>\n",
              "      <td>2015.01</td>\n",
              "      <td>QUINTA</td>\n",
              "      <td>3:00:00</td>\n",
              "      <td>MADRUGADA</td>\n",
              "      <td>NOVO HORIZONTE</td>\n",
              "      <td>São José do Rio Preto</td>\n",
              "      <td>SP 321</td>\n",
              "      <td>NAO DISPONIVEL</td>\n",
              "      <td>ESTADUAL</td>\n",
              "      <td>DER</td>\n",
              "      <td>DR09 - São José do Rio Preto</td>\n",
              "      <td>PUBLICO</td>\n",
              "      <td>-21.469984</td>\n",
              "      <td>-49.217659</td>\n",
              "      <td>AUTOMOVEL</td>\n",
              "      <td>CONDUTOR</td>\n",
              "      <td>VIA</td>\n",
              "      <td>CHOQUE</td>\n",
              "      <td>NaN</td>\n",
              "      <td>Mesmo dia</td>\n",
              "      <td>NAO DISPONIVEL</td>\n",
              "      <td>18-24</td>\n",
              "      <td>24.0</td>\n",
              "      <td>NaN</td>\n",
              "    </tr>\n",
              "  </tbody>\n",
              "</table>\n",
              "<p>30568 rows × 34 columns</p>\n",
              "</div>"
            ],
            "text/plain": [
              "       Id da Delegacia (RDO)  ...  Outro Veículo Envolvido\n",
              "0                     120514  ...                   ONIBUS\n",
              "1                     120514  ...                   ONIBUS\n",
              "2                     110429  ...                   NÃO HÁ\n",
              "3                      30309  ...                AUTOMOVEL\n",
              "4                      70923  ...                   NÃO HÁ\n",
              "...                      ...  ...                      ...\n",
              "30563                 130316  ...                      NaN\n",
              "30564                 100912  ...                      NaN\n",
              "30565                 130204  ...                      NaN\n",
              "30566                 100919  ...                      NaN\n",
              "30567                 110714  ...                      NaN\n",
              "\n",
              "[30568 rows x 34 columns]"
            ]
          },
          "metadata": {
            "tags": []
          },
          "execution_count": 6
        }
      ]
    },
    {
      "cell_type": "code",
      "metadata": {
        "id": "O7adXTtfjuhv",
        "colab_type": "code",
        "outputId": "ef7b018a-7b45-4cea-8e34-f31f7a6f9d12",
        "colab": {
          "base_uri": "https://localhost:8080/",
          "height": 335
        }
      },
      "source": [
        "df.describe()"
      ],
      "execution_count": 0,
      "outputs": [
        {
          "output_type": "execute_result",
          "data": {
            "text/html": [
              "<div>\n",
              "<style scoped>\n",
              "    .dataframe tbody tr th:only-of-type {\n",
              "        vertical-align: middle;\n",
              "    }\n",
              "\n",
              "    .dataframe tbody tr th {\n",
              "        vertical-align: top;\n",
              "    }\n",
              "\n",
              "    .dataframe thead th {\n",
              "        text-align: right;\n",
              "    }\n",
              "</style>\n",
              "<table border=\"1\" class=\"dataframe\">\n",
              "  <thead>\n",
              "    <tr style=\"text-align: right;\">\n",
              "      <th></th>\n",
              "      <th>Id da Delegacia (RDO)</th>\n",
              "      <th>Número do Bo (RDO)</th>\n",
              "      <th>Ano do BO (RDO)</th>\n",
              "      <th>Dia do óbito</th>\n",
              "      <th>Mês do Óbito</th>\n",
              "      <th>Ano do Óbito</th>\n",
              "      <th>Ano/Mês do Óbito</th>\n",
              "      <th>LAT_(GEO)</th>\n",
              "      <th>LONG_(GEO)</th>\n",
              "      <th>Idade da vítima</th>\n",
              "    </tr>\n",
              "  </thead>\n",
              "  <tbody>\n",
              "    <tr>\n",
              "      <th>count</th>\n",
              "      <td>30571.000000</td>\n",
              "      <td>3.057100e+04</td>\n",
              "      <td>30571.000000</td>\n",
              "      <td>30571.000000</td>\n",
              "      <td>30571.000000</td>\n",
              "      <td>30571.000000</td>\n",
              "      <td>30571.000000</td>\n",
              "      <td>28144.000000</td>\n",
              "      <td>28144.000000</td>\n",
              "      <td>29083.000000</td>\n",
              "    </tr>\n",
              "    <tr>\n",
              "      <th>mean</th>\n",
              "      <td>68579.153479</td>\n",
              "      <td>4.034203e+03</td>\n",
              "      <td>2017.063361</td>\n",
              "      <td>15.519447</td>\n",
              "      <td>6.375585</td>\n",
              "      <td>2017.072454</td>\n",
              "      <td>2017.136210</td>\n",
              "      <td>-22.852038</td>\n",
              "      <td>-47.456569</td>\n",
              "      <td>41.406079</td>\n",
              "    </tr>\n",
              "    <tr>\n",
              "      <th>std</th>\n",
              "      <td>54162.283588</td>\n",
              "      <td>2.888245e+04</td>\n",
              "      <td>1.551454</td>\n",
              "      <td>8.769011</td>\n",
              "      <td>3.448692</td>\n",
              "      <td>1.546895</td>\n",
              "      <td>1.543896</td>\n",
              "      <td>1.018171</td>\n",
              "      <td>1.388424</td>\n",
              "      <td>18.872616</td>\n",
              "    </tr>\n",
              "    <tr>\n",
              "      <th>min</th>\n",
              "      <td>10101.000000</td>\n",
              "      <td>1.000000e+00</td>\n",
              "      <td>2007.000000</td>\n",
              "      <td>1.000000</td>\n",
              "      <td>1.000000</td>\n",
              "      <td>2015.000000</td>\n",
              "      <td>2015.010000</td>\n",
              "      <td>-25.051740</td>\n",
              "      <td>-53.014547</td>\n",
              "      <td>0.000000</td>\n",
              "    </tr>\n",
              "    <tr>\n",
              "      <th>25%</th>\n",
              "      <td>30304.000000</td>\n",
              "      <td>7.000000e+02</td>\n",
              "      <td>2016.000000</td>\n",
              "      <td>8.000000</td>\n",
              "      <td>3.000000</td>\n",
              "      <td>2016.000000</td>\n",
              "      <td>2016.030000</td>\n",
              "      <td>-23.566528</td>\n",
              "      <td>-47.987451</td>\n",
              "      <td>26.000000</td>\n",
              "    </tr>\n",
              "    <tr>\n",
              "      <th>50%</th>\n",
              "      <td>70394.000000</td>\n",
              "      <td>1.921000e+03</td>\n",
              "      <td>2017.000000</td>\n",
              "      <td>15.000000</td>\n",
              "      <td>6.000000</td>\n",
              "      <td>2017.000000</td>\n",
              "      <td>2017.070000</td>\n",
              "      <td>-23.215283</td>\n",
              "      <td>-46.969924</td>\n",
              "      <td>39.000000</td>\n",
              "    </tr>\n",
              "    <tr>\n",
              "      <th>75%</th>\n",
              "      <td>100910.000000</td>\n",
              "      <td>4.288000e+03</td>\n",
              "      <td>2018.000000</td>\n",
              "      <td>23.000000</td>\n",
              "      <td>9.000000</td>\n",
              "      <td>2018.000000</td>\n",
              "      <td>2018.110000</td>\n",
              "      <td>-22.320006</td>\n",
              "      <td>-46.566460</td>\n",
              "      <td>55.000000</td>\n",
              "    </tr>\n",
              "    <tr>\n",
              "      <th>max</th>\n",
              "      <td>999997.000000</td>\n",
              "      <td>1.232564e+06</td>\n",
              "      <td>2020.000000</td>\n",
              "      <td>31.000000</td>\n",
              "      <td>12.000000</td>\n",
              "      <td>2020.000000</td>\n",
              "      <td>2020.040000</td>\n",
              "      <td>-19.848044</td>\n",
              "      <td>-44.195372</td>\n",
              "      <td>119.000000</td>\n",
              "    </tr>\n",
              "  </tbody>\n",
              "</table>\n",
              "</div>"
            ],
            "text/plain": [
              "       Id da Delegacia (RDO)  Número do Bo (RDO)  ...    LONG_(GEO)  Idade da vítima\n",
              "count           30571.000000        3.057100e+04  ...  28144.000000     29083.000000\n",
              "mean            68579.153479        4.034203e+03  ...    -47.456569        41.406079\n",
              "std             54162.283588        2.888245e+04  ...      1.388424        18.872616\n",
              "min             10101.000000        1.000000e+00  ...    -53.014547         0.000000\n",
              "25%             30304.000000        7.000000e+02  ...    -47.987451        26.000000\n",
              "50%             70394.000000        1.921000e+03  ...    -46.969924        39.000000\n",
              "75%            100910.000000        4.288000e+03  ...    -46.566460        55.000000\n",
              "max            999997.000000        1.232564e+06  ...    -44.195372       119.000000\n",
              "\n",
              "[8 rows x 10 columns]"
            ]
          },
          "metadata": {
            "tags": []
          },
          "execution_count": 7
        }
      ]
    },
    {
      "cell_type": "code",
      "metadata": {
        "id": "3OL9tPJ2kDyj",
        "colab_type": "code",
        "outputId": "994d8e5a-1896-464f-9230-2e1f6f9a186e",
        "colab": {
          "base_uri": "https://localhost:8080/",
          "height": 283
        }
      },
      "source": [
        "df['Dia da Semana'].value_counts().plot()"
      ],
      "execution_count": 0,
      "outputs": [
        {
          "output_type": "execute_result",
          "data": {
            "text/plain": [
              "<matplotlib.axes._subplots.AxesSubplot at 0x7fbe35bff3c8>"
            ]
          },
          "metadata": {
            "tags": []
          },
          "execution_count": 9
        },
        {
          "output_type": "display_data",
          "data": {
            "image/png": "[encoded data removed]",
            "text/plain": [
              "<Figure size 432x288 with 1 Axes>"
            ]
          },
          "metadata": {
            "tags": [],
            "needs_background": "light"
          }
        }
      ]
    },
    {
      "cell_type": "markdown",
      "metadata": {
        "id": "W9VmzjBeyxK2",
        "colab_type": "text"
      },
      "source": [
        "#Trabalhando com Receita e Volume de Vendas Diários em Ecommerce\n"
      ]
    },
    {
      "cell_type": "code",
      "metadata": {
        "id": "tpQqiNMmlzkh",
        "colab_type": "code",
        "colab": {}
      },
      "source": [
        "import pandas as pd"
      ],
      "execution_count": 0,
      "outputs": []
    },
    {
      "cell_type": "code",
      "metadata": {
        "id": "hLWp88SOtfMP",
        "colab_type": "code",
        "outputId": "5ffd4483-a437-4372-e66f-d307fff0ebe5",
        "colab": {
          "base_uri": "https://localhost:8080/",
          "height": 206
        }
      },
      "source": [
        "#lendo e apresentando arquivo\n",
        "gv = pd.read_csv('/content/vendas.csv')\n",
        "gv.head()"
      ],
      "execution_count": 7,
      "outputs": [
        {
          "output_type": "execute_result",
          "data": {
            "text/html": [
              "<div>\n",
              "<style scoped>\n",
              "    .dataframe tbody tr th:only-of-type {\n",
              "        vertical-align: middle;\n",
              "    }\n",
              "\n",
              "    .dataframe tbody tr th {\n",
              "        vertical-align: top;\n",
              "    }\n",
              "\n",
              "    .dataframe thead th {\n",
              "        text-align: right;\n",
              "    }\n",
              "</style>\n",
              "<table border=\"1\" class=\"dataframe\">\n",
              "  <thead>\n",
              "    <tr style=\"text-align: right;\">\n",
              "      <th></th>\n",
              "      <th>Dia</th>\n",
              "      <th>Semana</th>\n",
              "      <th>Vendas</th>\n",
              "      <th>CR</th>\n",
              "      <th>Receita</th>\n",
              "    </tr>\n",
              "  </thead>\n",
              "  <tbody>\n",
              "    <tr>\n",
              "      <th>0</th>\n",
              "      <td>31</td>\n",
              "      <td>Sunday</td>\n",
              "      <td>105</td>\n",
              "      <td>0.036959</td>\n",
              "      <td>25735.62</td>\n",
              "    </tr>\n",
              "    <tr>\n",
              "      <th>1</th>\n",
              "      <td>30</td>\n",
              "      <td>Saturday</td>\n",
              "      <td>125</td>\n",
              "      <td>0.038110</td>\n",
              "      <td>34067.80</td>\n",
              "    </tr>\n",
              "    <tr>\n",
              "      <th>2</th>\n",
              "      <td>29</td>\n",
              "      <td>Friday</td>\n",
              "      <td>154</td>\n",
              "      <td>0.036851</td>\n",
              "      <td>38951.54</td>\n",
              "    </tr>\n",
              "    <tr>\n",
              "      <th>3</th>\n",
              "      <td>28</td>\n",
              "      <td>Thursday</td>\n",
              "      <td>183</td>\n",
              "      <td>0.040613</td>\n",
              "      <td>48652.05</td>\n",
              "    </tr>\n",
              "    <tr>\n",
              "      <th>4</th>\n",
              "      <td>27</td>\n",
              "      <td>Wednesday</td>\n",
              "      <td>258</td>\n",
              "      <td>0.044178</td>\n",
              "      <td>83556.74</td>\n",
              "    </tr>\n",
              "  </tbody>\n",
              "</table>\n",
              "</div>"
            ],
            "text/plain": [
              "   Dia     Semana  Vendas        CR   Receita\n",
              "0   31     Sunday     105  0.036959  25735.62\n",
              "1   30   Saturday     125  0.038110  34067.80\n",
              "2   29     Friday     154  0.036851  38951.54\n",
              "3   28   Thursday     183  0.040613  48652.05\n",
              "4   27  Wednesday     258  0.044178  83556.74"
            ]
          },
          "metadata": {
            "tags": []
          },
          "execution_count": 7
        }
      ]
    },
    {
      "cell_type": "code",
      "metadata": {
        "id": "F0b-IIl8tiY7",
        "colab_type": "code",
        "outputId": "df8e811a-91e8-4b90-84c3-657e4b0d8c4f",
        "colab": {
          "base_uri": "https://localhost:8080/",
          "height": 297
        }
      },
      "source": [
        "#tentei plotar o gráfico, mas não trouxe todos os dados\n",
        "#tem mais de uma linha para os dias da semana\n",
        "gv.plot('Semana','Receita')"
      ],
      "execution_count": 8,
      "outputs": [
        {
          "output_type": "execute_result",
          "data": {
            "text/plain": [
              "<matplotlib.axes._subplots.AxesSubplot at 0x7f37e6c837f0>"
            ]
          },
          "metadata": {
            "tags": []
          },
          "execution_count": 8
        },
        {
          "output_type": "display_data",
          "data": {
            "image/png": "[encoded data removed]",
            "text/plain": [
              "<Figure size 432x288 with 1 Axes>"
            ]
          },
          "metadata": {
            "tags": [],
            "needs_background": "light"
          }
        }
      ]
    },
    {
      "cell_type": "markdown",
      "metadata": {
        "id": "tn49sqSvbAFI",
        "colab_type": "text"
      },
      "source": [
        "##Agrupando e somando resultados\n",
        "\n",
        "\n",
        "\n"
      ]
    },
    {
      "cell_type": "code",
      "metadata": {
        "id": "SrVdZf3gvT6R",
        "colab_type": "code",
        "outputId": "b4cb5220-4974-4ee6-ed5d-0575e96d33b7",
        "colab": {
          "base_uri": "https://localhost:8080/",
          "height": 300
        }
      },
      "source": [
        "#aprendi a agrupar e somar\n",
        "gv.groupby('Semana').sum()"
      ],
      "execution_count": 9,
      "outputs": [
        {
          "output_type": "execute_result",
          "data": {
            "text/html": [
              "<div>\n",
              "<style scoped>\n",
              "    .dataframe tbody tr th:only-of-type {\n",
              "        vertical-align: middle;\n",
              "    }\n",
              "\n",
              "    .dataframe tbody tr th {\n",
              "        vertical-align: top;\n",
              "    }\n",
              "\n",
              "    .dataframe thead th {\n",
              "        text-align: right;\n",
              "    }\n",
              "</style>\n",
              "<table border=\"1\" class=\"dataframe\">\n",
              "  <thead>\n",
              "    <tr style=\"text-align: right;\">\n",
              "      <th></th>\n",
              "      <th>Dia</th>\n",
              "      <th>Vendas</th>\n",
              "      <th>CR</th>\n",
              "      <th>Receita</th>\n",
              "    </tr>\n",
              "    <tr>\n",
              "      <th>Semana</th>\n",
              "      <th></th>\n",
              "      <th></th>\n",
              "      <th></th>\n",
              "      <th></th>\n",
              "    </tr>\n",
              "  </thead>\n",
              "  <tbody>\n",
              "    <tr>\n",
              "      <th>Friday</th>\n",
              "      <td>75</td>\n",
              "      <td>829</td>\n",
              "      <td>0.201340</td>\n",
              "      <td>211253.08</td>\n",
              "    </tr>\n",
              "    <tr>\n",
              "      <th>Monday</th>\n",
              "      <td>58</td>\n",
              "      <td>928</td>\n",
              "      <td>0.176769</td>\n",
              "      <td>242138.47</td>\n",
              "    </tr>\n",
              "    <tr>\n",
              "      <th>Saturday</th>\n",
              "      <td>80</td>\n",
              "      <td>724</td>\n",
              "      <td>0.207892</td>\n",
              "      <td>189823.11</td>\n",
              "    </tr>\n",
              "    <tr>\n",
              "      <th>Sunday</th>\n",
              "      <td>85</td>\n",
              "      <td>594</td>\n",
              "      <td>0.176884</td>\n",
              "      <td>144134.00</td>\n",
              "    </tr>\n",
              "    <tr>\n",
              "      <th>Thursday</th>\n",
              "      <td>70</td>\n",
              "      <td>781</td>\n",
              "      <td>0.168661</td>\n",
              "      <td>196371.22</td>\n",
              "    </tr>\n",
              "    <tr>\n",
              "      <th>Tuesday</th>\n",
              "      <td>62</td>\n",
              "      <td>857</td>\n",
              "      <td>0.168344</td>\n",
              "      <td>229066.00</td>\n",
              "    </tr>\n",
              "    <tr>\n",
              "      <th>Wednesday</th>\n",
              "      <td>66</td>\n",
              "      <td>963</td>\n",
              "      <td>0.176944</td>\n",
              "      <td>266898.75</td>\n",
              "    </tr>\n",
              "  </tbody>\n",
              "</table>\n",
              "</div>"
            ],
            "text/plain": [
              "           Dia  Vendas        CR    Receita\n",
              "Semana                                     \n",
              "Friday      75     829  0.201340  211253.08\n",
              "Monday      58     928  0.176769  242138.47\n",
              "Saturday    80     724  0.207892  189823.11\n",
              "Sunday      85     594  0.176884  144134.00\n",
              "Thursday    70     781  0.168661  196371.22\n",
              "Tuesday     62     857  0.168344  229066.00\n",
              "Wednesday   66     963  0.176944  266898.75"
            ]
          },
          "metadata": {
            "tags": []
          },
          "execution_count": 9
        }
      ]
    },
    {
      "cell_type": "code",
      "metadata": {
        "id": "rr3fxzddwK0H",
        "colab_type": "code",
        "colab": {}
      },
      "source": [
        "#armazenei em outra variável para facilitar plotar\n",
        "gv2 = gv.groupby('Semana').sum()"
      ],
      "execution_count": 0,
      "outputs": []
    },
    {
      "cell_type": "code",
      "metadata": {
        "id": "VeY8G4NdxJ76",
        "colab_type": "code",
        "outputId": "7158e680-ed0d-4e0b-84a8-3903baee7e66",
        "colab": {
          "base_uri": "https://localhost:8080/",
          "height": 297
        }
      },
      "source": [
        "#a coluna Semana se tornou a coluna principal\n",
        "#para plotar só precisei indicar a outra coluna \n",
        "gv2['Receita'].plot()"
      ],
      "execution_count": 11,
      "outputs": [
        {
          "output_type": "execute_result",
          "data": {
            "text/plain": [
              "<matplotlib.axes._subplots.AxesSubplot at 0x7f37e6bec198>"
            ]
          },
          "metadata": {
            "tags": []
          },
          "execution_count": 11
        },
        {
          "output_type": "display_data",
          "data": {
            "image/png": "[encoded data removed]",
            "text/plain": [
              "<Figure size 432x288 with 1 Axes>"
            ]
          },
          "metadata": {
            "tags": [],
            "needs_background": "light"
          }
        }
      ]
    },
    {
      "cell_type": "code",
      "metadata": {
        "id": "QxattzMlxMGG",
        "colab_type": "code",
        "outputId": "5bc20be7-02aa-4ebb-ef17-ad2987141a3d",
        "colab": {
          "base_uri": "https://localhost:8080/",
          "height": 297
        }
      },
      "source": [
        "#analisando volume e não valor\n",
        "gv2['Vendas'].plot()"
      ],
      "execution_count": 12,
      "outputs": [
        {
          "output_type": "execute_result",
          "data": {
            "text/plain": [
              "<matplotlib.axes._subplots.AxesSubplot at 0x7f37e6711d68>"
            ]
          },
          "metadata": {
            "tags": []
          },
          "execution_count": 12
        },
        {
          "output_type": "display_data",
          "data": {
            "image/png": "[encoded data removed]",
            "text/plain": [
              "<Figure size 432x288 with 1 Axes>"
            ]
          },
          "metadata": {
            "tags": [],
            "needs_background": "light"
          }
        }
      ]
    },
    {
      "cell_type": "code",
      "metadata": {
        "id": "Ekdb1_vv0Fn4",
        "colab_type": "code",
        "outputId": "b484f46e-158a-4749-abb1-2962d5bc8908",
        "colab": {
          "base_uri": "https://localhost:8080/",
          "height": 297
        }
      },
      "source": [
        "gv2['Receita'].sort_values().plot()"
      ],
      "execution_count": 13,
      "outputs": [
        {
          "output_type": "execute_result",
          "data": {
            "text/plain": [
              "<matplotlib.axes._subplots.AxesSubplot at 0x7f37e675c588>"
            ]
          },
          "metadata": {
            "tags": []
          },
          "execution_count": 13
        },
        {
          "output_type": "display_data",
          "data": {
            "image/png": "[encoded data removed]",
            "text/plain": [
              "<Figure size 432x288 with 1 Axes>"
            ]
          },
          "metadata": {
            "tags": [],
            "needs_background": "light"
          }
        }
      ]
    },
    {
      "cell_type": "code",
      "metadata": {
        "id": "_KM2CYpEyBQv",
        "colab_type": "code",
        "outputId": "35e978cf-a967-4abd-bf0c-f209751f8543",
        "colab": {
          "base_uri": "https://localhost:8080/",
          "height": 297
        }
      },
      "source": [
        "gv2['Vendas'].sort_values().plot()"
      ],
      "execution_count": 14,
      "outputs": [
        {
          "output_type": "execute_result",
          "data": {
            "text/plain": [
              "<matplotlib.axes._subplots.AxesSubplot at 0x7f37e6663940>"
            ]
          },
          "metadata": {
            "tags": []
          },
          "execution_count": 14
        },
        {
          "output_type": "display_data",
          "data": {
            "image/png": "[encoded data removed]",
            "text/plain": [
              "<Figure size 432x288 with 1 Axes>"
            ]
          },
          "metadata": {
            "tags": [],
            "needs_background": "light"
          }
        }
      ]
    },
    {
      "cell_type": "code",
      "metadata": {
        "id": "nhNBxumWz6_-",
        "colab_type": "code",
        "outputId": "282aa9e4-3023-4afe-bc6c-0c47127c242d",
        "colab": {
          "base_uri": "https://localhost:8080/",
          "height": 35
        }
      },
      "source": [
        "import datetime as d\n",
        "\n",
        "d.date.weekday(d.datetime.now())"
      ],
      "execution_count": 15,
      "outputs": [
        {
          "output_type": "execute_result",
          "data": {
            "text/plain": [
              "2"
            ]
          },
          "metadata": {
            "tags": []
          },
          "execution_count": 15
        }
      ]
    },
    {
      "cell_type": "code",
      "metadata": {
        "id": "wwSf1AaO0lcf",
        "colab_type": "code",
        "colab": {
          "base_uri": "https://localhost:8080/",
          "height": 300
        },
        "outputId": "ce8c7a5d-db6f-4182-cd29-565073db6c90"
      },
      "source": [
        "#TENTAR ORDENAR POR DIA DA SEMANA\n",
        "gv2['Ordem'] = [5,1,6,0,4,2,3]\n",
        "gv2"
      ],
      "execution_count": 16,
      "outputs": [
        {
          "output_type": "execute_result",
          "data": {
            "text/html": [
              "<div>\n",
              "<style scoped>\n",
              "    .dataframe tbody tr th:only-of-type {\n",
              "        vertical-align: middle;\n",
              "    }\n",
              "\n",
              "    .dataframe tbody tr th {\n",
              "        vertical-align: top;\n",
              "    }\n",
              "\n",
              "    .dataframe thead th {\n",
              "        text-align: right;\n",
              "    }\n",
              "</style>\n",
              "<table border=\"1\" class=\"dataframe\">\n",
              "  <thead>\n",
              "    <tr style=\"text-align: right;\">\n",
              "      <th></th>\n",
              "      <th>Dia</th>\n",
              "      <th>Vendas</th>\n",
              "      <th>CR</th>\n",
              "      <th>Receita</th>\n",
              "      <th>Ordem</th>\n",
              "    </tr>\n",
              "    <tr>\n",
              "      <th>Semana</th>\n",
              "      <th></th>\n",
              "      <th></th>\n",
              "      <th></th>\n",
              "      <th></th>\n",
              "      <th></th>\n",
              "    </tr>\n",
              "  </thead>\n",
              "  <tbody>\n",
              "    <tr>\n",
              "      <th>Friday</th>\n",
              "      <td>75</td>\n",
              "      <td>829</td>\n",
              "      <td>0.201340</td>\n",
              "      <td>211253.08</td>\n",
              "      <td>5</td>\n",
              "    </tr>\n",
              "    <tr>\n",
              "      <th>Monday</th>\n",
              "      <td>58</td>\n",
              "      <td>928</td>\n",
              "      <td>0.176769</td>\n",
              "      <td>242138.47</td>\n",
              "      <td>1</td>\n",
              "    </tr>\n",
              "    <tr>\n",
              "      <th>Saturday</th>\n",
              "      <td>80</td>\n",
              "      <td>724</td>\n",
              "      <td>0.207892</td>\n",
              "      <td>189823.11</td>\n",
              "      <td>6</td>\n",
              "    </tr>\n",
              "    <tr>\n",
              "      <th>Sunday</th>\n",
              "      <td>85</td>\n",
              "      <td>594</td>\n",
              "      <td>0.176884</td>\n",
              "      <td>144134.00</td>\n",
              "      <td>0</td>\n",
              "    </tr>\n",
              "    <tr>\n",
              "      <th>Thursday</th>\n",
              "      <td>70</td>\n",
              "      <td>781</td>\n",
              "      <td>0.168661</td>\n",
              "      <td>196371.22</td>\n",
              "      <td>4</td>\n",
              "    </tr>\n",
              "    <tr>\n",
              "      <th>Tuesday</th>\n",
              "      <td>62</td>\n",
              "      <td>857</td>\n",
              "      <td>0.168344</td>\n",
              "      <td>229066.00</td>\n",
              "      <td>2</td>\n",
              "    </tr>\n",
              "    <tr>\n",
              "      <th>Wednesday</th>\n",
              "      <td>66</td>\n",
              "      <td>963</td>\n",
              "      <td>0.176944</td>\n",
              "      <td>266898.75</td>\n",
              "      <td>3</td>\n",
              "    </tr>\n",
              "  </tbody>\n",
              "</table>\n",
              "</div>"
            ],
            "text/plain": [
              "           Dia  Vendas        CR    Receita  Ordem\n",
              "Semana                                            \n",
              "Friday      75     829  0.201340  211253.08      5\n",
              "Monday      58     928  0.176769  242138.47      1\n",
              "Saturday    80     724  0.207892  189823.11      6\n",
              "Sunday      85     594  0.176884  144134.00      0\n",
              "Thursday    70     781  0.168661  196371.22      4\n",
              "Tuesday     62     857  0.168344  229066.00      2\n",
              "Wednesday   66     963  0.176944  266898.75      3"
            ]
          },
          "metadata": {
            "tags": []
          },
          "execution_count": 16
        }
      ]
    },
    {
      "cell_type": "code",
      "metadata": {
        "id": "tM_cT9pRYwXK",
        "colab_type": "code",
        "colab": {
          "base_uri": "https://localhost:8080/",
          "height": 297
        },
        "outputId": "b6fae0c7-df0e-4aaf-a2d6-1e3bede5e9fd"
      },
      "source": [
        "gv2.sort_values(by=['Ordem'])['Vendas'].plot()"
      ],
      "execution_count": 29,
      "outputs": [
        {
          "output_type": "execute_result",
          "data": {
            "text/plain": [
              "<matplotlib.axes._subplots.AxesSubplot at 0x7f37e6be69b0>"
            ]
          },
          "metadata": {
            "tags": []
          },
          "execution_count": 29
        },
        {
          "output_type": "display_data",
          "data": {
            "image/png": "[encoded data removed]",
            "text/plain": [
              "<Figure size 432x288 with 1 Axes>"
            ]
          },
          "metadata": {
            "tags": [],
            "needs_background": "light"
          }
        }
      ]
    },
    {
      "cell_type": "markdown",
      "metadata": {
        "colab_type": "text",
        "id": "YQPX5SGvbRJx"
      },
      "source": [
        "##Agrupando e calculando a média dos resultados"
      ]
    },
    {
      "cell_type": "code",
      "metadata": {
        "id": "6JQtBpbWYz8L",
        "colab_type": "code",
        "colab": {
          "base_uri": "https://localhost:8080/",
          "height": 300
        },
        "outputId": "5d654423-2f12-47e7-dd88-336492b7893b"
      },
      "source": [
        "#armazenei em outra variável para facilitar plotar\n",
        "gv3 = gv.groupby('Semana').mean()\n",
        "gv3['Ordem'] = [5,1,6,0,4,2,3]\n",
        "gv3"
      ],
      "execution_count": 31,
      "outputs": [
        {
          "output_type": "execute_result",
          "data": {
            "text/html": [
              "<div>\n",
              "<style scoped>\n",
              "    .dataframe tbody tr th:only-of-type {\n",
              "        vertical-align: middle;\n",
              "    }\n",
              "\n",
              "    .dataframe tbody tr th {\n",
              "        vertical-align: top;\n",
              "    }\n",
              "\n",
              "    .dataframe thead th {\n",
              "        text-align: right;\n",
              "    }\n",
              "</style>\n",
              "<table border=\"1\" class=\"dataframe\">\n",
              "  <thead>\n",
              "    <tr style=\"text-align: right;\">\n",
              "      <th></th>\n",
              "      <th>Dia</th>\n",
              "      <th>Vendas</th>\n",
              "      <th>CR</th>\n",
              "      <th>Receita</th>\n",
              "      <th>Ordem</th>\n",
              "    </tr>\n",
              "    <tr>\n",
              "      <th>Semana</th>\n",
              "      <th></th>\n",
              "      <th></th>\n",
              "      <th></th>\n",
              "      <th></th>\n",
              "      <th></th>\n",
              "    </tr>\n",
              "  </thead>\n",
              "  <tbody>\n",
              "    <tr>\n",
              "      <th>Friday</th>\n",
              "      <td>15.0</td>\n",
              "      <td>165.80</td>\n",
              "      <td>0.040268</td>\n",
              "      <td>42250.6160</td>\n",
              "      <td>5</td>\n",
              "    </tr>\n",
              "    <tr>\n",
              "      <th>Monday</th>\n",
              "      <td>14.5</td>\n",
              "      <td>232.00</td>\n",
              "      <td>0.044192</td>\n",
              "      <td>60534.6175</td>\n",
              "      <td>1</td>\n",
              "    </tr>\n",
              "    <tr>\n",
              "      <th>Saturday</th>\n",
              "      <td>16.0</td>\n",
              "      <td>144.80</td>\n",
              "      <td>0.041578</td>\n",
              "      <td>37964.6220</td>\n",
              "      <td>6</td>\n",
              "    </tr>\n",
              "    <tr>\n",
              "      <th>Sunday</th>\n",
              "      <td>17.0</td>\n",
              "      <td>118.80</td>\n",
              "      <td>0.035377</td>\n",
              "      <td>28826.8000</td>\n",
              "      <td>0</td>\n",
              "    </tr>\n",
              "    <tr>\n",
              "      <th>Thursday</th>\n",
              "      <td>17.5</td>\n",
              "      <td>195.25</td>\n",
              "      <td>0.042165</td>\n",
              "      <td>49092.8050</td>\n",
              "      <td>4</td>\n",
              "    </tr>\n",
              "    <tr>\n",
              "      <th>Tuesday</th>\n",
              "      <td>15.5</td>\n",
              "      <td>214.25</td>\n",
              "      <td>0.042086</td>\n",
              "      <td>57266.5000</td>\n",
              "      <td>2</td>\n",
              "    </tr>\n",
              "    <tr>\n",
              "      <th>Wednesday</th>\n",
              "      <td>16.5</td>\n",
              "      <td>240.75</td>\n",
              "      <td>0.044236</td>\n",
              "      <td>66724.6875</td>\n",
              "      <td>3</td>\n",
              "    </tr>\n",
              "  </tbody>\n",
              "</table>\n",
              "</div>"
            ],
            "text/plain": [
              "            Dia  Vendas        CR     Receita  Ordem\n",
              "Semana                                              \n",
              "Friday     15.0  165.80  0.040268  42250.6160      5\n",
              "Monday     14.5  232.00  0.044192  60534.6175      1\n",
              "Saturday   16.0  144.80  0.041578  37964.6220      6\n",
              "Sunday     17.0  118.80  0.035377  28826.8000      0\n",
              "Thursday   17.5  195.25  0.042165  49092.8050      4\n",
              "Tuesday    15.5  214.25  0.042086  57266.5000      2\n",
              "Wednesday  16.5  240.75  0.044236  66724.6875      3"
            ]
          },
          "metadata": {
            "tags": []
          },
          "execution_count": 31
        }
      ]
    },
    {
      "cell_type": "code",
      "metadata": {
        "id": "ngXr76VAaoTK",
        "colab_type": "code",
        "colab": {
          "base_uri": "https://localhost:8080/",
          "height": 297
        },
        "outputId": "5e0e1d98-1889-43de-e3a4-d23be5912a79"
      },
      "source": [
        "gv3.sort_values(by=['Ordem'])['Vendas'].plot()"
      ],
      "execution_count": 32,
      "outputs": [
        {
          "output_type": "execute_result",
          "data": {
            "text/plain": [
              "<matplotlib.axes._subplots.AxesSubplot at 0x7f37e629d5f8>"
            ]
          },
          "metadata": {
            "tags": []
          },
          "execution_count": 32
        },
        {
          "output_type": "display_data",
          "data": {
            "image/png": "[encoded data removed]",
            "text/plain": [
              "<Figure size 432x288 with 1 Axes>"
            ]
          },
          "metadata": {
            "tags": [],
            "needs_background": "light"
          }
        }
      ]
    },
    {
      "cell_type": "markdown",
      "metadata": {
        "id": "eHgIwvRAbjIO",
        "colab_type": "text"
      },
      "source": [
        "##Unificando resultados por média e soma no mesmo gráfico"
      ]
    },
    {
      "cell_type": "code",
      "metadata": {
        "id": "x05o-FXMa1L9",
        "colab_type": "code",
        "colab": {
          "base_uri": "https://localhost:8080/",
          "height": 300
        },
        "outputId": "8cd63750-691e-4115-9cf4-2f3d51790438"
      },
      "source": [
        "gv2.sort_values(by=['Ordem'])['Vendas'].plot()\n",
        "gv3.sort_values(by=['Ordem'])['Vendas'].plot()"
      ],
      "execution_count": 33,
      "outputs": [
        {
          "output_type": "execute_result",
          "data": {
            "text/plain": [
              "<matplotlib.axes._subplots.AxesSubplot at 0x7f37e61c5a58>"
            ]
          },
          "metadata": {
            "tags": []
          },
          "execution_count": 33
        },
        {
          "output_type": "display_data",
          "data": {
            "image/png": "[encoded data removed]",
            "text/plain": [
              "<Figure size 432x288 with 1 Axes>"
            ]
          },
          "metadata": {
            "tags": [],
            "needs_background": "light"
          }
        }
      ]
    },
    {
      "cell_type": "markdown",
      "metadata": {
        "id": "s0UvIOWng0Kr",
        "colab_type": "text"
      },
      "source": [
        "##Plotando gráficos com Matplotlib"
      ]
    },
    {
      "cell_type": "code",
      "metadata": {
        "id": "-sBr3lQWbdwa",
        "colab_type": "code",
        "colab": {}
      },
      "source": [
        "import matplotlib.pyplot as plt\n"
      ],
      "execution_count": 0,
      "outputs": []
    },
    {
      "cell_type": "code",
      "metadata": {
        "id": "4wpxy3p0ga3i",
        "colab_type": "code",
        "colab": {
          "base_uri": "https://localhost:8080/",
          "height": 295
        },
        "outputId": "426bb884-277d-4d0a-f86a-e1c9f3d03683"
      },
      "source": [
        "\n",
        "plt.plot(gv2.sort_values(by=['Ordem'])['Vendas'])\n",
        "plt.title('Soma Vendas por Dia da Semana')\n",
        "plt.ylabel('Volume')\n",
        "plt.xlabel('Dia da Semana')\n",
        "plt.show()"
      ],
      "execution_count": 35,
      "outputs": [
        {
          "output_type": "display_data",
          "data": {
            "image/png": "[encoded data removed]",
            "text/plain": [
              "<Figure size 432x288 with 1 Axes>"
            ]
          },
          "metadata": {
            "tags": [],
            "needs_background": "light"
          }
        }
      ]
    },
    {
      "cell_type": "code",
      "metadata": {
        "id": "UYwijdzigsb6",
        "colab_type": "code",
        "colab": {
          "base_uri": "https://localhost:8080/",
          "height": 295
        },
        "outputId": "bf7b34c4-bc1e-497e-a94b-343e2e95ef89"
      },
      "source": [
        "plt.plot(gv3.sort_values(by=['Ordem'])['Vendas'])\n",
        "plt.title('Média Vendas por Dia da Semana')\n",
        "plt.ylabel('Volume')\n",
        "plt.xlabel('Dia da Semana')\n",
        "plt.show()"
      ],
      "execution_count": 37,
      "outputs": [
        {
          "output_type": "display_data",
          "data": {
            "image/png": "[encoded data removed]",
            "text/plain": [
              "<Figure size 432x288 with 1 Axes>"
            ]
          },
          "metadata": {
            "tags": [],
            "needs_background": "light"
          }
        }
      ]
    },
    {
      "cell_type": "code",
      "metadata": {
        "id": "uqOAIFZngyr3",
        "colab_type": "code",
        "colab": {}
      },
      "source": [
        ""
      ],
      "execution_count": 0,
      "outputs": []
    }
  ]
}