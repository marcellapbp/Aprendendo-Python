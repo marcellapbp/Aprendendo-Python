{
  "nbformat": 4,
  "nbformat_minor": 0,
  "metadata": {
    "colab": {
      "name": "Semana_Data_Science_Sigmoidal_2020-05_analise.ipynb",
      "provenance": [],
      "toc_visible": true,
      "authorship_tag": "ABX9TyOxqLOgAZ4szwD1hujBpjVv",
      "include_colab_link": true
    },
    "kernelspec": {
      "name": "python3",
      "display_name": "Python 3"
    }
  },
  "cells": [
    {
      "cell_type": "markdown",
      "metadata": {
        "id": "view-in-github",
        "colab_type": "text"
      },
      "source": [
        "<a href=\"https://colab.research.google.com/github/marcellapbp/Aprendendo-Python/blob/master/Sigmoidal/Semana_Data_Science_Sigmoidal_2020_05_analise.ipynb\" target=\"_parent\"><img src=\"https://colab.research.google.com/assets/colab-badge.svg\" alt=\"Open In Colab\"/></a>"
      ]
    },
    {
      "cell_type": "markdown",
      "metadata": {
        "id": "7vEXdEM1gq28"
      },
      "source": [
        "#Leitura Arquivo Acidentes SP"
      ]
    },
    {
      "cell_type": "code",
      "metadata": {
        "id": "Rt12QaOcaDtX",
        "colab": {
          "base_uri": "https://localhost:8080/",
          "height": 382
        },
        "outputId": "ff2c6495-ba40-4806-cf7d-3e5bab155f8c"
      },
      "source": [
        "#leitura do arquivo\n",
        "import pandas as pd\n",
        "\n",
        "arq_acidentes = pd.read_csv('/content/acidentes_sp_clean.csv')\n",
        "\n",
        "arq_acidentes.head()\n"
      ],
      "execution_count": null,
      "outputs": [
        {
          "output_type": "execute_result",
          "data": {
            "text/html": [
              "<div>\n",
              "<style scoped>\n",
              "    .dataframe tbody tr th:only-of-type {\n",
              "        vertical-align: middle;\n",
              "    }\n",
              "\n",
              "    .dataframe tbody tr th {\n",
              "        vertical-align: top;\n",
              "    }\n",
              "\n",
              "    .dataframe thead th {\n",
              "        text-align: right;\n",
              "    }\n",
              "</style>\n",
              "<table border=\"1\" class=\"dataframe\">\n",
              "  <thead>\n",
              "    <tr style=\"text-align: right;\">\n",
              "      <th></th>\n",
              "      <th>Id da Delegacia (RDO)</th>\n",
              "      <th>Número do Bo (RDO)</th>\n",
              "      <th>Ano do BO (RDO)</th>\n",
              "      <th>Data do Óbito</th>\n",
              "      <th>Data do Acidente</th>\n",
              "      <th>Tipo de via</th>\n",
              "      <th>Dia do óbito</th>\n",
              "      <th>Mês do Óbito</th>\n",
              "      <th>Mês Óbito Descrição</th>\n",
              "      <th>Ano do Óbito</th>\n",
              "      <th>Ano/Mês do Óbito</th>\n",
              "      <th>Dia da Semana</th>\n",
              "      <th>Hora do Acidente</th>\n",
              "      <th>Turno</th>\n",
              "      <th>Município</th>\n",
              "      <th>Região Administrativa</th>\n",
              "      <th>Logradouro</th>\n",
              "      <th>Númeral / KM</th>\n",
              "      <th>Jurisdição</th>\n",
              "      <th>Administração</th>\n",
              "      <th>Conservação</th>\n",
              "      <th>Tipo do local da ocorrência</th>\n",
              "      <th>LAT_(GEO)</th>\n",
              "      <th>LONG_(GEO)</th>\n",
              "      <th>Tipo do veículo da vítima</th>\n",
              "      <th>Tipo de vítima</th>\n",
              "      <th>Local do óbito</th>\n",
              "      <th>Tipo de acidente</th>\n",
              "      <th>Sub Tipo do Acidente</th>\n",
              "      <th>Tempo entre o Acidente e o óbito</th>\n",
              "      <th>Sexo</th>\n",
              "      <th>Faixa etária</th>\n",
              "      <th>Idade da vítima</th>\n",
              "      <th>Outro Veículo Envolvido</th>\n",
              "    </tr>\n",
              "  </thead>\n",
              "  <tbody>\n",
              "    <tr>\n",
              "      <th>0</th>\n",
              "      <td>120514</td>\n",
              "      <td>889</td>\n",
              "      <td>2020</td>\n",
              "      <td>2020-04-30</td>\n",
              "      <td>2020-04-30</td>\n",
              "      <td>Rodovias</td>\n",
              "      <td>30</td>\n",
              "      <td>4</td>\n",
              "      <td>ABRIL</td>\n",
              "      <td>2020</td>\n",
              "      <td>2020.04</td>\n",
              "      <td>QUINTA</td>\n",
              "      <td>17:30:00</td>\n",
              "      <td>TARDE</td>\n",
              "      <td>ARACARIGUAMA</td>\n",
              "      <td>Sorocaba</td>\n",
              "      <td>SP 280</td>\n",
              "      <td>50,0</td>\n",
              "      <td>ESTADUAL</td>\n",
              "      <td>CONCESSIONÁRIA</td>\n",
              "      <td>VIAOESTE</td>\n",
              "      <td>PUBLICO</td>\n",
              "      <td>-23.439186</td>\n",
              "      <td>-47.065945</td>\n",
              "      <td>ONIBUS</td>\n",
              "      <td>CONDUTOR</td>\n",
              "      <td>VIA</td>\n",
              "      <td>CHOQUE</td>\n",
              "      <td>VEÍCULO ESTACIONADO</td>\n",
              "      <td>Mesmo dia</td>\n",
              "      <td>MASCULINO</td>\n",
              "      <td>45-49</td>\n",
              "      <td>48.0</td>\n",
              "      <td>ONIBUS</td>\n",
              "    </tr>\n",
              "    <tr>\n",
              "      <th>1</th>\n",
              "      <td>120514</td>\n",
              "      <td>889</td>\n",
              "      <td>2020</td>\n",
              "      <td>2020-04-30</td>\n",
              "      <td>2020-04-30</td>\n",
              "      <td>Rodovias</td>\n",
              "      <td>30</td>\n",
              "      <td>4</td>\n",
              "      <td>ABRIL</td>\n",
              "      <td>2020</td>\n",
              "      <td>2020.04</td>\n",
              "      <td>QUINTA</td>\n",
              "      <td>17:30:00</td>\n",
              "      <td>TARDE</td>\n",
              "      <td>ARACARIGUAMA</td>\n",
              "      <td>Sorocaba</td>\n",
              "      <td>SP 280</td>\n",
              "      <td>50,0</td>\n",
              "      <td>ESTADUAL</td>\n",
              "      <td>CONCESSIONÁRIA</td>\n",
              "      <td>VIAOESTE</td>\n",
              "      <td>PUBLICO</td>\n",
              "      <td>-23.439186</td>\n",
              "      <td>-47.065945</td>\n",
              "      <td>ONIBUS</td>\n",
              "      <td>PASSAGEIRO</td>\n",
              "      <td>ESTABELECIMENTO DE SAUDE</td>\n",
              "      <td>CHOQUE</td>\n",
              "      <td>VEÍCULO ESTACIONADO</td>\n",
              "      <td>Mesmo dia</td>\n",
              "      <td>MASCULINO</td>\n",
              "      <td>35-39</td>\n",
              "      <td>36.0</td>\n",
              "      <td>ONIBUS</td>\n",
              "    </tr>\n",
              "    <tr>\n",
              "      <th>2</th>\n",
              "      <td>110429</td>\n",
              "      <td>3887</td>\n",
              "      <td>2020</td>\n",
              "      <td>2020-04-30</td>\n",
              "      <td>2020-04-17</td>\n",
              "      <td>Rodovias</td>\n",
              "      <td>30</td>\n",
              "      <td>4</td>\n",
              "      <td>ABRIL</td>\n",
              "      <td>2020</td>\n",
              "      <td>2020.04</td>\n",
              "      <td>SEXTA</td>\n",
              "      <td>3:50:00</td>\n",
              "      <td>MADRUGADA</td>\n",
              "      <td>SAO JOSE DO RIO PRETO</td>\n",
              "      <td>São José do Rio Preto</td>\n",
              "      <td>BR 153</td>\n",
              "      <td>57,5</td>\n",
              "      <td>FEDERAL</td>\n",
              "      <td>CONCESSIONÁRIA</td>\n",
              "      <td>TRANSBRASILIANA</td>\n",
              "      <td>PUBLICO</td>\n",
              "      <td>-20.772532</td>\n",
              "      <td>-49.350863</td>\n",
              "      <td>MOTOCICLETA</td>\n",
              "      <td>CONDUTOR</td>\n",
              "      <td>ESTABELECIMENTO DE SAUDE</td>\n",
              "      <td>CHOQUE</td>\n",
              "      <td>DEFENSA / BARREIRA</td>\n",
              "      <td>Até 30 dias</td>\n",
              "      <td>MASCULINO</td>\n",
              "      <td>25-29</td>\n",
              "      <td>26.0</td>\n",
              "      <td>NÃO HÁ</td>\n",
              "    </tr>\n",
              "    <tr>\n",
              "      <th>3</th>\n",
              "      <td>30309</td>\n",
              "      <td>1745</td>\n",
              "      <td>2020</td>\n",
              "      <td>2020-04-30</td>\n",
              "      <td>2020-04-30</td>\n",
              "      <td>Rodovias</td>\n",
              "      <td>30</td>\n",
              "      <td>4</td>\n",
              "      <td>ABRIL</td>\n",
              "      <td>2020</td>\n",
              "      <td>2020.04</td>\n",
              "      <td>QUINTA</td>\n",
              "      <td>18:30:00</td>\n",
              "      <td>NOITE</td>\n",
              "      <td>SUZANO</td>\n",
              "      <td>Metropolitana de São Paulo</td>\n",
              "      <td>SP 021</td>\n",
              "      <td>110,0</td>\n",
              "      <td>ESTADUAL</td>\n",
              "      <td>CONCESSIONÁRIA</td>\n",
              "      <td>SPMAR</td>\n",
              "      <td>PUBLICO</td>\n",
              "      <td>-23.566580</td>\n",
              "      <td>-46.342199</td>\n",
              "      <td>PEDESTRE</td>\n",
              "      <td>PEDESTRE</td>\n",
              "      <td>VIA</td>\n",
              "      <td>ATROPELAMENTO</td>\n",
              "      <td>CRUZANDO A VIA</td>\n",
              "      <td>Mesmo dia</td>\n",
              "      <td>MASCULINO</td>\n",
              "      <td>NAO DISPONIVEL</td>\n",
              "      <td>NaN</td>\n",
              "      <td>AUTOMOVEL</td>\n",
              "    </tr>\n",
              "    <tr>\n",
              "      <th>4</th>\n",
              "      <td>70923</td>\n",
              "      <td>1373</td>\n",
              "      <td>2020</td>\n",
              "      <td>2020-04-30</td>\n",
              "      <td>2020-04-30</td>\n",
              "      <td>Vias Municipais</td>\n",
              "      <td>30</td>\n",
              "      <td>4</td>\n",
              "      <td>ABRIL</td>\n",
              "      <td>2020</td>\n",
              "      <td>2020.04</td>\n",
              "      <td>QUINTA</td>\n",
              "      <td>17:50:00</td>\n",
              "      <td>TARDE</td>\n",
              "      <td>LIMEIRA</td>\n",
              "      <td>Campinas</td>\n",
              "      <td>RUA ITAPEMA</td>\n",
              "      <td>481,0</td>\n",
              "      <td>MUNICIPAL</td>\n",
              "      <td>PREFEITURA</td>\n",
              "      <td>PREFEITURA</td>\n",
              "      <td>PUBLICO</td>\n",
              "      <td>-22.552483</td>\n",
              "      <td>-47.405759</td>\n",
              "      <td>BICICLETA</td>\n",
              "      <td>CONDUTOR</td>\n",
              "      <td>VIA</td>\n",
              "      <td>CHOQUE</td>\n",
              "      <td>MURO/PAREDE/TALUDE</td>\n",
              "      <td>Mesmo dia</td>\n",
              "      <td>FEMININO</td>\n",
              "      <td>30-34</td>\n",
              "      <td>30.0</td>\n",
              "      <td>NÃO HÁ</td>\n",
              "    </tr>\n",
              "  </tbody>\n",
              "</table>\n",
              "</div>"
            ],
            "text/plain": [
              "   Id da Delegacia (RDO)  ...  Outro Veículo Envolvido\n",
              "0                 120514  ...                   ONIBUS\n",
              "1                 120514  ...                   ONIBUS\n",
              "2                 110429  ...                   NÃO HÁ\n",
              "3                  30309  ...                AUTOMOVEL\n",
              "4                  70923  ...                   NÃO HÁ\n",
              "\n",
              "[5 rows x 34 columns]"
            ]
          },
          "metadata": {
            "tags": []
          },
          "execution_count": 2
        }
      ]
    },
    {
      "cell_type": "code",
      "metadata": {
        "id": "gbbvgJv1o5m9",
        "colab": {
          "base_uri": "https://localhost:8080/",
          "height": 35
        },
        "outputId": "6518e509-673e-46d6-a245-2778ba2a8615"
      },
      "source": [
        "arq_acidentes.shape"
      ],
      "execution_count": null,
      "outputs": [
        {
          "output_type": "execute_result",
          "data": {
            "text/plain": [
              "(30571, 34)"
            ]
          },
          "metadata": {
            "tags": []
          },
          "execution_count": 65
        }
      ]
    },
    {
      "cell_type": "markdown",
      "metadata": {
        "id": "XxrWtt9kgvGO"
      },
      "source": [
        "##Análise por Dia da Semana"
      ]
    },
    {
      "cell_type": "code",
      "metadata": {
        "id": "Z6tG8WMWaWZT",
        "colab": {
          "base_uri": "https://localhost:8080/",
          "height": 283
        },
        "outputId": "9ed2d19f-febe-4bd0-8bb0-c0e17e670cfa"
      },
      "source": [
        "#testando histograma de qtde de acidentes por dia de semana\n",
        "arq_acidentes['Dia da Semana'].hist()"
      ],
      "execution_count": null,
      "outputs": [
        {
          "output_type": "execute_result",
          "data": {
            "text/plain": [
              "<matplotlib.axes._subplots.AxesSubplot at 0x7fe9bb3685f8>"
            ]
          },
          "metadata": {
            "tags": []
          },
          "execution_count": 4
        },
        {
          "output_type": "display_data",
          "data": {
            "image/png": "[encoded data removed]",
            "text/plain": [
              "<Figure size 432x288 with 1 Axes>"
            ]
          },
          "metadata": {
            "tags": [],
            "needs_background": "light"
          }
        }
      ]
    },
    {
      "cell_type": "code",
      "metadata": {
        "id": "NPjmMFUCadL1"
      },
      "source": [
        "#outros gráficos\n",
        "import seaborn as sns\n",
        "import matplotlib.pyplot as plt\n"
      ],
      "execution_count": null,
      "outputs": []
    },
    {
      "cell_type": "code",
      "metadata": {
        "id": "af62GzhLbFCr",
        "colab": {
          "base_uri": "https://localhost:8080/",
          "height": 330
        },
        "outputId": "bf8d3140-35c2-495b-86d6-90e846727fbc"
      },
      "source": [
        "#tentando ordenar resultado por qtde de ocorrência\n",
        "sns.countplot(arq_acidentes['Dia da Semana'], order=arq_acidentes['Dia da Semana'].value_counts().index)\n",
        "plt.xticks(rotation = 45)"
      ],
      "execution_count": null,
      "outputs": [
        {
          "output_type": "execute_result",
          "data": {
            "text/plain": [
              "(array([0, 1, 2, 3, 4, 5, 6]), <a list of 7 Text major ticklabel objects>)"
            ]
          },
          "metadata": {
            "tags": []
          },
          "execution_count": 12
        },
        {
          "output_type": "display_data",
          "data": {
            "image/png": "[encoded data removed]",
            "text/plain": [
              "<Figure size 432x288 with 1 Axes>"
            ]
          },
          "metadata": {
            "tags": [],
            "needs_background": "light"
          }
        }
      ]
    },
    {
      "cell_type": "code",
      "metadata": {
        "id": "XvdcSR0_b51F",
        "colab": {
          "base_uri": "https://localhost:8080/",
          "height": 330
        },
        "outputId": "bcf1516c-5571-412d-df6d-d9de7bd14b13"
      },
      "source": [
        "#ordenação inversa\n",
        "sns.countplot(arq_acidentes['Dia da Semana'], order=reversed(arq_acidentes['Dia da Semana'].value_counts().index))\n",
        "plt.xticks(rotation = 45)"
      ],
      "execution_count": null,
      "outputs": [
        {
          "output_type": "execute_result",
          "data": {
            "text/plain": [
              "(array([0, 1, 2, 3, 4, 5, 6]), <a list of 7 Text major ticklabel objects>)"
            ]
          },
          "metadata": {
            "tags": []
          },
          "execution_count": 13
        },
        {
          "output_type": "display_data",
          "data": {
            "image/png": "[encoded data removed]",
            "text/plain": [
              "<Figure size 432x288 with 1 Axes>"
            ]
          },
          "metadata": {
            "tags": [],
            "needs_background": "light"
          }
        }
      ]
    },
    {
      "cell_type": "markdown",
      "metadata": {
        "id": "JItMOghCkj8p"
      },
      "source": [
        "##Análise por Ano"
      ]
    },
    {
      "cell_type": "code",
      "metadata": {
        "id": "dVxV0-E4gTLc",
        "colab": {
          "base_uri": "https://localhost:8080/",
          "height": 330
        },
        "outputId": "8f11dfd3-0be9-4aeb-9a23-537c221cc645"
      },
      "source": [
        "#analise por ano\n",
        "sns.countplot(arq_acidentes['Ano do BO (RDO)'])\n",
        "plt.xticks(rotation=45)"
      ],
      "execution_count": null,
      "outputs": [
        {
          "output_type": "execute_result",
          "data": {
            "text/plain": [
              "(array([ 0,  1,  2,  3,  4,  5,  6,  7,  8,  9, 10]),\n",
              " <a list of 11 Text major ticklabel objects>)"
            ]
          },
          "metadata": {
            "tags": []
          },
          "execution_count": 40
        },
        {
          "output_type": "display_data",
          "data": {
            "image/png": "[encoded data removed]",
            "text/plain": [
              "<Figure size 432x288 with 1 Axes>"
            ]
          },
          "metadata": {
            "tags": [],
            "needs_background": "light"
          }
        }
      ]
    },
    {
      "cell_type": "code",
      "metadata": {
        "id": "ISRbfQJejNsm",
        "colab": {
          "base_uri": "https://localhost:8080/",
          "height": 330
        },
        "outputId": "6b2964ec-d0d6-4916-a8e9-e711bf581d29"
      },
      "source": [
        "sns.countplot(arq_acidentes['Ano do BO (RDO)'], order=arq_acidentes['Ano do BO (RDO)'].value_counts().index)\n",
        "plt.xticks(rotation=45)"
      ],
      "execution_count": null,
      "outputs": [
        {
          "output_type": "execute_result",
          "data": {
            "text/plain": [
              "(array([ 0,  1,  2,  3,  4,  5,  6,  7,  8,  9, 10]),\n",
              " <a list of 11 Text major ticklabel objects>)"
            ]
          },
          "metadata": {
            "tags": []
          },
          "execution_count": 41
        },
        {
          "output_type": "display_data",
          "data": {
            "image/png": "[encoded data removed]",
            "text/plain": [
              "<Figure size 432x288 with 1 Axes>"
            ]
          },
          "metadata": {
            "tags": [],
            "needs_background": "light"
          }
        }
      ]
    },
    {
      "cell_type": "markdown",
      "metadata": {
        "id": "s82_vs32pimq"
      },
      "source": [
        "##Análise por Sexo da vítima"
      ]
    },
    {
      "cell_type": "code",
      "metadata": {
        "id": "1KIcFuiOiBLl",
        "colab": {
          "base_uri": "https://localhost:8080/",
          "height": 283
        },
        "outputId": "02434a78-3ebb-4d75-9298-8e9625cf2a56"
      },
      "source": [
        "#montando gráfico para checar acidentados por sexo independente do Tipo de Vítima\n",
        "arq_acidentes['Sexo'].hist()"
      ],
      "execution_count": null,
      "outputs": [
        {
          "output_type": "execute_result",
          "data": {
            "text/plain": [
              "<matplotlib.axes._subplots.AxesSubplot at 0x7fe980845668>"
            ]
          },
          "metadata": {
            "tags": []
          },
          "execution_count": 42
        },
        {
          "output_type": "display_data",
          "data": {
            "image/png": "[encoded data removed]",
            "text/plain": [
              "<Figure size 432x288 with 1 Axes>"
            ]
          },
          "metadata": {
            "tags": [],
            "needs_background": "light"
          }
        }
      ]
    },
    {
      "cell_type": "code",
      "metadata": {
        "id": "Mev0-LG-ksxS",
        "colab": {
          "base_uri": "https://localhost:8080/",
          "height": 283
        },
        "outputId": "6acef2e2-1d1f-4bca-cf24-562227374838"
      },
      "source": [
        "#filtrando o Tipo de Vítima = Condutor e montando novamente o gráfico\n",
        "arq_acidentes[arq_acidentes['Tipo de vítima']=='CONDUTOR']['Sexo'].hist()"
      ],
      "execution_count": null,
      "outputs": [
        {
          "output_type": "execute_result",
          "data": {
            "text/plain": [
              "<matplotlib.axes._subplots.AxesSubplot at 0x7fe9a6a5d4a8>"
            ]
          },
          "metadata": {
            "tags": []
          },
          "execution_count": 66
        },
        {
          "output_type": "display_data",
          "data": {
            "image/png": "[encoded data removed]",
            "text/plain": [
              "<Figure size 432x288 with 1 Axes>"
            ]
          },
          "metadata": {
            "tags": [],
            "needs_background": "light"
          }
        }
      ]
    },
    {
      "cell_type": "code",
      "metadata": {
        "id": "lC9sdn-ukz-0",
        "colab": {
          "base_uri": "https://localhost:8080/",
          "height": 704
        },
        "outputId": "f99f4329-ba7c-47ab-f8b0-274700c8917e"
      },
      "source": [
        "#traz o arquivo filtrado \n",
        "arq_acidentes[arq_acidentes['Tipo de vítima']=='CONDUTOR']"
      ],
      "execution_count": null,
      "outputs": [
        {
          "output_type": "execute_result",
          "data": {
            "text/html": [
              "<div>\n",
              "<style scoped>\n",
              "    .dataframe tbody tr th:only-of-type {\n",
              "        vertical-align: middle;\n",
              "    }\n",
              "\n",
              "    .dataframe tbody tr th {\n",
              "        vertical-align: top;\n",
              "    }\n",
              "\n",
              "    .dataframe thead th {\n",
              "        text-align: right;\n",
              "    }\n",
              "</style>\n",
              "<table border=\"1\" class=\"dataframe\">\n",
              "  <thead>\n",
              "    <tr style=\"text-align: right;\">\n",
              "      <th></th>\n",
              "      <th>Id da Delegacia (RDO)</th>\n",
              "      <th>Número do Bo (RDO)</th>\n",
              "      <th>Ano do BO (RDO)</th>\n",
              "      <th>Data do Óbito</th>\n",
              "      <th>Data do Acidente</th>\n",
              "      <th>Tipo de via</th>\n",
              "      <th>Dia do óbito</th>\n",
              "      <th>Mês do Óbito</th>\n",
              "      <th>Mês Óbito Descrição</th>\n",
              "      <th>Ano do Óbito</th>\n",
              "      <th>Ano/Mês do Óbito</th>\n",
              "      <th>Dia da Semana</th>\n",
              "      <th>Hora do Acidente</th>\n",
              "      <th>Turno</th>\n",
              "      <th>Município</th>\n",
              "      <th>Região Administrativa</th>\n",
              "      <th>Logradouro</th>\n",
              "      <th>Númeral / KM</th>\n",
              "      <th>Jurisdição</th>\n",
              "      <th>Administração</th>\n",
              "      <th>Conservação</th>\n",
              "      <th>Tipo do local da ocorrência</th>\n",
              "      <th>LAT_(GEO)</th>\n",
              "      <th>LONG_(GEO)</th>\n",
              "      <th>Tipo do veículo da vítima</th>\n",
              "      <th>Tipo de vítima</th>\n",
              "      <th>Local do óbito</th>\n",
              "      <th>Tipo de acidente</th>\n",
              "      <th>Sub Tipo do Acidente</th>\n",
              "      <th>Tempo entre o Acidente e o óbito</th>\n",
              "      <th>Sexo</th>\n",
              "      <th>Faixa etária</th>\n",
              "      <th>Idade da vítima</th>\n",
              "      <th>Outro Veículo Envolvido</th>\n",
              "    </tr>\n",
              "  </thead>\n",
              "  <tbody>\n",
              "    <tr>\n",
              "      <th>0</th>\n",
              "      <td>120514</td>\n",
              "      <td>889</td>\n",
              "      <td>2020</td>\n",
              "      <td>2020-04-30</td>\n",
              "      <td>2020-04-30</td>\n",
              "      <td>Rodovias</td>\n",
              "      <td>30</td>\n",
              "      <td>4</td>\n",
              "      <td>ABRIL</td>\n",
              "      <td>2020</td>\n",
              "      <td>2020.04</td>\n",
              "      <td>QUINTA</td>\n",
              "      <td>17:30:00</td>\n",
              "      <td>TARDE</td>\n",
              "      <td>ARACARIGUAMA</td>\n",
              "      <td>Sorocaba</td>\n",
              "      <td>SP 280</td>\n",
              "      <td>50,0</td>\n",
              "      <td>ESTADUAL</td>\n",
              "      <td>CONCESSIONÁRIA</td>\n",
              "      <td>VIAOESTE</td>\n",
              "      <td>PUBLICO</td>\n",
              "      <td>-23.439186</td>\n",
              "      <td>-47.065945</td>\n",
              "      <td>ONIBUS</td>\n",
              "      <td>CONDUTOR</td>\n",
              "      <td>VIA</td>\n",
              "      <td>CHOQUE</td>\n",
              "      <td>VEÍCULO ESTACIONADO</td>\n",
              "      <td>Mesmo dia</td>\n",
              "      <td>MASCULINO</td>\n",
              "      <td>45-49</td>\n",
              "      <td>48.0</td>\n",
              "      <td>ONIBUS</td>\n",
              "    </tr>\n",
              "    <tr>\n",
              "      <th>2</th>\n",
              "      <td>110429</td>\n",
              "      <td>3887</td>\n",
              "      <td>2020</td>\n",
              "      <td>2020-04-30</td>\n",
              "      <td>2020-04-17</td>\n",
              "      <td>Rodovias</td>\n",
              "      <td>30</td>\n",
              "      <td>4</td>\n",
              "      <td>ABRIL</td>\n",
              "      <td>2020</td>\n",
              "      <td>2020.04</td>\n",
              "      <td>SEXTA</td>\n",
              "      <td>3:50:00</td>\n",
              "      <td>MADRUGADA</td>\n",
              "      <td>SAO JOSE DO RIO PRETO</td>\n",
              "      <td>São José do Rio Preto</td>\n",
              "      <td>BR 153</td>\n",
              "      <td>57,5</td>\n",
              "      <td>FEDERAL</td>\n",
              "      <td>CONCESSIONÁRIA</td>\n",
              "      <td>TRANSBRASILIANA</td>\n",
              "      <td>PUBLICO</td>\n",
              "      <td>-20.772532</td>\n",
              "      <td>-49.350863</td>\n",
              "      <td>MOTOCICLETA</td>\n",
              "      <td>CONDUTOR</td>\n",
              "      <td>ESTABELECIMENTO DE SAUDE</td>\n",
              "      <td>CHOQUE</td>\n",
              "      <td>DEFENSA / BARREIRA</td>\n",
              "      <td>Até 30 dias</td>\n",
              "      <td>MASCULINO</td>\n",
              "      <td>25-29</td>\n",
              "      <td>26.0</td>\n",
              "      <td>NÃO HÁ</td>\n",
              "    </tr>\n",
              "    <tr>\n",
              "      <th>4</th>\n",
              "      <td>70923</td>\n",
              "      <td>1373</td>\n",
              "      <td>2020</td>\n",
              "      <td>2020-04-30</td>\n",
              "      <td>2020-04-30</td>\n",
              "      <td>Vias Municipais</td>\n",
              "      <td>30</td>\n",
              "      <td>4</td>\n",
              "      <td>ABRIL</td>\n",
              "      <td>2020</td>\n",
              "      <td>2020.04</td>\n",
              "      <td>QUINTA</td>\n",
              "      <td>17:50:00</td>\n",
              "      <td>TARDE</td>\n",
              "      <td>LIMEIRA</td>\n",
              "      <td>Campinas</td>\n",
              "      <td>RUA ITAPEMA</td>\n",
              "      <td>481,0</td>\n",
              "      <td>MUNICIPAL</td>\n",
              "      <td>PREFEITURA</td>\n",
              "      <td>PREFEITURA</td>\n",
              "      <td>PUBLICO</td>\n",
              "      <td>-22.552483</td>\n",
              "      <td>-47.405759</td>\n",
              "      <td>BICICLETA</td>\n",
              "      <td>CONDUTOR</td>\n",
              "      <td>VIA</td>\n",
              "      <td>CHOQUE</td>\n",
              "      <td>MURO/PAREDE/TALUDE</td>\n",
              "      <td>Mesmo dia</td>\n",
              "      <td>FEMININO</td>\n",
              "      <td>30-34</td>\n",
              "      <td>30.0</td>\n",
              "      <td>NÃO HÁ</td>\n",
              "    </tr>\n",
              "    <tr>\n",
              "      <th>5</th>\n",
              "      <td>30221</td>\n",
              "      <td>851</td>\n",
              "      <td>2020</td>\n",
              "      <td>2020-04-30</td>\n",
              "      <td>2020-04-30</td>\n",
              "      <td>Vias Municipais</td>\n",
              "      <td>30</td>\n",
              "      <td>4</td>\n",
              "      <td>ABRIL</td>\n",
              "      <td>2020</td>\n",
              "      <td>2020.04</td>\n",
              "      <td>QUINTA</td>\n",
              "      <td>15:05:00</td>\n",
              "      <td>TARDE</td>\n",
              "      <td>GUARULHOS</td>\n",
              "      <td>Metropolitana de São Paulo</td>\n",
              "      <td>RUA JAMIL JOAO ZARIFE</td>\n",
              "      <td>100,0</td>\n",
              "      <td>MUNICIPAL</td>\n",
              "      <td>PREFEITURA</td>\n",
              "      <td>PREFEITURA</td>\n",
              "      <td>PUBLICO</td>\n",
              "      <td>-23.429836</td>\n",
              "      <td>-46.501510</td>\n",
              "      <td>MOTOCICLETA</td>\n",
              "      <td>CONDUTOR</td>\n",
              "      <td>VIA</td>\n",
              "      <td>NAO DISPONIVEL</td>\n",
              "      <td>NAO DISPONIVEL</td>\n",
              "      <td>Mesmo dia</td>\n",
              "      <td>MASCULINO</td>\n",
              "      <td>50-54</td>\n",
              "      <td>54.0</td>\n",
              "      <td>NAO DISPONIVEL</td>\n",
              "    </tr>\n",
              "    <tr>\n",
              "      <th>6</th>\n",
              "      <td>10358</td>\n",
              "      <td>973</td>\n",
              "      <td>2020</td>\n",
              "      <td>2020-04-30</td>\n",
              "      <td>2020-04-30</td>\n",
              "      <td>Vias Municipais</td>\n",
              "      <td>30</td>\n",
              "      <td>4</td>\n",
              "      <td>ABRIL</td>\n",
              "      <td>2020</td>\n",
              "      <td>2020.04</td>\n",
              "      <td>QUINTA</td>\n",
              "      <td>14:30:00</td>\n",
              "      <td>TARDE</td>\n",
              "      <td>SAO PAULO</td>\n",
              "      <td>Metropolitana de São Paulo</td>\n",
              "      <td>AVENIDA ANCHIETA</td>\n",
              "      <td>1300,0</td>\n",
              "      <td>MUNICIPAL</td>\n",
              "      <td>PREFEITURA</td>\n",
              "      <td>PREFEITURA</td>\n",
              "      <td>PUBLICO</td>\n",
              "      <td>-23.613014</td>\n",
              "      <td>-46.600755</td>\n",
              "      <td>MOTOCICLETA</td>\n",
              "      <td>CONDUTOR</td>\n",
              "      <td>VIA</td>\n",
              "      <td>COLISAO</td>\n",
              "      <td>LATERAL</td>\n",
              "      <td>Mesmo dia</td>\n",
              "      <td>MASCULINO</td>\n",
              "      <td>30-34</td>\n",
              "      <td>30.0</td>\n",
              "      <td>CAMINHAO</td>\n",
              "    </tr>\n",
              "    <tr>\n",
              "      <th>...</th>\n",
              "      <td>...</td>\n",
              "      <td>...</td>\n",
              "      <td>...</td>\n",
              "      <td>...</td>\n",
              "      <td>...</td>\n",
              "      <td>...</td>\n",
              "      <td>...</td>\n",
              "      <td>...</td>\n",
              "      <td>...</td>\n",
              "      <td>...</td>\n",
              "      <td>...</td>\n",
              "      <td>...</td>\n",
              "      <td>...</td>\n",
              "      <td>...</td>\n",
              "      <td>...</td>\n",
              "      <td>...</td>\n",
              "      <td>...</td>\n",
              "      <td>...</td>\n",
              "      <td>...</td>\n",
              "      <td>...</td>\n",
              "      <td>...</td>\n",
              "      <td>...</td>\n",
              "      <td>...</td>\n",
              "      <td>...</td>\n",
              "      <td>...</td>\n",
              "      <td>...</td>\n",
              "      <td>...</td>\n",
              "      <td>...</td>\n",
              "      <td>...</td>\n",
              "      <td>...</td>\n",
              "      <td>...</td>\n",
              "      <td>...</td>\n",
              "      <td>...</td>\n",
              "      <td>...</td>\n",
              "    </tr>\n",
              "    <tr>\n",
              "      <th>30558</th>\n",
              "      <td>40304</td>\n",
              "      <td>4</td>\n",
              "      <td>2015</td>\n",
              "      <td>2015-01-01</td>\n",
              "      <td>2015-01-01</td>\n",
              "      <td>Rodovias</td>\n",
              "      <td>1</td>\n",
              "      <td>1</td>\n",
              "      <td>JANEIRO</td>\n",
              "      <td>2015</td>\n",
              "      <td>2015.01</td>\n",
              "      <td>QUINTA</td>\n",
              "      <td>1:50:00</td>\n",
              "      <td>MADRUGADA</td>\n",
              "      <td>UBATUBA</td>\n",
              "      <td>São José dos Campos</td>\n",
              "      <td>SP 055</td>\n",
              "      <td>64,1</td>\n",
              "      <td>ESTADUAL</td>\n",
              "      <td>DER</td>\n",
              "      <td>DR06 - Taubaté</td>\n",
              "      <td>PUBLICO</td>\n",
              "      <td>-23.497067</td>\n",
              "      <td>-45.136227</td>\n",
              "      <td>MOTOCICLETA</td>\n",
              "      <td>CONDUTOR</td>\n",
              "      <td>VIA</td>\n",
              "      <td>COLISAO</td>\n",
              "      <td>NaN</td>\n",
              "      <td>Mesmo dia</td>\n",
              "      <td>MASCULINO</td>\n",
              "      <td>18-24</td>\n",
              "      <td>22.0</td>\n",
              "      <td>NaN</td>\n",
              "    </tr>\n",
              "    <tr>\n",
              "      <th>30560</th>\n",
              "      <td>40429</td>\n",
              "      <td>6</td>\n",
              "      <td>2015</td>\n",
              "      <td>2015-01-01</td>\n",
              "      <td>2015-01-01</td>\n",
              "      <td>Rodovias</td>\n",
              "      <td>1</td>\n",
              "      <td>1</td>\n",
              "      <td>JANEIRO</td>\n",
              "      <td>2015</td>\n",
              "      <td>2015.01</td>\n",
              "      <td>QUINTA</td>\n",
              "      <td>23:38:32</td>\n",
              "      <td>NOITE</td>\n",
              "      <td>REGISTRO</td>\n",
              "      <td>Registro</td>\n",
              "      <td>BR 116</td>\n",
              "      <td>431,0</td>\n",
              "      <td>FEDERAL</td>\n",
              "      <td>CONCESSIONÁRIA</td>\n",
              "      <td>AUTOPISTA REGIS BITTENCOURT</td>\n",
              "      <td>PUBLICO</td>\n",
              "      <td>-24.411162</td>\n",
              "      <td>-47.753027</td>\n",
              "      <td>AUTOMOVEL</td>\n",
              "      <td>CONDUTOR</td>\n",
              "      <td>VIA</td>\n",
              "      <td>OUTROS</td>\n",
              "      <td>NaN</td>\n",
              "      <td>Mesmo dia</td>\n",
              "      <td>MASCULINO</td>\n",
              "      <td>40-44</td>\n",
              "      <td>43.0</td>\n",
              "      <td>NaN</td>\n",
              "    </tr>\n",
              "    <tr>\n",
              "      <th>30563</th>\n",
              "      <td>130316</td>\n",
              "      <td>2</td>\n",
              "      <td>2015</td>\n",
              "      <td>2015-01-01</td>\n",
              "      <td>2015-01-01</td>\n",
              "      <td>Rodovias</td>\n",
              "      <td>1</td>\n",
              "      <td>1</td>\n",
              "      <td>JANEIRO</td>\n",
              "      <td>2015</td>\n",
              "      <td>2015.01</td>\n",
              "      <td>QUINTA</td>\n",
              "      <td>20:30:00</td>\n",
              "      <td>NOITE</td>\n",
              "      <td>IGARATA</td>\n",
              "      <td>São José dos Campos</td>\n",
              "      <td>SP 065</td>\n",
              "      <td>20,0</td>\n",
              "      <td>ESTADUAL</td>\n",
              "      <td>CONCESSIONÁRIA</td>\n",
              "      <td>ROTA DAS BANDEIRAS</td>\n",
              "      <td>PUBLICO</td>\n",
              "      <td>-23.228509</td>\n",
              "      <td>-46.132494</td>\n",
              "      <td>MOTOCICLETA</td>\n",
              "      <td>CONDUTOR</td>\n",
              "      <td>VIA</td>\n",
              "      <td>COLISAO</td>\n",
              "      <td>NaN</td>\n",
              "      <td>Mesmo dia</td>\n",
              "      <td>MASCULINO</td>\n",
              "      <td>25-29</td>\n",
              "      <td>26.0</td>\n",
              "      <td>NaN</td>\n",
              "    </tr>\n",
              "    <tr>\n",
              "      <th>30567</th>\n",
              "      <td>110714</td>\n",
              "      <td>2</td>\n",
              "      <td>2015</td>\n",
              "      <td>2015-01-01</td>\n",
              "      <td>2015-01-01</td>\n",
              "      <td>Rodovias</td>\n",
              "      <td>1</td>\n",
              "      <td>1</td>\n",
              "      <td>JANEIRO</td>\n",
              "      <td>2015</td>\n",
              "      <td>2015.01</td>\n",
              "      <td>QUINTA</td>\n",
              "      <td>3:00:00</td>\n",
              "      <td>MADRUGADA</td>\n",
              "      <td>NOVO HORIZONTE</td>\n",
              "      <td>São José do Rio Preto</td>\n",
              "      <td>SP 321</td>\n",
              "      <td>NAO DISPONIVEL</td>\n",
              "      <td>ESTADUAL</td>\n",
              "      <td>DER</td>\n",
              "      <td>DR09 - São José do Rio Preto</td>\n",
              "      <td>PUBLICO</td>\n",
              "      <td>-21.469984</td>\n",
              "      <td>-49.217659</td>\n",
              "      <td>AUTOMOVEL</td>\n",
              "      <td>CONDUTOR</td>\n",
              "      <td>VIA</td>\n",
              "      <td>CHOQUE</td>\n",
              "      <td>NaN</td>\n",
              "      <td>Mesmo dia</td>\n",
              "      <td>NAO DISPONIVEL</td>\n",
              "      <td>18-24</td>\n",
              "      <td>24.0</td>\n",
              "      <td>NaN</td>\n",
              "    </tr>\n",
              "    <tr>\n",
              "      <th>30570</th>\n",
              "      <td>30407</td>\n",
              "      <td>8</td>\n",
              "      <td>2015</td>\n",
              "      <td>2015-01-01</td>\n",
              "      <td>2015-01-01</td>\n",
              "      <td>Rodovias</td>\n",
              "      <td>1</td>\n",
              "      <td>1</td>\n",
              "      <td>JANEIRO</td>\n",
              "      <td>2015</td>\n",
              "      <td>2015.01</td>\n",
              "      <td>QUINTA</td>\n",
              "      <td>14:00:00</td>\n",
              "      <td>TARDE</td>\n",
              "      <td>SAO PAULO</td>\n",
              "      <td>Metropolitana de São Paulo</td>\n",
              "      <td>SP 280</td>\n",
              "      <td>35,0</td>\n",
              "      <td>ESTADUAL</td>\n",
              "      <td>CONCESSIONÁRIA</td>\n",
              "      <td>VIAOESTE</td>\n",
              "      <td>PUBLICO</td>\n",
              "      <td>-23.515094</td>\n",
              "      <td>-46.964117</td>\n",
              "      <td>AUTOMOVEL</td>\n",
              "      <td>CONDUTOR</td>\n",
              "      <td>ESTABELECIMENTO DE SAUDE</td>\n",
              "      <td>CHOQUE</td>\n",
              "      <td>NaN</td>\n",
              "      <td>Mesmo dia</td>\n",
              "      <td>MASCULINO</td>\n",
              "      <td>18-24</td>\n",
              "      <td>23.0</td>\n",
              "      <td>NaN</td>\n",
              "    </tr>\n",
              "  </tbody>\n",
              "</table>\n",
              "<p>16305 rows × 34 columns</p>\n",
              "</div>"
            ],
            "text/plain": [
              "       Id da Delegacia (RDO)  ...  Outro Veículo Envolvido\n",
              "0                     120514  ...                   ONIBUS\n",
              "2                     110429  ...                   NÃO HÁ\n",
              "4                      70923  ...                   NÃO HÁ\n",
              "5                      30221  ...           NAO DISPONIVEL\n",
              "6                      10358  ...                 CAMINHAO\n",
              "...                      ...  ...                      ...\n",
              "30558                  40304  ...                      NaN\n",
              "30560                  40429  ...                      NaN\n",
              "30563                 130316  ...                      NaN\n",
              "30567                 110714  ...                      NaN\n",
              "30570                  30407  ...                      NaN\n",
              "\n",
              "[16305 rows x 34 columns]"
            ]
          },
          "metadata": {
            "tags": []
          },
          "execution_count": 67
        }
      ]
    },
    {
      "cell_type": "code",
      "metadata": {
        "id": "HrCnM4-q-YN1",
        "colab": {
          "base_uri": "https://localhost:8080/",
          "height": 1000
        },
        "outputId": "2cfd4049-8743-443a-c717-2e92aa835e87"
      },
      "source": [
        "#sem informar a coluna, já cria vários histogramas\n",
        "arq_acidentes.hist(figsize=(20,15))"
      ],
      "execution_count": null,
      "outputs": [
        {
          "output_type": "execute_result",
          "data": {
            "text/plain": [
              "array([[<matplotlib.axes._subplots.AxesSubplot object at 0x7fcb6f2c3a90>,\n",
              "        <matplotlib.axes._subplots.AxesSubplot object at 0x7fcb6f290ef0>,\n",
              "        <matplotlib.axes._subplots.AxesSubplot object at 0x7fcb6f2199e8>],\n",
              "       [<matplotlib.axes._subplots.AxesSubplot object at 0x7fcb6f1cad68>,\n",
              "        <matplotlib.axes._subplots.AxesSubplot object at 0x7fcb6f18a128>,\n",
              "        <matplotlib.axes._subplots.AxesSubplot object at 0x7fcb6f13b4a8>],\n",
              "       [<matplotlib.axes._subplots.AxesSubplot object at 0x7fcb6f0ec828>,\n",
              "        <matplotlib.axes._subplots.AxesSubplot object at 0x7fcb6f11eb70>,\n",
              "        <matplotlib.axes._subplots.AxesSubplot object at 0x7fcb6f11ebe0>],\n",
              "       [<matplotlib.axes._subplots.AxesSubplot object at 0x7fcb6f08e2e8>,\n",
              "        <matplotlib.axes._subplots.AxesSubplot object at 0x7fcb6f042668>,\n",
              "        <matplotlib.axes._subplots.AxesSubplot object at 0x7fcb6eff49e8>]],\n",
              "      dtype=object)"
            ]
          },
          "metadata": {
            "tags": []
          },
          "execution_count": 10
        },
        {
          "output_type": "display_data",
          "data": {
            "image/png": "[encoded data removed]",
            "text/plain": [
              "<Figure size 1440x1080 with 12 Axes>"
            ]
          },
          "metadata": {
            "tags": [],
            "needs_background": "light"
          }
        }
      ]
    },
    {
      "cell_type": "code",
      "metadata": {
        "id": "3bLh5AjPTw6O"
      },
      "source": [
        ""
      ],
      "execution_count": null,
      "outputs": []
    }
  ]
}