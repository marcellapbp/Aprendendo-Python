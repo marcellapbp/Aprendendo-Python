{
  "nbformat": 4,
  "nbformat_minor": 0,
  "metadata": {
    "colab": {
      "name": "Aprendendo Python",
      "provenance": [],
      "toc_visible": true,
      "authorship_tag": "ABX9TyMfUA6YSdnb3RX8rDX76yA/",
      "include_colab_link": true
    },
    "kernelspec": {
      "name": "python3",
      "display_name": "Python 3"
    }
  },
  "cells": [
    {
      "cell_type": "markdown",
      "metadata": {
        "id": "view-in-github",
        "colab_type": "text"
      },
      "source": [
        "<a href=\"https://colab.research.google.com/github/marcellapbp/Aprendendo-Python/blob/master/Data_Science_Academy/Curso_DSA_Python_Fundamentos.ipynb\" target=\"_parent\"><img src=\"https://colab.research.google.com/assets/colab-badge.svg\" alt=\"Open In Colab\"/></a>"
      ]
    },
    {
      "cell_type": "markdown",
      "metadata": {
        "id": "McDTypVPgKvH"
      },
      "source": [
        "#Primeiro Teste\n",
        "\n"
      ]
    },
    {
      "cell_type": "code",
      "metadata": {
        "cellView": "both",
        "id": "PymD2-xdhzXI",
        "colab": {
          "base_uri": "https://localhost:8080/",
          "height": 35
        },
        "outputId": "7dcb1eb8-a957-4ac9-dacb-f2a2fc3fbc5d"
      },
      "source": [
        "x = 1 + 1\n",
        "print (x)\n",
        "\n"
      ],
      "execution_count": null,
      "outputs": [
        {
          "output_type": "stream",
          "text": [
            "2\n"
          ],
          "name": "stdout"
        }
      ]
    },
    {
      "cell_type": "markdown",
      "metadata": {
        "id": "NfUeqGsaYaGp"
      },
      "source": [
        "# Curso - DSA 3 Python Fundamentos para Análise de Dados"
      ]
    },
    {
      "cell_type": "markdown",
      "metadata": {
        "id": "QDuRqbF8YiIv"
      },
      "source": [
        "## Capítulo 2 - Variáveis, Tipos e Estruturas de Dados\n",
        "\n"
      ]
    },
    {
      "cell_type": "markdown",
      "metadata": {
        "id": "1cSXa-EpCtpg"
      },
      "source": [
        "###Comentário"
      ]
    },
    {
      "cell_type": "code",
      "metadata": {
        "id": "nYOBGsvyY1TS",
        "colab": {
          "base_uri": "https://localhost:8080/",
          "height": 35
        },
        "outputId": "412ccb7d-3347-4156-db6e-5a549922ac9a"
      },
      "source": [
        "#Isso é um comentário de uma única Linha\n",
        "\"\"\"\n",
        "Isso é uma comentário de várias linhas\n",
        "teste\n",
        "\"\"\""
      ],
      "execution_count": null,
      "outputs": [
        {
          "output_type": "execute_result",
          "data": {
            "text/plain": [
              "'\\nIsso é uma comentário de várias linhas\\nteste\\n'"
            ]
          },
          "metadata": {
            "tags": []
          },
          "execution_count": 2
        }
      ]
    },
    {
      "cell_type": "markdown",
      "metadata": {
        "id": "jo0YetvHCxyh"
      },
      "source": [
        "###Números e Operações Matemáticas"
      ]
    },
    {
      "cell_type": "code",
      "metadata": {
        "id": "naa7SWYFYyjc",
        "colab": {
          "base_uri": "https://localhost:8080/",
          "height": 35
        },
        "outputId": "39e4a987-f5eb-467f-8b9c-1c6f15321da4"
      },
      "source": [
        "#soma\n",
        "10+10"
      ],
      "execution_count": null,
      "outputs": [
        {
          "output_type": "execute_result",
          "data": {
            "text/plain": [
              "20"
            ]
          },
          "metadata": {
            "tags": []
          },
          "execution_count": 3
        }
      ]
    },
    {
      "cell_type": "code",
      "metadata": {
        "id": "xhoQwqoVDyac",
        "colab": {
          "base_uri": "https://localhost:8080/",
          "height": 35
        },
        "outputId": "d7d8d64c-e97d-40eb-d37c-fc44b9c98607"
      },
      "source": [
        "#subtração\n",
        "10-9"
      ],
      "execution_count": null,
      "outputs": [
        {
          "output_type": "execute_result",
          "data": {
            "text/plain": [
              "1"
            ]
          },
          "metadata": {
            "tags": []
          },
          "execution_count": 4
        }
      ]
    },
    {
      "cell_type": "code",
      "metadata": {
        "id": "kD5uq8LVD2Mh",
        "colab": {
          "base_uri": "https://localhost:8080/",
          "height": 35
        },
        "outputId": "ff092743-a16c-4310-abd8-492fd5a4db63"
      },
      "source": [
        "#multiplicação\n",
        "2*2"
      ],
      "execution_count": null,
      "outputs": [
        {
          "output_type": "execute_result",
          "data": {
            "text/plain": [
              "4"
            ]
          },
          "metadata": {
            "tags": []
          },
          "execution_count": 5
        }
      ]
    },
    {
      "cell_type": "code",
      "metadata": {
        "id": "CW4K7gM7D2yP",
        "colab": {
          "base_uri": "https://localhost:8080/",
          "height": 35
        },
        "outputId": "24b53a18-fb92-488e-8b18-57861a53c39c"
      },
      "source": [
        "#divisão com saída float\n",
        "3/2"
      ],
      "execution_count": null,
      "outputs": [
        {
          "output_type": "execute_result",
          "data": {
            "text/plain": [
              "1.5"
            ]
          },
          "metadata": {
            "tags": []
          },
          "execution_count": 17
        }
      ]
    },
    {
      "cell_type": "code",
      "metadata": {
        "id": "TflK2JVgFlIH",
        "colab": {
          "base_uri": "https://localhost:8080/",
          "height": 35
        },
        "outputId": "8d521584-d10f-4005-d427-381d69a827d5"
      },
      "source": [
        "#divisão com saída inteira \n",
        "3//2"
      ],
      "execution_count": null,
      "outputs": [
        {
          "output_type": "execute_result",
          "data": {
            "text/plain": [
              "1"
            ]
          },
          "metadata": {
            "tags": []
          },
          "execution_count": 18
        }
      ]
    },
    {
      "cell_type": "code",
      "metadata": {
        "id": "qr0QzoMoFyZ5",
        "colab": {
          "base_uri": "https://localhost:8080/",
          "height": 35
        },
        "outputId": "776e6dc3-7cc3-4113-b462-76261d84596a"
      },
      "source": [
        "#(se na divisão usar float a saída é float)\n",
        "3//2.0"
      ],
      "execution_count": null,
      "outputs": [
        {
          "output_type": "execute_result",
          "data": {
            "text/plain": [
              "1.0"
            ]
          },
          "metadata": {
            "tags": []
          },
          "execution_count": 19
        }
      ]
    },
    {
      "cell_type": "code",
      "metadata": {
        "id": "tI-cRwiDD-mX",
        "colab": {
          "base_uri": "https://localhost:8080/",
          "height": 35
        },
        "outputId": "21efb945-9a9a-46ee-9e6f-5415a173db94"
      },
      "source": [
        "#div/módulo divisão sem sobra\n",
        "10%10"
      ],
      "execution_count": null,
      "outputs": [
        {
          "output_type": "execute_result",
          "data": {
            "text/plain": [
              "1"
            ]
          },
          "metadata": {
            "tags": []
          },
          "execution_count": 9
        }
      ]
    },
    {
      "cell_type": "code",
      "metadata": {
        "id": "9pG6aspBEIeq",
        "colab": {
          "base_uri": "https://localhost:8080/",
          "height": 35
        },
        "outputId": "a27180db-bb0c-402d-9833-d60ebc104fd9"
      },
      "source": [
        "#div/módulo divisão com sobra \n",
        "13%10"
      ],
      "execution_count": null,
      "outputs": [
        {
          "output_type": "execute_result",
          "data": {
            "text/plain": [
              "3"
            ]
          },
          "metadata": {
            "tags": []
          },
          "execution_count": 11
        }
      ]
    },
    {
      "cell_type": "code",
      "metadata": {
        "id": "NtLwneMeEeLz",
        "colab": {
          "base_uri": "https://localhost:8080/",
          "height": 35
        },
        "outputId": "a837393c-42e1-4b79-bd85-8bb702a1ebea"
      },
      "source": [
        "#potência\n",
        "2**4"
      ],
      "execution_count": null,
      "outputs": [
        {
          "output_type": "execute_result",
          "data": {
            "text/plain": [
              "16"
            ]
          },
          "metadata": {
            "tags": []
          },
          "execution_count": 12
        }
      ]
    },
    {
      "cell_type": "code",
      "metadata": {
        "id": "rjGoDVGjEouW",
        "colab": {
          "base_uri": "https://localhost:8080/",
          "height": 35
        },
        "outputId": "f32a5255-5c7d-4e19-bb38-93e52e55ee61"
      },
      "source": [
        "#função Type() identifica tipo do dado\n",
        "type(1.0)"
      ],
      "execution_count": null,
      "outputs": [
        {
          "output_type": "execute_result",
          "data": {
            "text/plain": [
              "float"
            ]
          },
          "metadata": {
            "tags": []
          },
          "execution_count": 16
        }
      ]
    },
    {
      "cell_type": "code",
      "metadata": {
        "id": "zEPLC8-YFWaL",
        "colab": {
          "base_uri": "https://localhost:8080/",
          "height": 35
        },
        "outputId": "a5d9190e-7723-45f0-d3ff-6340f0f8f632"
      },
      "source": [
        "type(1)"
      ],
      "execution_count": null,
      "outputs": [
        {
          "output_type": "execute_result",
          "data": {
            "text/plain": [
              "int"
            ]
          },
          "metadata": {
            "tags": []
          },
          "execution_count": 15
        }
      ]
    },
    {
      "cell_type": "markdown",
      "metadata": {
        "id": "QYUooZ-ZF-TS"
      },
      "source": [
        "###Conversão"
      ]
    },
    {
      "cell_type": "code",
      "metadata": {
        "id": "SxjuuhfUFah7",
        "colab": {
          "base_uri": "https://localhost:8080/",
          "height": 35
        },
        "outputId": "d8b69ebd-4c59-4464-d257-e8b464b5c295"
      },
      "source": [
        "#transformar int em float\n",
        "float(1)"
      ],
      "execution_count": null,
      "outputs": [
        {
          "output_type": "execute_result",
          "data": {
            "text/plain": [
              "1.0"
            ]
          },
          "metadata": {
            "tags": []
          },
          "execution_count": 20
        }
      ]
    },
    {
      "cell_type": "code",
      "metadata": {
        "id": "Dxro1GqzGTyw",
        "colab": {
          "base_uri": "https://localhost:8080/",
          "height": 35
        },
        "outputId": "62b6a339-cc61-4f65-eb9f-fa92b124bc48"
      },
      "source": [
        "#transformar string em float\n",
        "float('1')"
      ],
      "execution_count": null,
      "outputs": [
        {
          "output_type": "execute_result",
          "data": {
            "text/plain": [
              "1.0"
            ]
          },
          "metadata": {
            "tags": []
          },
          "execution_count": 21
        }
      ]
    },
    {
      "cell_type": "code",
      "metadata": {
        "id": "Hv8cDTvrGaYR",
        "colab": {
          "base_uri": "https://localhost:8080/",
          "height": 35
        },
        "outputId": "5bbf4120-465c-4790-f095-e668100eec14"
      },
      "source": [
        "#transformar string em int\n",
        "int('1')"
      ],
      "execution_count": null,
      "outputs": [
        {
          "output_type": "execute_result",
          "data": {
            "text/plain": [
              "1"
            ]
          },
          "metadata": {
            "tags": []
          },
          "execution_count": 22
        }
      ]
    },
    {
      "cell_type": "code",
      "metadata": {
        "id": "lfl_1Iw6GkkU",
        "colab": {
          "base_uri": "https://localhost:8080/",
          "height": 35
        },
        "outputId": "e749da69-72c5-4310-eea7-00b46bb076bf"
      },
      "source": [
        "#transformar string em int (não dá para direto, dá erro)\n",
        "int(float('1.0'))"
      ],
      "execution_count": null,
      "outputs": [
        {
          "output_type": "execute_result",
          "data": {
            "text/plain": [
              "1"
            ]
          },
          "metadata": {
            "tags": []
          },
          "execution_count": 24
        }
      ]
    },
    {
      "cell_type": "code",
      "metadata": {
        "id": "Cpfm8cMbGv0_",
        "colab": {
          "base_uri": "https://localhost:8080/",
          "height": 35
        },
        "outputId": "1fc1d8f0-e5a2-4434-ab59-ba7fe1c122a5"
      },
      "source": [
        "#transformar float em int (não faz arredondamento)\n",
        "int(1.5)"
      ],
      "execution_count": null,
      "outputs": [
        {
          "output_type": "execute_result",
          "data": {
            "text/plain": [
              "1"
            ]
          },
          "metadata": {
            "tags": []
          },
          "execution_count": 26
        }
      ]
    },
    {
      "cell_type": "code",
      "metadata": {
        "id": "stZW2zkDIJdl",
        "colab": {
          "base_uri": "https://localhost:8080/",
          "height": 35
        },
        "outputId": "88fa8c43-063d-47a4-fc0d-8c1791369f93"
      },
      "source": [
        "#transformar int em hexadecimal\n",
        "hex(1)"
      ],
      "execution_count": null,
      "outputs": [
        {
          "output_type": "execute_result",
          "data": {
            "text/plain": [
              "'0x1'"
            ]
          },
          "metadata": {
            "tags": []
          },
          "execution_count": 28
        }
      ]
    },
    {
      "cell_type": "code",
      "metadata": {
        "id": "yxXLbUSLIaa2",
        "colab": {
          "base_uri": "https://localhost:8080/",
          "height": 35
        },
        "outputId": "533dd008-6432-48e3-95ba-d45df326407d"
      },
      "source": [
        "#transformar int em hexadecimal\n",
        "hex(15)"
      ],
      "execution_count": null,
      "outputs": [
        {
          "output_type": "execute_result",
          "data": {
            "text/plain": [
              "'0xf'"
            ]
          },
          "metadata": {
            "tags": []
          },
          "execution_count": 43
        }
      ]
    },
    {
      "cell_type": "code",
      "metadata": {
        "id": "1Pw7cc4BH8IG",
        "colab": {
          "base_uri": "https://localhost:8080/",
          "height": 35
        },
        "outputId": "f79659ea-f7ad-447a-a36d-27fad8815d50"
      },
      "source": [
        "#transformar int em binário\n",
        "bin(10)"
      ],
      "execution_count": null,
      "outputs": [
        {
          "output_type": "execute_result",
          "data": {
            "text/plain": [
              "'0b1010'"
            ]
          },
          "metadata": {
            "tags": []
          },
          "execution_count": 44
        }
      ]
    },
    {
      "cell_type": "markdown",
      "metadata": {
        "id": "fWWG2eNSJO1Z"
      },
      "source": [
        "###Funções Built-in"
      ]
    },
    {
      "cell_type": "code",
      "metadata": {
        "id": "qi3bQWegIUXq",
        "colab": {
          "base_uri": "https://localhost:8080/",
          "height": 35
        },
        "outputId": "ccfac3c0-47ec-4eca-a29e-307e4f7d28e4"
      },
      "source": [
        "#Número absoluto (sem sinal)\n",
        "abs(-8)"
      ],
      "execution_count": null,
      "outputs": [
        {
          "output_type": "execute_result",
          "data": {
            "text/plain": [
              "8"
            ]
          },
          "metadata": {
            "tags": []
          },
          "execution_count": 45
        }
      ]
    },
    {
      "cell_type": "code",
      "metadata": {
        "id": "W-xas683JWjX",
        "colab": {
          "base_uri": "https://localhost:8080/",
          "height": 35
        },
        "outputId": "efca719e-3289-4537-da9a-58c940e96f79"
      },
      "source": [
        "#arredondamento para 2 casas decimais\n",
        "round(3.1424,2)"
      ],
      "execution_count": null,
      "outputs": [
        {
          "output_type": "execute_result",
          "data": {
            "text/plain": [
              "3.14"
            ]
          },
          "metadata": {
            "tags": []
          },
          "execution_count": 47
        }
      ]
    },
    {
      "cell_type": "code",
      "metadata": {
        "id": "yXE_5j_BJfHj",
        "colab": {
          "base_uri": "https://localhost:8080/",
          "height": 35
        },
        "outputId": "ccc5a978-2081-4c17-a7ca-863085f1edd6"
      },
      "source": [
        "round(3.1454,2)"
      ],
      "execution_count": null,
      "outputs": [
        {
          "output_type": "execute_result",
          "data": {
            "text/plain": [
              "3.15"
            ]
          },
          "metadata": {
            "tags": []
          },
          "execution_count": 48
        }
      ]
    },
    {
      "cell_type": "code",
      "metadata": {
        "id": "xnu0Ge9LJifF",
        "colab": {
          "base_uri": "https://localhost:8080/",
          "height": 35
        },
        "outputId": "f3a1be3f-79c2-497d-b424-a10f4439b0b8"
      },
      "source": [
        "#potência através de função, mesmo efeito que **\n",
        "pow(2,4)"
      ],
      "execution_count": null,
      "outputs": [
        {
          "output_type": "execute_result",
          "data": {
            "text/plain": [
              "16"
            ]
          },
          "metadata": {
            "tags": []
          },
          "execution_count": 49
        }
      ]
    },
    {
      "cell_type": "code",
      "metadata": {
        "id": "VuoKPB0KJpy7",
        "colab": {
          "base_uri": "https://localhost:8080/",
          "height": 35
        },
        "outputId": "e78205cb-a4b9-4a04-967b-e3dc4d12095d"
      },
      "source": [
        "#retorna tamanho da string\n",
        "len('111222333')"
      ],
      "execution_count": null,
      "outputs": [
        {
          "output_type": "execute_result",
          "data": {
            "text/plain": [
              "9"
            ]
          },
          "metadata": {
            "tags": []
          },
          "execution_count": 51
        }
      ]
    },
    {
      "cell_type": "code",
      "metadata": {
        "id": "Wfr9i3g6LbTa",
        "colab": {
          "base_uri": "https://localhost:8080/",
          "height": 35
        },
        "outputId": "c12d8c23-9934-45dd-f17a-6b0e452e4789"
      },
      "source": [
        "#tranforma valor em string\n",
        "str(1)"
      ],
      "execution_count": null,
      "outputs": [
        {
          "output_type": "execute_result",
          "data": {
            "text/plain": [
              "'1'"
            ]
          },
          "metadata": {
            "tags": []
          },
          "execution_count": 53
        }
      ]
    },
    {
      "cell_type": "code",
      "metadata": {
        "id": "yC_KBO_RLueg"
      },
      "source": [
        "#executa documentação do python\n",
        "#dá para digitar uma função por exemplo para saber mais e ter exemplos\n",
        "help()"
      ],
      "execution_count": null,
      "outputs": []
    },
    {
      "cell_type": "markdown",
      "metadata": {
        "id": "tAA-GETZM2HW"
      },
      "source": [
        "###Variáveis e Operadores"
      ]
    },
    {
      "cell_type": "code",
      "metadata": {
        "id": "wCfjUFWML8VL"
      },
      "source": [
        "#atribuição\n",
        "var_teste = 10"
      ],
      "execution_count": null,
      "outputs": []
    },
    {
      "cell_type": "code",
      "metadata": {
        "id": "N3gF-xO_M1nm",
        "colab": {
          "base_uri": "https://localhost:8080/",
          "height": 35
        },
        "outputId": "d088083b-b219-4130-cdcf-9fc84a9c5910"
      },
      "source": [
        "var_teste"
      ],
      "execution_count": null,
      "outputs": [
        {
          "output_type": "execute_result",
          "data": {
            "text/plain": [
              "10"
            ]
          },
          "metadata": {
            "tags": []
          },
          "execution_count": 56
        }
      ]
    },
    {
      "cell_type": "code",
      "metadata": {
        "id": "K54iiLrTO5fl",
        "colab": {
          "base_uri": "https://localhost:8080/",
          "height": 35
        },
        "outputId": "e41d9b17-cd7f-4d1a-8d8c-f257dd1b6b8a"
      },
      "source": [
        "print(var_teste)\n"
      ],
      "execution_count": null,
      "outputs": [
        {
          "output_type": "stream",
          "text": [
            "10\n"
          ],
          "name": "stdout"
        }
      ]
    },
    {
      "cell_type": "code",
      "metadata": {
        "id": "lXyvVcckO7Es",
        "colab": {
          "base_uri": "https://localhost:8080/",
          "height": 35
        },
        "outputId": "f3f8bdb6-e769-4cd9-fe9a-d35ea055e863"
      },
      "source": [
        "#ainda está considerando o valor da célula acima\n",
        "var_teste +=11\n",
        "var_teste"
      ],
      "execution_count": null,
      "outputs": [
        {
          "output_type": "execute_result",
          "data": {
            "text/plain": [
              "21"
            ]
          },
          "metadata": {
            "tags": []
          },
          "execution_count": 62
        }
      ]
    },
    {
      "cell_type": "code",
      "metadata": {
        "id": "0R_1Kr1EO9X-",
        "colab": {
          "base_uri": "https://localhost:8080/",
          "height": 35
        },
        "outputId": "e579260d-68fd-4745-d8ac-69685ebe38a6"
      },
      "source": [
        "#concatenação\n",
        "nome = 'Marcella'\n",
        "sobrenome = 'Pedro'\n",
        "nome_completo = nome + ' ' + sobrenome\n",
        "nome_completo"
      ],
      "execution_count": null,
      "outputs": [
        {
          "output_type": "execute_result",
          "data": {
            "text/plain": [
              "'Marcella Pedro'"
            ]
          },
          "metadata": {
            "tags": []
          },
          "execution_count": 63
        }
      ]
    },
    {
      "cell_type": "code",
      "metadata": {
        "id": "IMFACOulQIwS",
        "colab": {
          "base_uri": "https://localhost:8080/",
          "height": 35
        },
        "outputId": "f5a5e88a-2be5-481a-8465-451a6fd0db98"
      },
      "source": [
        "#string com aspas simples\n",
        "'texto1'"
      ],
      "execution_count": null,
      "outputs": [
        {
          "output_type": "execute_result",
          "data": {
            "text/plain": [
              "'texto1'"
            ]
          },
          "metadata": {
            "tags": []
          },
          "execution_count": 64
        }
      ]
    },
    {
      "cell_type": "code",
      "metadata": {
        "id": "qVtGyjoSRvHY",
        "colab": {
          "base_uri": "https://localhost:8080/",
          "height": 35
        },
        "outputId": "b431a565-7e9e-4e07-8e83-04fa48c336d9"
      },
      "source": [
        "#string com aspas duplas\n",
        "\"texto2\""
      ],
      "execution_count": null,
      "outputs": [
        {
          "output_type": "execute_result",
          "data": {
            "text/plain": [
              "'texto2'"
            ]
          },
          "metadata": {
            "tags": []
          },
          "execution_count": 65
        }
      ]
    },
    {
      "cell_type": "code",
      "metadata": {
        "id": "DPFg1T3_RzMi",
        "colab": {
          "base_uri": "https://localhost:8080/",
          "height": 35
        },
        "outputId": "b971222e-a043-4ae0-cfd5-9d4810d4e53d"
      },
      "source": [
        "\"texto com 'aspas'\""
      ],
      "execution_count": null,
      "outputs": [
        {
          "output_type": "execute_result",
          "data": {
            "text/plain": [
              "\"texto com 'aspas'\""
            ]
          },
          "metadata": {
            "tags": []
          },
          "execution_count": 67
        }
      ]
    },
    {
      "cell_type": "code",
      "metadata": {
        "id": "tlwCMhNYR-fC",
        "colab": {
          "base_uri": "https://localhost:8080/",
          "height": 53
        },
        "outputId": "5984c4ee-cbaa-4a5e-9241-e158cb212fbc"
      },
      "source": [
        "print('texto \\n com enter')"
      ],
      "execution_count": null,
      "outputs": [
        {
          "output_type": "stream",
          "text": [
            "texto \n",
            " com enter\n"
          ],
          "name": "stdout"
        }
      ]
    },
    {
      "cell_type": "code",
      "metadata": {
        "id": "MlGljDnqSRAS",
        "colab": {
          "base_uri": "https://localhost:8080/",
          "height": 35
        },
        "outputId": "ec64b777-52b2-45c1-f36d-93f3906015d0"
      },
      "source": [
        "#retornar posição específica do texto\n",
        "ordem = 'Marcella'\n",
        "ordem[0]"
      ],
      "execution_count": null,
      "outputs": [
        {
          "output_type": "execute_result",
          "data": {
            "text/plain": [
              "'M'"
            ]
          },
          "metadata": {
            "tags": []
          },
          "execution_count": 81
        }
      ]
    },
    {
      "cell_type": "code",
      "metadata": {
        "id": "l4sbnmcUSY2D",
        "colab": {
          "base_uri": "https://localhost:8080/",
          "height": 35
        },
        "outputId": "16e470e0-8ed9-4c61-fea9-3846f6b0a25c"
      },
      "source": [
        "ordem[2]"
      ],
      "execution_count": null,
      "outputs": [
        {
          "output_type": "execute_result",
          "data": {
            "text/plain": [
              "'r'"
            ]
          },
          "metadata": {
            "tags": []
          },
          "execution_count": 82
        }
      ]
    },
    {
      "cell_type": "code",
      "metadata": {
        "id": "iCcmlyAgScTR",
        "colab": {
          "base_uri": "https://localhost:8080/",
          "height": 35
        },
        "outputId": "eacbf4c2-e036-42e1-f93a-b232eb13cc4b"
      },
      "source": [
        "#slicing (pegar posição 1 até o final)\n",
        "ordem[1:]"
      ],
      "execution_count": null,
      "outputs": [
        {
          "output_type": "execute_result",
          "data": {
            "text/plain": [
              "'arcella'"
            ]
          },
          "metadata": {
            "tags": []
          },
          "execution_count": 83
        }
      ]
    },
    {
      "cell_type": "code",
      "metadata": {
        "id": "6ehcNNyYSpo2",
        "colab": {
          "base_uri": "https://localhost:8080/",
          "height": 35
        },
        "outputId": "1d18d5a6-c323-418c-e81f-4cf956151b21"
      },
      "source": [
        "#slicing (pegar posição inicial até o 4)\n",
        "ordem[:4]"
      ],
      "execution_count": null,
      "outputs": [
        {
          "output_type": "execute_result",
          "data": {
            "text/plain": [
              "'Marc'"
            ]
          },
          "metadata": {
            "tags": []
          },
          "execution_count": 84
        }
      ]
    },
    {
      "cell_type": "code",
      "metadata": {
        "id": "6dCgEWFESvGf",
        "colab": {
          "base_uri": "https://localhost:8080/",
          "height": 35
        },
        "outputId": "8749a063-40a8-4b89-bed9-4035b2617ad4"
      },
      "source": [
        "#slicing (pegar posição 1 até 2)\n",
        "ordem[1:4]"
      ],
      "execution_count": null,
      "outputs": [
        {
          "output_type": "execute_result",
          "data": {
            "text/plain": [
              "'arc'"
            ]
          },
          "metadata": {
            "tags": []
          },
          "execution_count": 86
        }
      ]
    },
    {
      "cell_type": "code",
      "metadata": {
        "id": "xE8Jg9dES2Sf",
        "colab": {
          "base_uri": "https://localhost:8080/",
          "height": 35
        },
        "outputId": "0f225506-fed3-4579-8c27-14fc6804f592"
      },
      "source": [
        "#slicing (traz tudo)\n",
        "ordem[:]"
      ],
      "execution_count": null,
      "outputs": [
        {
          "output_type": "execute_result",
          "data": {
            "text/plain": [
              "'Marcella'"
            ]
          },
          "metadata": {
            "tags": []
          },
          "execution_count": 87
        }
      ]
    },
    {
      "cell_type": "code",
      "metadata": {
        "id": "xx1bx05jTKqZ",
        "colab": {
          "base_uri": "https://localhost:8080/",
          "height": 35
        },
        "outputId": "5fe323a2-fa93-481d-8ec9-8f461452ad8f"
      },
      "source": [
        "#slicing (traz última letra)\n",
        "ordem[-1]"
      ],
      "execution_count": null,
      "outputs": [
        {
          "output_type": "execute_result",
          "data": {
            "text/plain": [
              "'a'"
            ]
          },
          "metadata": {
            "tags": []
          },
          "execution_count": 88
        }
      ]
    },
    {
      "cell_type": "code",
      "metadata": {
        "id": "UFymbQfYTQpY",
        "colab": {
          "base_uri": "https://localhost:8080/",
          "height": 35
        },
        "outputId": "76567fb8-e25a-48dc-e7bb-6953e78abe6c"
      },
      "source": [
        "#slicing (traz penúltima letra)\n",
        "ordem[-3]"
      ],
      "execution_count": null,
      "outputs": [
        {
          "output_type": "execute_result",
          "data": {
            "text/plain": [
              "'l'"
            ]
          },
          "metadata": {
            "tags": []
          },
          "execution_count": 89
        }
      ]
    },
    {
      "cell_type": "code",
      "metadata": {
        "id": "5zWajoSBTXtr",
        "colab": {
          "base_uri": "https://localhost:8080/",
          "height": 35
        },
        "outputId": "13c232df-0f69-4aab-c59b-559fbead7988"
      },
      "source": [
        "#slicing (corta string de traz pra frente)\n",
        "ordem[:-3]"
      ],
      "execution_count": null,
      "outputs": [
        {
          "output_type": "execute_result",
          "data": {
            "text/plain": [
              "'Marce'"
            ]
          },
          "metadata": {
            "tags": []
          },
          "execution_count": 90
        }
      ]
    },
    {
      "cell_type": "code",
      "metadata": {
        "id": "Wu2H9c8VTpz1",
        "colab": {
          "base_uri": "https://localhost:8080/",
          "height": 35
        },
        "outputId": "78f28210-b199-45d0-ca6c-be12948f9264"
      },
      "source": [
        "ordem[-3:]"
      ],
      "execution_count": null,
      "outputs": [
        {
          "output_type": "execute_result",
          "data": {
            "text/plain": [
              "'lla'"
            ]
          },
          "metadata": {
            "tags": []
          },
          "execution_count": 91
        }
      ]
    },
    {
      "cell_type": "code",
      "metadata": {
        "id": "ousr3P06TvMu",
        "colab": {
          "base_uri": "https://localhost:8080/",
          "height": 35
        },
        "outputId": "c535ee69-ee4c-44a0-b407-1ff97ce4287d"
      },
      "source": [
        "#slicing (indicando posição inicial e final e quantas casas pula)\n",
        "ordem[::1]"
      ],
      "execution_count": null,
      "outputs": [
        {
          "output_type": "execute_result",
          "data": {
            "text/plain": [
              "'Marcella'"
            ]
          },
          "metadata": {
            "tags": []
          },
          "execution_count": 92
        }
      ]
    },
    {
      "cell_type": "code",
      "metadata": {
        "id": "xKVp7bJVVWhT",
        "colab": {
          "base_uri": "https://localhost:8080/",
          "height": 35
        },
        "outputId": "9fd5c119-51f9-4859-9672-30a9a91bd393"
      },
      "source": [
        "ordem[::2]"
      ],
      "execution_count": null,
      "outputs": [
        {
          "output_type": "execute_result",
          "data": {
            "text/plain": [
              "'Mrel'"
            ]
          },
          "metadata": {
            "tags": []
          },
          "execution_count": 93
        }
      ]
    },
    {
      "cell_type": "code",
      "metadata": {
        "id": "Owq4vdSqVXWv",
        "colab": {
          "base_uri": "https://localhost:8080/",
          "height": 35
        },
        "outputId": "49d1908c-2b7c-4f2c-ecf6-a37eb7fee1c8"
      },
      "source": [
        "ordem[::-3]"
      ],
      "execution_count": null,
      "outputs": [
        {
          "output_type": "execute_result",
          "data": {
            "text/plain": [
              "'aea'"
            ]
          },
          "metadata": {
            "tags": []
          },
          "execution_count": 95
        }
      ]
    },
    {
      "cell_type": "code",
      "metadata": {
        "id": "EOwsc4IiWBpm",
        "colab": {
          "base_uri": "https://localhost:8080/",
          "height": 35
        },
        "outputId": "2be05f48-a5e9-424f-d03b-6e8c05e9448b"
      },
      "source": [
        "ordem*3"
      ],
      "execution_count": null,
      "outputs": [
        {
          "output_type": "execute_result",
          "data": {
            "text/plain": [
              "'MarcellaMarcellaMarcella'"
            ]
          },
          "metadata": {
            "tags": []
          },
          "execution_count": 99
        }
      ]
    },
    {
      "cell_type": "markdown",
      "metadata": {
        "id": "P3ZDi6W6WSvI"
      },
      "source": [
        "###Funções com String"
      ]
    },
    {
      "cell_type": "code",
      "metadata": {
        "id": "K7TvUufbWNdl",
        "colab": {
          "base_uri": "https://localhost:8080/",
          "height": 35
        },
        "outputId": "610f9c93-8237-4fb1-ee7e-5b474ed6a584"
      },
      "source": [
        "#Maiúscula\n",
        "ordem.upper()"
      ],
      "execution_count": null,
      "outputs": [
        {
          "output_type": "execute_result",
          "data": {
            "text/plain": [
              "'MARCELLA'"
            ]
          },
          "metadata": {
            "tags": []
          },
          "execution_count": 100
        }
      ]
    },
    {
      "cell_type": "code",
      "metadata": {
        "id": "jeT9qRCGWZa5",
        "colab": {
          "base_uri": "https://localhost:8080/",
          "height": 35
        },
        "outputId": "a984a1c0-3ea9-46f9-fa20-c262cfe1a6dd"
      },
      "source": [
        "#Minúscula\n",
        "ordem.lower()"
      ],
      "execution_count": null,
      "outputs": [
        {
          "output_type": "execute_result",
          "data": {
            "text/plain": [
              "'marcella'"
            ]
          },
          "metadata": {
            "tags": []
          },
          "execution_count": 101
        }
      ]
    },
    {
      "cell_type": "code",
      "metadata": {
        "id": "Tx5IWmWfWcZP",
        "colab": {
          "base_uri": "https://localhost:8080/",
          "height": 35
        },
        "outputId": "57271c20-a3f5-43d8-eaaa-333724128d53"
      },
      "source": [
        "#dividir com base em uma letra\n",
        "ordem.split('e')"
      ],
      "execution_count": null,
      "outputs": [
        {
          "output_type": "execute_result",
          "data": {
            "text/plain": [
              "['Marc', 'lla']"
            ]
          },
          "metadata": {
            "tags": []
          },
          "execution_count": 104
        }
      ]
    },
    {
      "cell_type": "code",
      "metadata": {
        "id": "jBLKym3fWhNA",
        "colab": {
          "base_uri": "https://localhost:8080/",
          "height": 35
        },
        "outputId": "b5af3583-3b18-46ba-eda4-0df26c409419"
      },
      "source": [
        "#se não passar parâmetro, separa por espaço em branco\n",
        "nome_completo.split()"
      ],
      "execution_count": null,
      "outputs": [
        {
          "output_type": "execute_result",
          "data": {
            "text/plain": [
              "['Marcella', 'Pedro']"
            ]
          },
          "metadata": {
            "tags": []
          },
          "execution_count": 106
        }
      ]
    },
    {
      "cell_type": "code",
      "metadata": {
        "id": "WwjPHh_5W2Yh",
        "colab": {
          "base_uri": "https://localhost:8080/",
          "height": 35
        },
        "outputId": "e99a485e-bcda-4a46-ad17-0ea2e3d9ae1c"
      },
      "source": [
        "#Capitalize coloca primeira letra em maiúsculo\n",
        "ordem.lower().capitalize()"
      ],
      "execution_count": null,
      "outputs": [
        {
          "output_type": "execute_result",
          "data": {
            "text/plain": [
              "'Marcella'"
            ]
          },
          "metadata": {
            "tags": []
          },
          "execution_count": 111
        }
      ]
    },
    {
      "cell_type": "code",
      "metadata": {
        "id": "bwfLlBGnXMTg",
        "colab": {
          "base_uri": "https://localhost:8080/",
          "height": 35
        },
        "outputId": "7e098018-b3d9-4d70-d488-d4ac57f96dc9"
      },
      "source": [
        "#contar quantas vezes o caractere aparece\n",
        "ordem.count('ll')"
      ],
      "execution_count": null,
      "outputs": [
        {
          "output_type": "execute_result",
          "data": {
            "text/plain": [
              "1"
            ]
          },
          "metadata": {
            "tags": []
          },
          "execution_count": 116
        }
      ]
    },
    {
      "cell_type": "code",
      "metadata": {
        "id": "bsED4aXlXY4k",
        "colab": {
          "base_uri": "https://localhost:8080/",
          "height": 35
        },
        "outputId": "9235293a-c213-455d-cbe0-8dfb575acd82"
      },
      "source": [
        "#encontrar a posição de uma letra\n",
        "ordem.find('r')"
      ],
      "execution_count": null,
      "outputs": [
        {
          "output_type": "execute_result",
          "data": {
            "text/plain": [
              "2"
            ]
          },
          "metadata": {
            "tags": []
          },
          "execution_count": 117
        }
      ]
    },
    {
      "cell_type": "code",
      "metadata": {
        "id": "7flhz2w8Xqgh",
        "colab": {
          "base_uri": "https://localhost:8080/",
          "height": 35
        },
        "outputId": "b27139ae-d4f7-4810-ec61-4373bb957b4c"
      },
      "source": [
        "#verifica se todas letras são minúsculas, retorna boolean\n",
        "ordem.islower()"
      ],
      "execution_count": null,
      "outputs": [
        {
          "output_type": "execute_result",
          "data": {
            "text/plain": [
              "False"
            ]
          },
          "metadata": {
            "tags": []
          },
          "execution_count": 118
        }
      ]
    },
    {
      "cell_type": "code",
      "metadata": {
        "id": "istwZ7qkXwFs",
        "colab": {
          "base_uri": "https://localhost:8080/",
          "height": 35
        },
        "outputId": "7d424ee6-50fc-431a-a6d1-420bb70ebc89"
      },
      "source": [
        "#verifica se a string é formada apenas por espaços\n",
        "ordem.isspace()"
      ],
      "execution_count": null,
      "outputs": [
        {
          "output_type": "execute_result",
          "data": {
            "text/plain": [
              "False"
            ]
          },
          "metadata": {
            "tags": []
          },
          "execution_count": 119
        }
      ]
    },
    {
      "cell_type": "code",
      "metadata": {
        "id": "Rv98j__5X5cJ",
        "colab": {
          "base_uri": "https://localhost:8080/",
          "height": 35
        },
        "outputId": "38dfad18-2f50-460f-d935-865bfd46ce09"
      },
      "source": [
        "##verifica se termina a string com determinada letra\n",
        "ordem.endswith('a')"
      ],
      "execution_count": null,
      "outputs": [
        {
          "output_type": "execute_result",
          "data": {
            "text/plain": [
              "True"
            ]
          },
          "metadata": {
            "tags": []
          },
          "execution_count": 121
        }
      ]
    },
    {
      "cell_type": "code",
      "metadata": {
        "id": "Woc2Nug9YJAr",
        "colab": {
          "base_uri": "https://localhost:8080/",
          "height": 35
        },
        "outputId": "7d67c3c3-e373-42c3-8d5f-75f53656b9d3"
      },
      "source": [
        "#comparação\n",
        "print('Python' == 'Python')"
      ],
      "execution_count": null,
      "outputs": [
        {
          "output_type": "stream",
          "text": [
            "True\n"
          ],
          "name": "stdout"
        }
      ]
    },
    {
      "cell_type": "markdown",
      "metadata": {
        "id": "8f8iOsSmV_Zc"
      },
      "source": [
        "###Estrutura de Dados"
      ]
    },
    {
      "cell_type": "markdown",
      "metadata": {
        "id": "CUk0A8siWyJX"
      },
      "source": [
        "####Listas"
      ]
    },
    {
      "cell_type": "code",
      "metadata": {
        "id": "rPDlw7O3YU2F",
        "colab": {
          "base_uri": "https://localhost:8080/",
          "height": 35
        },
        "outputId": "ee662a63-ba37-4148-c8c3-0caf61f07069"
      },
      "source": [
        "#lista de strings chaves\n",
        "compras_mercado = ['banana','açúcar','óleo']\n",
        "compras_mercado[0]"
      ],
      "execution_count": null,
      "outputs": [
        {
          "output_type": "execute_result",
          "data": {
            "text/plain": [
              "'banana'"
            ]
          },
          "metadata": {
            "tags": []
          },
          "execution_count": 1
        }
      ]
    },
    {
      "cell_type": "code",
      "metadata": {
        "id": "2QCPmhvDXFld",
        "colab": {
          "base_uri": "https://localhost:8080/",
          "height": 35
        },
        "outputId": "1b8f9e96-fe9e-43df-d75a-addbf90c22d0"
      },
      "source": [
        "#lista aceita tipos diferentes na mesma lista\n",
        "tipos_diferentes = [10,'teste']\n",
        "tipos_diferentes"
      ],
      "execution_count": null,
      "outputs": [
        {
          "output_type": "execute_result",
          "data": {
            "text/plain": [
              "[10, 'teste']"
            ]
          },
          "metadata": {
            "tags": []
          },
          "execution_count": 2
        }
      ]
    },
    {
      "cell_type": "code",
      "metadata": {
        "id": "N5p-tnxGXQlv",
        "colab": {
          "base_uri": "https://localhost:8080/",
          "height": 35
        },
        "outputId": "40175321-3709-42ff-e8a2-095ebdbca570"
      },
      "source": [
        "compras_mercado[2] = 'arroz'\n",
        "compras_mercado"
      ],
      "execution_count": null,
      "outputs": [
        {
          "output_type": "execute_result",
          "data": {
            "text/plain": [
              "['banana', 'açúcar', 'arroz']"
            ]
          },
          "metadata": {
            "tags": []
          },
          "execution_count": 3
        }
      ]
    },
    {
      "cell_type": "code",
      "metadata": {
        "id": "lGq5TAhhXbcZ",
        "colab": {
          "base_uri": "https://localhost:8080/",
          "height": 35
        },
        "outputId": "72aa7efe-9c9a-4871-b668-3f48fb8eda82"
      },
      "source": [
        "#apagar item da lista\n",
        "del compras_mercado[2]\n",
        "compras_mercado"
      ],
      "execution_count": null,
      "outputs": [
        {
          "output_type": "execute_result",
          "data": {
            "text/plain": [
              "['banana', 'açúcar']"
            ]
          },
          "metadata": {
            "tags": []
          },
          "execution_count": 5
        }
      ]
    },
    {
      "cell_type": "code",
      "metadata": {
        "id": "2-TZQxcVXiwm",
        "colab": {
          "base_uri": "https://localhost:8080/",
          "height": 35
        },
        "outputId": "8861e47b-fdb3-4d0a-edd7-1d6404835bd0"
      },
      "source": [
        "#lista aninhada (Lista composta por outras listas = matriz)\n",
        "lista = [[1,2,3],['a','b','c'],['!','@','#']]\n",
        "lista"
      ],
      "execution_count": null,
      "outputs": [
        {
          "output_type": "execute_result",
          "data": {
            "text/plain": [
              "[[1, 2, 3], ['a', 'b', 'c'], ['!', '@', '#']]"
            ]
          },
          "metadata": {
            "tags": []
          },
          "execution_count": 6
        }
      ]
    },
    {
      "cell_type": "code",
      "metadata": {
        "id": "BVor0PWKX9H3",
        "colab": {
          "base_uri": "https://localhost:8080/",
          "height": 35
        },
        "outputId": "302fd89e-a1a3-4354-d53d-7aa8fbd42810"
      },
      "source": [
        "a = lista[0]\n",
        "a"
      ],
      "execution_count": null,
      "outputs": [
        {
          "output_type": "execute_result",
          "data": {
            "text/plain": [
              "[1, 2, 3]"
            ]
          },
          "metadata": {
            "tags": []
          },
          "execution_count": 7
        }
      ]
    },
    {
      "cell_type": "code",
      "metadata": {
        "id": "YVPB_gJYYD_e",
        "colab": {
          "base_uri": "https://localhost:8080/",
          "height": 35
        },
        "outputId": "41302ae6-583e-4ae7-c0f9-7b3f4d5e4c4f"
      },
      "source": [
        "b = [0]\n",
        "b"
      ],
      "execution_count": null,
      "outputs": [
        {
          "output_type": "execute_result",
          "data": {
            "text/plain": [
              "[0]"
            ]
          },
          "metadata": {
            "tags": []
          },
          "execution_count": 8
        }
      ]
    },
    {
      "cell_type": "code",
      "metadata": {
        "id": "9AK_yv-DYHGU",
        "colab": {
          "base_uri": "https://localhost:8080/",
          "height": 35
        },
        "outputId": "1f03b541-203b-44da-a761-1ee1449a2618"
      },
      "source": [
        "#acessar lista dentro da lista\n",
        "lista[1][2]"
      ],
      "execution_count": null,
      "outputs": [
        {
          "output_type": "execute_result",
          "data": {
            "text/plain": [
              "'c'"
            ]
          },
          "metadata": {
            "tags": []
          },
          "execution_count": 12
        }
      ]
    },
    {
      "cell_type": "code",
      "metadata": {
        "id": "Cj8iJw-uYPpD",
        "colab": {
          "base_uri": "https://localhost:8080/",
          "height": 35
        },
        "outputId": "615c2ab1-1762-45a2-b9e7-a496ff813d11"
      },
      "source": [
        "#concatenar listas\n",
        "lista[0]+ compras_mercado"
      ],
      "execution_count": null,
      "outputs": [
        {
          "output_type": "execute_result",
          "data": {
            "text/plain": [
              "[1, 2, 3, 'banana', 'açúcar']"
            ]
          },
          "metadata": {
            "tags": []
          },
          "execution_count": 13
        }
      ]
    },
    {
      "cell_type": "code",
      "metadata": {
        "id": "q8m1XKFsYz3U",
        "colab": {
          "base_uri": "https://localhost:8080/",
          "height": 35
        },
        "outputId": "12cbca42-658f-476f-d491-16d1b1c0dcce"
      },
      "source": [
        "#operador in (verifica se tem uma valor na lista)\n",
        "print( 'banana' in compras_mercado)"
      ],
      "execution_count": null,
      "outputs": [
        {
          "output_type": "stream",
          "text": [
            "True\n"
          ],
          "name": "stdout"
        }
      ]
    },
    {
      "cell_type": "code",
      "metadata": {
        "id": "oGsI6dwHZLBf",
        "colab": {
          "base_uri": "https://localhost:8080/",
          "height": 35
        },
        "outputId": "24d78a9f-a317-453a-ae14-3f9db68ebf3d"
      },
      "source": [
        "#tamanho lista\n",
        "len(compras_mercado)"
      ],
      "execution_count": null,
      "outputs": [
        {
          "output_type": "execute_result",
          "data": {
            "text/plain": [
              "2"
            ]
          },
          "metadata": {
            "tags": []
          },
          "execution_count": 15
        }
      ]
    },
    {
      "cell_type": "code",
      "metadata": {
        "id": "HuA3sjNsZQ8E",
        "colab": {
          "base_uri": "https://localhost:8080/",
          "height": 35
        },
        "outputId": "0a0b5963-348e-402a-c43b-0a67ee8c3a21"
      },
      "source": [
        "#maior valor da lista\n",
        "max(compras_mercado)"
      ],
      "execution_count": null,
      "outputs": [
        {
          "output_type": "execute_result",
          "data": {
            "text/plain": [
              "'banana'"
            ]
          },
          "metadata": {
            "tags": []
          },
          "execution_count": 16
        }
      ]
    },
    {
      "cell_type": "code",
      "metadata": {
        "id": "mhsIHP5aZTOy",
        "colab": {
          "base_uri": "https://localhost:8080/",
          "height": 35
        },
        "outputId": "b1691149-0a3f-42c2-dfb6-369f2df452f0"
      },
      "source": [
        "#menor valor da lista\n",
        "min(compras_mercado)"
      ],
      "execution_count": null,
      "outputs": [
        {
          "output_type": "execute_result",
          "data": {
            "text/plain": [
              "'açúcar'"
            ]
          },
          "metadata": {
            "tags": []
          },
          "execution_count": 17
        }
      ]
    },
    {
      "cell_type": "code",
      "metadata": {
        "id": "dG7BVDCUZZ1K",
        "colab": {
          "base_uri": "https://localhost:8080/",
          "height": 35
        },
        "outputId": "ae9bfd11-802f-4f8f-874c-a6eb221812ce"
      },
      "source": [
        "#adicionar valores na lista\n",
        "compras_mercado.append('feijão')\n",
        "compras_mercado"
      ],
      "execution_count": null,
      "outputs": [
        {
          "output_type": "execute_result",
          "data": {
            "text/plain": [
              "['banana', 'açúcar', 'feijão']"
            ]
          },
          "metadata": {
            "tags": []
          },
          "execution_count": 18
        }
      ]
    },
    {
      "cell_type": "code",
      "metadata": {
        "id": "LWEn9Uo_ZiaB",
        "colab": {
          "base_uri": "https://localhost:8080/",
          "height": 35
        },
        "outputId": "d01a3087-5a48-44f3-e532-c6bca902b503"
      },
      "source": [
        "#contar itens repetidos\n",
        "compras_mercado.append('feijão')\n",
        "compras_mercado.count('feijão')"
      ],
      "execution_count": null,
      "outputs": [
        {
          "output_type": "execute_result",
          "data": {
            "text/plain": [
              "2"
            ]
          },
          "metadata": {
            "tags": []
          },
          "execution_count": 19
        }
      ]
    },
    {
      "cell_type": "code",
      "metadata": {
        "id": "X5MkLy0kZ2Bh"
      },
      "source": [
        "#criar lista vazia\n",
        "a = []"
      ],
      "execution_count": null,
      "outputs": []
    },
    {
      "cell_type": "code",
      "metadata": {
        "id": "Fi2iokn7Z8XT",
        "colab": {
          "base_uri": "https://localhost:8080/",
          "height": 35
        },
        "outputId": "ab4ea05b-c1cb-430f-b6eb-60ec216de353"
      },
      "source": [
        "type(a)"
      ],
      "execution_count": null,
      "outputs": [
        {
          "output_type": "execute_result",
          "data": {
            "text/plain": [
              "list"
            ]
          },
          "metadata": {
            "tags": []
          },
          "execution_count": 21
        }
      ]
    },
    {
      "cell_type": "code",
      "metadata": {
        "id": "kfHj0I_mZ_Z3",
        "colab": {
          "base_uri": "https://localhost:8080/",
          "height": 35
        },
        "outputId": "cdaf7c0b-48dd-4f5a-fb26-d6b76c3d9b39"
      },
      "source": [
        "#iteração\n",
        "lista_antiga = [1,1,2,3,5,8,13]\n",
        "lista_nova = []\n",
        "\n",
        "for item in lista_antiga:\n",
        "  lista_nova.append(item)\n",
        "\n",
        "lista_nova"
      ],
      "execution_count": null,
      "outputs": [
        {
          "output_type": "execute_result",
          "data": {
            "text/plain": [
              "[1, 1, 2, 3, 5, 8, 13]"
            ]
          },
          "metadata": {
            "tags": []
          },
          "execution_count": 22
        }
      ]
    },
    {
      "cell_type": "code",
      "metadata": {
        "id": "Fh3O9XPgaZwI",
        "colab": {
          "base_uri": "https://localhost:8080/",
          "height": 35
        },
        "outputId": "3032ca16-e8ba-4beb-8a42-bb6bc47ce060"
      },
      "source": [
        "#adicionar vários itens na lista de uma vez\n",
        "lista_nova.extend([21,34])\n",
        "lista_nova"
      ],
      "execution_count": null,
      "outputs": [
        {
          "output_type": "execute_result",
          "data": {
            "text/plain": [
              "[1, 1, 2, 3, 5, 8, 13, 21, 34]"
            ]
          },
          "metadata": {
            "tags": []
          },
          "execution_count": 24
        }
      ]
    },
    {
      "cell_type": "code",
      "metadata": {
        "id": "YxuJBUd5a5ji",
        "colab": {
          "base_uri": "https://localhost:8080/",
          "height": 35
        },
        "outputId": "90991957-77fd-4441-f7bd-8b9efdb16977"
      },
      "source": [
        "#descobrir indice de um item\n",
        "lista_nova.index(5)"
      ],
      "execution_count": null,
      "outputs": [
        {
          "output_type": "execute_result",
          "data": {
            "text/plain": [
              "4"
            ]
          },
          "metadata": {
            "tags": []
          },
          "execution_count": 26
        }
      ]
    },
    {
      "cell_type": "code",
      "metadata": {
        "id": "jBqEoVFgbW1k",
        "colab": {
          "base_uri": "https://localhost:8080/",
          "height": 35
        },
        "outputId": "6d9528d3-84c9-49b6-ffa8-1d9cb4a8aa73"
      },
      "source": [
        "#inserir item numa posição específica\n",
        "lista_nova.insert(0,0) #posição,item\n",
        "lista_nova"
      ],
      "execution_count": null,
      "outputs": [
        {
          "output_type": "execute_result",
          "data": {
            "text/plain": [
              "[0, 1, 1, 2, 3, 5, 8, 13, 21, 34]"
            ]
          },
          "metadata": {
            "tags": []
          },
          "execution_count": 27
        }
      ]
    },
    {
      "cell_type": "code",
      "metadata": {
        "id": "HBtm-jQxbD6E",
        "colab": {
          "base_uri": "https://localhost:8080/",
          "height": 35
        },
        "outputId": "646670c3-b456-43ec-8142-9fb6fcf7a6bd"
      },
      "source": [
        "#remover um item da lista citando o utem\n",
        "lista_nova.remove(34)\n",
        "lista_nova"
      ],
      "execution_count": null,
      "outputs": [
        {
          "output_type": "execute_result",
          "data": {
            "text/plain": [
              "[0, 1, 1, 2, 3, 5, 8, 13, 21]"
            ]
          },
          "metadata": {
            "tags": []
          },
          "execution_count": 28
        }
      ]
    },
    {
      "cell_type": "code",
      "metadata": {
        "id": "hfNDL-XTbo4M",
        "colab": {
          "base_uri": "https://localhost:8080/",
          "height": 35
        },
        "outputId": "281be41b-49aa-455f-e9b0-c2abe310fcb8"
      },
      "source": [
        "#inverter lista\n",
        "lista_nova.reverse()\n",
        "lista_nova"
      ],
      "execution_count": null,
      "outputs": [
        {
          "output_type": "execute_result",
          "data": {
            "text/plain": [
              "[21, 13, 8, 5, 3, 2, 1, 1, 0]"
            ]
          },
          "metadata": {
            "tags": []
          },
          "execution_count": 29
        }
      ]
    },
    {
      "cell_type": "code",
      "metadata": {
        "id": "5jTdycxrby7m",
        "colab": {
          "base_uri": "https://localhost:8080/",
          "height": 35
        },
        "outputId": "7aafcde9-6ed7-4972-eece-4b3f4e8687ad"
      },
      "source": [
        "#ordenar lista\n",
        "lista_nova.sort()\n",
        "lista_nova"
      ],
      "execution_count": null,
      "outputs": [
        {
          "output_type": "execute_result",
          "data": {
            "text/plain": [
              "[0, 1, 1, 2, 3, 5, 8, 13, 21]"
            ]
          },
          "metadata": {
            "tags": []
          },
          "execution_count": 30
        }
      ]
    },
    {
      "cell_type": "markdown",
      "metadata": {
        "id": "cGZdLEGZcB1m"
      },
      "source": [
        "####Dicionário"
      ]
    },
    {
      "cell_type": "code",
      "metadata": {
        "id": "wFUD8PCob3Eu",
        "colab": {
          "base_uri": "https://localhost:8080/",
          "height": 35
        },
        "outputId": "1adf955f-de45-4b2d-9ba1-5c0c25d1da5a"
      },
      "source": [
        "#lista \n",
        "lista_estudantes = ['gabriela',17,'joão',16,'ketrine',17,'felipe',18] \n",
        "lista_estudantes"
      ],
      "execution_count": null,
      "outputs": [
        {
          "output_type": "execute_result",
          "data": {
            "text/plain": [
              "['gabriela', 17, 'joão', 16, 'ketrine', 17, 'felipe', 18]"
            ]
          },
          "metadata": {
            "tags": []
          },
          "execution_count": 31
        }
      ]
    },
    {
      "cell_type": "code",
      "metadata": {
        "id": "bmGPrPBDdP5J",
        "colab": {
          "base_uri": "https://localhost:8080/",
          "height": 35
        },
        "outputId": "b5d3a1d7-6441-4d90-b1c4-059ef5ab3731"
      },
      "source": [
        "#dicionario chaves\n",
        "dicionario_estudantes = {'gabriela':17,'joão':16,'ketrine':17,'felipe':18}\n",
        "dicionario_estudantes"
      ],
      "execution_count": null,
      "outputs": [
        {
          "output_type": "execute_result",
          "data": {
            "text/plain": [
              "{'felipe': 18, 'gabriela': 17, 'joão': 16, 'ketrine': 17}"
            ]
          },
          "metadata": {
            "tags": []
          },
          "execution_count": 33
        }
      ]
    },
    {
      "cell_type": "code",
      "metadata": {
        "id": "sYo1KnucdbAe",
        "colab": {
          "base_uri": "https://localhost:8080/",
          "height": 35
        },
        "outputId": "14fb6809-19c6-42e4-f71b-a0d89bf6a500"
      },
      "source": [
        "dicionario_estudantes['ketrine']"
      ],
      "execution_count": null,
      "outputs": [
        {
          "output_type": "execute_result",
          "data": {
            "text/plain": [
              "17"
            ]
          },
          "metadata": {
            "tags": []
          },
          "execution_count": 34
        }
      ]
    },
    {
      "cell_type": "code",
      "metadata": {
        "id": "dCyLpl-YdqIh",
        "colab": {
          "base_uri": "https://localhost:8080/",
          "height": 35
        },
        "outputId": "0ef5ce97-81ef-4bcc-cdd1-8eb52a63d1ae"
      },
      "source": [
        "dicionario_estudantes['gabriela'] = 16\n",
        "dicionario_estudantes['gabriela'] "
      ],
      "execution_count": null,
      "outputs": [
        {
          "output_type": "execute_result",
          "data": {
            "text/plain": [
              "16"
            ]
          },
          "metadata": {
            "tags": []
          },
          "execution_count": 35
        }
      ]
    },
    {
      "cell_type": "code",
      "metadata": {
        "id": "o2ZjPDkAdw57",
        "colab": {
          "base_uri": "https://localhost:8080/",
          "height": 35
        },
        "outputId": "ef121e06-f819-4155-a8e2-264f664fd750"
      },
      "source": [
        "#adicionar novo par de chave-valor (python percebe que não existe para atualizar então cria)\n",
        "dicionario_estudantes['pedro'] = 16\n",
        "dicionario_estudantes"
      ],
      "execution_count": null,
      "outputs": [
        {
          "output_type": "execute_result",
          "data": {
            "text/plain": [
              "{'felipe': 18, 'gabriela': 16, 'joão': 16, 'ketrine': 17, 'pedro': 16}"
            ]
          },
          "metadata": {
            "tags": []
          },
          "execution_count": 36
        }
      ]
    },
    {
      "cell_type": "code",
      "metadata": {
        "id": "VRHqMtcXeS7y",
        "colab": {
          "base_uri": "https://localhost:8080/",
          "height": 35
        },
        "outputId": "f76a5dc8-62fb-4363-864b-19ccaaf1bbf9"
      },
      "source": [
        "#comando limpa valores\n",
        "dicionario_estudantes.clear()\n",
        "dicionario_estudantes"
      ],
      "execution_count": null,
      "outputs": [
        {
          "output_type": "execute_result",
          "data": {
            "text/plain": [
              "{}"
            ]
          },
          "metadata": {
            "tags": []
          },
          "execution_count": 37
        }
      ]
    },
    {
      "cell_type": "code",
      "metadata": {
        "id": "xmfbeZSpedN8",
        "colab": {
          "base_uri": "https://localhost:8080/",
          "height": 189
        },
        "outputId": "1335095b-c137-4339-9d12-d799496896e2"
      },
      "source": [
        "#esse comando deleta completamente, não é mais possível utilizar o dicionário, precisa criar novamente\n",
        "del dicionario_estudantes\n",
        "dicionario_estudantes"
      ],
      "execution_count": null,
      "outputs": [
        {
          "output_type": "error",
          "ename": "NameError",
          "evalue": "ignored",
          "traceback": [
            "\u001b[0;31m---------------------------------------------------------------------------\u001b[0m",
            "\u001b[0;31mNameError\u001b[0m                                 Traceback (most recent call last)",
            "\u001b[0;32m<ipython-input-39-61bae93cda6e>\u001b[0m in \u001b[0;36m<module>\u001b[0;34m()\u001b[0m\n\u001b[0;32m----> 1\u001b[0;31m \u001b[0;32mdel\u001b[0m \u001b[0mdicionario_estudantes\u001b[0m\u001b[0;34m\u001b[0m\u001b[0;34m\u001b[0m\u001b[0m\n\u001b[0m\u001b[1;32m      2\u001b[0m \u001b[0mdicionario_estudantes\u001b[0m\u001b[0;34m\u001b[0m\u001b[0;34m\u001b[0m\u001b[0m\n",
            "\u001b[0;31mNameError\u001b[0m: name 'dicionario_estudantes' is not defined"
          ]
        }
      ]
    },
    {
      "cell_type": "code",
      "metadata": {
        "id": "9eKRKklceq6l",
        "colab": {
          "base_uri": "https://localhost:8080/",
          "height": 35
        },
        "outputId": "1303dbf4-c81e-4fa5-fed6-3c57b60afd96"
      },
      "source": [
        "dicionario_estudantes = {'gabriela':17,'joão':16,'ketrine':17,'felipe':18}\n",
        "len(dicionario_estudantes)"
      ],
      "execution_count": null,
      "outputs": [
        {
          "output_type": "execute_result",
          "data": {
            "text/plain": [
              "4"
            ]
          },
          "metadata": {
            "tags": []
          },
          "execution_count": 40
        }
      ]
    },
    {
      "cell_type": "code",
      "metadata": {
        "id": "A1XefaYEe5_O",
        "colab": {
          "base_uri": "https://localhost:8080/",
          "height": 35
        },
        "outputId": "5896561e-96a1-41b6-b753-9ad2f19b487b"
      },
      "source": [
        "#somente chaves\n",
        "dicionario_estudantes.keys()"
      ],
      "execution_count": null,
      "outputs": [
        {
          "output_type": "execute_result",
          "data": {
            "text/plain": [
              "dict_keys(['gabriela', 'joão', 'ketrine', 'felipe'])"
            ]
          },
          "metadata": {
            "tags": []
          },
          "execution_count": 41
        }
      ]
    },
    {
      "cell_type": "code",
      "metadata": {
        "id": "ndoy_IiBe-dL",
        "colab": {
          "base_uri": "https://localhost:8080/",
          "height": 35
        },
        "outputId": "fd7c1f92-7627-487a-dce9-03066545dfd6"
      },
      "source": [
        "#somente valores\n",
        "dicionario_estudantes.values()"
      ],
      "execution_count": null,
      "outputs": [
        {
          "output_type": "execute_result",
          "data": {
            "text/plain": [
              "dict_values([17, 16, 17, 18])"
            ]
          },
          "metadata": {
            "tags": []
          },
          "execution_count": 42
        }
      ]
    },
    {
      "cell_type": "code",
      "metadata": {
        "id": "wquDd-W9e_ie",
        "colab": {
          "base_uri": "https://localhost:8080/",
          "height": 35
        },
        "outputId": "0d9aaa2c-b82d-41c2-be67-8da919ec5ecd"
      },
      "source": [
        "#pares\n",
        "dicionario_estudantes.items()"
      ],
      "execution_count": null,
      "outputs": [
        {
          "output_type": "execute_result",
          "data": {
            "text/plain": [
              "dict_items([('gabriela', 17), ('joão', 16), ('ketrine', 17), ('felipe', 18)])"
            ]
          },
          "metadata": {
            "tags": []
          },
          "execution_count": 44
        }
      ]
    },
    {
      "cell_type": "code",
      "metadata": {
        "id": "1BYF-NjLfBEQ",
        "colab": {
          "base_uri": "https://localhost:8080/",
          "height": 162
        },
        "outputId": "2606abd7-b17d-40ff-894b-8d12ddb85565"
      },
      "source": [
        "#concatenar dicionários (fez em ordem alfabética pelas chaves)\n",
        "dicionario_estudantes2 = {'marcia':16,'bruno':16,'larissa':18,'henrique':18}\n",
        "dicionario_estudantes.update(dicionario_estudantes2)\n",
        "dicionario_estudantes"
      ],
      "execution_count": null,
      "outputs": [
        {
          "output_type": "execute_result",
          "data": {
            "text/plain": [
              "{'bruno': 16,\n",
              " 'felipe': 18,\n",
              " 'gabriela': 17,\n",
              " 'henrique': 18,\n",
              " 'joão': 16,\n",
              " 'ketrine': 17,\n",
              " 'larissa': 18,\n",
              " 'marcia': 16}"
            ]
          },
          "metadata": {
            "tags": []
          },
          "execution_count": 45
        }
      ]
    },
    {
      "cell_type": "code",
      "metadata": {
        "id": "2UVS4ysmfaeb",
        "colab": {
          "base_uri": "https://localhost:8080/",
          "height": 35
        },
        "outputId": "e4abd898-2301-4241-dd50-a58cc3574d6c"
      },
      "source": [
        "#chave valor com tipos distintos\n",
        "dicionario = {10:5, \"chave\":2}\n",
        "dicionario"
      ],
      "execution_count": null,
      "outputs": [
        {
          "output_type": "execute_result",
          "data": {
            "text/plain": [
              "{10: 5, 'chave': 2}"
            ]
          },
          "metadata": {
            "tags": []
          },
          "execution_count": 46
        }
      ]
    },
    {
      "cell_type": "code",
      "metadata": {
        "id": "umPk2ayqfyL3",
        "colab": {
          "base_uri": "https://localhost:8080/",
          "height": 35
        },
        "outputId": "b07828f7-2250-432b-b8f0-6a9ed6b235ec"
      },
      "source": [
        "dicionario[10.9] = 'texto'\n",
        "dicionario"
      ],
      "execution_count": null,
      "outputs": [
        {
          "output_type": "execute_result",
          "data": {
            "text/plain": [
              "{10: 5, 10.9: 'texto', 'chave': 2}"
            ]
          },
          "metadata": {
            "tags": []
          },
          "execution_count": 47
        }
      ]
    },
    {
      "cell_type": "code",
      "metadata": {
        "id": "hl8ARyVWf6RF",
        "colab": {
          "base_uri": "https://localhost:8080/",
          "height": 35
        },
        "outputId": "5536c97c-647d-43eb-93df-7235a62b1c18"
      },
      "source": [
        "#texto é chave e valor, tomar cuidado\n",
        "dicionario['texto'] = 2\n",
        "dicionario"
      ],
      "execution_count": null,
      "outputs": [
        {
          "output_type": "execute_result",
          "data": {
            "text/plain": [
              "{10: 5, 10.9: 'texto', 'chave': 2, 'texto': 2}"
            ]
          },
          "metadata": {
            "tags": []
          },
          "execution_count": 48
        }
      ]
    },
    {
      "cell_type": "code",
      "metadata": {
        "id": "YIE-cpvdgDoD",
        "colab": {
          "base_uri": "https://localhost:8080/",
          "height": 35
        },
        "outputId": "627eb8e8-f25d-4bee-bb61-1e50bc10f1f7"
      },
      "source": [
        "#dicionarios de listas\n",
        "dicion_list = {'key1':1200, 'key2':[2,1,4], 'key3': ['tomate', 'leite','batata']}\n",
        "dicion_list"
      ],
      "execution_count": null,
      "outputs": [
        {
          "output_type": "execute_result",
          "data": {
            "text/plain": [
              "{'key1': 1200, 'key2': [2, 1, 4], 'key3': ['tomate', 'leite', 'batata']}"
            ]
          },
          "metadata": {
            "tags": []
          },
          "execution_count": 49
        }
      ]
    },
    {
      "cell_type": "code",
      "metadata": {
        "id": "d4mTGxW_glIz",
        "colab": {
          "base_uri": "https://localhost:8080/",
          "height": 35
        },
        "outputId": "e939ea5f-bad8-421b-a583-8d4a0daefc6f"
      },
      "source": [
        "dicion_list['key3'][0].upper()"
      ],
      "execution_count": null,
      "outputs": [
        {
          "output_type": "execute_result",
          "data": {
            "text/plain": [
              "'TOMATE'"
            ]
          },
          "metadata": {
            "tags": []
          },
          "execution_count": 51
        }
      ]
    },
    {
      "cell_type": "code",
      "metadata": {
        "id": "nxCAwHEVguho",
        "colab": {
          "base_uri": "https://localhost:8080/",
          "height": 35
        },
        "outputId": "d497b572-10fc-4649-a7df-6bcc3e2cb291"
      },
      "source": [
        "#dicionários aninhados\n",
        "teste = {'chave1':{'key1':'teste', 'key2':'lalala'}, 'chave2':{'one':1, 'two':2}}\n",
        "teste"
      ],
      "execution_count": null,
      "outputs": [
        {
          "output_type": "execute_result",
          "data": {
            "text/plain": [
              "{'chave1': {'key1': 'teste', 'key2': 'lalala'}, 'chave2': {'one': 1, 'two': 2}}"
            ]
          },
          "metadata": {
            "tags": []
          },
          "execution_count": 52
        }
      ]
    },
    {
      "cell_type": "markdown",
      "metadata": {
        "id": "BDOhnVFRhfmo"
      },
      "source": [
        "####Tuplas"
      ]
    },
    {
      "cell_type": "code",
      "metadata": {
        "id": "rh7vZ3nChNi9",
        "colab": {
          "base_uri": "https://localhost:8080/",
          "height": 35
        },
        "outputId": "8aeac810-ff25-4588-ce8e-3b7c04effa97"
      },
      "source": [
        "#tupla parênteses\n",
        "tupla_teste = ('matemática', 1 , 10.9)\n",
        "tupla_teste"
      ],
      "execution_count": null,
      "outputs": [
        {
          "output_type": "execute_result",
          "data": {
            "text/plain": [
              "('matemática', 1, 10.9)"
            ]
          },
          "metadata": {
            "tags": []
          },
          "execution_count": 53
        }
      ]
    },
    {
      "cell_type": "code",
      "metadata": {
        "id": "RO7pR56riH3y",
        "colab": {
          "base_uri": "https://localhost:8080/",
          "height": 35
        },
        "outputId": "78a1fcd7-7939-466f-fa02-c90863ebb396"
      },
      "source": [
        "#append e delete de item especifico não funcionam\n",
        "tupla_teste[0]\n"
      ],
      "execution_count": null,
      "outputs": [
        {
          "output_type": "execute_result",
          "data": {
            "text/plain": [
              "'matemática'"
            ]
          },
          "metadata": {
            "tags": []
          },
          "execution_count": 54
        }
      ]
    },
    {
      "cell_type": "code",
      "metadata": {
        "id": "OX0pkKsdim9W",
        "colab": {
          "base_uri": "https://localhost:8080/",
          "height": 35
        },
        "outputId": "87a93a18-2b2c-4ffb-c909-ef00767c1b1a"
      },
      "source": [
        "#slicing funciona\n",
        "tupla_teste[1:]"
      ],
      "execution_count": null,
      "outputs": [
        {
          "output_type": "execute_result",
          "data": {
            "text/plain": [
              "(1, 10.9)"
            ]
          },
          "metadata": {
            "tags": []
          },
          "execution_count": 56
        }
      ]
    },
    {
      "cell_type": "code",
      "metadata": {
        "id": "5AQxZlSIiqRy"
      },
      "source": [
        "del tupla_teste"
      ],
      "execution_count": null,
      "outputs": []
    },
    {
      "cell_type": "code",
      "metadata": {
        "id": "Uj6HlNwbi1CP",
        "colab": {
          "base_uri": "https://localhost:8080/",
          "height": 35
        },
        "outputId": "0fcfbfa7-228e-4697-b1c2-c9a289cb1531"
      },
      "source": [
        "#para alterar a tupla, dá para copiar para a lista alterar e devolver para a tupla\n",
        "tupla_teste = ('matemática', 1 , 10.9)\n",
        "lista1 = list(tupla_teste)\n",
        "lista1.append('novoItem')\n",
        "tupla_teste = tuple(lista1)\n",
        "tupla_teste"
      ],
      "execution_count": null,
      "outputs": [
        {
          "output_type": "execute_result",
          "data": {
            "text/plain": [
              "('matemática', 1, 10.9, 'novoItem')"
            ]
          },
          "metadata": {
            "tags": []
          },
          "execution_count": 60
        }
      ]
    },
    {
      "cell_type": "code",
      "metadata": {
        "id": "yGwn7D8SjOXZ",
        "colab": {
          "base_uri": "https://localhost:8080/",
          "height": 35
        },
        "outputId": "f7a423b5-267c-4115-ee73-62b606a6a9c2"
      },
      "source": [
        "  string_teste = 'marcella'\n",
        "  lista2 = list(string_teste)\n",
        "  lista2"
      ],
      "execution_count": null,
      "outputs": [
        {
          "output_type": "execute_result",
          "data": {
            "text/plain": [
              "['m', 'a', 'r', 'c', 'e', 'l', 'l', 'a']"
            ]
          },
          "metadata": {
            "tags": []
          },
          "execution_count": 61
        }
      ]
    },
    {
      "cell_type": "markdown",
      "metadata": {
        "id": "Hl-hLl8ilf1F"
      },
      "source": [
        "###Exercício"
      ]
    },
    {
      "cell_type": "markdown",
      "metadata": {
        "id": "6Yhz5uMQl4Nd"
      },
      "source": [
        "Exercício <br>\n",
        "https://colab.research.google.com/github/marcellapbp/PythonFundamentos/blob/master/Cap02/Notebooks/DSA-Python-Cap02-Exercicios.ipynb\n",
        "\n",
        "Solução <br>\n",
        "https://colab.research.google.com/github/marcellapbp/PythonFundamentos/blob/master/Cap02/Notebooks/DSA-Python-Cap02-Exercicios-Solucao.ipynb"
      ]
    },
    {
      "cell_type": "markdown",
      "metadata": {
        "id": "xfVmf6sE2prZ"
      },
      "source": [
        "###Lab 01 - Desenvolvendo Game em Python"
      ]
    },
    {
      "cell_type": "markdown",
      "metadata": {
        "id": "8GcmtCxHGVPF"
      },
      "source": [
        "https://colab.research.google.com/github/marcellapbp/PythonFundamentos/blob/master/Cap02/Lab01/game_v1.ipynb\n"
      ]
    },
    {
      "cell_type": "markdown",
      "metadata": {
        "id": "z6UQTyHsHC_p"
      },
      "source": [
        "##Capítulo 3 - Loops, Condicionais, Métodos e Funções"
      ]
    },
    {
      "cell_type": "markdown",
      "metadata": {
        "id": "-ZizW-JlHGwl"
      },
      "source": [
        "###Condicionais - If/Else/Elif"
      ]
    },
    {
      "cell_type": "code",
      "metadata": {
        "id": "rbXUugwjNC67",
        "colab": {
          "base_uri": "https://localhost:8080/",
          "height": 35
        },
        "outputId": "c4065a2f-e910-4ab9-d969-bde95921e107"
      },
      "source": [
        "#condicional se\n",
        "if 5>2:\n",
        "  print('5 é maior que 2')"
      ],
      "execution_count": null,
      "outputs": [
        {
          "output_type": "stream",
          "text": [
            "5 é maior que 2\n"
          ],
          "name": "stdout"
        }
      ]
    },
    {
      "cell_type": "code",
      "metadata": {
        "id": "ltcGwGfRNqGB",
        "colab": {
          "base_uri": "https://localhost:8080/",
          "height": 35
        },
        "outputId": "28dffd9e-0012-4aad-951e-33daa75c6ca3"
      },
      "source": [
        "#condicional se senão\n",
        "if 5<2:\n",
        "  print('5 é menor que 2')\n",
        "else:\n",
        "  print('5 não é menor que 2')"
      ],
      "execution_count": null,
      "outputs": [
        {
          "output_type": "stream",
          "text": [
            "5 não é menor que 2\n"
          ],
          "name": "stdout"
        }
      ]
    },
    {
      "cell_type": "code",
      "metadata": {
        "id": "8oZsDt_pN94l",
        "colab": {
          "base_uri": "https://localhost:8080/",
          "height": 35
        },
        "outputId": "b630c196-b373-417e-adfd-6bd14cb64d5e"
      },
      "source": [
        "x = 5\n",
        "y = 5\n",
        "\n",
        "if x==y:\n",
        "  print(x==y)\n",
        "else:\n",
        "  print('erro')"
      ],
      "execution_count": null,
      "outputs": [
        {
          "output_type": "stream",
          "text": [
            "True\n"
          ],
          "name": "stdout"
        }
      ]
    },
    {
      "cell_type": "code",
      "metadata": {
        "id": "tQBu-AHsOf8g",
        "colab": {
          "base_uri": "https://localhost:8080/",
          "height": 35
        },
        "outputId": "d8eea37a-e224-442e-9096-ba860e091574"
      },
      "source": [
        "#condicional aninhado\n",
        "idade = 24\n",
        "nome = 'marcella'\n",
        "\n",
        "if idade>20:\n",
        "  if nome == 'marcella':\n",
        "    print('Nome: ' + nome + ' Idade:' + str(idade))\n",
        "  else:\n",
        "    print('erro')\n"
      ],
      "execution_count": null,
      "outputs": [
        {
          "output_type": "stream",
          "text": [
            "Nome: marcella Idade:24\n"
          ],
          "name": "stdout"
        }
      ]
    },
    {
      "cell_type": "code",
      "metadata": {
        "id": "aOx7jdbBPTJ1",
        "colab": {
          "base_uri": "https://localhost:8080/",
          "height": 35
        },
        "outputId": "6391add9-f9a7-4ed0-a959-f977110c2014"
      },
      "source": [
        "if nome == 'marcella' and idade >20:\n",
        "  print('Pode entrar!')"
      ],
      "execution_count": null,
      "outputs": [
        {
          "output_type": "stream",
          "text": [
            "Pode entrar!\n"
          ],
          "name": "stdout"
        }
      ]
    },
    {
      "cell_type": "code",
      "metadata": {
        "id": "z5dVpNMSPtgE",
        "colab": {
          "base_uri": "https://localhost:8080/",
          "height": 35
        },
        "outputId": "e7cdd886-8636-4cdf-8da3-92a4052120da"
      },
      "source": [
        "if (nome == 'marcella') or (idade<20):\n",
        "  print('Ou você é a Marcella ou tem menos que 20 anos')"
      ],
      "execution_count": null,
      "outputs": [
        {
          "output_type": "stream",
          "text": [
            "Ou você é a Marcella ou tem menos que 20 anos\n"
          ],
          "name": "stdout"
        }
      ]
    },
    {
      "cell_type": "code",
      "metadata": {
        "id": "puoAjF7WP7nm",
        "colab": {
          "base_uri": "https://localhost:8080/",
          "height": 35
        },
        "outputId": "382564ed-7b51-4529-c9a6-1bf7a4b10575"
      },
      "source": [
        "#condicional elif (para evitar condicional aninhado)\n",
        "\n",
        "dia_semana = 'terça'\n",
        "\n",
        "if dia_semana == 'segunda':\n",
        "    print('Arroz feijão e nuggets')\n",
        "elif dia_semana == 'terça':\n",
        "    print('macarrão ao molho sugo')\n",
        "else:\n",
        "    print('cardaápio ainda não definido')"
      ],
      "execution_count": null,
      "outputs": [
        {
          "output_type": "stream",
          "text": [
            "macarrão ao molho sugo\n"
          ],
          "name": "stdout"
        }
      ]
    },
    {
      "cell_type": "code",
      "metadata": {
        "id": "IWWlG9cKQnL7",
        "colab": {
          "base_uri": "https://localhost:8080/",
          "height": 35
        },
        "outputId": "13459732-a2d5-4802-8dfa-cb61457bf4d7"
      },
      "source": [
        "#quando acaba a identação o python entende que acabou o trecho do if\n",
        "if dia_semana == 'segunda':\n",
        "    print('Arroz feijão e nuggets')\n",
        "print('macarrão ao molho sugo')#trecho fora do if, execução independente do resultado if\n"
      ],
      "execution_count": null,
      "outputs": [
        {
          "output_type": "stream",
          "text": [
            "macarrão ao molho sugo\n"
          ],
          "name": "stdout"
        }
      ]
    },
    {
      "cell_type": "code",
      "metadata": {
        "id": "d606p-HMQ7QK",
        "colab": {
          "base_uri": "https://localhost:8080/",
          "height": 53
        },
        "outputId": "b2a2470e-ead7-434a-a325-b997b73fd8c3"
      },
      "source": [
        "#input solicitar ao usuário a entrada\n",
        "idade = input('Qual sua idade?')\n",
        "nome = input('Qual seu nome?')\n"
      ],
      "execution_count": null,
      "outputs": [
        {
          "output_type": "stream",
          "text": [
            "Qual sua idade?24\n",
            "Qual seu nome?Marcella\n"
          ],
          "name": "stdout"
        }
      ]
    },
    {
      "cell_type": "code",
      "metadata": {
        "id": "MR_gNCONeajf",
        "colab": {
          "base_uri": "https://localhost:8080/",
          "height": 35
        },
        "outputId": "04530a9c-3e53-4897-9594-e7c173f1222e"
      },
      "source": [
        "if int(idade) > 18:\n",
        "  print(nome+', você é maior de idade!')"
      ],
      "execution_count": null,
      "outputs": [
        {
          "output_type": "stream",
          "text": [
            "Marcella, você é maior de idade!\n"
          ],
          "name": "stdout"
        }
      ]
    },
    {
      "cell_type": "code",
      "metadata": {
        "id": "lIqgyCbIewAK",
        "colab": {
          "base_uri": "https://localhost:8080/",
          "height": 53
        },
        "outputId": "3646a3c5-6160-4477-f72c-6607180ec5f7"
      },
      "source": [
        "#placeholder precisa usar uma letra dentro da string para funcionar\n",
        "#não funcionou usando qualquer letra, cada letra é um formato diferente\n",
        "#https://docs.python.org/3/library/string.html?highlight=placeholder\n",
        "\n",
        "if int(idade) > 18:\n",
        "  print('%r , você é maior de idade! Você tem %r anos' %(nome, idade)) #R usa aspas\n",
        "  print('%s , você é maior de idade! Você tem %s anos' %(nome, idade)) #sai como string sem aspas"
      ],
      "execution_count": null,
      "outputs": [
        {
          "output_type": "stream",
          "text": [
            "'Marcella' , você é maior de idade! Você tem '24' anos\n",
            "Marcella , você é maior de idade! Você tem 24 anos\n"
          ],
          "name": "stdout"
        }
      ]
    },
    {
      "cell_type": "markdown",
      "metadata": {
        "id": "uXgAucIeicBK"
      },
      "source": [
        "###Estrutura de Repetição - Loop For, Loop While e Comandos"
      ]
    },
    {
      "cell_type": "code",
      "metadata": {
        "id": "Ue00e7ihhsSV",
        "colab": {
          "base_uri": "https://localhost:8080/",
          "height": 72
        },
        "outputId": "06444c8c-e1c8-40ec-88d3-7f71559d8587"
      },
      "source": [
        "#Loop For\n",
        "tupla1 = (2,3,5)\n",
        "\n",
        "for i in tupla1:\n",
        "  print(i)"
      ],
      "execution_count": null,
      "outputs": [
        {
          "output_type": "stream",
          "text": [
            "2\n",
            "3\n",
            "5\n"
          ],
          "name": "stdout"
        }
      ]
    },
    {
      "cell_type": "code",
      "metadata": {
        "id": "WBJ6oRTjiY6Z",
        "colab": {
          "base_uri": "https://localhost:8080/",
          "height": 72
        },
        "outputId": "cb26848d-22eb-486c-c623-50e89a0257bf"
      },
      "source": [
        "lista_mercado = ['arroz', 'café','feijão']\n",
        "\n",
        "for i in lista_mercado:\n",
        "  print(i)"
      ],
      "execution_count": null,
      "outputs": [
        {
          "output_type": "stream",
          "text": [
            "arroz\n",
            "café\n",
            "feijão\n"
          ],
          "name": "stdout"
        }
      ]
    },
    {
      "cell_type": "code",
      "metadata": {
        "id": "OJ8xxH_VjAPx",
        "colab": {
          "base_uri": "https://localhost:8080/",
          "height": 108
        },
        "outputId": "7c582b8b-b252-427b-b389-2e217cce366c"
      },
      "source": [
        "#range (começa em zero e termina quando atingit 5, no cinco, sai do loop, por isso não imprime o 5)\n",
        "for contador in range(0,5):\n",
        "  print(contador)"
      ],
      "execution_count": null,
      "outputs": [
        {
          "output_type": "stream",
          "text": [
            "0\n",
            "1\n",
            "2\n",
            "3\n",
            "4\n"
          ],
          "name": "stdout"
        }
      ]
    },
    {
      "cell_type": "code",
      "metadata": {
        "id": "YdS5zXnfjJg1",
        "colab": {
          "base_uri": "https://localhost:8080/",
          "height": 90
        },
        "outputId": "9a53b5d4-44bb-4279-8c37-c2340e3a639b"
      },
      "source": [
        "#incremendo de 3 em 3\n",
        "for contador in range(0,10,3):\n",
        "  print(contador)"
      ],
      "execution_count": null,
      "outputs": [
        {
          "output_type": "stream",
          "text": [
            "0\n",
            "3\n",
            "6\n",
            "9\n"
          ],
          "name": "stdout"
        }
      ]
    },
    {
      "cell_type": "code",
      "metadata": {
        "id": "MHV-jDfyjTkJ",
        "colab": {
          "base_uri": "https://localhost:8080/",
          "height": 126
        },
        "outputId": "f14ea5f7-f38b-4996-9646-7a6b63b41adb"
      },
      "source": [
        "#imprimir numeros pares\n",
        "for contador in range(0,11):\n",
        "  if contador%2==0:\n",
        "    print(contador)"
      ],
      "execution_count": null,
      "outputs": [
        {
          "output_type": "stream",
          "text": [
            "0\n",
            "2\n",
            "4\n",
            "6\n",
            "8\n",
            "10\n"
          ],
          "name": "stdout"
        }
      ]
    },
    {
      "cell_type": "code",
      "metadata": {
        "id": "hkz5bPwEkAhl",
        "colab": {
          "base_uri": "https://localhost:8080/",
          "height": 162
        },
        "outputId": "3b89a296-1787-440a-a9c3-3d8fb7de1e84"
      },
      "source": [
        "nome = 'Marcella'\n",
        "for contador in nome:\n",
        "  print(contador)"
      ],
      "execution_count": null,
      "outputs": [
        {
          "output_type": "stream",
          "text": [
            "M\n",
            "a\n",
            "r\n",
            "c\n",
            "e\n",
            "l\n",
            "l\n",
            "a\n"
          ],
          "name": "stdout"
        }
      ]
    },
    {
      "cell_type": "code",
      "metadata": {
        "id": "bbQXD8_LkKE4",
        "colab": {
          "base_uri": "https://localhost:8080/",
          "height": 290
        },
        "outputId": "2358b55c-c2ae-4a09-ec4e-3a476f4e6f43"
      },
      "source": [
        "#Loop For aninhado\n",
        "\n",
        "for i in range(0,5):\n",
        "  for j in range(0,3):\n",
        "    print(i,j)"
      ],
      "execution_count": null,
      "outputs": [
        {
          "output_type": "stream",
          "text": [
            "0 0\n",
            "0 1\n",
            "0 2\n",
            "1 0\n",
            "1 1\n",
            "1 2\n",
            "2 0\n",
            "2 1\n",
            "2 2\n",
            "3 0\n",
            "3 1\n",
            "3 2\n",
            "4 0\n",
            "4 1\n",
            "4 2\n"
          ],
          "name": "stdout"
        }
      ]
    },
    {
      "cell_type": "code",
      "metadata": {
        "id": "Za_mc9J8ktNd",
        "colab": {
          "base_uri": "https://localhost:8080/",
          "height": 35
        },
        "outputId": "8dc90b31-87c7-423f-a64c-d386dfdefb34"
      },
      "source": [
        "fibonacci = [1,1]\n",
        "\n",
        "for i in range(1,10):\n",
        "  soma =  fibonacci[i] + fibonacci[i-1]\n",
        "  fibonacci.append(soma)\n",
        "\n",
        "print(fibonacci)"
      ],
      "execution_count": null,
      "outputs": [
        {
          "output_type": "stream",
          "text": [
            "[1, 1, 2, 3, 5, 8, 13, 21, 34, 55, 89]\n"
          ],
          "name": "stdout"
        }
      ]
    },
    {
      "cell_type": "code",
      "metadata": {
        "id": "vO1HiDE9lpX7",
        "colab": {
          "base_uri": "https://localhost:8080/",
          "height": 72
        },
        "outputId": "88362374-d7ed-4dc4-a775-c8e365bac668"
      },
      "source": [
        "#loop com dicionario\n",
        "dict = {'k1':'gato', 'k2':'cachorro', 'k3':'papagaio'}\n",
        "for chave,valor in dict.items():\n",
        "  print('Chave: %s Valor: %s' %(chave, valor))"
      ],
      "execution_count": null,
      "outputs": [
        {
          "output_type": "stream",
          "text": [
            "Chave: k1 Valor: gato\n",
            "Chave: k2 Valor: cachorro\n",
            "Chave: k3 Valor: papagaio\n"
          ],
          "name": "stdout"
        }
      ]
    },
    {
      "cell_type": "code",
      "metadata": {
        "id": "tWJYvVGUnOc-",
        "colab": {
          "base_uri": "https://localhost:8080/",
          "height": 72
        },
        "outputId": "c37e1fda-8106-4e0a-f44c-63da67228947"
      },
      "source": [
        "#loop com dicionario (sem especificar itens, retorna apenas a chave)\n",
        "dict = {'k1':'gato', 'k2':'cachorro', 'k3':'papagaio'}\n",
        "for item in dict:\n",
        "  print(item)"
      ],
      "execution_count": null,
      "outputs": [
        {
          "output_type": "stream",
          "text": [
            "k1\n",
            "k2\n",
            "k3\n"
          ],
          "name": "stdout"
        }
      ]
    },
    {
      "cell_type": "code",
      "metadata": {
        "id": "JVLHg1WgnY6E",
        "colab": {
          "base_uri": "https://localhost:8080/",
          "height": 199
        },
        "outputId": "dcbbe089-5d7f-4459-a91c-e0a380fc1fcf"
      },
      "source": [
        "#Loop While\n",
        "\n",
        "cont = 0\n",
        "while cont < 10:\n",
        "  print(cont)\n",
        "  cont += 1"
      ],
      "execution_count": null,
      "outputs": [
        {
          "output_type": "stream",
          "text": [
            "0\n",
            "1\n",
            "2\n",
            "3\n",
            "4\n",
            "5\n",
            "6\n",
            "7\n",
            "8\n",
            "9\n"
          ],
          "name": "stdout"
        }
      ]
    },
    {
      "cell_type": "code",
      "metadata": {
        "id": "5VKIVVumoCnC",
        "colab": {
          "base_uri": "https://localhost:8080/",
          "height": 217
        },
        "outputId": "12eba345-3327-48e6-cc5f-a2340516660c"
      },
      "source": [
        "cont = 0\n",
        "while cont < 10:\n",
        "  print('O valor da expressão ainda é verdadeira, valor do contador:' + str(cont))\n",
        "  cont += 1\n",
        "else:\n",
        "  print('Expressão deixou de ser verdadeira, valor do contador:' + str(cont))"
      ],
      "execution_count": null,
      "outputs": [
        {
          "output_type": "stream",
          "text": [
            "O valor da expressão ainda é verdadeira, valor do contador:0\n",
            "O valor da expressão ainda é verdadeira, valor do contador:1\n",
            "O valor da expressão ainda é verdadeira, valor do contador:2\n",
            "O valor da expressão ainda é verdadeira, valor do contador:3\n",
            "O valor da expressão ainda é verdadeira, valor do contador:4\n",
            "O valor da expressão ainda é verdadeira, valor do contador:5\n",
            "O valor da expressão ainda é verdadeira, valor do contador:6\n",
            "O valor da expressão ainda é verdadeira, valor do contador:7\n",
            "O valor da expressão ainda é verdadeira, valor do contador:8\n",
            "O valor da expressão ainda é verdadeira, valor do contador:9\n",
            "Expressão deixou de ser verdadeira, valor do contador:10\n"
          ],
          "name": "stdout"
        }
      ]
    },
    {
      "cell_type": "code",
      "metadata": {
        "id": "9cUqKMcOo72F",
        "colab": {
          "base_uri": "https://localhost:8080/",
          "height": 108
        },
        "outputId": "43feb716-2469-4906-e8c0-f2897b380d20"
      },
      "source": [
        "#pass deixa continuar normalmente e break interrompe completamente o loop\n",
        "cont = 0\n",
        "while cont < 10:\n",
        "  if cont == 5:\n",
        "    break\n",
        "  else:\n",
        "    pass  \n",
        "  print(cont)\n",
        "  cont += 1\n"
      ],
      "execution_count": null,
      "outputs": [
        {
          "output_type": "stream",
          "text": [
            "0\n",
            "1\n",
            "2\n",
            "3\n",
            "4\n"
          ],
          "name": "stdout"
        }
      ]
    },
    {
      "cell_type": "code",
      "metadata": {
        "id": "ePIzrpjhpGaW",
        "colab": {
          "base_uri": "https://localhost:8080/",
          "height": 108
        },
        "outputId": "de7fd7ed-af15-4310-f536-d36895f819a2"
      },
      "source": [
        "#continue (pula a execução da vez)\n",
        "for i in 'Python':\n",
        "  if i == 'h':\n",
        "    continue\n",
        "  print(i)"
      ],
      "execution_count": null,
      "outputs": [
        {
          "output_type": "stream",
          "text": [
            "P\n",
            "y\n",
            "t\n",
            "o\n",
            "n\n"
          ],
          "name": "stdout"
        }
      ]
    },
    {
      "cell_type": "code",
      "metadata": {
        "id": "vvJqilqQp5HB",
        "colab": {
          "base_uri": "https://localhost:8080/",
          "height": 108
        },
        "outputId": "f95da051-ea0a-4e07-bf95-a8011adf301e"
      },
      "source": [
        "##algoritmo para número primo\n",
        "for i in range(2,12):\n",
        "    j = 2\n",
        "    counter = 0\n",
        "    while j < i:\n",
        "        if i % j == 0:\n",
        "            counter = 1\n",
        "            j = j + 1\n",
        "        else:\n",
        "            j = j + 1\n",
        "    \n",
        "    if counter == 0:\n",
        "        print(str(i) + \" é um número primo\")\n",
        "        counter = 0\n",
        "    else:\n",
        "        counter = 0"
      ],
      "execution_count": null,
      "outputs": [
        {
          "output_type": "stream",
          "text": [
            "2 é um número primo\n",
            "3 é um número primo\n",
            "5 é um número primo\n",
            "7 é um número primo\n",
            "11 é um número primo\n"
          ],
          "name": "stdout"
        }
      ]
    },
    {
      "cell_type": "markdown",
      "metadata": {
        "id": "TqjF8f7Z1-SU"
      },
      "source": [
        "###Range"
      ]
    },
    {
      "cell_type": "code",
      "metadata": {
        "id": "swoB7_KrrT5d",
        "colab": {
          "base_uri": "https://localhost:8080/",
          "height": 162
        },
        "outputId": "15f1de4a-29a6-4ae5-a259-751475dd18d1"
      },
      "source": [
        "feira = ['maçã','tomate','alface','berinjela']\n",
        "\n",
        "for i in range(0,len(feira)):\n",
        "  print(i)\n",
        "  print(feira[i])"
      ],
      "execution_count": null,
      "outputs": [
        {
          "output_type": "stream",
          "text": [
            "0\n",
            "maçã\n",
            "1\n",
            "tomate\n",
            "2\n",
            "alface\n",
            "3\n",
            "berinjela\n"
          ],
          "name": "stdout"
        }
      ]
    },
    {
      "cell_type": "code",
      "metadata": {
        "id": "tUEWWxuw2aGK",
        "colab": {
          "base_uri": "https://localhost:8080/",
          "height": 199
        },
        "outputId": "a760d758-b57c-4fbf-b40e-48f2c9da75bd"
      },
      "source": [
        "#de traz para frente\n",
        "for contador in range(0,-10,-1):\n",
        "  print(contador)"
      ],
      "execution_count": null,
      "outputs": [
        {
          "output_type": "stream",
          "text": [
            "0\n",
            "-1\n",
            "-2\n",
            "-3\n",
            "-4\n",
            "-5\n",
            "-6\n",
            "-7\n",
            "-8\n",
            "-9\n"
          ],
          "name": "stdout"
        }
      ]
    },
    {
      "cell_type": "code",
      "metadata": {
        "id": "ftFf7HjXs340",
        "colab": {
          "base_uri": "https://localhost:8080/",
          "height": 199
        },
        "outputId": "6c6416db-2d49-441f-97aa-9aea82c0c9e2"
      },
      "source": [
        "#de traz para frente\n",
        "for contador in range(-10,0,1):\n",
        "  print(contador)"
      ],
      "execution_count": null,
      "outputs": [
        {
          "output_type": "stream",
          "text": [
            "-10\n",
            "-9\n",
            "-8\n",
            "-7\n",
            "-6\n",
            "-5\n",
            "-4\n",
            "-3\n",
            "-2\n",
            "-1\n"
          ],
          "name": "stdout"
        }
      ]
    },
    {
      "cell_type": "code",
      "metadata": {
        "id": "FcQifAgt2nij",
        "colab": {
          "base_uri": "https://localhost:8080/",
          "height": 35
        },
        "outputId": "542f212f-3a35-4a9d-fd27-204ccf8add3e"
      },
      "source": [
        "#é do tipo range\n",
        "type(range(1,11,1))"
      ],
      "execution_count": null,
      "outputs": [
        {
          "output_type": "execute_result",
          "data": {
            "text/plain": [
              "range"
            ]
          },
          "metadata": {
            "tags": []
          },
          "execution_count": 85
        }
      ]
    },
    {
      "cell_type": "code",
      "metadata": {
        "id": "k4Px7ScH3iaJ",
        "colab": {
          "base_uri": "https://localhost:8080/",
          "height": 35
        },
        "outputId": "63da0df7-3990-419e-aa64-566bf1f41bc4"
      },
      "source": [
        "#converter range em lista\n",
        "lista_range = []\n",
        "lista_range = list(range(1,11,1))\n",
        "lista_range"
      ],
      "execution_count": null,
      "outputs": [
        {
          "output_type": "execute_result",
          "data": {
            "text/plain": [
              "[1, 2, 3, 4, 5, 6, 7, 8, 9, 10]"
            ]
          },
          "metadata": {
            "tags": []
          },
          "execution_count": 88
        }
      ]
    },
    {
      "cell_type": "code",
      "metadata": {
        "id": "VHpeEHRi35rP",
        "colab": {
          "base_uri": "https://localhost:8080/",
          "height": 35
        },
        "outputId": "69df038e-d839-47ad-b2d5-ba29cde1d463"
      },
      "source": [
        "tupla_range = ()\n",
        "tupla_range = tuple(range(1,11,1))\n",
        "tupla_range"
      ],
      "execution_count": null,
      "outputs": [
        {
          "output_type": "execute_result",
          "data": {
            "text/plain": [
              "(1, 2, 3, 4, 5, 6, 7, 8, 9, 10)"
            ]
          },
          "metadata": {
            "tags": []
          },
          "execution_count": 90
        }
      ]
    },
    {
      "cell_type": "markdown",
      "metadata": {
        "id": "-SIPHKjL4K-d"
      },
      "source": [
        "###Exercícios Loops"
      ]
    },
    {
      "cell_type": "markdown",
      "metadata": {
        "id": "oYZ5x6sa4crd"
      },
      "source": [
        "Exercício <br>\n",
        "https://colab.research.google.com/github/marcellapbp/PythonFundamentos/blob/master/Cap03/Notebooks/DSA-Python-Cap03-Exercicios-Loops-Condiconais.ipynb\n",
        "\n",
        "Solução <br>\n",
        "https://colab.research.google.com/github/marcellapbp/PythonFundamentos/blob/master/Cap03/Notebooks/DSA-Python-Cap03-Exercicios-Loops-Condiconais-Solucao.ipynb"
      ]
    },
    {
      "cell_type": "markdown",
      "metadata": {
        "id": "Zcc6kYMt4eCK"
      },
      "source": [
        "###Métodos"
      ]
    },
    {
      "cell_type": "code",
      "metadata": {
        "id": "TXUq6itveU6L",
        "colab": {
          "base_uri": "https://localhost:8080/",
          "height": 35
        },
        "outputId": "85fd024c-e269-43f4-e829-433ff0abd89b"
      },
      "source": [
        "#usando um método no objeto lista\n",
        "lista = [1,2,3,4]\n",
        "lista.append(5)\n",
        "lista"
      ],
      "execution_count": null,
      "outputs": [
        {
          "output_type": "execute_result",
          "data": {
            "text/plain": [
              "[1, 2, 3, 4, 5]"
            ]
          },
          "metadata": {
            "tags": []
          },
          "execution_count": 2
        }
      ]
    },
    {
      "cell_type": "code",
      "metadata": {
        "id": "IJTynSkOe7Gn",
        "colab": {
          "base_uri": "https://localhost:8080/",
          "height": 108
        },
        "outputId": "10eceafb-852f-40c6-dc89-ffbfbf38be14"
      },
      "source": [
        "#método help explica como usar o método\n",
        "help(lista.count)"
      ],
      "execution_count": null,
      "outputs": [
        {
          "output_type": "stream",
          "text": [
            "Help on built-in function count:\n",
            "\n",
            "count(...) method of builtins.list instance\n",
            "    L.count(value) -> integer -- return number of occurrences of value\n",
            "\n"
          ],
          "name": "stdout"
        }
      ]
    },
    {
      "cell_type": "code",
      "metadata": {
        "id": "JAMXdHhWfZVX",
        "colab": {
          "base_uri": "https://localhost:8080/",
          "height": 853
        },
        "outputId": "604b0bbd-476f-4dd4-b95b-078f4f29302d"
      },
      "source": [
        "#dir função que mostra todos métodos e atributos do objeto\n",
        "dir(lista)"
      ],
      "execution_count": null,
      "outputs": [
        {
          "output_type": "execute_result",
          "data": {
            "text/plain": [
              "['__add__',\n",
              " '__class__',\n",
              " '__contains__',\n",
              " '__delattr__',\n",
              " '__delitem__',\n",
              " '__dir__',\n",
              " '__doc__',\n",
              " '__eq__',\n",
              " '__format__',\n",
              " '__ge__',\n",
              " '__getattribute__',\n",
              " '__getitem__',\n",
              " '__gt__',\n",
              " '__hash__',\n",
              " '__iadd__',\n",
              " '__imul__',\n",
              " '__init__',\n",
              " '__init_subclass__',\n",
              " '__iter__',\n",
              " '__le__',\n",
              " '__len__',\n",
              " '__lt__',\n",
              " '__mul__',\n",
              " '__ne__',\n",
              " '__new__',\n",
              " '__reduce__',\n",
              " '__reduce_ex__',\n",
              " '__repr__',\n",
              " '__reversed__',\n",
              " '__rmul__',\n",
              " '__setattr__',\n",
              " '__setitem__',\n",
              " '__sizeof__',\n",
              " '__str__',\n",
              " '__subclasshook__',\n",
              " 'append',\n",
              " 'clear',\n",
              " 'copy',\n",
              " 'count',\n",
              " 'extend',\n",
              " 'index',\n",
              " 'insert',\n",
              " 'pop',\n",
              " 'remove',\n",
              " 'reverse',\n",
              " 'sort']"
            ]
          },
          "metadata": {
            "tags": []
          },
          "execution_count": 4
        }
      ]
    },
    {
      "cell_type": "code",
      "metadata": {
        "id": "rvuCv5a1fsrb",
        "colab": {
          "base_uri": "https://localhost:8080/",
          "height": 35
        },
        "outputId": "3a83c430-59f7-4ec8-f8ce-b717ad7c10ae"
      },
      "source": [
        "#método sendo executado dentro de uma função\n",
        "#método sempre abre e fecha parênteses ao final, pode ter parâmetros ou não\n",
        "print(lista.count(1))"
      ],
      "execution_count": null,
      "outputs": [
        {
          "output_type": "stream",
          "text": [
            "1\n"
          ],
          "name": "stdout"
        }
      ]
    },
    {
      "cell_type": "markdown",
      "metadata": {
        "id": "1-NG-_ldhO_j"
      },
      "source": [
        "###Funções"
      ]
    },
    {
      "cell_type": "code",
      "metadata": {
        "id": "_oZ2lSLygDqn"
      },
      "source": [
        "#criando função\n",
        "\n",
        "def primeiraFuncao():\n",
        "  print('Hello World')"
      ],
      "execution_count": null,
      "outputs": []
    },
    {
      "cell_type": "code",
      "metadata": {
        "id": "nRBdba1Thf7x",
        "colab": {
          "base_uri": "https://localhost:8080/",
          "height": 35
        },
        "outputId": "b0a5ab60-71f1-4870-cf07-14cb7060e0dc"
      },
      "source": [
        "#chamando a função\n",
        "primeiraFuncao()"
      ],
      "execution_count": null,
      "outputs": [
        {
          "output_type": "stream",
          "text": [
            "Hello World\n"
          ],
          "name": "stdout"
        }
      ]
    },
    {
      "cell_type": "code",
      "metadata": {
        "id": "gUgFN750hh8o"
      },
      "source": [
        "#começar com letra minúscula, e próximas palavras com a primeira letra maiúscula\n",
        "#frase pequena\n",
        "def bemVindo(nome):\n",
        "  print('Olá %s' %(nome))"
      ],
      "execution_count": null,
      "outputs": []
    },
    {
      "cell_type": "code",
      "metadata": {
        "id": "gHX9Xkbfh2z2",
        "colab": {
          "base_uri": "https://localhost:8080/",
          "height": 35
        },
        "outputId": "d5d4ec3c-4c55-44e7-d998-9d7de3a7b112"
      },
      "source": [
        "bemvindo('Marcella')"
      ],
      "execution_count": null,
      "outputs": [
        {
          "output_type": "stream",
          "text": [
            "Olá Marcella\n"
          ],
          "name": "stdout"
        }
      ]
    },
    {
      "cell_type": "code",
      "metadata": {
        "id": "oOZxVxC8h4zT",
        "colab": {
          "base_uri": "https://localhost:8080/",
          "height": 53
        },
        "outputId": "eab183e1-9b81-4e36-a7be-dae5beecd9dc"
      },
      "source": [
        "#Variáveis Globais e Locais\n",
        "\n",
        "var_global = 10\n",
        "\n",
        "def soma(num1, num2):\n",
        "  var_global = num1 + num2 #essa é uma variável local, não afeta a global\n",
        "  print(var_global)\n",
        "\n",
        "soma(2,10)\n",
        "print(var_global)\n"
      ],
      "execution_count": null,
      "outputs": [
        {
          "output_type": "stream",
          "text": [
            "12\n",
            "10\n"
          ],
          "name": "stdout"
        }
      ]
    },
    {
      "cell_type": "code",
      "metadata": {
        "id": "eHaoDGY3jqgl",
        "colab": {
          "base_uri": "https://localhost:8080/",
          "height": 35
        },
        "outputId": "fa7a2f16-27a1-41a7-ddbd-d14810e07b65"
      },
      "source": [
        "lista = [1,2,3,4]\n",
        "sum(lista)"
      ],
      "execution_count": null,
      "outputs": [
        {
          "output_type": "execute_result",
          "data": {
            "text/plain": [
              "10"
            ]
          },
          "metadata": {
            "tags": []
          },
          "execution_count": 13
        }
      ]
    },
    {
      "cell_type": "code",
      "metadata": {
        "id": "N5ncWKfFlC1B",
        "colab": {
          "base_uri": "https://localhost:8080/",
          "height": 35
        },
        "outputId": "7f7f46a0-9bfc-42ec-81c3-5b50a7ab9aff"
      },
      "source": [
        "import math\n",
        "\n",
        "num = 16\n",
        "\n",
        "math.sqrt(num)"
      ],
      "execution_count": null,
      "outputs": [
        {
          "output_type": "execute_result",
          "data": {
            "text/plain": [
              "4.0"
            ]
          },
          "metadata": {
            "tags": []
          },
          "execution_count": 14
        }
      ]
    },
    {
      "cell_type": "code",
      "metadata": {
        "id": "8IN8kIj7oHNJ",
        "colab": {
          "base_uri": "https://localhost:8080/",
          "height": 144
        },
        "outputId": "f57d86d3-eb3c-499b-9d1c-1891c064fccf"
      },
      "source": [
        "#quando não souber a qtde de parâmetros antes da execução\n",
        "#usar * antes do nome do parâmetro\n",
        "def variosParam(arg1, *varios):\n",
        "  print(arg1)\n",
        "  for i in varios:\n",
        "    print(i)\n",
        "  return;\n",
        "\n",
        "variosParam(1,2,3,4,5,6)\n",
        "variosParam(30)\n"
      ],
      "execution_count": null,
      "outputs": [
        {
          "output_type": "stream",
          "text": [
            "1\n",
            "2\n",
            "3\n",
            "4\n",
            "5\n",
            "6\n",
            "30\n"
          ],
          "name": "stdout"
        }
      ]
    },
    {
      "cell_type": "markdown",
      "metadata": {
        "id": "CEgjcBiEpgMJ"
      },
      "source": [
        "###Lambda"
      ]
    },
    {
      "cell_type": "code",
      "metadata": {
        "id": "0ck6Du0bpQzb"
      },
      "source": [
        "# Definindo uma função - 3 linhas de código\n",
        "def potencia(num):\n",
        "    result = num**2\n",
        "    return result\n",
        "\n",
        "potencia(5)"
      ],
      "execution_count": null,
      "outputs": []
    },
    {
      "cell_type": "code",
      "metadata": {
        "id": "hRYRszXsrKGm",
        "colab": {
          "base_uri": "https://localhost:8080/",
          "height": 35
        },
        "outputId": "8ceef552-1e43-47b9-8c38-d9f74fd2ec41"
      },
      "source": [
        "# Definindo uma função - 2 linhas de código\n",
        "def potencia(num):\n",
        "    return num**2\n",
        "\n",
        "potencia(5)"
      ],
      "execution_count": null,
      "outputs": [
        {
          "output_type": "execute_result",
          "data": {
            "text/plain": [
              "25"
            ]
          },
          "metadata": {
            "tags": []
          },
          "execution_count": 23
        }
      ]
    },
    {
      "cell_type": "code",
      "metadata": {
        "id": "spUuc8I1rKvH",
        "colab": {
          "base_uri": "https://localhost:8080/",
          "height": 35
        },
        "outputId": "4aa39d38-c596-4f1d-e0d2-d080e64f194e"
      },
      "source": [
        "# Definindo uma função - 1 linha de código\n",
        "def potencia(num): return num**2\n",
        "\n",
        "potencia(5)"
      ],
      "execution_count": null,
      "outputs": [
        {
          "output_type": "execute_result",
          "data": {
            "text/plain": [
              "25"
            ]
          },
          "metadata": {
            "tags": []
          },
          "execution_count": 22
        }
      ]
    },
    {
      "cell_type": "code",
      "metadata": {
        "id": "VVJnI0EJrMSQ",
        "colab": {
          "base_uri": "https://localhost:8080/",
          "height": 35
        },
        "outputId": "539236c0-5156-47c6-c097-804580901c34"
      },
      "source": [
        "# Definindo uma expressão lambda (é uma função anônima, sem nome)\n",
        "potencia = lambda num: num**2\n",
        "\n",
        "potencia(5)\n"
      ],
      "execution_count": null,
      "outputs": [
        {
          "output_type": "execute_result",
          "data": {
            "text/plain": [
              "25"
            ]
          },
          "metadata": {
            "tags": []
          },
          "execution_count": 24
        }
      ]
    },
    {
      "cell_type": "code",
      "metadata": {
        "id": "bUy1DWlsrNtp",
        "colab": {
          "base_uri": "https://localhost:8080/",
          "height": 53
        },
        "outputId": "c801c926-978a-46e9-dfb9-099621d3b47c"
      },
      "source": [
        "isBolean = lambda b: b % 2 == 0\n",
        "\n",
        "print(isBolean(2))\n",
        "print(isBolean(3))"
      ],
      "execution_count": null,
      "outputs": [
        {
          "output_type": "stream",
          "text": [
            "True\n",
            "False\n"
          ],
          "name": "stdout"
        }
      ]
    },
    {
      "cell_type": "code",
      "metadata": {
        "id": "ibNwruGcr6Ia",
        "colab": {
          "base_uri": "https://localhost:8080/",
          "height": 35
        },
        "outputId": "37c61cdb-c80e-4f39-8297-4bec1f049b1d"
      },
      "source": [
        "inverso = lambda sentenca: sentenca[::-1]\n",
        "\n",
        "inverso('Marcella')"
      ],
      "execution_count": null,
      "outputs": [
        {
          "output_type": "execute_result",
          "data": {
            "text/plain": [
              "'allecraM'"
            ]
          },
          "metadata": {
            "tags": []
          },
          "execution_count": 27
        }
      ]
    },
    {
      "cell_type": "code",
      "metadata": {
        "id": "DmkHjHfBsNYA",
        "colab": {
          "base_uri": "https://localhost:8080/",
          "height": 35
        },
        "outputId": "a56f4d21-db7d-4a0f-b5df-cef4e2363316"
      },
      "source": [
        "#2 parâmetros\n",
        "soma = lambda x,y: x+y\n",
        "\n",
        "soma(1,2)"
      ],
      "execution_count": null,
      "outputs": [
        {
          "output_type": "execute_result",
          "data": {
            "text/plain": [
              "3"
            ]
          },
          "metadata": {
            "tags": []
          },
          "execution_count": 28
        }
      ]
    },
    {
      "cell_type": "markdown",
      "metadata": {
        "id": "xzDyJGHjsz-U"
      },
      "source": [
        "###Exercícios Funções\n",
        "Exercícios <br>\n",
        "https://colab.research.google.com/github/marcellapbp/PythonFundamentos/blob/master/Cap03/Notebooks/DSA-Python-Cap03-Exercicios-Funcoes.ipynb\n",
        "\n",
        "Solução <br>\n",
        "https://colab.research.google.com/github/marcellapbp/PythonFundamentos/blob/master/Cap03/Notebooks/DSA-Python-Cap03-Exercicios-Funcoes-Solucao.ipynb"
      ]
    },
    {
      "cell_type": "markdown",
      "metadata": {
        "id": "9bw7AL3VioWe"
      },
      "source": [
        "###Lab 02 - Desenvolvendo Uma Calculadora em Python"
      ]
    },
    {
      "cell_type": "code",
      "metadata": {
        "id": "h6qhqCdhszhB",
        "colab": {
          "base_uri": "https://localhost:8080/",
          "height": 726
        },
        "outputId": "14c15d2a-293a-441c-e429-2c2e1766990c"
      },
      "source": [
        "def executarCalculadora():\n",
        "  print('********************Python Calculator********************')\n",
        "  opcao = 1\n",
        "  while opcao > 0 and opcao < 5:\n",
        "    print('1 - Soma')\n",
        "    print('2 - Subtração')\n",
        "    print('3 - Multiplicação')\n",
        "    print('4 - Divisão')\n",
        "\n",
        "    opcao = int(input('Digite sua opção (1/2/3/4):'))\n",
        "\n",
        "    if (opcao > 0 and opcao <5):\n",
        "      num1 = int(input('Digite o primeiro número:'))\n",
        "      num2 = int(input('Digite o segundo número:'))\n",
        "      if (opcao == 1):#Soma\n",
        "        print('%s + %s = %s' %(num1,num2,num1+num2))\n",
        "      elif (opcao == 2):#Subtração\n",
        "        print('%s - %s = %s' %(num1,num2,num1-num2))\n",
        "      elif (opcao == 3):#Multiplicação\n",
        "        print('%s * %s = %s' %(num1,num2,num1*num2))\n",
        "      elif (opcao == 4):#Divisão\n",
        "        print('%s / %s = %s' %(num1,num2,num1/num2))\n",
        "\n",
        "  print('Opção Inválida! Calculadora Encerrada!')\n",
        "\n",
        "executarCalculadora()"
      ],
      "execution_count": null,
      "outputs": [
        {
          "output_type": "stream",
          "text": [
            "********************Python Calculator********************\n",
            "1 - Soma\n",
            "2 - Subtração\n",
            "3 - Multiplicação\n",
            "4 - Divisão\n",
            "Digite sua opção (1/2/3/4):1\n",
            "Digite o primeiro número:20\n",
            "Digite o segundo número:30\n",
            "20 + 30 = 50\n",
            "1 - Soma\n",
            "2 - Subtração\n",
            "3 - Multiplicação\n",
            "4 - Divisão\n",
            "Digite sua opção (1/2/3/4):2\n",
            "Digite o primeiro número:30\n",
            "Digite o segundo número:20\n",
            "30 - 20 = 10\n",
            "1 - Soma\n",
            "2 - Subtração\n",
            "3 - Multiplicação\n",
            "4 - Divisão\n",
            "Digite sua opção (1/2/3/4):3\n",
            "Digite o primeiro número:2\n",
            "Digite o segundo número:3\n",
            "2 * 3 = 6\n",
            "1 - Soma\n",
            "2 - Subtração\n",
            "3 - Multiplicação\n",
            "4 - Divisão\n",
            "Digite sua opção (1/2/3/4):4\n",
            "Digite o primeiro número:50\n",
            "Digite o segundo número:10\n",
            "50 / 10 = 5.0\n",
            "1 - Soma\n",
            "2 - Subtração\n",
            "3 - Multiplicação\n",
            "4 - Divisão\n",
            "Digite sua opção (1/2/3/4):-1\n",
            "Opção Inválida! Calculadora Encerrada!\n"
          ],
          "name": "stdout"
        }
      ]
    },
    {
      "cell_type": "markdown",
      "metadata": {
        "id": "v19GImYLS-3_"
      },
      "source": [
        "##Capítulo 4 - Tratamento de Arquivos, Métodos, Pacotes e Funções Built-in"
      ]
    },
    {
      "cell_type": "markdown",
      "metadata": {
        "id": "tDU3R4TDOQxY"
      },
      "source": [
        "###Arquivos CSV e TXT"
      ]
    },
    {
      "cell_type": "markdown",
      "metadata": {
        "id": "MV_nR2WVb1ke"
      },
      "source": [
        "####Operações"
      ]
    },
    {
      "cell_type": "code",
      "metadata": {
        "id": "MwuBHg-JytgH"
      },
      "source": [
        "#abrindo arquivo para somente leitura\n",
        "arq1 = open('arquivo1.txt','r')"
      ],
      "execution_count": null,
      "outputs": []
    },
    {
      "cell_type": "code",
      "metadata": {
        "id": "8LK0NRzreQh7",
        "colab": {
          "base_uri": "https://localhost:8080/",
          "height": 35
        },
        "outputId": "ea80b332-94ee-44aa-ee11-d5080a52fee6"
      },
      "source": [
        "#ler o arquivo\n",
        "print(arq1.read())"
      ],
      "execution_count": null,
      "outputs": [
        {
          "output_type": "stream",
          "text": [
            "Python é uma linguagem poderosa!\n"
          ],
          "name": "stdout"
        }
      ]
    },
    {
      "cell_type": "code",
      "metadata": {
        "id": "9EuwODJkeblS",
        "colab": {
          "base_uri": "https://localhost:8080/",
          "height": 35
        },
        "outputId": "f6c23e1d-6626-4f49-a68d-603b974a8b94"
      },
      "source": [
        "#conta caracteres\n",
        "print(arq1.tell())"
      ],
      "execution_count": null,
      "outputs": [
        {
          "output_type": "stream",
          "text": [
            "33\n"
          ],
          "name": "stdout"
        }
      ]
    },
    {
      "cell_type": "code",
      "metadata": {
        "id": "_xEeHepJeeg7",
        "colab": {
          "base_uri": "https://localhost:8080/",
          "height": 35
        },
        "outputId": "a0bce246-7fa9-427f-a62e-3a62fb7f6e71"
      },
      "source": [
        "#retornar a um ponto específico do arquivo\n",
        "print(arq1.seek(0,0))#<linha>,<coluna>"
      ],
      "execution_count": null,
      "outputs": [
        {
          "output_type": "stream",
          "text": [
            "0\n"
          ],
          "name": "stdout"
        }
      ]
    },
    {
      "cell_type": "code",
      "metadata": {
        "id": "R_9mV3JeeqTz",
        "colab": {
          "base_uri": "https://localhost:8080/",
          "height": 35
        },
        "outputId": "99e1480a-facd-46d3-b58c-3eb9fb60870b"
      },
      "source": [
        "#ler os 10 primeiros caracteres do arquivo a partir de onde o cursor parou\n",
        "print(arq1.read(10))"
      ],
      "execution_count": null,
      "outputs": [
        {
          "output_type": "stream",
          "text": [
            "Python é u\n"
          ],
          "name": "stdout"
        }
      ]
    },
    {
      "cell_type": "code",
      "metadata": {
        "id": "Po0WN5Kre4PB"
      },
      "source": [
        "#abrindo arquivo para somente escrita (não permite executar método read)\n",
        "arq2 = open('arquivo1.txt','w')"
      ],
      "execution_count": null,
      "outputs": []
    },
    {
      "cell_type": "code",
      "metadata": {
        "id": "SjcgNAe_ft7-",
        "colab": {
          "base_uri": "https://localhost:8080/",
          "height": 35
        },
        "outputId": "bc99f0ef-e779-4e61-cfd6-a1f961980525"
      },
      "source": [
        "arq2.write('Testando escrita')"
      ],
      "execution_count": null,
      "outputs": [
        {
          "output_type": "execute_result",
          "data": {
            "text/plain": [
              "16"
            ]
          },
          "metadata": {
            "tags": []
          },
          "execution_count": 17
        }
      ]
    },
    {
      "cell_type": "code",
      "metadata": {
        "id": "_vYT5jj-f34E"
      },
      "source": [
        "arq2 = open('arquivo1.txt','r')"
      ],
      "execution_count": null,
      "outputs": []
    },
    {
      "cell_type": "code",
      "metadata": {
        "id": "mg-xJe8Of6_n",
        "colab": {
          "base_uri": "https://localhost:8080/",
          "height": 35
        },
        "outputId": "43c56807-5c41-4f7d-dd7e-a7b9f3a0b11d"
      },
      "source": [
        "print(arq2.read())"
      ],
      "execution_count": null,
      "outputs": [
        {
          "output_type": "stream",
          "text": [
            "Testando escrita\n"
          ],
          "name": "stdout"
        }
      ]
    },
    {
      "cell_type": "code",
      "metadata": {
        "id": "INX3aE8Ff85g"
      },
      "source": [
        "#append, adiciona ao final\n",
        "arq2 = open('arquivo1.txt','a')"
      ],
      "execution_count": null,
      "outputs": []
    },
    {
      "cell_type": "code",
      "metadata": {
        "id": "z1r3d0c0gDpk",
        "colab": {
          "base_uri": "https://localhost:8080/",
          "height": 35
        },
        "outputId": "a344a1c8-a559-4d5f-b1d1-aa953d2ccb94"
      },
      "source": [
        "arq2.write('adicionando ao final')"
      ],
      "execution_count": null,
      "outputs": [
        {
          "output_type": "execute_result",
          "data": {
            "text/plain": [
              "20"
            ]
          },
          "metadata": {
            "tags": []
          },
          "execution_count": 22
        }
      ]
    },
    {
      "cell_type": "code",
      "metadata": {
        "id": "RAlHkTCYgS2f"
      },
      "source": [
        "#fechar arquivo\n",
        "arq2.close()"
      ],
      "execution_count": null,
      "outputs": []
    },
    {
      "cell_type": "code",
      "metadata": {
        "id": "nfYEKNuugIe9"
      },
      "source": [
        "arq2 = open('arquivo1.txt','r')"
      ],
      "execution_count": null,
      "outputs": []
    },
    {
      "cell_type": "code",
      "metadata": {
        "id": "CvDpYwndgLle",
        "colab": {
          "base_uri": "https://localhost:8080/",
          "height": 35
        },
        "outputId": "0653b01a-0925-4ebc-847e-e79b029f9a78"
      },
      "source": [
        "print(arq2.read())"
      ],
      "execution_count": null,
      "outputs": [
        {
          "output_type": "stream",
          "text": [
            "Testando escritaadicionando ao final\n"
          ],
          "name": "stdout"
        }
      ]
    },
    {
      "cell_type": "code",
      "metadata": {
        "id": "O3D1rzfygN__",
        "colab": {
          "base_uri": "https://localhost:8080/",
          "height": 35
        },
        "outputId": "88b61a8d-01b3-4ada-dafc-69ac007596c0"
      },
      "source": [
        "#Criando arquivo novo\n",
        "filename = input(\"Informe o nome do arquivo: \")"
      ],
      "execution_count": null,
      "outputs": [
        {
          "output_type": "stream",
          "text": [
            "Informe o nome do arquivo: teste\n"
          ],
          "name": "stdout"
        }
      ]
    },
    {
      "cell_type": "code",
      "metadata": {
        "id": "FJ8JptR5Oi7h",
        "colab": {
          "base_uri": "https://localhost:8080/",
          "height": 35
        },
        "outputId": "0fa53fc1-4fbb-402a-8a9d-19325d2d6a38"
      },
      "source": [
        "filename += '.txt'\n",
        "print(filename)"
      ],
      "execution_count": null,
      "outputs": [
        {
          "output_type": "stream",
          "text": [
            "teste.txt\n"
          ],
          "name": "stdout"
        }
      ]
    },
    {
      "cell_type": "code",
      "metadata": {
        "id": "POfQEbJPOpxY"
      },
      "source": [
        "arq3 = open(filename, 'w')"
      ],
      "execution_count": null,
      "outputs": []
    },
    {
      "cell_type": "code",
      "metadata": {
        "id": "gYvTN1LiOxI8",
        "colab": {
          "base_uri": "https://localhost:8080/",
          "height": 35
        },
        "outputId": "d9a77b8e-0d46-4ffe-9886-fec2b5b5734e"
      },
      "source": [
        "arq3.write(\"Incluindo texto no arquivo\")"
      ],
      "execution_count": null,
      "outputs": [
        {
          "output_type": "execute_result",
          "data": {
            "text/plain": [
              "26"
            ]
          },
          "metadata": {
            "tags": []
          },
          "execution_count": 4
        }
      ]
    },
    {
      "cell_type": "code",
      "metadata": {
        "id": "OWDL0hRuO1y_"
      },
      "source": [
        "arq3.close()\n"
      ],
      "execution_count": null,
      "outputs": []
    },
    {
      "cell_type": "code",
      "metadata": {
        "id": "LCTS6PTwO5Hy"
      },
      "source": [
        "arq3 = open(filename, 'r')"
      ],
      "execution_count": null,
      "outputs": []
    },
    {
      "cell_type": "code",
      "metadata": {
        "id": "obCVKghNO6Uk",
        "colab": {
          "base_uri": "https://localhost:8080/",
          "height": 35
        },
        "outputId": "fa41c002-612c-446a-e733-8f946d1cda9d"
      },
      "source": [
        "arq3.read()"
      ],
      "execution_count": null,
      "outputs": [
        {
          "output_type": "execute_result",
          "data": {
            "text/plain": [
              "'Incluindo texto no arquivo'"
            ]
          },
          "metadata": {
            "tags": []
          },
          "execution_count": 7
        }
      ]
    },
    {
      "cell_type": "code",
      "metadata": {
        "id": "zYjPh8oCO7ad"
      },
      "source": [
        "arq3.close()"
      ],
      "execution_count": null,
      "outputs": []
    },
    {
      "cell_type": "code",
      "metadata": {
        "id": "vjxdzd8cPx7s"
      },
      "source": [
        "#abrindo dataset csv com funções built-in \n",
        "#(funções padrões do python, sem necessidade de importar biblioteca)\n",
        "arquivo = open('salarios.csv','r')\n",
        "dados = arquivo.read()\n",
        "registros = dados.split('\\n')\n",
        "print(registros)"
      ],
      "execution_count": null,
      "outputs": []
    },
    {
      "cell_type": "code",
      "metadata": {
        "id": "9gBgjXoNQNxe"
      },
      "source": [
        "#dividindo a linha em colunas\n",
        "dados_estruturados = []\n",
        "count = 0\n",
        "for registro in registros:\n",
        "  reg_separado = registro.split(',')\n",
        "  dados_estruturados.append(reg_separado)\n",
        "  #contar linhas\n",
        "  count += 1\n",
        "print(dados_estruturados)\n",
        "print(count)"
      ],
      "execution_count": null,
      "outputs": []
    },
    {
      "cell_type": "code",
      "metadata": {
        "id": "t8f9tZjER-2x",
        "colab": {
          "base_uri": "https://localhost:8080/",
          "height": 35
        },
        "outputId": "a6e971f0-d0d4-49a4-f17a-7c9c5dcdbf3c"
      },
      "source": [
        "#contar as colunas\n",
        "linha1 = registros[0]\n",
        "colunas = linha1.split(',')\n",
        "count = 0\n",
        "for coluna in colunas:\n",
        "  count+= 1\n",
        "print(count)"
      ],
      "execution_count": null,
      "outputs": [
        {
          "output_type": "stream",
          "text": [
            "4\n"
          ],
          "name": "stdout"
        }
      ]
    },
    {
      "cell_type": "markdown",
      "metadata": {
        "id": "1FEEh28Vb7l5"
      },
      "source": [
        "####Comandos Mágicos"
      ]
    },
    {
      "cell_type": "code",
      "metadata": {
        "id": "SgtAlox_TV8K",
        "colab": {
          "base_uri": "https://localhost:8080/",
          "height": 35
        },
        "outputId": "627cb298-df4d-475c-a45a-86e79a4ac28a"
      },
      "source": [
        "#criando arquivo pelo Jupyter Notebook\n",
        "#comandos mágicos, só funciona no Jupyter\n",
        "%%writefile teste2.txt\n",
        "Testando os comandos mágicos do Jupyter Notebook\n",
        "No Google Colab também funciona.\n",
        "Testando 1,2,3"
      ],
      "execution_count": null,
      "outputs": [
        {
          "output_type": "stream",
          "text": [
            "Overwriting teste2.txt\n"
          ],
          "name": "stdout"
        }
      ]
    },
    {
      "cell_type": "code",
      "metadata": {
        "id": "iRx8cGLrXyv1",
        "colab": {
          "base_uri": "https://localhost:8080/",
          "height": 72
        },
        "outputId": "b97b6409-2030-48b3-b23b-fd9ea16d394f"
      },
      "source": [
        "arq4 = open('teste2.txt', 'r')\n",
        "print(arq4.read())"
      ],
      "execution_count": null,
      "outputs": [
        {
          "output_type": "stream",
          "text": [
            "Testando os comandos mágicos do Jupyter Notebook\n",
            "No Google Colab também funciona.\n",
            "Testando 1,2,3\n"
          ],
          "name": "stdout"
        }
      ]
    },
    {
      "cell_type": "code",
      "metadata": {
        "id": "YAEIYKlXYCh6",
        "colab": {
          "base_uri": "https://localhost:8080/",
          "height": 35
        },
        "outputId": "55d0c386-8acb-4a82-e869-4870494b154d"
      },
      "source": [
        "#o cursor já leu o arquivo todo e ficou na posição final\n",
        "#não há mais nada para ler\n",
        "print(arq4.read())"
      ],
      "execution_count": null,
      "outputs": [
        {
          "output_type": "stream",
          "text": [
            "\n"
          ],
          "name": "stdout"
        }
      ]
    },
    {
      "cell_type": "code",
      "metadata": {
        "id": "mpAbL5NaYc32",
        "colab": {
          "base_uri": "https://localhost:8080/",
          "height": 72
        },
        "outputId": "d98d4c1d-93c5-46b0-ac89-cf2c3153a657"
      },
      "source": [
        "#para ler do começo\n",
        "arq4.seek(0)\n",
        "print(arq4.read())"
      ],
      "execution_count": null,
      "outputs": [
        {
          "output_type": "stream",
          "text": [
            "Testando os comandos mágicos do Jupyter Notebook\n",
            "No Google Colab também funciona.\n",
            "Testando 1,2,3\n"
          ],
          "name": "stdout"
        }
      ]
    },
    {
      "cell_type": "code",
      "metadata": {
        "id": "CvFjvXgoYijG",
        "colab": {
          "base_uri": "https://localhost:8080/",
          "height": 35
        },
        "outputId": "2ffb08d3-4efd-4290-ce63-e5e556d4f293"
      },
      "source": [
        "#separa as linhas\n",
        "arq4.seek(0)\n",
        "print(arq4.readlines())"
      ],
      "execution_count": null,
      "outputs": [
        {
          "output_type": "stream",
          "text": [
            "['Testando os comandos mágicos do Jupyter Notebook\\n', 'No Google Colab também funciona.\\n', 'Testando 1,2,3']\n"
          ],
          "name": "stdout"
        }
      ]
    },
    {
      "cell_type": "code",
      "metadata": {
        "id": "OviapzagYwJ1",
        "colab": {
          "base_uri": "https://localhost:8080/",
          "height": 108
        },
        "outputId": "163d588a-99a8-43a7-a815-46f50c287c91"
      },
      "source": [
        "#lendo de outra forma\n",
        "for line in open('teste2.txt'):\n",
        "  print(line)"
      ],
      "execution_count": null,
      "outputs": [
        {
          "output_type": "stream",
          "text": [
            "Testando os comandos mágicos do Jupyter Notebook\n",
            "\n",
            "No Google Colab também funciona.\n",
            "\n",
            "Testando 1,2,3\n"
          ],
          "name": "stdout"
        }
      ]
    },
    {
      "cell_type": "markdown",
      "metadata": {
        "id": "c6xg7zzYcAOB"
      },
      "source": [
        "####Importando Biblioteca Pandas"
      ]
    },
    {
      "cell_type": "code",
      "metadata": {
        "id": "vEoq6PvtZCcw"
      },
      "source": [
        "#lendo arquivo com Pandas\n",
        "import pandas as pd\n",
        "\n",
        "file_name = 'salarios.csv'\n",
        "arq5 = pd.read_csv(file_name)"
      ],
      "execution_count": null,
      "outputs": []
    },
    {
      "cell_type": "code",
      "metadata": {
        "id": "eoBrWGLxZeHi",
        "colab": {
          "base_uri": "https://localhost:8080/",
          "height": 206
        },
        "outputId": "d4953a0b-be0f-4494-caff-b779fe0a478e"
      },
      "source": [
        "#mostra as primeiras linhas do arquivo\n",
        "arq5.head()"
      ],
      "execution_count": null,
      "outputs": [
        {
          "output_type": "execute_result",
          "data": {
            "text/html": [
              "<div>\n",
              "<style scoped>\n",
              "    .dataframe tbody tr th:only-of-type {\n",
              "        vertical-align: middle;\n",
              "    }\n",
              "\n",
              "    .dataframe tbody tr th {\n",
              "        vertical-align: top;\n",
              "    }\n",
              "\n",
              "    .dataframe thead th {\n",
              "        text-align: right;\n",
              "    }\n",
              "</style>\n",
              "<table border=\"1\" class=\"dataframe\">\n",
              "  <thead>\n",
              "    <tr style=\"text-align: right;\">\n",
              "      <th></th>\n",
              "      <th>Name</th>\n",
              "      <th>Position Title</th>\n",
              "      <th>Department</th>\n",
              "      <th>Employee Annual Salary</th>\n",
              "    </tr>\n",
              "  </thead>\n",
              "  <tbody>\n",
              "    <tr>\n",
              "      <th>0</th>\n",
              "      <td>AARON,  ELVIA J</td>\n",
              "      <td>WATER RATE TAKER</td>\n",
              "      <td>WATER MGMNT</td>\n",
              "      <td>$88967.00</td>\n",
              "    </tr>\n",
              "    <tr>\n",
              "      <th>1</th>\n",
              "      <td>AARON,  JEFFERY M</td>\n",
              "      <td>POLICE OFFICER</td>\n",
              "      <td>POLICE</td>\n",
              "      <td>$80778.00</td>\n",
              "    </tr>\n",
              "    <tr>\n",
              "      <th>2</th>\n",
              "      <td>AARON,  KARINA</td>\n",
              "      <td>POLICE OFFICER</td>\n",
              "      <td>POLICE</td>\n",
              "      <td>$80778.00</td>\n",
              "    </tr>\n",
              "    <tr>\n",
              "      <th>3</th>\n",
              "      <td>AARON,  KIMBERLEI R</td>\n",
              "      <td>CHIEF CONTRACT EXPEDITER</td>\n",
              "      <td>GENERAL SERVICES</td>\n",
              "      <td>$84780.00</td>\n",
              "    </tr>\n",
              "    <tr>\n",
              "      <th>4</th>\n",
              "      <td>ABAD JR,  VICENTE M</td>\n",
              "      <td>CIVIL ENGINEER IV</td>\n",
              "      <td>WATER MGMNT</td>\n",
              "      <td>$104736.00</td>\n",
              "    </tr>\n",
              "  </tbody>\n",
              "</table>\n",
              "</div>"
            ],
            "text/plain": [
              "                  Name  ... Employee Annual Salary\n",
              "0      AARON,  ELVIA J  ...              $88967.00\n",
              "1    AARON,  JEFFERY M  ...              $80778.00\n",
              "2       AARON,  KARINA  ...              $80778.00\n",
              "3  AARON,  KIMBERLEI R  ...              $84780.00\n",
              "4  ABAD JR,  VICENTE M  ...             $104736.00\n",
              "\n",
              "[5 rows x 4 columns]"
            ]
          },
          "metadata": {
            "tags": []
          },
          "execution_count": 25
        }
      ]
    },
    {
      "cell_type": "code",
      "metadata": {
        "id": "RADgL8Yps3CO"
      },
      "source": [
        "#iloc é mais flexível para escolher quais linhas e colunas exibir\n",
        "arq5.iloc[:10,:2]#primeiro range de linhas, range de colunas - então traz primeiras 10 linhas e 2 primeiras colunas"
      ],
      "execution_count": null,
      "outputs": []
    },
    {
      "cell_type": "markdown",
      "metadata": {
        "id": "6u9Y4LpZcDz1"
      },
      "source": [
        "####Importando Biblioteca OS"
      ]
    },
    {
      "cell_type": "code",
      "metadata": {
        "id": "GoCA2U-5ZgxR"
      },
      "source": [
        "#Importando módulo OS (para manipulação do SO, Sistema de Arquivos, Variáveis de Sistema e ect)\n",
        "import os\n",
        "#criando arquivo\n",
        "arq6 = open(os.path.join('cientista.txt'),'w')"
      ],
      "execution_count": null,
      "outputs": []
    },
    {
      "cell_type": "code",
      "metadata": {
        "id": "_cU-kb4RawiB",
        "colab": {
          "base_uri": "https://localhost:8080/",
          "height": 90
        },
        "outputId": "48f851e8-ab85-405f-8a90-ff6ee024f41d"
      },
      "source": [
        "texto = 'Estou aprendendo Python para começar a carreira de Data Science.\\n'\n",
        "texto += 'Python me surpreendeu pela simplicidade e flexibilidade.\\n'\n",
        "texto += 'Mal vejo a hora de finalizar o curso.\\n'\n",
        "\n",
        "print(texto)"
      ],
      "execution_count": null,
      "outputs": [
        {
          "output_type": "stream",
          "text": [
            "Estou aprendendo Python para começar a carreira de Data Science.\n",
            "Python me surpreendeu pela simplicidade e flexibilidade.\n",
            "Mal vejo a hora de finalizar o curso.\n",
            "\n"
          ],
          "name": "stdout"
        }
      ]
    },
    {
      "cell_type": "code",
      "metadata": {
        "id": "PmayoWqMbDME",
        "colab": {
          "base_uri": "https://localhost:8080/",
          "height": 55
        },
        "outputId": "c1a8e131-5c11-4d76-8c94-fe66bdeae4e8"
      },
      "source": [
        "for palavra in texto.split():\n",
        "  arq6.write(palavra + ' ')\n",
        "\n",
        "arq6.close\n",
        "arq6 = open('cientista.txt','r')\n",
        "conteudo = arq6.read()\n",
        "arq6.close()\n",
        "\n",
        "print(conteudo)"
      ],
      "execution_count": null,
      "outputs": [
        {
          "output_type": "stream",
          "text": [
            "Estou aprendendo Python para começar a carreira de Data Science. Python me surpreendeu pela simplicidade e flexibilidade. Mal vejo a hora de finalizar o curso. \n"
          ],
          "name": "stdout"
        }
      ]
    },
    {
      "cell_type": "markdown",
      "metadata": {
        "id": "j-XhFXPpcHYw"
      },
      "source": [
        "####Expressão With"
      ]
    },
    {
      "cell_type": "code",
      "metadata": {
        "id": "m3GjWwg-beJu",
        "colab": {
          "base_uri": "https://localhost:8080/",
          "height": 73
        },
        "outputId": "7af98268-7457-4812-9ca5-d31fde5f2d19"
      },
      "source": [
        "with open('cientista.txt','r') as arquivo:\n",
        "  conteudo = arquivo.read()\n",
        "\n",
        "print(conteudo)\n",
        "print(len(conteudo))"
      ],
      "execution_count": null,
      "outputs": [
        {
          "output_type": "stream",
          "text": [
            "Estou aprendendo Python para começar a carreira de Data Science. Python me surpreendeu pela simplicidade e flexibilidade. Mal vejo a hora de finalizar o curso. \n",
            "160\n"
          ],
          "name": "stdout"
        }
      ]
    },
    {
      "cell_type": "code",
      "metadata": {
        "id": "VW7aOUEQcWdl",
        "colab": {
          "base_uri": "https://localhost:8080/",
          "height": 126
        },
        "outputId": "91be9d87-26e2-4762-e992-b4f899a7b2fe"
      },
      "source": [
        "with open('cientista.txt', 'w') as arquivo:\n",
        "  arquivo.write(texto[:65])\n",
        "  arquivo.write('\\n')\n",
        "  arquivo.write(texto[65:122])\n",
        "  arquivo.write('\\n')\n",
        "  arquivo.write(texto[122:])\n",
        "\n",
        "arquivo = open('cientista.txt','r').read()\n",
        "print(arquivo)"
      ],
      "execution_count": null,
      "outputs": [
        {
          "output_type": "stream",
          "text": [
            "Estou aprendendo Python para começar a carreira de Data Science.\n",
            "\n",
            "Python me surpreendeu pela simplicidade e flexibilidade.\n",
            "\n",
            "Mal vejo a hora de finalizar o curso.\n",
            "\n"
          ],
          "name": "stdout"
        }
      ]
    },
    {
      "cell_type": "markdown",
      "metadata": {
        "id": "HPbbDH21kC6b"
      },
      "source": [
        "####Importando Biblioteca CSV"
      ]
    },
    {
      "cell_type": "code",
      "metadata": {
        "id": "RJgj4rz3dS1t"
      },
      "source": [
        "import csv\n",
        "#criando arquivo csv\n",
        "with open('numeros.csv','w') as arq_csv:\n",
        "  writer = csv.writer(arq_csv)\n",
        "  writer.writerow(('primeira','segunda','terceira'))\n",
        "  writer.writerow((55,93,66))\n",
        "  writer.writerow((62,14,86))"
      ],
      "execution_count": null,
      "outputs": []
    },
    {
      "cell_type": "code",
      "metadata": {
        "id": "IN6YHPhOk2uR",
        "colab": {
          "base_uri": "https://localhost:8080/",
          "height": 126
        },
        "outputId": "eb467b7f-6202-436a-b499-0706cc40bb9a"
      },
      "source": [
        "with open('numeros.csv','r') as arq_csv:\n",
        "  reader = csv.reader(arq_csv)\n",
        "  for x in reader:\n",
        "    print('Número de Colunas: %s' %(len(x)))\n",
        "    print(x)"
      ],
      "execution_count": null,
      "outputs": [
        {
          "output_type": "stream",
          "text": [
            "Número de Colunas: 3\n",
            "['primeira', 'segunda', 'terceira']\n",
            "Número de Colunas: 3\n",
            "['55', '93', '66']\n",
            "Número de Colunas: 3\n",
            "['62', '14', '86']\n"
          ],
          "name": "stdout"
        }
      ]
    },
    {
      "cell_type": "code",
      "metadata": {
        "id": "H4b7MpArl1SY",
        "colab": {
          "base_uri": "https://localhost:8080/",
          "height": 508
        },
        "outputId": "27cda4b1-18b7-4a10-9cb5-d787286336e1"
      },
      "source": [
        "with open('numeros.csv','r') as arq_csv:\n",
        "  reader = csv.reader(arq_csv)\n",
        "  count_coluna = 0\n",
        "  count_linha = 0\n",
        "  for x in reader:\n",
        "    count_linha += 1\n",
        "    print('\\n\\nLinha %s: %s' %(count_linha,x))\n",
        "    for y in x:\n",
        "      count_coluna += 1\n",
        "      print('\\nLinha %s Coluna %s: %s' %(count_linha, count_coluna,y))\n",
        "    count_coluna = 0"
      ],
      "execution_count": null,
      "outputs": [
        {
          "output_type": "stream",
          "text": [
            "\n",
            "\n",
            "Linha 1: ['primeira', 'segunda', 'terceira']\n",
            "\n",
            "Linha 1 Coluna 1: primeira\n",
            "\n",
            "Linha 1 Coluna 2: segunda\n",
            "\n",
            "Linha 1 Coluna 3: terceira\n",
            "\n",
            "\n",
            "Linha 2: ['55', '93', '66']\n",
            "\n",
            "Linha 2 Coluna 1: 55\n",
            "\n",
            "Linha 2 Coluna 2: 93\n",
            "\n",
            "Linha 2 Coluna 3: 66\n",
            "\n",
            "\n",
            "Linha 3: ['62', '14', '86']\n",
            "\n",
            "Linha 3 Coluna 1: 62\n",
            "\n",
            "Linha 3 Coluna 2: 14\n",
            "\n",
            "Linha 3 Coluna 3: 86\n"
          ],
          "name": "stdout"
        }
      ]
    },
    {
      "cell_type": "code",
      "metadata": {
        "id": "F6-KgJi7mDHs",
        "colab": {
          "base_uri": "https://localhost:8080/",
          "height": 35
        },
        "outputId": "b6c60073-0ab0-412b-db70-dd5dff5fc989"
      },
      "source": [
        "with open('numeros.csv','r') as arq_csv2:\n",
        "  leitor = csv.reader(arq_csv2)\n",
        "  dados = list(leitor)\n",
        "  print(dados)"
      ],
      "execution_count": null,
      "outputs": [
        {
          "output_type": "stream",
          "text": [
            "[['primeira', 'segunda', 'terceira'], ['55', '93', '66'], ['62', '14', '86']]\n"
          ],
          "name": "stdout"
        }
      ]
    },
    {
      "cell_type": "code",
      "metadata": {
        "id": "UFpJU_QunDOg",
        "colab": {
          "base_uri": "https://localhost:8080/",
          "height": 53
        },
        "outputId": "a22febc1-cced-4e20-c6bf-b537e0c0b013"
      },
      "source": [
        "for linha in dados[1:]:#tirando cabeçalho\n",
        "  print(linha)"
      ],
      "execution_count": null,
      "outputs": [
        {
          "output_type": "stream",
          "text": [
            "['55', '93', '66']\n",
            "['62', '14', '86']\n"
          ],
          "name": "stdout"
        }
      ]
    },
    {
      "cell_type": "markdown",
      "metadata": {
        "id": "CUCstDdiI2i1"
      },
      "source": [
        "###Arquivos JSON (Java Script Object Notation)"
      ]
    },
    {
      "cell_type": "code",
      "metadata": {
        "id": "V1AA9rXMntgX",
        "colab": {
          "base_uri": "https://localhost:8080/",
          "height": 90
        },
        "outputId": "9c819e7d-e842-4092-ca88-e0894a84faa6"
      },
      "source": [
        "#criando dicionario e imprimindo\n",
        "dict = {\n",
        "      'Nome':'Marcella'\n",
        "    , 'Linguagem': 'Python'\n",
        "    , 'Similar':['C','Java','R']\n",
        "    , 'User': 100000\n",
        "}\n",
        "\n",
        "for k,v in dict.items():\n",
        "  print(k,v)"
      ],
      "execution_count": null,
      "outputs": [
        {
          "output_type": "stream",
          "text": [
            "Nome Marcella\n",
            "Linguagem Python\n",
            "Similar ['C', 'Java', 'R']\n",
            "User 100000\n"
          ],
          "name": "stdout"
        }
      ]
    },
    {
      "cell_type": "code",
      "metadata": {
        "id": "b5nHcGqsKTMI",
        "colab": {
          "base_uri": "https://localhost:8080/",
          "height": 35
        },
        "outputId": "9d9c770f-631a-4c99-d0cc-5a2d08d2f31c"
      },
      "source": [
        "#importando biblioteca json\n",
        "import json\n",
        "#convertendo dicionário para arquivo json\n",
        "#dicionario basicamente segue a mesma estrutura que json\n",
        "json.dumps(dict)"
      ],
      "execution_count": null,
      "outputs": [
        {
          "output_type": "execute_result",
          "data": {
            "text/plain": [
              "'{\"Nome\": \"Marcella\", \"Linguagem\": \"Python\", \"Similar\": [\"C\", \"Java\", \"R\"], \"User\": 100000}'"
            ]
          },
          "metadata": {
            "tags": []
          },
          "execution_count": 2
        }
      ]
    },
    {
      "cell_type": "code",
      "metadata": {
        "id": "KdOg2VWoKem2"
      },
      "source": [
        "with open('dados.json', 'w') as json_file:\n",
        "  json_file.write(json.dumps(dict))\n",
        "\n",
        "json_file.close()"
      ],
      "execution_count": null,
      "outputs": []
    },
    {
      "cell_type": "code",
      "metadata": {
        "id": "-7BqefE_LBRy",
        "colab": {
          "base_uri": "https://localhost:8080/",
          "height": 35
        },
        "outputId": "80863913-f9f2-48e9-d254-79f56a9ec6a1"
      },
      "source": [
        "with open('dados.json','r') as json_file:\n",
        "  dados = json_file.read()\n",
        "  #converter json em dicionário\n",
        "  dict = json.loads(dados)\n",
        "json_file.close()\n",
        "print(dict)"
      ],
      "execution_count": null,
      "outputs": [
        {
          "output_type": "stream",
          "text": [
            "{'Nome': 'Marcella', 'Linguagem': 'Python', 'Similar': ['C', 'Java', 'R'], 'User': 100000}\n"
          ],
          "name": "stdout"
        }
      ]
    },
    {
      "cell_type": "code",
      "metadata": {
        "id": "U_4yyur2Lg7h",
        "colab": {
          "base_uri": "https://localhost:8080/",
          "height": 35
        },
        "outputId": "710b8954-a91a-412a-c31c-0063f7bc452e"
      },
      "source": [
        "print(dict['Nome'])"
      ],
      "execution_count": null,
      "outputs": [
        {
          "output_type": "stream",
          "text": [
            "Marcella\n"
          ],
          "name": "stdout"
        }
      ]
    },
    {
      "cell_type": "code",
      "metadata": {
        "id": "8K8o-BK1LqAH",
        "colab": {
          "base_uri": "https://localhost:8080/",
          "height": 55
        },
        "outputId": "8f818538-21fa-472e-ab82-b5330f059f8e"
      },
      "source": [
        "#buscar json na web\n",
        "from urllib.request import urlopen\n",
        "\n",
        "response = urlopen('http://vimeo.com/api/v2/video/57733101.json').read().decode('utf8')\n",
        "data = json.loads(response)[0]\n",
        "\n",
        "print(data)"
      ],
      "execution_count": null,
      "outputs": [
        {
          "output_type": "stream",
          "text": [
            "{'id': 57733101, 'title': 'The Good Man trailer', 'description': 'Trailer for the Manifesto Films production, The Good Man, now available in UK/Ireland/US/Canada/Australia/New Zealand on iTunes (https://itunes.apple.com/us/movie/the-good-man/id873130906) and DVD (http://www.amazon.co.uk/The-Good-Man-Aiden-Gillen/dp/B00IIK6CGU/). Co-production with Jet Black Entertainment (South Africa). Starring Aidan Gillen, Thabang Sidloyi, Kelly Campbell, Lunathi Mampofu. Written & directed by Phil Harrison. More info at www.thegoodmanfilm.com<br />\\r\\n<br />\\r\\nCheck out the Variety Magazine review here: http://www.variety.com/review/VE1117947909/', 'url': 'https://vimeo.com/57733101', 'upload_date': '2013-01-19 04:01:15', 'thumbnail_small': 'http://i.vimeocdn.com/video/436057121_100x75.jpg', 'thumbnail_medium': 'http://i.vimeocdn.com/video/436057121_200x150.jpg', 'thumbnail_large': 'http://i.vimeocdn.com/video/436057121_640.jpg', 'user_id': 1334563, 'user_name': 'Manifesto Films', 'user_url': 'https://vimeo.com/manifestofilms', 'user_portrait_small': 'http://i.vimeocdn.com/portrait/4778306_30x30', 'user_portrait_medium': 'http://i.vimeocdn.com/portrait/4778306_75x75', 'user_portrait_large': 'http://i.vimeocdn.com/portrait/4778306_100x100', 'user_portrait_huge': 'http://i.vimeocdn.com/portrait/4778306_300x300', 'stats_number_of_likes': 17, 'stats_number_of_plays': 5912, 'stats_number_of_comments': 0, 'duration': 143, 'width': 640, 'height': 360, 'tags': 'film, ireland, africa, cape town, belfast', 'embed_privacy': 'anywhere'}\n"
          ],
          "name": "stdout"
        }
      ]
    },
    {
      "cell_type": "code",
      "metadata": {
        "id": "cCDndtPyT5Xi",
        "colab": {
          "base_uri": "https://localhost:8080/",
          "height": 35
        },
        "outputId": "fa0f5317-bc9a-4f58-a6ad-e16b97ef8d5b"
      },
      "source": [
        "#ler um arquivo e gravar em outro (método 1)\n",
        "import os\n",
        "\n",
        "with open('dados.json', 'r') as arquivo_origem:\n",
        "  conteudo = arquivo_origem.read()\n",
        "  with open('teste.json','w') as arquivo_destino:\n",
        "    arquivo_destino.write(conteudo)\n",
        "\n",
        "with open('teste.json','r') as arquivo_destino:\n",
        "  conteudo = arquivo_destino.read()\n",
        "  dict_json = json.loads(conteudo)\n",
        "  print(dict_json)"
      ],
      "execution_count": null,
      "outputs": [
        {
          "output_type": "stream",
          "text": [
            "{'Nome': 'Marcella', 'Linguagem': 'Python', 'Similar': ['C', 'Java', 'R'], 'User': 100000}\n"
          ],
          "name": "stdout"
        }
      ]
    },
    {
      "cell_type": "code",
      "metadata": {
        "id": "gQbg15qwU-sh",
        "colab": {
          "base_uri": "https://localhost:8080/",
          "height": 35
        },
        "outputId": "20f129ff-b686-46d5-97bb-b7c59dd52dff"
      },
      "source": [
        "#ler um arquivo e gravar em outro (método 2)\n",
        "open('teste2.json','w').write(open('dados.json','r').read())\n",
        "\n",
        "with open('teste2.json','r') as teste:\n",
        "  conteudo = json.loads(teste.read())\n",
        "  print(conteudo)"
      ],
      "execution_count": null,
      "outputs": [
        {
          "output_type": "stream",
          "text": [
            "{'Nome': 'Marcella', 'Linguagem': 'Python', 'Similar': ['C', 'Java', 'R'], 'User': 100000}\n"
          ],
          "name": "stdout"
        }
      ]
    },
    {
      "cell_type": "markdown",
      "metadata": {
        "id": "gc-aYfMR2dWq"
      },
      "source": [
        "###Módulos e Pacotes"
      ]
    },
    {
      "cell_type": "code",
      "metadata": {
        "id": "XAOa6i8_VxxV"
      },
      "source": [
        "import math"
      ],
      "execution_count": null,
      "outputs": []
    },
    {
      "cell_type": "code",
      "metadata": {
        "id": "A1MLlG512iTt",
        "colab": {
          "base_uri": "https://localhost:8080/",
          "height": 998
        },
        "outputId": "44de1170-eda7-4aa8-987a-e33c337f1133"
      },
      "source": [
        "#mostra todos os métodos e atributos do pacote\n",
        "dir(math)"
      ],
      "execution_count": null,
      "outputs": [
        {
          "output_type": "execute_result",
          "data": {
            "text/plain": [
              "['__doc__',\n",
              " '__loader__',\n",
              " '__name__',\n",
              " '__package__',\n",
              " '__spec__',\n",
              " 'acos',\n",
              " 'acosh',\n",
              " 'asin',\n",
              " 'asinh',\n",
              " 'atan',\n",
              " 'atan2',\n",
              " 'atanh',\n",
              " 'ceil',\n",
              " 'copysign',\n",
              " 'cos',\n",
              " 'cosh',\n",
              " 'degrees',\n",
              " 'e',\n",
              " 'erf',\n",
              " 'erfc',\n",
              " 'exp',\n",
              " 'expm1',\n",
              " 'fabs',\n",
              " 'factorial',\n",
              " 'floor',\n",
              " 'fmod',\n",
              " 'frexp',\n",
              " 'fsum',\n",
              " 'gamma',\n",
              " 'gcd',\n",
              " 'hypot',\n",
              " 'inf',\n",
              " 'isclose',\n",
              " 'isfinite',\n",
              " 'isinf',\n",
              " 'isnan',\n",
              " 'ldexp',\n",
              " 'lgamma',\n",
              " 'log',\n",
              " 'log10',\n",
              " 'log1p',\n",
              " 'log2',\n",
              " 'modf',\n",
              " 'nan',\n",
              " 'pi',\n",
              " 'pow',\n",
              " 'radians',\n",
              " 'sin',\n",
              " 'sinh',\n",
              " 'sqrt',\n",
              " 'tan',\n",
              " 'tanh',\n",
              " 'tau',\n",
              " 'trunc']"
            ]
          },
          "metadata": {
            "tags": []
          },
          "execution_count": 2
        }
      ]
    },
    {
      "cell_type": "code",
      "metadata": {
        "id": "aLrLyrkv2quW",
        "colab": {
          "base_uri": "https://localhost:8080/",
          "height": 35
        },
        "outputId": "763a41b1-d2e2-4a00-c98b-4f6f133563f1"
      },
      "source": [
        "#calcula raiz quadrada\n",
        "math.sqrt(25)"
      ],
      "execution_count": null,
      "outputs": [
        {
          "output_type": "execute_result",
          "data": {
            "text/plain": [
              "5.0"
            ]
          },
          "metadata": {
            "tags": []
          },
          "execution_count": 4
        }
      ]
    },
    {
      "cell_type": "code",
      "metadata": {
        "id": "rpehT6NX2s6H"
      },
      "source": [
        "# outra forma de importar de forma objetiva e sem impactar performance\n",
        "from math import sqrt\n"
      ],
      "execution_count": null,
      "outputs": []
    },
    {
      "cell_type": "code",
      "metadata": {
        "id": "XATBi1dE26RG",
        "colab": {
          "base_uri": "https://localhost:8080/",
          "height": 35
        },
        "outputId": "835072c5-a85e-4492-fb90-7cde8aa27d67"
      },
      "source": [
        "#não precisa mais escrever math.<metodo>\n",
        "sqrt(25)"
      ],
      "execution_count": null,
      "outputs": [
        {
          "output_type": "execute_result",
          "data": {
            "text/plain": [
              "5.0"
            ]
          },
          "metadata": {
            "tags": []
          },
          "execution_count": 6
        }
      ]
    },
    {
      "cell_type": "code",
      "metadata": {
        "id": "hGqJMi_W28-j",
        "colab": {
          "base_uri": "https://localhost:8080/",
          "height": 144
        },
        "outputId": "d15551bf-d839-4f54-a924-c61b782d907f"
      },
      "source": [
        "#descreve o que o método faz\n",
        "help(sqrt)"
      ],
      "execution_count": null,
      "outputs": [
        {
          "output_type": "stream",
          "text": [
            "Help on built-in function sqrt in module math:\n",
            "\n",
            "sqrt(...)\n",
            "    sqrt(x)\n",
            "    \n",
            "    Return the square root of x.\n",
            "\n"
          ],
          "name": "stdout"
        }
      ]
    },
    {
      "cell_type": "code",
      "metadata": {
        "id": "3HeKQyal3CAZ"
      },
      "source": [
        "import random"
      ],
      "execution_count": null,
      "outputs": []
    },
    {
      "cell_type": "code",
      "metadata": {
        "id": "kd19VSWX3GXg",
        "colab": {
          "base_uri": "https://localhost:8080/",
          "height": 35
        },
        "outputId": "b25314fa-8e51-4f54-ee2c-7c0facd6ae55"
      },
      "source": [
        "#escolhe valor aleatório\n",
        "random.choice(['Banana','Maçã','Morango','Abacate'])"
      ],
      "execution_count": null,
      "outputs": [
        {
          "output_type": "execute_result",
          "data": {
            "text/plain": [
              "'Abacate'"
            ]
          },
          "metadata": {
            "tags": []
          },
          "execution_count": 12
        }
      ]
    },
    {
      "cell_type": "code",
      "metadata": {
        "id": "vw5X4Eb33LmH",
        "colab": {
          "base_uri": "https://localhost:8080/",
          "height": 35
        },
        "outputId": "894ca23e-8303-480a-8e7c-2b301e3c44d6"
      },
      "source": [
        "#extrair amostra aleatória com base num range\n",
        "dados = random.sample(range(100),10)#<lista>,<qtde>\n",
        "print(dados)"
      ],
      "execution_count": null,
      "outputs": [
        {
          "output_type": "stream",
          "text": [
            "[39, 73, 99, 28, 59, 88, 58, 86, 61, 66]\n"
          ],
          "name": "stdout"
        }
      ]
    },
    {
      "cell_type": "code",
      "metadata": {
        "id": "WY309-sM3kQT"
      },
      "source": [
        "import statistics"
      ],
      "execution_count": null,
      "outputs": []
    },
    {
      "cell_type": "code",
      "metadata": {
        "id": "pOPuFV9f3rkO",
        "colab": {
          "base_uri": "https://localhost:8080/",
          "height": 35
        },
        "outputId": "2fe2de0f-d8cc-4f8f-fcea-7a960387b298"
      },
      "source": [
        "#calcular média\n",
        "statistics.mean(dados)"
      ],
      "execution_count": null,
      "outputs": [
        {
          "output_type": "execute_result",
          "data": {
            "text/plain": [
              "65.7"
            ]
          },
          "metadata": {
            "tags": []
          },
          "execution_count": 19
        }
      ]
    },
    {
      "cell_type": "code",
      "metadata": {
        "id": "Q2Wrtjra4COp",
        "colab": {
          "base_uri": "https://localhost:8080/",
          "height": 35
        },
        "outputId": "0d914d0a-106b-4acd-b27a-a7c47c9b0fb8"
      },
      "source": [
        "#calcular mediana\n",
        "statistics.median(dados)"
      ],
      "execution_count": null,
      "outputs": [
        {
          "output_type": "execute_result",
          "data": {
            "text/plain": [
              "63.5"
            ]
          },
          "metadata": {
            "tags": []
          },
          "execution_count": 20
        }
      ]
    },
    {
      "cell_type": "code",
      "metadata": {
        "id": "QMgnH1Xm4Nu9"
      },
      "source": [
        "import os"
      ],
      "execution_count": null,
      "outputs": []
    },
    {
      "cell_type": "code",
      "metadata": {
        "id": "pbwNjN8U4P6O",
        "colab": {
          "base_uri": "https://localhost:8080/",
          "height": 35
        },
        "outputId": "099e9c0b-ccdf-4a3e-c968-54147d0abd23"
      },
      "source": [
        "#mostra o diretório que o sistema está executando o python\n",
        "os.getcwd()"
      ],
      "execution_count": null,
      "outputs": [
        {
          "output_type": "execute_result",
          "data": {
            "text/plain": [
              "'/content'"
            ]
          },
          "metadata": {
            "tags": []
          },
          "execution_count": 22
        }
      ]
    },
    {
      "cell_type": "code",
      "metadata": {
        "id": "8vH7ORZH4R-i"
      },
      "source": [
        "import sys"
      ],
      "execution_count": null,
      "outputs": []
    },
    {
      "cell_type": "code",
      "metadata": {
        "id": "TgcU8PdP4j8N",
        "colab": {
          "base_uri": "https://localhost:8080/",
          "height": 35
        },
        "outputId": "baefc4d5-3ffb-4040-bccb-e62838a59bd6"
      },
      "source": [
        "#imprimir na tela\n",
        "sys.stdout.write('Teste')"
      ],
      "execution_count": null,
      "outputs": [
        {
          "output_type": "stream",
          "text": [
            "Teste"
          ],
          "name": "stdout"
        }
      ]
    },
    {
      "cell_type": "code",
      "metadata": {
        "id": "JZGZx5PL4qCC",
        "colab": {
          "base_uri": "https://localhost:8080/",
          "height": 35
        },
        "outputId": "a658c756-6e05-4f0d-effe-6055672b1026"
      },
      "source": [
        "#versão do interpretador\n",
        "sys.version"
      ],
      "execution_count": null,
      "outputs": [
        {
          "output_type": "execute_result",
          "data": {
            "text/plain": [
              "'3.6.9 (default, Apr 18 2020, 01:56:04) \\n[GCC 8.4.0]'"
            ]
          },
          "metadata": {
            "tags": []
          },
          "execution_count": 25
        }
      ]
    },
    {
      "cell_type": "code",
      "metadata": {
        "id": "mo6jG_Ts4uq4"
      },
      "source": [
        "import urllib.request"
      ],
      "execution_count": null,
      "outputs": []
    },
    {
      "cell_type": "code",
      "metadata": {
        "id": "zQX5ipnp4z0i"
      },
      "source": [
        "response = urllib.request.urlopen('https://www.google.com/')"
      ],
      "execution_count": null,
      "outputs": []
    },
    {
      "cell_type": "code",
      "metadata": {
        "id": "t0LU5SY15GeD",
        "colab": {
          "base_uri": "https://localhost:8080/",
          "height": 35
        },
        "outputId": "11dd5f7b-b932-451a-dca6-8725d9a4a01f"
      },
      "source": [
        "print(response)"
      ],
      "execution_count": null,
      "outputs": [
        {
          "output_type": "stream",
          "text": [
            "<http.client.HTTPResponse object at 0x7f8e6cf2a4e0>\n"
          ],
          "name": "stdout"
        }
      ]
    },
    {
      "cell_type": "code",
      "metadata": {
        "id": "hCUURV9O5LJm",
        "colab": {
          "base_uri": "https://localhost:8080/",
          "height": 55
        },
        "outputId": "9aaae614-b011-4029-88ec-27eb346045d1"
      },
      "source": [
        "#copiar o html da página\n",
        "html = response.read()\n",
        "print(html)"
      ],
      "execution_count": null,
      "outputs": [
        {
          "output_type": "stream",
          "text": [
            "b'<!doctype html><html itemscope=\"\" itemtype=\"http://schema.org/WebPage\" lang=\"en\"><head><meta content=\"Search the world\\'s information, including webpages, images, videos and more. Google has many special features to help you find exactly what you\\'re looking for.\" name=\"description\"><meta content=\"noodp\" name=\"robots\"><meta content=\"text/html; charset=UTF-8\" http-equiv=\"Content-Type\"><meta content=\"/images/branding/googleg/1x/googleg_standard_color_128dp.png\" itemprop=\"image\"><title>Google</title><script nonce=\"HdydyqSTsMkPCyHp+gW25w==\">(function(){window.google={kEI:\\'d9S5XqSMIIXy-gTHpaKYBw\\',kEXPI:\\'0,202123,3,4,1151616,5663,731,223,5105,206,3204,10,1051,175,364,926,573,576,241,383,246,5,860,100,394,196,177,440,225,652,4,125,1092,406,564,8,417135,706742,1197661,114,374,78,329040,1294,12383,4855,32692,15247,864,17447,11240,9188,8384,4859,1361,9290,3026,4742,8000,3033,1808,4020,978,4788,1,3142,5297,2054,920,873,262,2,953,5668,91,3647,1141,10164,3221,4517,1399,1379,520,401,2277,6,85,2711,889,704,1165,114,390,1823,529,149,1103,842,515,1137,278,51,56,158,4100,108,204,1135,1,3,2669,1839,186,542,1233,143,377,1704,243,1030,1,1198,93,328,1284,16,2927,2247,473,1339,29,719,1039,3227,773,1217,855,7,6068,8078,2662,642,2450,2458,1226,1462,3935,1274,108,1446,264,1697,908,2,941,532,2082,2397,1027,1867,2076,449,226,690,305,1670,1086,251,666,432,3,1546,865,1,377,1634,1906,706,149,189,2837,475,503,1,1985,28,130,1,2092,1992,464,143,1344,47,1101,643,4,1448,80,17,351,193,73,1,2,3,2,2,297,1363,459,783,265,598,276,395,2,8,12,29,746,472,205,10,386,649,1446,185,7,139,49,736,56,117,17,783,955,382,131,205,585,117,58,919,43,834,6,424,36,212,138,361,641,585,5,817,12,6,759,44,112,359,228,170,77,45,918,249,14,11,104,499,140,24,35,25,40,3,152,64,68,125,112,335,500,485,240,289,373,98,511,2,5816959,3310,1802584,6996022,882,444,1,2,31,49,1,900,896,1,8,1,2,2551,1,748,141,59,736,563,1,4265,1,1,1,1,137,1,1193,1401,3,461,80,168,53,5,11,8,9,6,1,1,1,1,1,3,25,3,1,1,1,5,2,1,6,2,20742124,3220019\\',kBL:\\'bfF3\\'};google.sn=\\'webhp\\';google.kHL=\\'en\\';})();(function(){google.lc=[];google.li=0;google.getEI=function(a){for(var c;a&&(!a.getAttribute||!(c=a.getAttribute(\"eid\")));)a=a.parentNode;return c||google.kEI};google.getLEI=function(a){for(var c=null;a&&(!a.getAttribute||!(c=a.getAttribute(\"leid\")));)a=a.parentNode;return c};google.ml=function(){return null};google.time=function(){return Date.now()};google.log=function(a,c,b,d,g){if(b=google.logUrl(a,c,b,d,g)){a=new Image;var e=google.lc,f=google.li;e[f]=a;a.onerror=a.onload=a.onabort=function(){delete e[f]};google.vel&&google.vel.lu&&google.vel.lu(b);a.src=b;google.li=f+1}};google.logUrl=function(a,c,b,d,g){var e=\"\",f=google.ls||\"\";b||-1!=c.search(\"&ei=\")||(e=\"&ei=\"+google.getEI(d),-1==c.search(\"&lei=\")&&(d=google.getLEI(d))&&(e+=\"&lei=\"+d));d=\"\";!b&&google.cshid&&-1==c.search(\"&cshid=\")&&\"slh\"!=a&&(d=\"&cshid=\"+google.cshid);b=b||\"/\"+(g||\"gen_204\")+\"?atyp=i&ct=\"+a+\"&cad=\"+c+e+f+\"&zx=\"+google.time()+d;/^http:/i.test(b)&&\"https:\"==window.location.protocol&&(google.ml(Error(\"a\"),!1,{src:b,glmm:1}),b=\"\");return b};}).call(this);(function(){google.y={};google.x=function(a,b){if(a)var c=a.id;else{do c=Math.random();while(google.y[c])}google.y[c]=[a,b];return!1};google.lm=[];google.plm=function(a){google.lm.push.apply(google.lm,a)};google.lq=[];google.load=function(a,b,c){google.lq.push([[a],b,c])};google.loadAll=function(a,b){google.lq.push([a,b])};}).call(this);google.f={};(function(){\\ndocument.documentElement.addEventListener(\"submit\",function(b){var a;if(a=b.target){var c=a.getAttribute(\"data-submitfalse\");a=\"1\"==c||\"q\"==c&&!a.elements.q.value?!0:!1}else a=!1;a&&(b.preventDefault(),b.stopPropagation())},!0);document.documentElement.addEventListener(\"click\",function(b){var a;a:{for(a=b.target;a&&a!=document.documentElement;a=a.parentElement)if(\"A\"==a.tagName){a=\"1\"==a.getAttribute(\"data-nohref\");break a}a=!1}a&&b.preventDefault()},!0);}).call(this);\\nvar a=window.location,b=a.href.indexOf(\"#\");if(0<=b){var c=a.href.substring(b+1);/(^|&)q=/.test(c)&&-1==c.indexOf(\"#\")&&a.replace(\"/search?\"+c.replace(/(^|&)fp=[^&]*/g,\"\")+\"&cad=h\")};</script><style>#gbar,#guser{font-size:13px;padding-top:1px !important;}#gbar{height:22px}#guser{padding-bottom:7px !important;text-align:right}.gbh,.gbd{border-top:1px solid #c9d7f1;font-size:1px}.gbh{height:0;position:absolute;top:24px;width:100%}@media all{.gb1{height:22px;margin-right:.5em;vertical-align:top}#gbar{float:left}}a.gb1,a.gb4{text-decoration:underline !important}a.gb1,a.gb4{color:#00c !important}.gbi .gb4{color:#dd8e27 !important}.gbf .gb4{color:#900 !important}\\n</style><style>body,td,a,p,.h{font-family:arial,sans-serif}body{margin:0;overflow-y:scroll}#gog{padding:3px 8px 0}td{line-height:.8em}.gac_m td{line-height:17px}form{margin-bottom:20px}.h{color:#36c}.q{color:#00c}.ts td{padding:0}.ts{border-collapse:collapse}em{font-weight:bold;font-style:normal}.lst{height:25px;width:496px}.gsfi,.lst{font:18px arial,sans-serif}.gsfs{font:17px arial,sans-serif}.ds{display:inline-box;display:inline-block;margin:3px 0 4px;margin-left:4px}input{font-family:inherit}body{background:#fff;color:#000}a{color:#11c;text-decoration:none}a:hover,a:active{text-decoration:underline}.fl a{color:#36c}a:visited{color:#551a8b}.sblc{padding-top:5px}.sblc a{display:block;margin:2px 0;margin-left:13px;font-size:11px}.lsbb{background:#eee;border:solid 1px;border-color:#ccc #999 #999 #ccc;height:30px}.lsbb{display:block}.ftl,#fll a{display:inline-block;margin:0 12px}.lsb{background:url(/images/nav_logo229.png) 0 -261px repeat-x;border:none;color:#000;cursor:pointer;height:30px;margin:0;outline:0;font:15px arial,sans-serif;vertical-align:top}.lsb:active{background:#ccc}.lst:focus{outline:none}</style><script nonce=\"HdydyqSTsMkPCyHp+gW25w==\"></script></head><body bgcolor=\"#fff\"><script nonce=\"HdydyqSTsMkPCyHp+gW25w==\">(function(){var src=\\'/images/nav_logo229.png\\';var iesg=false;document.body.onload = function(){window.n && window.n();if (document.images){new Image().src=src;}\\nif (!iesg){document.f&&document.f.q.focus();document.gbqf&&document.gbqf.q.focus();}\\n}\\n})();</script><div id=\"mngb\"> <div id=gbar><nobr><b class=gb1>Search</b> <a class=gb1 href=\"https://www.google.com/imghp?hl=en&tab=wi\">Images</a> <a class=gb1 href=\"https://maps.google.com/maps?hl=en&tab=wl\">Maps</a> <a class=gb1 href=\"https://play.google.com/?hl=en&tab=w8\">Play</a> <a class=gb1 href=\"https://www.youtube.com/?gl=US&tab=w1\">YouTube</a> <a class=gb1 href=\"https://news.google.com/nwshp?hl=en&tab=wn\">News</a> <a class=gb1 href=\"https://mail.google.com/mail/?tab=wm\">Gmail</a> <a class=gb1 href=\"https://drive.google.com/?tab=wo\">Drive</a> <a class=gb1 style=\"text-decoration:none\" href=\"https://www.google.com/intl/en/about/products?tab=wh\"><u>More</u> &raquo;</a></nobr></div><div id=guser width=100%><nobr><span id=gbn class=gbi></span><span id=gbf class=gbf></span><span id=gbe></span><a href=\"http://www.google.com/history/optout?hl=en\" class=gb4>Web History</a> | <a  href=\"/preferences?hl=en\" class=gb4>Settings</a> | <a target=_top id=gb_70 href=\"https://accounts.google.com/ServiceLogin?hl=en&passive=true&continue=https://www.google.com/\" class=gb4>Sign in</a></nobr></div><div class=gbh style=left:0></div><div class=gbh style=right:0></div> </div><center><br clear=\"all\" id=\"lgpd\"><div id=\"lga\"><img alt=\"Google\" height=\"92\" src=\"/images/branding/googlelogo/1x/googlelogo_white_background_color_272x92dp.png\" style=\"padding:28px 0 14px\" width=\"272\" id=\"hplogo\"><br><br></div><form action=\"/search\" name=\"f\"><table cellpadding=\"0\" cellspacing=\"0\"><tr valign=\"top\"><td width=\"25%\">&nbsp;</td><td align=\"center\" nowrap=\"\"><input name=\"ie\" value=\"ISO-8859-1\" type=\"hidden\"><input value=\"en\" name=\"hl\" type=\"hidden\"><input name=\"source\" type=\"hidden\" value=\"hp\"><input name=\"biw\" type=\"hidden\"><input name=\"bih\" type=\"hidden\"><div class=\"ds\" style=\"height:32px;margin:4px 0\"><input class=\"lst\" style=\"margin:0;padding:5px 8px 0 6px;vertical-align:top;color:#000\" autocomplete=\"off\" value=\"\" title=\"Google Search\" maxlength=\"2048\" name=\"q\" size=\"57\"></div><br style=\"line-height:0\"><span class=\"ds\"><span class=\"lsbb\"><input class=\"lsb\" value=\"Google Search\" name=\"btnG\" type=\"submit\"></span></span><span class=\"ds\"><span class=\"lsbb\"><input class=\"lsb\" id=\"tsuid1\" value=\"I\\'m Feeling Lucky\" name=\"btnI\" type=\"submit\"><script nonce=\"HdydyqSTsMkPCyHp+gW25w==\">(function(){var id=\\'tsuid1\\';document.getElementById(id).onclick = function(){if (this.form.q.value){this.checked = 1;if (this.form.iflsig)this.form.iflsig.disabled = false;}\\nelse top.location=\\'/doodles/\\';};})();</script><input value=\"AINFCbYAAAAAXrnih2NlLa_644LqCs0o0wB6zQC4Miu8\" name=\"iflsig\" type=\"hidden\"></span></span></td><td class=\"fl sblc\" align=\"left\" nowrap=\"\" width=\"25%\"><a href=\"/advanced_search?hl=en&amp;authuser=0\">Advanced search</a></td></tr></table><input id=\"gbv\" name=\"gbv\" type=\"hidden\" value=\"1\"><script nonce=\"HdydyqSTsMkPCyHp+gW25w==\">(function(){var a,b=\"1\";if(document&&document.getElementById)if(\"undefined\"!=typeof XMLHttpRequest)b=\"2\";else if(\"undefined\"!=typeof ActiveXObject){var c,d,e=[\"MSXML2.XMLHTTP.6.0\",\"MSXML2.XMLHTTP.3.0\",\"MSXML2.XMLHTTP\",\"Microsoft.XMLHTTP\"];for(c=0;d=e[c++];)try{new ActiveXObject(d),b=\"2\"}catch(h){}}a=b;if(\"2\"==a&&-1==location.search.indexOf(\"&gbv=2\")){var f=google.gbvu,g=document.getElementById(\"gbv\");g&&(g.value=a);f&&window.setTimeout(function(){location.href=f},0)};}).call(this);</script></form><div id=\"gac_scont\"></div><div style=\"font-size:83%;min-height:3.5em\"><br><div id=\"prm\"><style>.szppmdbYutt__middle-slot-promo{font-size:small;margin-bottom:32px}.szppmdbYutt__middle-slot-promo a.ZIeIlb{display:inline-block;text-decoration:none}.szppmdbYutt__middle-slot-promo img{border:none;margin-right:5px;vertical-align:middle}</style><div class=\"szppmdbYutt__middle-slot-promo\" data-ved=\"0ahUKEwjko_PR8KzpAhUFuZ4KHceSCHMQnIcBCAQ\"><a class=\"NKcBbd\" href=\"https://www.google.com/url?q=https://google.com/covid19/resources%3Futm_source%3Dgoogle%26utm_medium%3Dhpp%26utm_campaign%3DUS-EN&amp;source=hpp&amp;id=19017824&amp;ct=3&amp;usg=AFQjCNF1NVIkp18pCDgSb-8WvfoPS7SWJw&amp;sa=X&amp;ved=0ahUKEwjko_PR8KzpAhUFuZ4KHceSCHMQ8IcBCAU\" rel=\"nofollow\">Coronavirus information and resources (COVID-19)</a></div></div></div><span id=\"footer\"><div style=\"font-size:10pt\"><div style=\"margin:19px auto;text-align:center\" id=\"fll\"><a href=\"/intl/en/ads/\">Advertising\\xa0Programs</a><a href=\"/services/\">Business Solutions</a><a href=\"/intl/en/about.html\">About Google</a></div></div><p style=\"font-size:8pt;color:#767676\">&copy; 2020 - <a href=\"/intl/en/policies/privacy/\">Privacy</a> - <a href=\"/intl/en/policies/terms/\">Terms</a></p></span></center><script nonce=\"HdydyqSTsMkPCyHp+gW25w==\">(function(){window.google.cdo={height:0,width:0};(function(){var a=window.innerWidth,b=window.innerHeight;if(!a||!b){var c=window.document,d=\"CSS1Compat\"==c.compatMode?c.documentElement:c.body;a=d.clientWidth;b=d.clientHeight}a&&b&&(a!=google.cdo.width||b!=google.cdo.height)&&google.log(\"\",\"\",\"/client_204?&atyp=i&biw=\"+a+\"&bih=\"+b+\"&ei=\"+google.kEI);}).call(this);})();(function(){var u=\\'/xjs/_/js/k\\\\x3dxjs.hp.en_US.DHMI7BHmNYE.O/m\\\\x3dsb_he,d/am\\\\x3dAF8IbA4/d\\\\x3d1/rs\\\\x3dACT90oG8H-3Cj0Y5D49qf4T7xEY6-uJIuQ\\';\\nsetTimeout(function(){var b=document;var a=\"SCRIPT\";\"application/xhtml+xml\"===b.contentType&&(a=a.toLowerCase());a=b.createElement(a);a.src=u;google.timers&&google.timers.load&&google.tick&&google.tick(\"load\",\"xjsls\");document.body.appendChild(a)},0);})();(function(){window.google.xjsu=\\'/xjs/_/js/k\\\\x3dxjs.hp.en_US.DHMI7BHmNYE.O/m\\\\x3dsb_he,d/am\\\\x3dAF8IbA4/d\\\\x3d1/rs\\\\x3dACT90oG8H-3Cj0Y5D49qf4T7xEY6-uJIuQ\\';})();function _DumpException(e){throw e;}\\nfunction _F_installCss(c){}\\n(function(){google.jl={em:[],emw:false,lls:\\'default\\',pdt:0,snet:true,up:false,uwp:true};})();(function(){var pmc=\\'{\\\\x22d\\\\x22:{},\\\\x22sb_he\\\\x22:{\\\\x22agen\\\\x22:true,\\\\x22cgen\\\\x22:true,\\\\x22client\\\\x22:\\\\x22heirloom-hp\\\\x22,\\\\x22dh\\\\x22:true,\\\\x22dhqt\\\\x22:true,\\\\x22ds\\\\x22:\\\\x22\\\\x22,\\\\x22ffql\\\\x22:\\\\x22en\\\\x22,\\\\x22fl\\\\x22:true,\\\\x22host\\\\x22:\\\\x22google.com\\\\x22,\\\\x22isbh\\\\x22:28,\\\\x22jsonp\\\\x22:true,\\\\x22msgs\\\\x22:{\\\\x22cibl\\\\x22:\\\\x22Clear Search\\\\x22,\\\\x22dym\\\\x22:\\\\x22Did you mean:\\\\x22,\\\\x22lcky\\\\x22:\\\\x22I\\\\\\\\u0026#39;m Feeling Lucky\\\\x22,\\\\x22lml\\\\x22:\\\\x22Learn more\\\\x22,\\\\x22oskt\\\\x22:\\\\x22Input tools\\\\x22,\\\\x22psrc\\\\x22:\\\\x22This search was removed from your \\\\\\\\u003Ca href\\\\x3d\\\\\\\\\\\\x22/history\\\\\\\\\\\\x22\\\\\\\\u003EWeb History\\\\\\\\u003C/a\\\\\\\\u003E\\\\x22,\\\\x22psrl\\\\x22:\\\\x22Remove\\\\x22,\\\\x22sbit\\\\x22:\\\\x22Search by image\\\\x22,\\\\x22srch\\\\x22:\\\\x22Google Search\\\\x22},\\\\x22ovr\\\\x22:{},\\\\x22pq\\\\x22:\\\\x22\\\\x22,\\\\x22refpd\\\\x22:true,\\\\x22rfs\\\\x22:[],\\\\x22sbpl\\\\x22:16,\\\\x22sbpr\\\\x22:16,\\\\x22scd\\\\x22:10,\\\\x22stok\\\\x22:\\\\x22RXy37Aq26dvDrd2uLa5y2maMSMY\\\\x22,\\\\x22uhde\\\\x22:false}}\\';google.pmc=JSON.parse(pmc);})();</script>        </body></html>'\n"
          ],
          "name": "stdout"
        }
      ]
    },
    {
      "cell_type": "markdown",
      "metadata": {
        "id": "H6MiU859dqj1"
      },
      "source": [
        "####Pacote Datetime"
      ]
    },
    {
      "cell_type": "code",
      "metadata": {
        "id": "u9zjy-jt5Sby"
      },
      "source": [
        "import datetime"
      ],
      "execution_count": null,
      "outputs": []
    },
    {
      "cell_type": "code",
      "metadata": {
        "id": "68tIh7lud7bF",
        "colab": {
          "base_uri": "https://localhost:8080/",
          "height": 35
        },
        "outputId": "a8f3af06-a5d5-4f92-cff2-05cdc5473291"
      },
      "source": [
        "#executei no dia 12, mas não pegou fuso horário do Brasil\n",
        "agora = datetime.datetime.now()\n",
        "print(agora)"
      ],
      "execution_count": null,
      "outputs": [
        {
          "output_type": "stream",
          "text": [
            "2020-05-13 00:40:12.455995\n"
          ],
          "name": "stdout"
        }
      ]
    },
    {
      "cell_type": "code",
      "metadata": {
        "id": "gJj0lDmheC0Z",
        "colab": {
          "base_uri": "https://localhost:8080/",
          "height": 35
        },
        "outputId": "b3c18e79-7f58-420e-ae36-e6614ca8bd97"
      },
      "source": [
        "hora = datetime.time(21,39,00)\n",
        "print(hora)"
      ],
      "execution_count": null,
      "outputs": [
        {
          "output_type": "stream",
          "text": [
            "21:39:00\n"
          ],
          "name": "stdout"
        }
      ]
    },
    {
      "cell_type": "code",
      "metadata": {
        "id": "Yto-wMl7eNwd",
        "colab": {
          "base_uri": "https://localhost:8080/",
          "height": 90
        },
        "outputId": "c51fdc84-4b7e-4d49-ead0-f7274e29586a"
      },
      "source": [
        "print('Hora:', hora.hour)\n",
        "print('Minuto:', hora.minute)\n",
        "print('Segundo:', hora.second)\n",
        "print('Microsegundo:', hora.microsecond)"
      ],
      "execution_count": null,
      "outputs": [
        {
          "output_type": "stream",
          "text": [
            "Hora: 21\n",
            "Minuto: 39\n",
            "Segundo: 0\n",
            "Microsegundo: 0\n"
          ],
          "name": "stdout"
        }
      ]
    },
    {
      "cell_type": "code",
      "metadata": {
        "id": "XpGkz2ApeYEa",
        "colab": {
          "base_uri": "https://localhost:8080/",
          "height": 53
        },
        "outputId": "16a470dc-bc71-4517-c161-28ceccf068fb"
      },
      "source": [
        "print(datetime.time.min)\n",
        "print(datetime.time.max)"
      ],
      "execution_count": null,
      "outputs": [
        {
          "output_type": "stream",
          "text": [
            "00:00:00\n",
            "23:59:59.999999\n"
          ],
          "name": "stdout"
        }
      ]
    },
    {
      "cell_type": "code",
      "metadata": {
        "id": "cl0H6pQge04B",
        "colab": {
          "base_uri": "https://localhost:8080/",
          "height": 35
        },
        "outputId": "3d1de837-d4c0-42f5-95c1-a14d12fdf983"
      },
      "source": [
        "hoje = datetime.date.today()\n",
        "print(hoje)"
      ],
      "execution_count": null,
      "outputs": [
        {
          "output_type": "stream",
          "text": [
            "2020-05-13\n"
          ],
          "name": "stdout"
        }
      ]
    },
    {
      "cell_type": "code",
      "metadata": {
        "id": "Fz3qOpGQfUAw",
        "colab": {
          "base_uri": "https://localhost:8080/",
          "height": 35
        },
        "outputId": "f0c471cb-9904-45ef-8a53-b414dedce368"
      },
      "source": [
        "#data completa\n",
        "print('ctime: ', hoje.ctime())"
      ],
      "execution_count": null,
      "outputs": [
        {
          "output_type": "stream",
          "text": [
            "ctime:  Wed May 13 00:00:00 2020\n"
          ],
          "name": "stdout"
        }
      ]
    },
    {
      "cell_type": "code",
      "metadata": {
        "id": "OPVp88D5ffa3",
        "colab": {
          "base_uri": "https://localhost:8080/",
          "height": 72
        },
        "outputId": "889b1395-28ed-4eda-f401-acc40e030826"
      },
      "source": [
        "print('Ano: ', hoje.year)\n",
        "print('Mês: ', hoje.month)\n",
        "print('Dia: ', hoje.day)"
      ],
      "execution_count": null,
      "outputs": [
        {
          "output_type": "stream",
          "text": [
            "Ano:  2020\n",
            "Mês:  5\n",
            "Dia:  13\n"
          ],
          "name": "stdout"
        }
      ]
    },
    {
      "cell_type": "code",
      "metadata": {
        "id": "KwzTH8ZFfvuU",
        "colab": {
          "base_uri": "https://localhost:8080/",
          "height": 35
        },
        "outputId": "ece5df43-af2e-4087-feec-1849b3e2fa4b"
      },
      "source": [
        "data1 = datetime.date(2019,5,12)\n",
        "print(data1)\n"
      ],
      "execution_count": null,
      "outputs": [
        {
          "output_type": "stream",
          "text": [
            "2019-05-12\n"
          ],
          "name": "stdout"
        }
      ]
    },
    {
      "cell_type": "code",
      "metadata": {
        "id": "8rM_KBwYf6ZC",
        "colab": {
          "base_uri": "https://localhost:8080/",
          "height": 35
        },
        "outputId": "e73feb86-6a74-4ee5-902a-d5cc3aaccd1a"
      },
      "source": [
        "#altera elemento específico da data\n",
        "data2 = data1.replace(year = 2020)\n",
        "print(data2)\n"
      ],
      "execution_count": null,
      "outputs": [
        {
          "output_type": "stream",
          "text": [
            "2020-05-12\n"
          ],
          "name": "stdout"
        }
      ]
    },
    {
      "cell_type": "code",
      "metadata": {
        "id": "_p0phVa9g_rV",
        "colab": {
          "base_uri": "https://localhost:8080/",
          "height": 35
        },
        "outputId": "41d734ea-7187-4ed0-c5e3-5fd806dbe3ea"
      },
      "source": [
        "#mostra diferença em dias\n",
        "data1 - data2"
      ],
      "execution_count": null,
      "outputs": [
        {
          "output_type": "execute_result",
          "data": {
            "text/plain": [
              "datetime.timedelta(-366)"
            ]
          },
          "metadata": {
            "tags": []
          },
          "execution_count": 34
        }
      ]
    },
    {
      "cell_type": "code",
      "metadata": {
        "id": "htRembjcjoVU",
        "colab": {
          "base_uri": "https://localhost:8080/",
          "height": 90
        },
        "outputId": "d5a85696-3a87-4532-e209-553df0914cce"
      },
      "source": [
        "#entender como trazer a hora num fuso horário específico\n",
        "#https://www.alura.com.br/artigos/lidando-com-datas-e-horarios-no-python\n",
        "\n",
        "from datetime import datetime, timezone\n",
        "from datetime import timedelta\n",
        "#função mostra data sem fuso horário\n",
        "print('Dia sem Fuso Horário: ',datetime.now())\n",
        "\n",
        "#criando fuso horário do Brasil UTC-3\n",
        "delta = timedelta(hours=-3)\n",
        "print('Duração em tempo (horas, dias, etc): ', delta)\n",
        "fuso_horario = timezone(delta)\n",
        "print('Fuso Horário: ', fuso_horario)\n",
        "print('Dia com Fuso Horário UTC-3: ', datetime.now(fuso_horario))\n"
      ],
      "execution_count": null,
      "outputs": [
        {
          "output_type": "stream",
          "text": [
            "Dia sem Fuso Horário:  2020-05-15 00:57:34.823194\n",
            "Duração em tempo (horas, dias, etc):  -1 day, 21:00:00\n",
            "Fuso Horário:  UTC-03:00\n",
            "Dia com Fuso Horário UTC-3:  2020-05-14 21:57:34.823640-03:00\n"
          ],
          "name": "stdout"
        }
      ]
    },
    {
      "cell_type": "markdown",
      "metadata": {
        "id": "A8qOKqxqv5fl"
      },
      "source": [
        "###Funções Built-in"
      ]
    },
    {
      "cell_type": "markdown",
      "metadata": {
        "id": "gfUKJTE8Kuam"
      },
      "source": [
        "####Map"
      ]
    },
    {
      "cell_type": "code",
      "metadata": {
        "id": "H3RoBdtOztFI"
      },
      "source": [
        "def fahrenheit(temperatura):\n",
        "  return ((float(9)/5)*temperatura+32)\n",
        "\n",
        "def celsius(temperatura):\n",
        "  return ((float(5)/9)*(temperatura-32))\n"
      ],
      "execution_count": null,
      "outputs": []
    },
    {
      "cell_type": "code",
      "metadata": {
        "id": "wtuAigv3xMxn"
      },
      "source": [
        "temperaturas = [0,22.5,40,100]"
      ],
      "execution_count": null,
      "outputs": []
    },
    {
      "cell_type": "code",
      "metadata": {
        "id": "ZkMFqbK2xZdt",
        "colab": {
          "base_uri": "https://localhost:8080/",
          "height": 35
        },
        "outputId": "a0b32699-c0f1-41cb-e0bc-f3235a0860e4"
      },
      "source": [
        "#a função map recebe 2 parâmetros\n",
        "#uma função, e uma sequência de valores\n",
        "#então ela aplica a função a cada um dos valores\n",
        "map(fahrenheit,temperaturas)"
      ],
      "execution_count": null,
      "outputs": [
        {
          "output_type": "execute_result",
          "data": {
            "text/plain": [
              "<map at 0x7fb5a0e309e8>"
            ]
          },
          "metadata": {
            "tags": []
          },
          "execution_count": 4
        }
      ]
    },
    {
      "cell_type": "code",
      "metadata": {
        "id": "BIhDXPnPxq9U",
        "colab": {
          "base_uri": "https://localhost:8080/",
          "height": 35
        },
        "outputId": "4aff8929-9d98-4a3d-cd6d-88842e4df9f3"
      },
      "source": [
        "#a função map retorna um iterator, então precisa converter para lista\n",
        "list(map(fahrenheit,temperaturas))"
      ],
      "execution_count": null,
      "outputs": [
        {
          "output_type": "execute_result",
          "data": {
            "text/plain": [
              "[32.0, 72.5, 104.0, 212.0]"
            ]
          },
          "metadata": {
            "tags": []
          },
          "execution_count": 5
        }
      ]
    },
    {
      "cell_type": "code",
      "metadata": {
        "id": "Rdxxy5sSxujn",
        "colab": {
          "base_uri": "https://localhost:8080/",
          "height": 90
        },
        "outputId": "75054352-ca6c-4f99-f047-6c6d1c3625c9"
      },
      "source": [
        "#é possível trabalhar o resultado do map num loop\n",
        "\n",
        "for temp in map(fahrenheit,temperaturas):\n",
        "  print(temp)"
      ],
      "execution_count": null,
      "outputs": [
        {
          "output_type": "stream",
          "text": [
            "32.0\n",
            "72.5\n",
            "104.0\n",
            "212.0\n"
          ],
          "name": "stdout"
        }
      ]
    },
    {
      "cell_type": "code",
      "metadata": {
        "id": "n0Psij8ox8Kk",
        "colab": {
          "base_uri": "https://localhost:8080/",
          "height": 35
        },
        "outputId": "ef380871-a358-4dd9-b547-2d29a2fe8d16"
      },
      "source": [
        "temp_fahrenheit = list(map(fahrenheit,temperaturas))\n",
        "print(temp_fahrenheit)"
      ],
      "execution_count": null,
      "outputs": [
        {
          "output_type": "stream",
          "text": [
            "[32.0, 72.5, 104.0, 212.0]\n"
          ],
          "name": "stdout"
        }
      ]
    },
    {
      "cell_type": "code",
      "metadata": {
        "id": "KZ1LH2LuyKWS",
        "colab": {
          "base_uri": "https://localhost:8080/",
          "height": 35
        },
        "outputId": "5bfed298-53bb-4729-dc27-40d500b9e7d8"
      },
      "source": [
        "#ao invés de utilizar a função map criada lá em cima, podemos usar a lambda\n",
        "#pois lambda é uma função anônima, não tem nome, ocorre em tempo de execução\n",
        "list(map(lambda temp: ((float(5)/9)*(temp-32)),temperaturas))"
      ],
      "execution_count": null,
      "outputs": [
        {
          "output_type": "execute_result",
          "data": {
            "text/plain": [
              "[-17.77777777777778, -5.277777777777778, 4.444444444444445, 37.77777777777778]"
            ]
          },
          "metadata": {
            "tags": []
          },
          "execution_count": 9
        }
      ]
    },
    {
      "cell_type": "code",
      "metadata": {
        "id": "ic_m625nycxd",
        "colab": {
          "base_uri": "https://localhost:8080/",
          "height": 35
        },
        "outputId": "fe868b3b-1e66-4895-a843-d3949b9bc795"
      },
      "source": [
        "#função map aceita várias sequências\n",
        "#note que tanto a como b são listas, ou seja, além do parâmetro 1 que é a função\n",
        "#a função map aceitou no parâmetro 2 mais de uma sequência\n",
        "a = [1,2,3,4]\n",
        "b = [9,8,7,6]\n",
        "list(map(lambda a,b: a+b, a, b))"
      ],
      "execution_count": null,
      "outputs": [
        {
          "output_type": "execute_result",
          "data": {
            "text/plain": [
              "[10, 10, 10, 10]"
            ]
          },
          "metadata": {
            "tags": []
          },
          "execution_count": 10
        }
      ]
    },
    {
      "cell_type": "code",
      "metadata": {
        "id": "Lu9pkqzRzOAp",
        "colab": {
          "base_uri": "https://localhost:8080/",
          "height": 35
        },
        "outputId": "ec6cb261-5e70-41d7-b5d4-52e39bd94aa5"
      },
      "source": [
        "#3 sequeências\n",
        "c = [10,20,30,40]\n",
        "list(map(lambda a,b,c: a+b+c, a,b,c))"
      ],
      "execution_count": null,
      "outputs": [
        {
          "output_type": "execute_result",
          "data": {
            "text/plain": [
              "[20, 30, 40, 50]"
            ]
          },
          "metadata": {
            "tags": []
          },
          "execution_count": 12
        }
      ]
    },
    {
      "cell_type": "markdown",
      "metadata": {
        "id": "KhZU1UE30mwl"
      },
      "source": [
        "####Reduce"
      ]
    },
    {
      "cell_type": "code",
      "metadata": {
        "id": "EVaKf2CyztJo",
        "colab": {
          "base_uri": "https://localhost:8080/",
          "height": 35
        },
        "outputId": "deb667e4-2225-4aad-cb58-0789b28de866"
      },
      "source": [
        "#essa função precisa ser importada\n",
        "from functools import reduce\n",
        "\n",
        "a = [47,11,42,13]\n",
        "#não precisa converter em lista\n",
        "#apesar de a função receber 2 argumentos, como o 2º parametro é uma lista\n",
        "#a própria função reduce soma os itens da sequência até restar um elemento\n",
        "reduce(lambda a,b: a+b, a)"
      ],
      "execution_count": null,
      "outputs": [
        {
          "output_type": "execute_result",
          "data": {
            "text/plain": [
              "113"
            ]
          },
          "metadata": {
            "tags": []
          },
          "execution_count": 13
        }
      ]
    },
    {
      "cell_type": "code",
      "metadata": {
        "id": "WbF2mLNb1FkV",
        "colab": {
          "base_uri": "https://localhost:8080/",
          "height": 35
        },
        "outputId": "5b3ab776-e48b-4bfc-cf71-868f2936a69b"
      },
      "source": [
        "#sintaxe do if fica diferente no lambda\n",
        "max_num = (lambda a,b: a if (a>b) else b)\n",
        "\n",
        "reduce(max_num, a)"
      ],
      "execution_count": null,
      "outputs": [
        {
          "output_type": "execute_result",
          "data": {
            "text/plain": [
              "47"
            ]
          },
          "metadata": {
            "tags": []
          },
          "execution_count": 14
        }
      ]
    },
    {
      "cell_type": "markdown",
      "metadata": {
        "id": "-MfpDn5eb2Cq"
      },
      "source": [
        "#### Filter"
      ]
    },
    {
      "cell_type": "code",
      "metadata": {
        "id": "A3zH6Zyu2OGW",
        "colab": {
          "base_uri": "https://localhost:8080/",
          "height": 35
        },
        "outputId": "a601b2a2-6900-490c-f39c-dbb01045e301"
      },
      "source": [
        "#da mesma forma que o map, retorna iterator, precisa converter para lista\n",
        "#pode passar uma função ou lambda e uma sequência\n",
        "#vai retorna apenas os itens da sequencia que passam pela regra da função\n",
        "#nesse exemplo verifica numeros pares\n",
        "list(filter(lambda x: x%2==0, range(0,10)))"
      ],
      "execution_count": null,
      "outputs": [
        {
          "output_type": "execute_result",
          "data": {
            "text/plain": [
              "[0, 2, 4, 6, 8]"
            ]
          },
          "metadata": {
            "tags": []
          },
          "execution_count": 2
        }
      ]
    },
    {
      "cell_type": "markdown",
      "metadata": {
        "id": "8WPKI841dpIJ"
      },
      "source": [
        "####List Comprehension"
      ]
    },
    {
      "cell_type": "code",
      "metadata": {
        "id": "aEb6btLxc2oA",
        "colab": {
          "base_uri": "https://localhost:8080/",
          "height": 35
        },
        "outputId": "4b6fbe05-10e8-4e9e-a76e-82c34e8a249b"
      },
      "source": [
        "#retorna o x para cada valor de x dentro de uma sequência\n",
        "#nesse caso o x representa cada caractere da string 'Python'\n",
        "lista = [x for x in 'Python']\n",
        "print(lista)"
      ],
      "execution_count": null,
      "outputs": [
        {
          "output_type": "stream",
          "text": [
            "['P', 'y', 't', 'h', 'o', 'n']\n"
          ],
          "name": "stdout"
        }
      ]
    },
    {
      "cell_type": "code",
      "metadata": {
        "id": "TJSpYyMxezOm",
        "colab": {
          "base_uri": "https://localhost:8080/",
          "height": 35
        },
        "outputId": "841c7266-fff8-4cd4-afa6-add4573743d5"
      },
      "source": [
        "type(lista)"
      ],
      "execution_count": null,
      "outputs": [
        {
          "output_type": "execute_result",
          "data": {
            "text/plain": [
              "list"
            ]
          },
          "metadata": {
            "tags": []
          },
          "execution_count": 4
        }
      ]
    },
    {
      "cell_type": "code",
      "metadata": {
        "id": "RBd-cwsre1Um",
        "colab": {
          "base_uri": "https://localhost:8080/",
          "height": 35
        },
        "outputId": "4617d178-4887-4d88-d38b-223dfabbc9e0"
      },
      "source": [
        "lista2 = [x*2 for x in range(0,11)]\n",
        "print(lista2)"
      ],
      "execution_count": null,
      "outputs": [
        {
          "output_type": "stream",
          "text": [
            "[0, 2, 4, 6, 8, 10, 12, 14, 16, 18, 20]\n"
          ],
          "name": "stdout"
        }
      ]
    },
    {
      "cell_type": "code",
      "metadata": {
        "id": "3NxoXKxrfMrF",
        "colab": {
          "base_uri": "https://localhost:8080/",
          "height": 35
        },
        "outputId": "768dbb60-7cfc-492e-c0e4-fb81ec1ff6ca"
      },
      "source": [
        "#outra forma de filtrar numeros pares, porém sem usar a função filter\n",
        "pares = [num for num in range(0,11) if num%2 == 0]\n",
        "print(pares)"
      ],
      "execution_count": null,
      "outputs": [
        {
          "output_type": "stream",
          "text": [
            "[0, 2, 4, 6, 8, 10]\n"
          ],
          "name": "stdout"
        }
      ]
    },
    {
      "cell_type": "code",
      "metadata": {
        "id": "D5RxEI0xfiQf",
        "colab": {
          "base_uri": "https://localhost:8080/",
          "height": 35
        },
        "outputId": "ac28876a-8c4b-4592-bc4a-bb22b6e0c9bf"
      },
      "source": [
        "#converter temperaturas de outra forma\n",
        "celsius = [0, 10, 20.1, 34.5]\n",
        "\n",
        "fahrenheit = [ ( (float(9)/5)*temp +32 ) for temp in celsius]\n",
        "print(fahrenheit)"
      ],
      "execution_count": null,
      "outputs": [
        {
          "output_type": "stream",
          "text": [
            "[32.0, 50.0, 68.18, 94.1]\n"
          ],
          "name": "stdout"
        }
      ]
    },
    {
      "cell_type": "code",
      "metadata": {
        "id": "ZV3DrEFFgODk",
        "colab": {
          "base_uri": "https://localhost:8080/",
          "height": 35
        },
        "outputId": "62112801-70e4-4d1a-f1b9-a75c7a8c1898"
      },
      "source": [
        "#list comprehension aninhada\n",
        "lista = [x*2 for x in [x*2 for x in range(0,11)]]\n",
        "print(lista)"
      ],
      "execution_count": null,
      "outputs": [
        {
          "output_type": "stream",
          "text": [
            "[0, 4, 8, 12, 16, 20, 24, 28, 32, 36, 40]\n"
          ],
          "name": "stdout"
        }
      ]
    },
    {
      "cell_type": "markdown",
      "metadata": {
        "id": "9jsr2-kXK7sS"
      },
      "source": [
        "####Zip e Enumerate"
      ]
    },
    {
      "cell_type": "code",
      "metadata": {
        "id": "TcfRo6_ng1hc",
        "colab": {
          "base_uri": "https://localhost:8080/",
          "height": 35
        },
        "outputId": "0770eabc-8cf5-4a26-ab0c-f80ec181f054"
      },
      "source": [
        "#zip une 2 sequências (respeitando a qtde da menor sequência)\n",
        "\n",
        "x = [1,2,3,4,5]\n",
        "y = [6,7,8,9]\n",
        "#retorna iterator, precisa converter para lista\n",
        "list(zip(x,y))\n"
      ],
      "execution_count": null,
      "outputs": [
        {
          "output_type": "execute_result",
          "data": {
            "text/plain": [
              "[(1, 6), (2, 7), (3, 8), (4, 9)]"
            ]
          },
          "metadata": {
            "tags": []
          },
          "execution_count": 1
        }
      ]
    },
    {
      "cell_type": "code",
      "metadata": {
        "id": "JJ3vV3bJMQ4B",
        "colab": {
          "base_uri": "https://localhost:8080/",
          "height": 35
        },
        "outputId": "9966fc41-5ace-4780-a10c-a7e301959439"
      },
      "source": [
        "list(zip('abcd','ABCDE'))"
      ],
      "execution_count": null,
      "outputs": [
        {
          "output_type": "execute_result",
          "data": {
            "text/plain": [
              "[('a', 'A'), ('b', 'B'), ('c', 'C'), ('d', 'D')]"
            ]
          },
          "metadata": {
            "tags": []
          },
          "execution_count": 2
        }
      ]
    },
    {
      "cell_type": "code",
      "metadata": {
        "id": "YxZ-DBqEMW0T",
        "colab": {
          "base_uri": "https://localhost:8080/",
          "height": 35
        },
        "outputId": "78f5a6d3-7ae8-49b2-ac53-30a44b99cc8c"
      },
      "source": [
        "dicionario1 = {'chave1':'valorA', 'chave2':'valorB'}\n",
        "dicionario2 = {'chave3':'valorC', 'chave4':'valorD'}\n",
        "\n",
        "#assim une chaves apenas\n",
        "list(zip(dicionario1, dicionario2))"
      ],
      "execution_count": null,
      "outputs": [
        {
          "output_type": "execute_result",
          "data": {
            "text/plain": [
              "[('chave1', 'chave3'), ('chave2', 'chave4')]"
            ]
          },
          "metadata": {
            "tags": []
          },
          "execution_count": 3
        }
      ]
    },
    {
      "cell_type": "code",
      "metadata": {
        "id": "pK3VUPAJNCcn",
        "colab": {
          "base_uri": "https://localhost:8080/",
          "height": 35
        },
        "outputId": "9c34bff0-2a9e-4afd-cc87-58c1280db0d1"
      },
      "source": [
        "#assim une chave de umm e valores do outro\n",
        "#em outras palavras trocou os valores do dicionario\n",
        "list(zip(dicionario1, dicionario2.values()))"
      ],
      "execution_count": null,
      "outputs": [
        {
          "output_type": "execute_result",
          "data": {
            "text/plain": [
              "[('chave1', 'valorC'), ('chave2', 'valorD')]"
            ]
          },
          "metadata": {
            "tags": []
          },
          "execution_count": 4
        }
      ]
    },
    {
      "cell_type": "code",
      "metadata": {
        "id": "ftbjgyZ7NH8O",
        "colab": {
          "base_uri": "https://localhost:8080/",
          "height": 53
        },
        "outputId": "febd8421-97c1-450f-d716-8310b3b837a3"
      },
      "source": [
        "#une os pares (se torna uma tupla de tuplas)\n",
        "list(zip(dicionario1.items(), dicionario2.items()))"
      ],
      "execution_count": null,
      "outputs": [
        {
          "output_type": "execute_result",
          "data": {
            "text/plain": [
              "[(('chave1', 'valorA'), ('chave3', 'valorC')),\n",
              " (('chave2', 'valorB'), ('chave4', 'valorD'))]"
            ]
          },
          "metadata": {
            "tags": []
          },
          "execution_count": 5
        }
      ]
    },
    {
      "cell_type": "code",
      "metadata": {
        "id": "QkIECB94NLm0",
        "colab": {
          "base_uri": "https://localhost:8080/",
          "height": 35
        },
        "outputId": "2445b48b-1e92-47aa-8853-7b038678b8cd"
      },
      "source": [
        "lista = ['a','b','c','d','e']\n",
        "#também é iterator\n",
        "#retorna o índice e o valor armazenado naquele índice\n",
        "list(enumerate(lista))\n"
      ],
      "execution_count": null,
      "outputs": [
        {
          "output_type": "execute_result",
          "data": {
            "text/plain": [
              "[(0, 'a'), (1, 'b'), (2, 'c'), (3, 'd'), (4, 'e')]"
            ]
          },
          "metadata": {
            "tags": []
          },
          "execution_count": 7
        }
      ]
    },
    {
      "cell_type": "code",
      "metadata": {
        "id": "zZkfcUUoOGe3",
        "colab": {
          "base_uri": "https://localhost:8080/",
          "height": 108
        },
        "outputId": "86cdddd0-104b-4e16-e87c-70718c8ebd8f"
      },
      "source": [
        "for indice, valor in enumerate(lista):\n",
        "  print(indice,valor)"
      ],
      "execution_count": null,
      "outputs": [
        {
          "output_type": "stream",
          "text": [
            "0 a\n",
            "1 b\n",
            "2 c\n",
            "3 d\n",
            "4 e\n"
          ],
          "name": "stdout"
        }
      ]
    },
    {
      "cell_type": "code",
      "metadata": {
        "id": "9ji7xfnVOjwQ",
        "colab": {
          "base_uri": "https://localhost:8080/",
          "height": 162
        },
        "outputId": "addc30a1-7b06-4a8b-f0a4-3868a147d35f"
      },
      "source": [
        "list(enumerate('Marcella'))"
      ],
      "execution_count": null,
      "outputs": [
        {
          "output_type": "execute_result",
          "data": {
            "text/plain": [
              "[(0, 'M'),\n",
              " (1, 'a'),\n",
              " (2, 'r'),\n",
              " (3, 'c'),\n",
              " (4, 'e'),\n",
              " (5, 'l'),\n",
              " (6, 'l'),\n",
              " (7, 'a')]"
            ]
          },
          "metadata": {
            "tags": []
          },
          "execution_count": 11
        }
      ]
    },
    {
      "cell_type": "code",
      "metadata": {
        "id": "qPt6NbEuOug4",
        "colab": {
          "base_uri": "https://localhost:8080/",
          "height": 53
        },
        "outputId": "22017cc9-5d32-4348-a6ca-73ffcc81f2af"
      },
      "source": [
        "#util para limitar cortar sequencias\n",
        "#principalmente quando não se sabe o conteúdo\n",
        "for indice, valor in enumerate(lista):\n",
        "  if indice >= 2:\n",
        "    break\n",
        "  else:\n",
        "    print(valor)"
      ],
      "execution_count": null,
      "outputs": [
        {
          "output_type": "stream",
          "text": [
            "a\n",
            "b\n"
          ],
          "name": "stdout"
        }
      ]
    },
    {
      "cell_type": "markdown",
      "metadata": {
        "id": "jYdq3ADUPn3u"
      },
      "source": [
        "####Erros e Execeções (Try, Except, Finally)"
      ]
    },
    {
      "cell_type": "code",
      "metadata": {
        "id": "cqRPSczbPavZ",
        "colab": {
          "base_uri": "https://localhost:8080/",
          "height": 134
        },
        "outputId": "9d0a5f35-4afc-4148-9d46-bb1dcb2d8c74"
      },
      "source": [
        "#Erro de Sintaxe\n",
        "print('olá)"
      ],
      "execution_count": null,
      "outputs": [
        {
          "output_type": "error",
          "ename": "SyntaxError",
          "evalue": "ignored",
          "traceback": [
            "\u001b[0;36m  File \u001b[0;32m\"<ipython-input-13-6836e14f7c71>\"\u001b[0;36m, line \u001b[0;32m2\u001b[0m\n\u001b[0;31m    print('olá)\u001b[0m\n\u001b[0m               ^\u001b[0m\n\u001b[0;31mSyntaxError\u001b[0m\u001b[0;31m:\u001b[0m EOL while scanning string literal\n"
          ]
        }
      ]
    },
    {
      "cell_type": "code",
      "metadata": {
        "id": "70FShmHNRaMm"
      },
      "source": [
        "def divisao(num1,num2):\n",
        "  return num1/num2"
      ],
      "execution_count": null,
      "outputs": []
    },
    {
      "cell_type": "code",
      "metadata": {
        "id": "1PDbR7nfRgeT",
        "colab": {
          "base_uri": "https://localhost:8080/",
          "height": 35
        },
        "outputId": "2f546d14-93ff-4eee-ab32-8baf7538d2c9"
      },
      "source": [
        "#sintaxe está correta, trouxe resultado\n",
        "divisao(4,2)"
      ],
      "execution_count": null,
      "outputs": [
        {
          "output_type": "execute_result",
          "data": {
            "text/plain": [
              "2.0"
            ]
          },
          "metadata": {
            "tags": []
          },
          "execution_count": 15
        }
      ]
    },
    {
      "cell_type": "code",
      "metadata": {
        "id": "-e77G1N2Rh-x",
        "colab": {
          "base_uri": "https://localhost:8080/",
          "height": 262
        },
        "outputId": "653d1dc2-6d50-440f-cec7-d7286b3a1e73"
      },
      "source": [
        "#Gerou Exceção (Resultado inesperado)\n",
        "divisao(4,0)"
      ],
      "execution_count": null,
      "outputs": [
        {
          "output_type": "error",
          "ename": "ZeroDivisionError",
          "evalue": "ignored",
          "traceback": [
            "\u001b[0;31m---------------------------------------------------------------------------\u001b[0m",
            "\u001b[0;31mZeroDivisionError\u001b[0m                         Traceback (most recent call last)",
            "\u001b[0;32m<ipython-input-16-fd0dde62d5ed>\u001b[0m in \u001b[0;36m<module>\u001b[0;34m()\u001b[0m\n\u001b[1;32m      1\u001b[0m \u001b[0;31m#Exceção (Resultado inesperado)\u001b[0m\u001b[0;34m\u001b[0m\u001b[0;34m\u001b[0m\u001b[0;34m\u001b[0m\u001b[0m\n\u001b[0;32m----> 2\u001b[0;31m \u001b[0mdivisao\u001b[0m\u001b[0;34m(\u001b[0m\u001b[0;36m4\u001b[0m\u001b[0;34m,\u001b[0m\u001b[0;36m0\u001b[0m\u001b[0;34m)\u001b[0m\u001b[0;34m\u001b[0m\u001b[0;34m\u001b[0m\u001b[0m\n\u001b[0m",
            "\u001b[0;32m<ipython-input-14-1d6e5f9e357e>\u001b[0m in \u001b[0;36mdivisao\u001b[0;34m(num1, num2)\u001b[0m\n\u001b[1;32m      1\u001b[0m \u001b[0;32mdef\u001b[0m \u001b[0mdivisao\u001b[0m\u001b[0;34m(\u001b[0m\u001b[0mnum1\u001b[0m\u001b[0;34m,\u001b[0m\u001b[0mnum2\u001b[0m\u001b[0;34m)\u001b[0m\u001b[0;34m:\u001b[0m\u001b[0;34m\u001b[0m\u001b[0;34m\u001b[0m\u001b[0m\n\u001b[0;32m----> 2\u001b[0;31m   \u001b[0;32mreturn\u001b[0m \u001b[0mnum1\u001b[0m\u001b[0;34m/\u001b[0m\u001b[0mnum2\u001b[0m\u001b[0;34m\u001b[0m\u001b[0;34m\u001b[0m\u001b[0m\n\u001b[0m",
            "\u001b[0;31mZeroDivisionError\u001b[0m: division by zero"
          ]
        }
      ]
    },
    {
      "cell_type": "code",
      "metadata": {
        "id": "F8oEMIt-RmO_",
        "colab": {
          "base_uri": "https://localhost:8080/",
          "height": 189
        },
        "outputId": "bc295982-157c-4c7a-a717-3a41bba06de0"
      },
      "source": [
        "#gerando exceção\n",
        "8+'s'"
      ],
      "execution_count": null,
      "outputs": [
        {
          "output_type": "error",
          "ename": "TypeError",
          "evalue": "ignored",
          "traceback": [
            "\u001b[0;31m---------------------------------------------------------------------------\u001b[0m",
            "\u001b[0;31mTypeError\u001b[0m                                 Traceback (most recent call last)",
            "\u001b[0;32m<ipython-input-17-fa465b1ee24e>\u001b[0m in \u001b[0;36m<module>\u001b[0;34m()\u001b[0m\n\u001b[1;32m      1\u001b[0m \u001b[0;31m#gerando exceção\u001b[0m\u001b[0;34m\u001b[0m\u001b[0;34m\u001b[0m\u001b[0;34m\u001b[0m\u001b[0m\n\u001b[0;32m----> 2\u001b[0;31m \u001b[0;36m8\u001b[0m\u001b[0;34m+\u001b[0m\u001b[0;34m's'\u001b[0m\u001b[0;34m\u001b[0m\u001b[0;34m\u001b[0m\u001b[0m\n\u001b[0m",
            "\u001b[0;31mTypeError\u001b[0m: unsupported operand type(s) for +: 'int' and 'str'"
          ]
        }
      ]
    },
    {
      "cell_type": "code",
      "metadata": {
        "id": "sBF4ehzhSFsq",
        "colab": {
          "base_uri": "https://localhost:8080/",
          "height": 35
        },
        "outputId": "37b0e0f4-5f6c-4318-898e-744e6afc2b7d"
      },
      "source": [
        "#Não gera o erro na cara do usuário\n",
        "#controlamos a informação que será exibida\n",
        "try:\n",
        "  8+'s'\n",
        "except TypeError:\n",
        "  print('Operação não Permitida')"
      ],
      "execution_count": null,
      "outputs": [
        {
          "output_type": "stream",
          "text": [
            "Operação não Permitida\n"
          ],
          "name": "stdout"
        }
      ]
    },
    {
      "cell_type": "code",
      "metadata": {
        "id": "7bdU9ELqSNIF",
        "colab": {
          "base_uri": "https://localhost:8080/",
          "height": 35
        },
        "outputId": "f5722b8b-e538-4541-856c-0427d4d784b4"
      },
      "source": [
        "#quando exexuta sem erros então executa o bloco else\n",
        "try:\n",
        "  f = open('texte_excecao.txt','w')\n",
        "  f.write('Texto a ser escrito')\n",
        "except IOError:\n",
        "  print('Não foi possível gravar o arquivo')\n",
        "else:\n",
        "  print('Arquivo gravado com sucesso!')\n",
        "  f.close()"
      ],
      "execution_count": null,
      "outputs": [
        {
          "output_type": "stream",
          "text": [
            "Arquivo gravado com sucesso!\n"
          ],
          "name": "stdout"
        }
      ]
    },
    {
      "cell_type": "code",
      "metadata": {
        "id": "ExJiYNZkSy27",
        "colab": {
          "base_uri": "https://localhost:8080/",
          "height": 35
        },
        "outputId": "5db57715-687d-44cd-ae6c-09503ede0b90"
      },
      "source": [
        "#causando exceção por não informar a extensão do arquivo\n",
        "try:\n",
        "  f = open('teste_excecao','r')\n",
        "  f.read()\n",
        "except IOError:\n",
        "  print('O Arquivo não pôde ser lido')\n",
        "else:\n",
        "  print('Arquivo lido com sucesso')\n",
        "  f.close()"
      ],
      "execution_count": null,
      "outputs": [
        {
          "output_type": "stream",
          "text": [
            "O Arquivo não pôde ser lido\n"
          ],
          "name": "stdout"
        }
      ]
    },
    {
      "cell_type": "code",
      "metadata": {
        "id": "W4kRWCTjTWa3",
        "colab": {
          "base_uri": "https://localhost:8080/",
          "height": 262
        },
        "outputId": "15057e3a-009e-449a-ed2e-8783b0355574"
      },
      "source": [
        "#não segurou o erro pois o erro foi do tipo ValueError e não IOError\n",
        "try:\n",
        "  num = int(input('Informe um número: '))\n",
        "  print(num)\n",
        "except IOError:\n",
        "  print('Valor inválido')"
      ],
      "execution_count": null,
      "outputs": [
        {
          "output_type": "stream",
          "text": [
            "Informe um número: a\n"
          ],
          "name": "stdout"
        },
        {
          "output_type": "error",
          "ename": "ValueError",
          "evalue": "ignored",
          "traceback": [
            "\u001b[0;31m---------------------------------------------------------------------------\u001b[0m",
            "\u001b[0;31mValueError\u001b[0m                                Traceback (most recent call last)",
            "\u001b[0;32m<ipython-input-25-0224b0e28cfb>\u001b[0m in \u001b[0;36m<module>\u001b[0;34m()\u001b[0m\n\u001b[1;32m      1\u001b[0m \u001b[0;31m#não segurou o erro pois o erro foi do tipo ValueError e não IOError\u001b[0m\u001b[0;34m\u001b[0m\u001b[0;34m\u001b[0m\u001b[0;34m\u001b[0m\u001b[0m\n\u001b[1;32m      2\u001b[0m \u001b[0;32mtry\u001b[0m\u001b[0;34m:\u001b[0m\u001b[0;34m\u001b[0m\u001b[0;34m\u001b[0m\u001b[0m\n\u001b[0;32m----> 3\u001b[0;31m   \u001b[0mnum\u001b[0m \u001b[0;34m=\u001b[0m \u001b[0mint\u001b[0m\u001b[0;34m(\u001b[0m\u001b[0minput\u001b[0m\u001b[0;34m(\u001b[0m\u001b[0;34m'Informe um número: '\u001b[0m\u001b[0;34m)\u001b[0m\u001b[0;34m)\u001b[0m\u001b[0;34m\u001b[0m\u001b[0;34m\u001b[0m\u001b[0m\n\u001b[0m\u001b[1;32m      4\u001b[0m   \u001b[0mprint\u001b[0m\u001b[0;34m(\u001b[0m\u001b[0mnum\u001b[0m\u001b[0;34m)\u001b[0m\u001b[0;34m\u001b[0m\u001b[0;34m\u001b[0m\u001b[0m\n\u001b[1;32m      5\u001b[0m \u001b[0;32mexcept\u001b[0m \u001b[0mIOError\u001b[0m\u001b[0;34m:\u001b[0m\u001b[0;34m\u001b[0m\u001b[0;34m\u001b[0m\u001b[0m\n",
            "\u001b[0;31mValueError\u001b[0m: invalid literal for int() with base 10: 'a'"
          ]
        }
      ]
    },
    {
      "cell_type": "code",
      "metadata": {
        "id": "EK3M6NW1Umxa",
        "colab": {
          "base_uri": "https://localhost:8080/",
          "height": 72
        },
        "outputId": "b9463ed8-3a2d-4ab2-bd31-d18de236ba4f"
      },
      "source": [
        "#Repetindo o bloco sem especificar tipo do erro\n",
        "#bloco finally executa independentemente do resultado\n",
        "try:\n",
        "  num = int(input('Informe um número: '))\n",
        "  print(num)\n",
        "except:\n",
        "  print('Valor inválido')\n",
        "finally:\n",
        "  print('Execução Finalizada')"
      ],
      "execution_count": null,
      "outputs": [
        {
          "output_type": "stream",
          "text": [
            "Informe um número: a\n",
            "Valor inválido\n",
            "Execução Finalizada\n"
          ],
          "name": "stdout"
        }
      ]
    },
    {
      "cell_type": "code",
      "metadata": {
        "id": "i8U62QdVU7CY",
        "colab": {
          "base_uri": "https://localhost:8080/",
          "height": 498
        },
        "outputId": "62c32905-48df-4ff9-9f96-6a69b2234155"
      },
      "source": [
        "#se colocar para o usuário digitar o valor no trecho except\n",
        "#ele pode colocar novamente um valor inválido e nesse caso não existe o except do except\n",
        "try:\n",
        "  num = int(input('Informe um número: '))\n",
        "  print(num)\n",
        "except:\n",
        "  print('Valor inválido')\n",
        "  num = int(input('Informe um número: '))\n",
        "finally:\n",
        "  print('Execução Finalizada')"
      ],
      "execution_count": null,
      "outputs": [
        {
          "output_type": "stream",
          "text": [
            "Informe um número: a\n",
            "Valor inválido\n",
            "Informe um número: a\n",
            "Execução Finalizada\n"
          ],
          "name": "stdout"
        },
        {
          "output_type": "error",
          "ename": "ValueError",
          "evalue": "ignored",
          "traceback": [
            "\u001b[0;31m---------------------------------------------------------------------------\u001b[0m",
            "\u001b[0;31mValueError\u001b[0m                                Traceback (most recent call last)",
            "\u001b[0;32m<ipython-input-28-41cd53399420>\u001b[0m in \u001b[0;36m<module>\u001b[0;34m()\u001b[0m\n\u001b[1;32m      3\u001b[0m \u001b[0;32mtry\u001b[0m\u001b[0;34m:\u001b[0m\u001b[0;34m\u001b[0m\u001b[0;34m\u001b[0m\u001b[0m\n\u001b[0;32m----> 4\u001b[0;31m   \u001b[0mnum\u001b[0m \u001b[0;34m=\u001b[0m \u001b[0mint\u001b[0m\u001b[0;34m(\u001b[0m\u001b[0minput\u001b[0m\u001b[0;34m(\u001b[0m\u001b[0;34m'Informe um número: '\u001b[0m\u001b[0;34m)\u001b[0m\u001b[0;34m)\u001b[0m\u001b[0;34m\u001b[0m\u001b[0;34m\u001b[0m\u001b[0m\n\u001b[0m\u001b[1;32m      5\u001b[0m   \u001b[0mprint\u001b[0m\u001b[0;34m(\u001b[0m\u001b[0mnum\u001b[0m\u001b[0;34m)\u001b[0m\u001b[0;34m\u001b[0m\u001b[0;34m\u001b[0m\u001b[0m\n",
            "\u001b[0;31mValueError\u001b[0m: invalid literal for int() with base 10: 'a'",
            "\nDuring handling of the above exception, another exception occurred:\n",
            "\u001b[0;31mValueError\u001b[0m                                Traceback (most recent call last)",
            "\u001b[0;32m<ipython-input-28-41cd53399420>\u001b[0m in \u001b[0;36m<module>\u001b[0;34m()\u001b[0m\n\u001b[1;32m      6\u001b[0m \u001b[0;32mexcept\u001b[0m\u001b[0;34m:\u001b[0m\u001b[0;34m\u001b[0m\u001b[0;34m\u001b[0m\u001b[0m\n\u001b[1;32m      7\u001b[0m   \u001b[0mprint\u001b[0m\u001b[0;34m(\u001b[0m\u001b[0;34m'Valor inválido'\u001b[0m\u001b[0;34m)\u001b[0m\u001b[0;34m\u001b[0m\u001b[0;34m\u001b[0m\u001b[0m\n\u001b[0;32m----> 8\u001b[0;31m   \u001b[0mnum\u001b[0m \u001b[0;34m=\u001b[0m \u001b[0mint\u001b[0m\u001b[0;34m(\u001b[0m\u001b[0minput\u001b[0m\u001b[0;34m(\u001b[0m\u001b[0;34m'Informe um número: '\u001b[0m\u001b[0;34m)\u001b[0m\u001b[0;34m)\u001b[0m\u001b[0;34m\u001b[0m\u001b[0;34m\u001b[0m\u001b[0m\n\u001b[0m\u001b[1;32m      9\u001b[0m \u001b[0;32mfinally\u001b[0m\u001b[0;34m:\u001b[0m\u001b[0;34m\u001b[0m\u001b[0;34m\u001b[0m\u001b[0m\n\u001b[1;32m     10\u001b[0m   \u001b[0mprint\u001b[0m\u001b[0;34m(\u001b[0m\u001b[0;34m'Execução Finalizada'\u001b[0m\u001b[0;34m)\u001b[0m\u001b[0;34m\u001b[0m\u001b[0;34m\u001b[0m\u001b[0m\n",
            "\u001b[0;31mValueError\u001b[0m: invalid literal for int() with base 10: 'a'"
          ]
        }
      ]
    },
    {
      "cell_type": "code",
      "metadata": {
        "id": "46yCfWtSVhXA",
        "colab": {
          "base_uri": "https://localhost:8080/",
          "height": 199
        },
        "outputId": "19202fdf-e1f8-4cf8-fade-09f7b7c693bb"
      },
      "source": [
        "#dessa forma vai executar até ter o valor correto\n",
        "#sem estourar erro para o usuário\n",
        "while(True):\n",
        "  try:\n",
        "    num = int(input('Informe um número: '))\n",
        "    print(num)\n",
        "  except:\n",
        "    print('Valor inválido')\n",
        "    continue\n",
        "  else:\n",
        "    print('Deu certo! Obrigada')\n",
        "    break\n",
        "  finally:\n",
        "    print('Execução Finalizada')"
      ],
      "execution_count": null,
      "outputs": [
        {
          "output_type": "stream",
          "text": [
            "Informe um número: a\n",
            "Valor inválido\n",
            "Execução Finalizada\n",
            "Informe um número: \n",
            "Valor inválido\n",
            "Execução Finalizada\n",
            "Informe um número: 1\n",
            "1\n",
            "Deu certo! Obrigada\n",
            "Execução Finalizada\n"
          ],
          "name": "stdout"
        }
      ]
    },
    {
      "cell_type": "code",
      "metadata": {
        "id": "B8zgXlYVVulO",
        "colab": {
          "base_uri": "https://localhost:8080/",
          "height": 35
        },
        "outputId": "8ba19b1e-1ea2-4096-a8a3-699119a2e020"
      },
      "source": [
        "#capturando o erro para printar\n",
        "#não tem append na tupla pois é imutável\n",
        "tupla = (1,2,3,4,5)\n",
        "\n",
        "try:\n",
        "  tupla.append(6)\n",
        "except AttributeError as ae:\n",
        "  print('Erro: ', ae)"
      ],
      "execution_count": null,
      "outputs": [
        {
          "output_type": "stream",
          "text": [
            "Erro:  'tuple' object has no attribute 'append'\n"
          ],
          "name": "stdout"
        }
      ]
    },
    {
      "cell_type": "markdown",
      "metadata": {
        "id": "FBculyA-ZvEG"
      },
      "source": [
        "###Exercícios Capítulo 4\n",
        "Exercícios <br>\n",
        "https://colab.research.google.com/github/marcellapbp/PythonFundamentos/blob/master/Cap04/Notebooks/DSA-Python-Cap04-ExercicioS.ipynb\n",
        "\n",
        "Solução <br>\n",
        "https://colab.research.google.com/github/marcellapbp/PythonFundamentos/blob/master/Cap04/Notebooks/DSA-Python-Cap04-Exercicios-Solucao.ipynb"
      ]
    },
    {
      "cell_type": "code",
      "metadata": {
        "id": "dp6jmyo2WsT_",
        "colab": {
          "base_uri": "https://localhost:8080/",
          "height": 35
        },
        "outputId": "8b89d4ae-cfd4-4652-c824-409389325dc0"
      },
      "source": [
        "print(list(range(2)))"
      ],
      "execution_count": null,
      "outputs": [
        {
          "output_type": "stream",
          "text": [
            "[0, 1]\n"
          ],
          "name": "stdout"
        }
      ]
    },
    {
      "cell_type": "code",
      "metadata": {
        "id": "IEJUPxmbkHI0",
        "colab": {
          "base_uri": "https://localhost:8080/",
          "height": 108
        },
        "outputId": "0cb7b61e-e75a-4365-9f01-cdcbbdb14830"
      },
      "source": [
        "# Exercício 4 - Crie duas funções, uma para elevar um número ao quadrado e outra para elevar ao cubo. \n",
        "# Aplique as duas funções aos elementos da lista abaixo. \n",
        "# Obs: as duas funções devem ser aplicadas simultaneamente.\n",
        "lista = [0, 1, 2, 3, 4]\n",
        "\n",
        "def square(x):\n",
        "        return (x**2)\n",
        "    \n",
        "def cube(x):\n",
        "        return (x**3)\n",
        "\n",
        "funcs = [square, cube]\n",
        "\n",
        "for i in lista:\n",
        "    valor = map(lambda x: x(i), funcs)\n",
        "    print(list((valor)))"
      ],
      "execution_count": null,
      "outputs": [
        {
          "output_type": "stream",
          "text": [
            "[0, 0]\n",
            "[1, 1]\n",
            "[4, 8]\n",
            "[9, 27]\n",
            "[16, 64]\n"
          ],
          "name": "stdout"
        }
      ]
    },
    {
      "cell_type": "code",
      "metadata": {
        "id": "n-AWyNcHlFK2",
        "colab": {
          "base_uri": "https://localhost:8080/",
          "height": 35
        },
        "outputId": "0787c6ae-9f56-44e8-948e-4019a4ebad03"
      },
      "source": [
        "#método alternativo para o execício 4 acima\n",
        "lista_result = [ [f(x) for f in funcs] for x in lista]\n",
        "print(lista_result)"
      ],
      "execution_count": null,
      "outputs": [
        {
          "output_type": "stream",
          "text": [
            "[[0, 0], [1, 1], [4, 8], [9, 27], [16, 64]]\n"
          ],
          "name": "stdout"
        }
      ]
    },
    {
      "cell_type": "code",
      "metadata": {
        "id": "4SDprgMimM2q",
        "colab": {
          "base_uri": "https://localhost:8080/",
          "height": 35
        },
        "outputId": "e40399cc-12d7-4ed9-8572-4a988912a4f0"
      },
      "source": [
        "# Exercício 6 - Considerando o range de valores abaixo, use a função filter() para retornar apenas os valores negativos.\n",
        "range(-5, 5)\n",
        "list(filter((lambda x: x < 0), range(-5,5)))"
      ],
      "execution_count": null,
      "outputs": [
        {
          "output_type": "execute_result",
          "data": {
            "text/plain": [
              "[-5, -4, -3, -2, -1]"
            ]
          },
          "metadata": {
            "tags": []
          },
          "execution_count": 17
        }
      ]
    },
    {
      "cell_type": "code",
      "metadata": {
        "id": "6vBaKP02nnRa",
        "colab": {
          "base_uri": "https://localhost:8080/",
          "height": 35
        },
        "outputId": "b0ce6fd7-a5d7-47ad-a428-89d5a351f19b"
      },
      "source": [
        "#método alternativo para o execício 6 acima\n",
        "[x for x in range(-5,5) if x<0]"
      ],
      "execution_count": null,
      "outputs": [
        {
          "output_type": "execute_result",
          "data": {
            "text/plain": [
              "[-5, -4, -3, -2, -1]"
            ]
          },
          "metadata": {
            "tags": []
          },
          "execution_count": 18
        }
      ]
    },
    {
      "cell_type": "code",
      "metadata": {
        "id": "fMCsJ_5-oAnP",
        "colab": {
          "base_uri": "https://localhost:8080/",
          "height": 35
        },
        "outputId": "5d415dc1-7649-418e-c77c-5357f5e9175b"
      },
      "source": [
        "# Exercício 5 - Abaixo você encontra duas listas. Faça com que cada elemento da listaA seja elevado \n",
        "# ao elemento correspondente na listaB.\n",
        "listaA = [2, 3, 4]\n",
        "listaB = [10, 11, 12]\n",
        "list(map(pow, listaA, listaB))"
      ],
      "execution_count": null,
      "outputs": [
        {
          "output_type": "execute_result",
          "data": {
            "text/plain": [
              "[1024, 177147, 16777216]"
            ]
          },
          "metadata": {
            "tags": []
          },
          "execution_count": 19
        }
      ]
    },
    {
      "cell_type": "code",
      "metadata": {
        "id": "ZUZkOHyTxb_B",
        "colab": {
          "base_uri": "https://localhost:8080/",
          "height": 35
        },
        "outputId": "86c1a490-fc09-4b83-daa1-52d6689a3706"
      },
      "source": [
        "#método alternativo para o execício 5 acima\n",
        "[pow(a,b) for a,b in zip(listaA,listaB)]"
      ],
      "execution_count": null,
      "outputs": [
        {
          "output_type": "execute_result",
          "data": {
            "text/plain": [
              "[1024, 177147, 16777216]"
            ]
          },
          "metadata": {
            "tags": []
          },
          "execution_count": 20
        }
      ]
    },
    {
      "cell_type": "markdown",
      "metadata": {
        "id": "Vhez0Xa6to5M"
      },
      "source": [
        "##Capítulo 5 - Orientação a Objetos"
      ]
    },
    {
      "cell_type": "markdown",
      "metadata": {
        "id": "smz8ViVt1Dq5"
      },
      "source": [
        "###Definição de Classe e Instanciando Objetos"
      ]
    },
    {
      "cell_type": "code",
      "metadata": {
        "id": "727BwWCxxjdt"
      },
      "source": [
        "#definindo classe\n",
        "class Livro():\n",
        "  #definindo método construtor\n",
        "  def __init__(self, titulo, isbn):\n",
        "    self.titulo = titulo \n",
        "    self.isbn = isbn\n",
        "\n",
        "    print('Iniciando construtor')\n",
        "\n",
        "  def comprarLivro(self):\n",
        "    print(\"Compra aprovada para o Livro %s ISBN %s\" %(self.titulo, self.isbn))"
      ],
      "execution_count": null,
      "outputs": []
    },
    {
      "cell_type": "code",
      "metadata": {
        "id": "sNZWiEbh1356",
        "colab": {
          "base_uri": "https://localhost:8080/",
          "height": 35
        },
        "outputId": "83005a31-99fa-4b86-f496-98b40026e832"
      },
      "source": [
        "Livro1 = Livro('A Menina que Roubava Livros', '123456')"
      ],
      "execution_count": null,
      "outputs": [
        {
          "output_type": "stream",
          "text": [
            "Iniciando construtor\n"
          ],
          "name": "stdout"
        }
      ]
    },
    {
      "cell_type": "code",
      "metadata": {
        "id": "9dMAoYHi1_ND",
        "colab": {
          "base_uri": "https://localhost:8080/",
          "height": 35
        },
        "outputId": "89a55f56-0d4e-4ca6-fd37-67815f5ba7cc"
      },
      "source": [
        "Livro1.titulo"
      ],
      "execution_count": null,
      "outputs": [
        {
          "output_type": "execute_result",
          "data": {
            "text/plain": [
              "'A Menina que Roubava Livros'"
            ]
          },
          "metadata": {
            "tags": []
          },
          "execution_count": 26
        }
      ]
    },
    {
      "cell_type": "code",
      "metadata": {
        "id": "0j9L5wSa2Hlu",
        "cellView": "both",
        "colab": {
          "base_uri": "https://localhost:8080/",
          "height": 35
        },
        "outputId": "dcfdd9ca-36a0-4e21-93d1-8d552aaf8fab"
      },
      "source": [
        "Livro1.isbn"
      ],
      "execution_count": null,
      "outputs": [
        {
          "output_type": "execute_result",
          "data": {
            "text/plain": [
              "'123456'"
            ]
          },
          "metadata": {
            "tags": []
          },
          "execution_count": 27
        }
      ]
    },
    {
      "cell_type": "code",
      "metadata": {
        "id": "Qpe3OqMM2JrM",
        "colab": {
          "base_uri": "https://localhost:8080/",
          "height": 35
        },
        "outputId": "17ebd1bb-192a-41cf-9c74-cb33d7e20b07"
      },
      "source": [
        "Livro1.comprarLivro()"
      ],
      "execution_count": null,
      "outputs": [
        {
          "output_type": "stream",
          "text": [
            "Compra aprovada para o Livro A Menina que Roubava Livros ISBN 123456\n"
          ],
          "name": "stdout"
        }
      ]
    },
    {
      "cell_type": "code",
      "metadata": {
        "id": "KaYd6Lgd2dx2"
      },
      "source": [
        ""
      ],
      "execution_count": null,
      "outputs": []
    }
  ]
}