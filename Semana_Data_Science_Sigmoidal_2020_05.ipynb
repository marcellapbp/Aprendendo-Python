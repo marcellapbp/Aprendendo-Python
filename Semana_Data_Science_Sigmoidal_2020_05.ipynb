{
  "nbformat": 4,
  "nbformat_minor": 0,
  "metadata": {
    "colab": {
      "name": "Semana_Data_Science_Sigmoidal_2020-05.ipynb",
      "provenance": [],
      "authorship_tag": "ABX9TyOP/YMI5IEyZk9E5zwbg46F",
      "include_colab_link": true
    },
    "kernelspec": {
      "name": "python3",
      "display_name": "Python 3"
    }
  },
  "cells": [
    {
      "cell_type": "markdown",
      "metadata": {
        "id": "view-in-github",
        "colab_type": "text"
      },
      "source": [
        "<a href=\"https://colab.research.google.com/github/marcellapbp/Aprendendo-Python/blob/master/Semana_Data_Science_Sigmoidal_2020_05.ipynb\" target=\"_parent\"><img src=\"https://colab.research.google.com/assets/colab-badge.svg\" alt=\"Open In Colab\"/></a>"
      ]
    },
    {
      "cell_type": "markdown",
      "metadata": {
        "id": "Y-Sit57D6gFO",
        "colab_type": "text"
      },
      "source": [
        "#Semana Data Science Sigmoidal 05/2020"
      ]
    },
    {
      "cell_type": "code",
      "metadata": {
        "id": "RFa-3HQw6KxJ",
        "colab_type": "code",
        "colab": {}
      },
      "source": [
        ""
      ],
      "execution_count": 0,
      "outputs": []
    }
  ]
}