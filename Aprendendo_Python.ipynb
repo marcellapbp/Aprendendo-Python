{
  "nbformat": 4,
  "nbformat_minor": 0,
  "metadata": {
    "colab": {
      "name": "Aprendendo Python",
      "provenance": [],
      "authorship_tag": "ABX9TyNOJ1nHf66GdgFDM9wjqWvX",
      "include_colab_link": true
    },
    "kernelspec": {
      "name": "python3",
      "display_name": "Python 3"
    }
  },
  "cells": [
    {
      "cell_type": "markdown",
      "metadata": {
        "id": "view-in-github",
        "colab_type": "text"
      },
      "source": [
        "<a href=\"https://colab.research.google.com/github/marcellapbp/Aprendendo-Python/blob/master/Aprendendo_Python.ipynb\" target=\"_parent\"><img src=\"https://colab.research.google.com/assets/colab-badge.svg\" alt=\"Open In Colab\"/></a>"
      ]
    },
    {
      "cell_type": "markdown",
      "metadata": {
        "id": "McDTypVPgKvH",
        "colab_type": "text"
      },
      "source": [
        "#Primeiro Teste\n",
        "\n"
      ]
    },
    {
      "cell_type": "code",
      "metadata": {
        "colab_type": "code",
        "cellView": "both",
        "id": "PymD2-xdhzXI",
        "outputId": "7dcb1eb8-a957-4ac9-dacb-f2a2fc3fbc5d",
        "colab": {
          "base_uri": "https://localhost:8080/",
          "height": 35
        }
      },
      "source": [
        "x = 1 + 1\n",
        "print (x)\n",
        "\n"
      ],
      "execution_count": 0,
      "outputs": [
        {
          "output_type": "stream",
          "text": [
            "2\n"
          ],
          "name": "stdout"
        }
      ]
    },
    {
      "cell_type": "markdown",
      "metadata": {
        "id": "NfUeqGsaYaGp",
        "colab_type": "text"
      },
      "source": [
        "# Curso - DSA 3 Python Fundamentos para Análise de Dados"
      ]
    },
    {
      "cell_type": "markdown",
      "metadata": {
        "id": "QDuRqbF8YiIv",
        "colab_type": "text"
      },
      "source": [
        "## Capítulo 2 - Variáveis, Tipos e Estruturas de Dados\n",
        "\n"
      ]
    },
    {
      "cell_type": "markdown",
      "metadata": {
        "id": "1cSXa-EpCtpg",
        "colab_type": "text"
      },
      "source": [
        "###Comentário"
      ]
    },
    {
      "cell_type": "code",
      "metadata": {
        "id": "nYOBGsvyY1TS",
        "colab_type": "code",
        "outputId": "412ccb7d-3347-4156-db6e-5a549922ac9a",
        "colab": {
          "base_uri": "https://localhost:8080/",
          "height": 35
        }
      },
      "source": [
        "#Isso é um comentário de uma única Linha\n",
        "\"\"\"\n",
        "Isso é uma comentário de várias linhas\n",
        "teste\n",
        "\"\"\""
      ],
      "execution_count": 0,
      "outputs": [
        {
          "output_type": "execute_result",
          "data": {
            "text/plain": [
              "'\\nIsso é uma comentário de várias linhas\\nteste\\n'"
            ]
          },
          "metadata": {
            "tags": []
          },
          "execution_count": 2
        }
      ]
    },
    {
      "cell_type": "markdown",
      "metadata": {
        "id": "jo0YetvHCxyh",
        "colab_type": "text"
      },
      "source": [
        "###Números e Operações Matemáticas"
      ]
    },
    {
      "cell_type": "code",
      "metadata": {
        "id": "naa7SWYFYyjc",
        "colab_type": "code",
        "outputId": "39e4a987-f5eb-467f-8b9c-1c6f15321da4",
        "colab": {
          "base_uri": "https://localhost:8080/",
          "height": 35
        }
      },
      "source": [
        "#soma\n",
        "10+10"
      ],
      "execution_count": 0,
      "outputs": [
        {
          "output_type": "execute_result",
          "data": {
            "text/plain": [
              "20"
            ]
          },
          "metadata": {
            "tags": []
          },
          "execution_count": 3
        }
      ]
    },
    {
      "cell_type": "code",
      "metadata": {
        "id": "xhoQwqoVDyac",
        "colab_type": "code",
        "outputId": "d7d8d64c-e97d-40eb-d37c-fc44b9c98607",
        "colab": {
          "base_uri": "https://localhost:8080/",
          "height": 35
        }
      },
      "source": [
        "#subtração\n",
        "10-9"
      ],
      "execution_count": 0,
      "outputs": [
        {
          "output_type": "execute_result",
          "data": {
            "text/plain": [
              "1"
            ]
          },
          "metadata": {
            "tags": []
          },
          "execution_count": 4
        }
      ]
    },
    {
      "cell_type": "code",
      "metadata": {
        "id": "kD5uq8LVD2Mh",
        "colab_type": "code",
        "outputId": "ff092743-a16c-4310-abd8-492fd5a4db63",
        "colab": {
          "base_uri": "https://localhost:8080/",
          "height": 35
        }
      },
      "source": [
        "#multiplicação\n",
        "2*2"
      ],
      "execution_count": 0,
      "outputs": [
        {
          "output_type": "execute_result",
          "data": {
            "text/plain": [
              "4"
            ]
          },
          "metadata": {
            "tags": []
          },
          "execution_count": 5
        }
      ]
    },
    {
      "cell_type": "code",
      "metadata": {
        "id": "CW4K7gM7D2yP",
        "colab_type": "code",
        "outputId": "24b53a18-fb92-488e-8b18-57861a53c39c",
        "colab": {
          "base_uri": "https://localhost:8080/",
          "height": 35
        }
      },
      "source": [
        "#divisão com saída float\n",
        "3/2"
      ],
      "execution_count": 0,
      "outputs": [
        {
          "output_type": "execute_result",
          "data": {
            "text/plain": [
              "1.5"
            ]
          },
          "metadata": {
            "tags": []
          },
          "execution_count": 17
        }
      ]
    },
    {
      "cell_type": "code",
      "metadata": {
        "id": "TflK2JVgFlIH",
        "colab_type": "code",
        "outputId": "8d521584-d10f-4005-d427-381d69a827d5",
        "colab": {
          "base_uri": "https://localhost:8080/",
          "height": 35
        }
      },
      "source": [
        "#divisão com saída inteira \n",
        "3//2"
      ],
      "execution_count": 0,
      "outputs": [
        {
          "output_type": "execute_result",
          "data": {
            "text/plain": [
              "1"
            ]
          },
          "metadata": {
            "tags": []
          },
          "execution_count": 18
        }
      ]
    },
    {
      "cell_type": "code",
      "metadata": {
        "id": "qr0QzoMoFyZ5",
        "colab_type": "code",
        "outputId": "776e6dc3-7cc3-4113-b462-76261d84596a",
        "colab": {
          "base_uri": "https://localhost:8080/",
          "height": 35
        }
      },
      "source": [
        "#(se na divisão usar float a saída é float)\n",
        "3//2.0"
      ],
      "execution_count": 0,
      "outputs": [
        {
          "output_type": "execute_result",
          "data": {
            "text/plain": [
              "1.0"
            ]
          },
          "metadata": {
            "tags": []
          },
          "execution_count": 19
        }
      ]
    },
    {
      "cell_type": "code",
      "metadata": {
        "id": "tI-cRwiDD-mX",
        "colab_type": "code",
        "outputId": "21efb945-9a9a-46ee-9e6f-5415a173db94",
        "colab": {
          "base_uri": "https://localhost:8080/",
          "height": 35
        }
      },
      "source": [
        "#div/módulo divisão sem sobra\n",
        "10%10"
      ],
      "execution_count": 0,
      "outputs": [
        {
          "output_type": "execute_result",
          "data": {
            "text/plain": [
              "1"
            ]
          },
          "metadata": {
            "tags": []
          },
          "execution_count": 9
        }
      ]
    },
    {
      "cell_type": "code",
      "metadata": {
        "id": "9pG6aspBEIeq",
        "colab_type": "code",
        "outputId": "a27180db-bb0c-402d-9833-d60ebc104fd9",
        "colab": {
          "base_uri": "https://localhost:8080/",
          "height": 35
        }
      },
      "source": [
        "#div/módulo divisão com sobra \n",
        "13%10"
      ],
      "execution_count": 0,
      "outputs": [
        {
          "output_type": "execute_result",
          "data": {
            "text/plain": [
              "3"
            ]
          },
          "metadata": {
            "tags": []
          },
          "execution_count": 11
        }
      ]
    },
    {
      "cell_type": "code",
      "metadata": {
        "id": "NtLwneMeEeLz",
        "colab_type": "code",
        "outputId": "a837393c-42e1-4b79-bd85-8bb702a1ebea",
        "colab": {
          "base_uri": "https://localhost:8080/",
          "height": 35
        }
      },
      "source": [
        "#potência\n",
        "2**4"
      ],
      "execution_count": 0,
      "outputs": [
        {
          "output_type": "execute_result",
          "data": {
            "text/plain": [
              "16"
            ]
          },
          "metadata": {
            "tags": []
          },
          "execution_count": 12
        }
      ]
    },
    {
      "cell_type": "code",
      "metadata": {
        "id": "rjGoDVGjEouW",
        "colab_type": "code",
        "outputId": "f32a5255-5c7d-4e19-bb38-93e52e55ee61",
        "colab": {
          "base_uri": "https://localhost:8080/",
          "height": 35
        }
      },
      "source": [
        "#função Type() identifica tipo do dado\n",
        "type(1.0)"
      ],
      "execution_count": 0,
      "outputs": [
        {
          "output_type": "execute_result",
          "data": {
            "text/plain": [
              "float"
            ]
          },
          "metadata": {
            "tags": []
          },
          "execution_count": 16
        }
      ]
    },
    {
      "cell_type": "code",
      "metadata": {
        "id": "zEPLC8-YFWaL",
        "colab_type": "code",
        "outputId": "a5d9190e-7723-45f0-d3ff-6340f0f8f632",
        "colab": {
          "base_uri": "https://localhost:8080/",
          "height": 35
        }
      },
      "source": [
        "type(1)"
      ],
      "execution_count": 0,
      "outputs": [
        {
          "output_type": "execute_result",
          "data": {
            "text/plain": [
              "int"
            ]
          },
          "metadata": {
            "tags": []
          },
          "execution_count": 15
        }
      ]
    },
    {
      "cell_type": "markdown",
      "metadata": {
        "id": "QYUooZ-ZF-TS",
        "colab_type": "text"
      },
      "source": [
        "###Conversão"
      ]
    },
    {
      "cell_type": "code",
      "metadata": {
        "id": "SxjuuhfUFah7",
        "colab_type": "code",
        "outputId": "d8b69ebd-4c59-4464-d257-e8b464b5c295",
        "colab": {
          "base_uri": "https://localhost:8080/",
          "height": 35
        }
      },
      "source": [
        "#transformar int em float\n",
        "float(1)"
      ],
      "execution_count": 0,
      "outputs": [
        {
          "output_type": "execute_result",
          "data": {
            "text/plain": [
              "1.0"
            ]
          },
          "metadata": {
            "tags": []
          },
          "execution_count": 20
        }
      ]
    },
    {
      "cell_type": "code",
      "metadata": {
        "id": "Dxro1GqzGTyw",
        "colab_type": "code",
        "outputId": "62b6a339-cc61-4f65-eb9f-fa92b124bc48",
        "colab": {
          "base_uri": "https://localhost:8080/",
          "height": 35
        }
      },
      "source": [
        "#transformar string em float\n",
        "float('1')"
      ],
      "execution_count": 0,
      "outputs": [
        {
          "output_type": "execute_result",
          "data": {
            "text/plain": [
              "1.0"
            ]
          },
          "metadata": {
            "tags": []
          },
          "execution_count": 21
        }
      ]
    },
    {
      "cell_type": "code",
      "metadata": {
        "id": "Hv8cDTvrGaYR",
        "colab_type": "code",
        "outputId": "5bbf4120-465c-4790-f095-e668100eec14",
        "colab": {
          "base_uri": "https://localhost:8080/",
          "height": 35
        }
      },
      "source": [
        "#transformar string em int\n",
        "int('1')"
      ],
      "execution_count": 0,
      "outputs": [
        {
          "output_type": "execute_result",
          "data": {
            "text/plain": [
              "1"
            ]
          },
          "metadata": {
            "tags": []
          },
          "execution_count": 22
        }
      ]
    },
    {
      "cell_type": "code",
      "metadata": {
        "id": "lfl_1Iw6GkkU",
        "colab_type": "code",
        "outputId": "e749da69-72c5-4310-eea7-00b46bb076bf",
        "colab": {
          "base_uri": "https://localhost:8080/",
          "height": 35
        }
      },
      "source": [
        "#transformar string em int (não dá para direto, dá erro)\n",
        "int(float('1.0'))"
      ],
      "execution_count": 0,
      "outputs": [
        {
          "output_type": "execute_result",
          "data": {
            "text/plain": [
              "1"
            ]
          },
          "metadata": {
            "tags": []
          },
          "execution_count": 24
        }
      ]
    },
    {
      "cell_type": "code",
      "metadata": {
        "id": "Cpfm8cMbGv0_",
        "colab_type": "code",
        "outputId": "1fc1d8f0-e5a2-4434-ab59-ba7fe1c122a5",
        "colab": {
          "base_uri": "https://localhost:8080/",
          "height": 35
        }
      },
      "source": [
        "#transformar float em int (não faz arredondamento)\n",
        "int(1.5)"
      ],
      "execution_count": 0,
      "outputs": [
        {
          "output_type": "execute_result",
          "data": {
            "text/plain": [
              "1"
            ]
          },
          "metadata": {
            "tags": []
          },
          "execution_count": 26
        }
      ]
    },
    {
      "cell_type": "code",
      "metadata": {
        "id": "stZW2zkDIJdl",
        "colab_type": "code",
        "outputId": "88fa8c43-063d-47a4-fc0d-8c1791369f93",
        "colab": {
          "base_uri": "https://localhost:8080/",
          "height": 35
        }
      },
      "source": [
        "#transformar int em hexadecimal\n",
        "hex(1)"
      ],
      "execution_count": 0,
      "outputs": [
        {
          "output_type": "execute_result",
          "data": {
            "text/plain": [
              "'0x1'"
            ]
          },
          "metadata": {
            "tags": []
          },
          "execution_count": 28
        }
      ]
    },
    {
      "cell_type": "code",
      "metadata": {
        "id": "yxXLbUSLIaa2",
        "colab_type": "code",
        "outputId": "533dd008-6432-48e3-95ba-d45df326407d",
        "colab": {
          "base_uri": "https://localhost:8080/",
          "height": 35
        }
      },
      "source": [
        "#transformar int em hexadecimal\n",
        "hex(15)"
      ],
      "execution_count": 0,
      "outputs": [
        {
          "output_type": "execute_result",
          "data": {
            "text/plain": [
              "'0xf'"
            ]
          },
          "metadata": {
            "tags": []
          },
          "execution_count": 43
        }
      ]
    },
    {
      "cell_type": "code",
      "metadata": {
        "id": "1Pw7cc4BH8IG",
        "colab_type": "code",
        "outputId": "f79659ea-f7ad-447a-a36d-27fad8815d50",
        "colab": {
          "base_uri": "https://localhost:8080/",
          "height": 35
        }
      },
      "source": [
        "#transformar int em binário\n",
        "bin(10)"
      ],
      "execution_count": 0,
      "outputs": [
        {
          "output_type": "execute_result",
          "data": {
            "text/plain": [
              "'0b1010'"
            ]
          },
          "metadata": {
            "tags": []
          },
          "execution_count": 44
        }
      ]
    },
    {
      "cell_type": "markdown",
      "metadata": {
        "id": "fWWG2eNSJO1Z",
        "colab_type": "text"
      },
      "source": [
        "###Funções Built-in"
      ]
    },
    {
      "cell_type": "code",
      "metadata": {
        "id": "qi3bQWegIUXq",
        "colab_type": "code",
        "outputId": "ccfac3c0-47ec-4eca-a29e-307e4f7d28e4",
        "colab": {
          "base_uri": "https://localhost:8080/",
          "height": 35
        }
      },
      "source": [
        "#Número absoluto (sem sinal)\n",
        "abs(-8)"
      ],
      "execution_count": 0,
      "outputs": [
        {
          "output_type": "execute_result",
          "data": {
            "text/plain": [
              "8"
            ]
          },
          "metadata": {
            "tags": []
          },
          "execution_count": 45
        }
      ]
    },
    {
      "cell_type": "code",
      "metadata": {
        "id": "W-xas683JWjX",
        "colab_type": "code",
        "outputId": "efca719e-3289-4537-da9a-58c940e96f79",
        "colab": {
          "base_uri": "https://localhost:8080/",
          "height": 35
        }
      },
      "source": [
        "#arredondamento para 2 casas decimais\n",
        "round(3.1424,2)"
      ],
      "execution_count": 0,
      "outputs": [
        {
          "output_type": "execute_result",
          "data": {
            "text/plain": [
              "3.14"
            ]
          },
          "metadata": {
            "tags": []
          },
          "execution_count": 47
        }
      ]
    },
    {
      "cell_type": "code",
      "metadata": {
        "id": "yXE_5j_BJfHj",
        "colab_type": "code",
        "outputId": "ccc5a978-2081-4c17-a7ca-863085f1edd6",
        "colab": {
          "base_uri": "https://localhost:8080/",
          "height": 35
        }
      },
      "source": [
        "round(3.1454,2)"
      ],
      "execution_count": 0,
      "outputs": [
        {
          "output_type": "execute_result",
          "data": {
            "text/plain": [
              "3.15"
            ]
          },
          "metadata": {
            "tags": []
          },
          "execution_count": 48
        }
      ]
    },
    {
      "cell_type": "code",
      "metadata": {
        "id": "xnu0Ge9LJifF",
        "colab_type": "code",
        "outputId": "f3a1be3f-79c2-497d-b424-a10f4439b0b8",
        "colab": {
          "base_uri": "https://localhost:8080/",
          "height": 35
        }
      },
      "source": [
        "#potência através de função, mesmo efeito que **\n",
        "pow(2,4)"
      ],
      "execution_count": 0,
      "outputs": [
        {
          "output_type": "execute_result",
          "data": {
            "text/plain": [
              "16"
            ]
          },
          "metadata": {
            "tags": []
          },
          "execution_count": 49
        }
      ]
    },
    {
      "cell_type": "code",
      "metadata": {
        "id": "VuoKPB0KJpy7",
        "colab_type": "code",
        "outputId": "e78205cb-a4b9-4a04-967b-e3dc4d12095d",
        "colab": {
          "base_uri": "https://localhost:8080/",
          "height": 35
        }
      },
      "source": [
        "#retorna tamanho da string\n",
        "len('111222333')"
      ],
      "execution_count": 0,
      "outputs": [
        {
          "output_type": "execute_result",
          "data": {
            "text/plain": [
              "9"
            ]
          },
          "metadata": {
            "tags": []
          },
          "execution_count": 51
        }
      ]
    },
    {
      "cell_type": "code",
      "metadata": {
        "id": "Wfr9i3g6LbTa",
        "colab_type": "code",
        "outputId": "c12d8c23-9934-45dd-f17a-6b0e452e4789",
        "colab": {
          "base_uri": "https://localhost:8080/",
          "height": 35
        }
      },
      "source": [
        "#tranforma valor em string\n",
        "str(1)"
      ],
      "execution_count": 0,
      "outputs": [
        {
          "output_type": "execute_result",
          "data": {
            "text/plain": [
              "'1'"
            ]
          },
          "metadata": {
            "tags": []
          },
          "execution_count": 53
        }
      ]
    },
    {
      "cell_type": "code",
      "metadata": {
        "id": "yC_KBO_RLueg",
        "colab_type": "code",
        "colab": {}
      },
      "source": [
        "#executa documentação do python\n",
        "#dá para digitar uma função por exemplo para saber mais e ter exemplos\n",
        "help()"
      ],
      "execution_count": 0,
      "outputs": []
    },
    {
      "cell_type": "markdown",
      "metadata": {
        "id": "tAA-GETZM2HW",
        "colab_type": "text"
      },
      "source": [
        "###Variáveis e Operadores"
      ]
    },
    {
      "cell_type": "code",
      "metadata": {
        "id": "wCfjUFWML8VL",
        "colab_type": "code",
        "colab": {}
      },
      "source": [
        "#atribuição\n",
        "var_teste = 10"
      ],
      "execution_count": 0,
      "outputs": []
    },
    {
      "cell_type": "code",
      "metadata": {
        "id": "N3gF-xO_M1nm",
        "colab_type": "code",
        "outputId": "d088083b-b219-4130-cdcf-9fc84a9c5910",
        "colab": {
          "base_uri": "https://localhost:8080/",
          "height": 35
        }
      },
      "source": [
        "var_teste"
      ],
      "execution_count": 0,
      "outputs": [
        {
          "output_type": "execute_result",
          "data": {
            "text/plain": [
              "10"
            ]
          },
          "metadata": {
            "tags": []
          },
          "execution_count": 56
        }
      ]
    },
    {
      "cell_type": "code",
      "metadata": {
        "id": "K54iiLrTO5fl",
        "colab_type": "code",
        "outputId": "e41d9b17-cd7f-4d1a-8d8c-f257dd1b6b8a",
        "colab": {
          "base_uri": "https://localhost:8080/",
          "height": 35
        }
      },
      "source": [
        "print(var_teste)\n"
      ],
      "execution_count": 0,
      "outputs": [
        {
          "output_type": "stream",
          "text": [
            "10\n"
          ],
          "name": "stdout"
        }
      ]
    },
    {
      "cell_type": "code",
      "metadata": {
        "id": "lXyvVcckO7Es",
        "colab_type": "code",
        "outputId": "f3f8bdb6-e769-4cd9-fe9a-d35ea055e863",
        "colab": {
          "base_uri": "https://localhost:8080/",
          "height": 35
        }
      },
      "source": [
        "#ainda está considerando o valor da célula acima\n",
        "var_teste +=11\n",
        "var_teste"
      ],
      "execution_count": 0,
      "outputs": [
        {
          "output_type": "execute_result",
          "data": {
            "text/plain": [
              "21"
            ]
          },
          "metadata": {
            "tags": []
          },
          "execution_count": 62
        }
      ]
    },
    {
      "cell_type": "code",
      "metadata": {
        "id": "0R_1Kr1EO9X-",
        "colab_type": "code",
        "outputId": "e579260d-68fd-4745-d8ac-69685ebe38a6",
        "colab": {
          "base_uri": "https://localhost:8080/",
          "height": 35
        }
      },
      "source": [
        "#concatenação\n",
        "nome = 'Marcella'\n",
        "sobrenome = 'Pedro'\n",
        "nome_completo = nome + ' ' + sobrenome\n",
        "nome_completo"
      ],
      "execution_count": 0,
      "outputs": [
        {
          "output_type": "execute_result",
          "data": {
            "text/plain": [
              "'Marcella Pedro'"
            ]
          },
          "metadata": {
            "tags": []
          },
          "execution_count": 63
        }
      ]
    },
    {
      "cell_type": "code",
      "metadata": {
        "id": "IMFACOulQIwS",
        "colab_type": "code",
        "outputId": "f5a5e88a-2be5-481a-8465-451a6fd0db98",
        "colab": {
          "base_uri": "https://localhost:8080/",
          "height": 35
        }
      },
      "source": [
        "#string com aspas simples\n",
        "'texto1'"
      ],
      "execution_count": 0,
      "outputs": [
        {
          "output_type": "execute_result",
          "data": {
            "text/plain": [
              "'texto1'"
            ]
          },
          "metadata": {
            "tags": []
          },
          "execution_count": 64
        }
      ]
    },
    {
      "cell_type": "code",
      "metadata": {
        "id": "qVtGyjoSRvHY",
        "colab_type": "code",
        "outputId": "b431a565-7e9e-4e07-8e83-04fa48c336d9",
        "colab": {
          "base_uri": "https://localhost:8080/",
          "height": 35
        }
      },
      "source": [
        "#string com aspas duplas\n",
        "\"texto2\""
      ],
      "execution_count": 0,
      "outputs": [
        {
          "output_type": "execute_result",
          "data": {
            "text/plain": [
              "'texto2'"
            ]
          },
          "metadata": {
            "tags": []
          },
          "execution_count": 65
        }
      ]
    },
    {
      "cell_type": "code",
      "metadata": {
        "id": "DPFg1T3_RzMi",
        "colab_type": "code",
        "outputId": "b971222e-a043-4ae0-cfd5-9d4810d4e53d",
        "colab": {
          "base_uri": "https://localhost:8080/",
          "height": 35
        }
      },
      "source": [
        "\"texto com 'aspas'\""
      ],
      "execution_count": 0,
      "outputs": [
        {
          "output_type": "execute_result",
          "data": {
            "text/plain": [
              "\"texto com 'aspas'\""
            ]
          },
          "metadata": {
            "tags": []
          },
          "execution_count": 67
        }
      ]
    },
    {
      "cell_type": "code",
      "metadata": {
        "id": "tlwCMhNYR-fC",
        "colab_type": "code",
        "outputId": "5984c4ee-cbaa-4a5e-9241-e158cb212fbc",
        "colab": {
          "base_uri": "https://localhost:8080/",
          "height": 53
        }
      },
      "source": [
        "print('texto \\n com enter')"
      ],
      "execution_count": 0,
      "outputs": [
        {
          "output_type": "stream",
          "text": [
            "texto \n",
            " com enter\n"
          ],
          "name": "stdout"
        }
      ]
    },
    {
      "cell_type": "code",
      "metadata": {
        "id": "MlGljDnqSRAS",
        "colab_type": "code",
        "outputId": "ec64b777-52b2-45c1-f36d-93f3906015d0",
        "colab": {
          "base_uri": "https://localhost:8080/",
          "height": 35
        }
      },
      "source": [
        "#retornar posição específica do texto\n",
        "ordem = 'Marcella'\n",
        "ordem[0]"
      ],
      "execution_count": 0,
      "outputs": [
        {
          "output_type": "execute_result",
          "data": {
            "text/plain": [
              "'M'"
            ]
          },
          "metadata": {
            "tags": []
          },
          "execution_count": 81
        }
      ]
    },
    {
      "cell_type": "code",
      "metadata": {
        "id": "l4sbnmcUSY2D",
        "colab_type": "code",
        "outputId": "16e470e0-8ed9-4c61-fea9-3846f6b0a25c",
        "colab": {
          "base_uri": "https://localhost:8080/",
          "height": 35
        }
      },
      "source": [
        "ordem[2]"
      ],
      "execution_count": 0,
      "outputs": [
        {
          "output_type": "execute_result",
          "data": {
            "text/plain": [
              "'r'"
            ]
          },
          "metadata": {
            "tags": []
          },
          "execution_count": 82
        }
      ]
    },
    {
      "cell_type": "code",
      "metadata": {
        "id": "iCcmlyAgScTR",
        "colab_type": "code",
        "outputId": "eacbf4c2-e036-42e1-f93a-b232eb13cc4b",
        "colab": {
          "base_uri": "https://localhost:8080/",
          "height": 35
        }
      },
      "source": [
        "#slicing (pegar posição 1 até o final)\n",
        "ordem[1:]"
      ],
      "execution_count": 0,
      "outputs": [
        {
          "output_type": "execute_result",
          "data": {
            "text/plain": [
              "'arcella'"
            ]
          },
          "metadata": {
            "tags": []
          },
          "execution_count": 83
        }
      ]
    },
    {
      "cell_type": "code",
      "metadata": {
        "id": "6ehcNNyYSpo2",
        "colab_type": "code",
        "outputId": "1d18d5a6-c323-418c-e81f-4cf956151b21",
        "colab": {
          "base_uri": "https://localhost:8080/",
          "height": 35
        }
      },
      "source": [
        "#slicing (pegar posição inicial até o 4)\n",
        "ordem[:4]"
      ],
      "execution_count": 0,
      "outputs": [
        {
          "output_type": "execute_result",
          "data": {
            "text/plain": [
              "'Marc'"
            ]
          },
          "metadata": {
            "tags": []
          },
          "execution_count": 84
        }
      ]
    },
    {
      "cell_type": "code",
      "metadata": {
        "id": "6dCgEWFESvGf",
        "colab_type": "code",
        "outputId": "8749a063-40a8-4b89-bed9-4035b2617ad4",
        "colab": {
          "base_uri": "https://localhost:8080/",
          "height": 35
        }
      },
      "source": [
        "#slicing (pegar posição 1 até 2)\n",
        "ordem[1:4]"
      ],
      "execution_count": 0,
      "outputs": [
        {
          "output_type": "execute_result",
          "data": {
            "text/plain": [
              "'arc'"
            ]
          },
          "metadata": {
            "tags": []
          },
          "execution_count": 86
        }
      ]
    },
    {
      "cell_type": "code",
      "metadata": {
        "id": "xE8Jg9dES2Sf",
        "colab_type": "code",
        "outputId": "0f225506-fed3-4579-8c27-14fc6804f592",
        "colab": {
          "base_uri": "https://localhost:8080/",
          "height": 35
        }
      },
      "source": [
        "#slicing (traz tudo)\n",
        "ordem[:]"
      ],
      "execution_count": 0,
      "outputs": [
        {
          "output_type": "execute_result",
          "data": {
            "text/plain": [
              "'Marcella'"
            ]
          },
          "metadata": {
            "tags": []
          },
          "execution_count": 87
        }
      ]
    },
    {
      "cell_type": "code",
      "metadata": {
        "id": "xx1bx05jTKqZ",
        "colab_type": "code",
        "outputId": "5fe323a2-fa93-481d-8ec9-8f461452ad8f",
        "colab": {
          "base_uri": "https://localhost:8080/",
          "height": 35
        }
      },
      "source": [
        "#slicing (traz última letra)\n",
        "ordem[-1]"
      ],
      "execution_count": 0,
      "outputs": [
        {
          "output_type": "execute_result",
          "data": {
            "text/plain": [
              "'a'"
            ]
          },
          "metadata": {
            "tags": []
          },
          "execution_count": 88
        }
      ]
    },
    {
      "cell_type": "code",
      "metadata": {
        "id": "UFymbQfYTQpY",
        "colab_type": "code",
        "outputId": "76567fb8-e25a-48dc-e7bb-6953e78abe6c",
        "colab": {
          "base_uri": "https://localhost:8080/",
          "height": 35
        }
      },
      "source": [
        "#slicing (traz penúltima letra)\n",
        "ordem[-3]"
      ],
      "execution_count": 0,
      "outputs": [
        {
          "output_type": "execute_result",
          "data": {
            "text/plain": [
              "'l'"
            ]
          },
          "metadata": {
            "tags": []
          },
          "execution_count": 89
        }
      ]
    },
    {
      "cell_type": "code",
      "metadata": {
        "id": "5zWajoSBTXtr",
        "colab_type": "code",
        "outputId": "13c232df-0f69-4aab-c59b-559fbead7988",
        "colab": {
          "base_uri": "https://localhost:8080/",
          "height": 35
        }
      },
      "source": [
        "#slicing (corta string de traz pra frente)\n",
        "ordem[:-3]"
      ],
      "execution_count": 0,
      "outputs": [
        {
          "output_type": "execute_result",
          "data": {
            "text/plain": [
              "'Marce'"
            ]
          },
          "metadata": {
            "tags": []
          },
          "execution_count": 90
        }
      ]
    },
    {
      "cell_type": "code",
      "metadata": {
        "id": "Wu2H9c8VTpz1",
        "colab_type": "code",
        "outputId": "78f28210-b199-45d0-ca6c-be12948f9264",
        "colab": {
          "base_uri": "https://localhost:8080/",
          "height": 35
        }
      },
      "source": [
        "ordem[-3:]"
      ],
      "execution_count": 0,
      "outputs": [
        {
          "output_type": "execute_result",
          "data": {
            "text/plain": [
              "'lla'"
            ]
          },
          "metadata": {
            "tags": []
          },
          "execution_count": 91
        }
      ]
    },
    {
      "cell_type": "code",
      "metadata": {
        "id": "ousr3P06TvMu",
        "colab_type": "code",
        "outputId": "c535ee69-ee4c-44a0-b407-1ff97ce4287d",
        "colab": {
          "base_uri": "https://localhost:8080/",
          "height": 35
        }
      },
      "source": [
        "#slicing (indicando posição inicial e final e quantas casas pula)\n",
        "ordem[::1]"
      ],
      "execution_count": 0,
      "outputs": [
        {
          "output_type": "execute_result",
          "data": {
            "text/plain": [
              "'Marcella'"
            ]
          },
          "metadata": {
            "tags": []
          },
          "execution_count": 92
        }
      ]
    },
    {
      "cell_type": "code",
      "metadata": {
        "id": "xKVp7bJVVWhT",
        "colab_type": "code",
        "outputId": "9fd5c119-51f9-4859-9672-30a9a91bd393",
        "colab": {
          "base_uri": "https://localhost:8080/",
          "height": 35
        }
      },
      "source": [
        "ordem[::2]"
      ],
      "execution_count": 0,
      "outputs": [
        {
          "output_type": "execute_result",
          "data": {
            "text/plain": [
              "'Mrel'"
            ]
          },
          "metadata": {
            "tags": []
          },
          "execution_count": 93
        }
      ]
    },
    {
      "cell_type": "code",
      "metadata": {
        "id": "Owq4vdSqVXWv",
        "colab_type": "code",
        "outputId": "49d1908c-2b7c-4f2c-ecf6-a37eb7fee1c8",
        "colab": {
          "base_uri": "https://localhost:8080/",
          "height": 35
        }
      },
      "source": [
        "ordem[::-3]"
      ],
      "execution_count": 0,
      "outputs": [
        {
          "output_type": "execute_result",
          "data": {
            "text/plain": [
              "'aea'"
            ]
          },
          "metadata": {
            "tags": []
          },
          "execution_count": 95
        }
      ]
    },
    {
      "cell_type": "code",
      "metadata": {
        "id": "EOwsc4IiWBpm",
        "colab_type": "code",
        "outputId": "2be05f48-a5e9-424f-d03b-6e8c05e9448b",
        "colab": {
          "base_uri": "https://localhost:8080/",
          "height": 35
        }
      },
      "source": [
        "ordem*3"
      ],
      "execution_count": 0,
      "outputs": [
        {
          "output_type": "execute_result",
          "data": {
            "text/plain": [
              "'MarcellaMarcellaMarcella'"
            ]
          },
          "metadata": {
            "tags": []
          },
          "execution_count": 99
        }
      ]
    },
    {
      "cell_type": "markdown",
      "metadata": {
        "id": "P3ZDi6W6WSvI",
        "colab_type": "text"
      },
      "source": [
        "###Funções com String"
      ]
    },
    {
      "cell_type": "code",
      "metadata": {
        "id": "K7TvUufbWNdl",
        "colab_type": "code",
        "outputId": "610f9c93-8237-4fb1-ee7e-5b474ed6a584",
        "colab": {
          "base_uri": "https://localhost:8080/",
          "height": 35
        }
      },
      "source": [
        "#Maiúscula\n",
        "ordem.upper()"
      ],
      "execution_count": 0,
      "outputs": [
        {
          "output_type": "execute_result",
          "data": {
            "text/plain": [
              "'MARCELLA'"
            ]
          },
          "metadata": {
            "tags": []
          },
          "execution_count": 100
        }
      ]
    },
    {
      "cell_type": "code",
      "metadata": {
        "id": "jeT9qRCGWZa5",
        "colab_type": "code",
        "outputId": "a984a1c0-3ea9-46f9-fa20-c262cfe1a6dd",
        "colab": {
          "base_uri": "https://localhost:8080/",
          "height": 35
        }
      },
      "source": [
        "#Minúscula\n",
        "ordem.lower()"
      ],
      "execution_count": 0,
      "outputs": [
        {
          "output_type": "execute_result",
          "data": {
            "text/plain": [
              "'marcella'"
            ]
          },
          "metadata": {
            "tags": []
          },
          "execution_count": 101
        }
      ]
    },
    {
      "cell_type": "code",
      "metadata": {
        "id": "Tx5IWmWfWcZP",
        "colab_type": "code",
        "outputId": "57271c20-a3f5-43d8-eaaa-333724128d53",
        "colab": {
          "base_uri": "https://localhost:8080/",
          "height": 35
        }
      },
      "source": [
        "#dividir com base em uma letra\n",
        "ordem.split('e')"
      ],
      "execution_count": 0,
      "outputs": [
        {
          "output_type": "execute_result",
          "data": {
            "text/plain": [
              "['Marc', 'lla']"
            ]
          },
          "metadata": {
            "tags": []
          },
          "execution_count": 104
        }
      ]
    },
    {
      "cell_type": "code",
      "metadata": {
        "id": "jBLKym3fWhNA",
        "colab_type": "code",
        "outputId": "b5af3583-3b18-46ba-eda4-0df26c409419",
        "colab": {
          "base_uri": "https://localhost:8080/",
          "height": 35
        }
      },
      "source": [
        "#se não passar parâmetro, separa por espaço em branco\n",
        "nome_completo.split()"
      ],
      "execution_count": 0,
      "outputs": [
        {
          "output_type": "execute_result",
          "data": {
            "text/plain": [
              "['Marcella', 'Pedro']"
            ]
          },
          "metadata": {
            "tags": []
          },
          "execution_count": 106
        }
      ]
    },
    {
      "cell_type": "code",
      "metadata": {
        "id": "WwjPHh_5W2Yh",
        "colab_type": "code",
        "outputId": "e99a485e-bcda-4a46-ad17-0ea2e3d9ae1c",
        "colab": {
          "base_uri": "https://localhost:8080/",
          "height": 35
        }
      },
      "source": [
        "#Capitalize coloca primeira letra em maiúsculo\n",
        "ordem.lower().capitalize()"
      ],
      "execution_count": 0,
      "outputs": [
        {
          "output_type": "execute_result",
          "data": {
            "text/plain": [
              "'Marcella'"
            ]
          },
          "metadata": {
            "tags": []
          },
          "execution_count": 111
        }
      ]
    },
    {
      "cell_type": "code",
      "metadata": {
        "id": "bwfLlBGnXMTg",
        "colab_type": "code",
        "outputId": "7e098018-b3d9-4d70-d488-d4ac57f96dc9",
        "colab": {
          "base_uri": "https://localhost:8080/",
          "height": 35
        }
      },
      "source": [
        "#contar quantas vezes o caractere aparece\n",
        "ordem.count('ll')"
      ],
      "execution_count": 0,
      "outputs": [
        {
          "output_type": "execute_result",
          "data": {
            "text/plain": [
              "1"
            ]
          },
          "metadata": {
            "tags": []
          },
          "execution_count": 116
        }
      ]
    },
    {
      "cell_type": "code",
      "metadata": {
        "id": "bsED4aXlXY4k",
        "colab_type": "code",
        "outputId": "9235293a-c213-455d-cbe0-8dfb575acd82",
        "colab": {
          "base_uri": "https://localhost:8080/",
          "height": 35
        }
      },
      "source": [
        "#encontrar a posição de uma letra\n",
        "ordem.find('r')"
      ],
      "execution_count": 0,
      "outputs": [
        {
          "output_type": "execute_result",
          "data": {
            "text/plain": [
              "2"
            ]
          },
          "metadata": {
            "tags": []
          },
          "execution_count": 117
        }
      ]
    },
    {
      "cell_type": "code",
      "metadata": {
        "id": "7flhz2w8Xqgh",
        "colab_type": "code",
        "outputId": "b27139ae-d4f7-4810-ec61-4373bb957b4c",
        "colab": {
          "base_uri": "https://localhost:8080/",
          "height": 35
        }
      },
      "source": [
        "#verifica se todas letras são minúsculas, retorna boolean\n",
        "ordem.islower()"
      ],
      "execution_count": 0,
      "outputs": [
        {
          "output_type": "execute_result",
          "data": {
            "text/plain": [
              "False"
            ]
          },
          "metadata": {
            "tags": []
          },
          "execution_count": 118
        }
      ]
    },
    {
      "cell_type": "code",
      "metadata": {
        "id": "istwZ7qkXwFs",
        "colab_type": "code",
        "outputId": "7d424ee6-50fc-431a-a6d1-420bb70ebc89",
        "colab": {
          "base_uri": "https://localhost:8080/",
          "height": 35
        }
      },
      "source": [
        "#verifica se a string é formada apenas por espaços\n",
        "ordem.isspace()"
      ],
      "execution_count": 0,
      "outputs": [
        {
          "output_type": "execute_result",
          "data": {
            "text/plain": [
              "False"
            ]
          },
          "metadata": {
            "tags": []
          },
          "execution_count": 119
        }
      ]
    },
    {
      "cell_type": "code",
      "metadata": {
        "id": "Rv98j__5X5cJ",
        "colab_type": "code",
        "outputId": "38dfad18-2f50-460f-d935-865bfd46ce09",
        "colab": {
          "base_uri": "https://localhost:8080/",
          "height": 35
        }
      },
      "source": [
        "##verifica se termina a string com determinada letra\n",
        "ordem.endswith('a')"
      ],
      "execution_count": 0,
      "outputs": [
        {
          "output_type": "execute_result",
          "data": {
            "text/plain": [
              "True"
            ]
          },
          "metadata": {
            "tags": []
          },
          "execution_count": 121
        }
      ]
    },
    {
      "cell_type": "code",
      "metadata": {
        "id": "Woc2Nug9YJAr",
        "colab_type": "code",
        "outputId": "7d67c3c3-e373-42c3-8d5f-75f53656b9d3",
        "colab": {
          "base_uri": "https://localhost:8080/",
          "height": 35
        }
      },
      "source": [
        "#comparação\n",
        "print('Python' == 'Python')"
      ],
      "execution_count": 0,
      "outputs": [
        {
          "output_type": "stream",
          "text": [
            "True\n"
          ],
          "name": "stdout"
        }
      ]
    },
    {
      "cell_type": "markdown",
      "metadata": {
        "id": "8f8iOsSmV_Zc",
        "colab_type": "text"
      },
      "source": [
        "###Estrutura de Dados"
      ]
    },
    {
      "cell_type": "markdown",
      "metadata": {
        "id": "CUk0A8siWyJX",
        "colab_type": "text"
      },
      "source": [
        "####Listas"
      ]
    },
    {
      "cell_type": "code",
      "metadata": {
        "id": "rPDlw7O3YU2F",
        "colab_type": "code",
        "outputId": "ee662a63-ba37-4148-c8c3-0caf61f07069",
        "colab": {
          "base_uri": "https://localhost:8080/",
          "height": 35
        }
      },
      "source": [
        "#lista de strings chaves\n",
        "compras_mercado = ['banana','açúcar','óleo']\n",
        "compras_mercado[0]"
      ],
      "execution_count": 0,
      "outputs": [
        {
          "output_type": "execute_result",
          "data": {
            "text/plain": [
              "'banana'"
            ]
          },
          "metadata": {
            "tags": []
          },
          "execution_count": 1
        }
      ]
    },
    {
      "cell_type": "code",
      "metadata": {
        "id": "2QCPmhvDXFld",
        "colab_type": "code",
        "outputId": "1b8f9e96-fe9e-43df-d75a-addbf90c22d0",
        "colab": {
          "base_uri": "https://localhost:8080/",
          "height": 35
        }
      },
      "source": [
        "#lista aceita tipos diferentes na mesma lista\n",
        "tipos_diferentes = [10,'teste']\n",
        "tipos_diferentes"
      ],
      "execution_count": 0,
      "outputs": [
        {
          "output_type": "execute_result",
          "data": {
            "text/plain": [
              "[10, 'teste']"
            ]
          },
          "metadata": {
            "tags": []
          },
          "execution_count": 2
        }
      ]
    },
    {
      "cell_type": "code",
      "metadata": {
        "id": "N5p-tnxGXQlv",
        "colab_type": "code",
        "outputId": "40175321-3709-42ff-e8a2-095ebdbca570",
        "colab": {
          "base_uri": "https://localhost:8080/",
          "height": 35
        }
      },
      "source": [
        "compras_mercado[2] = 'arroz'\n",
        "compras_mercado"
      ],
      "execution_count": 0,
      "outputs": [
        {
          "output_type": "execute_result",
          "data": {
            "text/plain": [
              "['banana', 'açúcar', 'arroz']"
            ]
          },
          "metadata": {
            "tags": []
          },
          "execution_count": 3
        }
      ]
    },
    {
      "cell_type": "code",
      "metadata": {
        "id": "lGq5TAhhXbcZ",
        "colab_type": "code",
        "outputId": "72aa7efe-9c9a-4871-b668-3f48fb8eda82",
        "colab": {
          "base_uri": "https://localhost:8080/",
          "height": 35
        }
      },
      "source": [
        "#apagar item da lista\n",
        "del compras_mercado[2]\n",
        "compras_mercado"
      ],
      "execution_count": 0,
      "outputs": [
        {
          "output_type": "execute_result",
          "data": {
            "text/plain": [
              "['banana', 'açúcar']"
            ]
          },
          "metadata": {
            "tags": []
          },
          "execution_count": 5
        }
      ]
    },
    {
      "cell_type": "code",
      "metadata": {
        "id": "2-TZQxcVXiwm",
        "colab_type": "code",
        "outputId": "8861e47b-fdb3-4d0a-edd7-1d6404835bd0",
        "colab": {
          "base_uri": "https://localhost:8080/",
          "height": 35
        }
      },
      "source": [
        "#lista aninhada (Lista composta por outras listas = matriz)\n",
        "lista = [[1,2,3],['a','b','c'],['!','@','#']]\n",
        "lista"
      ],
      "execution_count": 0,
      "outputs": [
        {
          "output_type": "execute_result",
          "data": {
            "text/plain": [
              "[[1, 2, 3], ['a', 'b', 'c'], ['!', '@', '#']]"
            ]
          },
          "metadata": {
            "tags": []
          },
          "execution_count": 6
        }
      ]
    },
    {
      "cell_type": "code",
      "metadata": {
        "id": "BVor0PWKX9H3",
        "colab_type": "code",
        "outputId": "302fd89e-a1a3-4354-d53d-7aa8fbd42810",
        "colab": {
          "base_uri": "https://localhost:8080/",
          "height": 35
        }
      },
      "source": [
        "a = lista[0]\n",
        "a"
      ],
      "execution_count": 0,
      "outputs": [
        {
          "output_type": "execute_result",
          "data": {
            "text/plain": [
              "[1, 2, 3]"
            ]
          },
          "metadata": {
            "tags": []
          },
          "execution_count": 7
        }
      ]
    },
    {
      "cell_type": "code",
      "metadata": {
        "id": "YVPB_gJYYD_e",
        "colab_type": "code",
        "outputId": "41302ae6-583e-4ae7-c0f9-7b3f4d5e4c4f",
        "colab": {
          "base_uri": "https://localhost:8080/",
          "height": 35
        }
      },
      "source": [
        "b = [0]\n",
        "b"
      ],
      "execution_count": 0,
      "outputs": [
        {
          "output_type": "execute_result",
          "data": {
            "text/plain": [
              "[0]"
            ]
          },
          "metadata": {
            "tags": []
          },
          "execution_count": 8
        }
      ]
    },
    {
      "cell_type": "code",
      "metadata": {
        "id": "9AK_yv-DYHGU",
        "colab_type": "code",
        "outputId": "1f03b541-203b-44da-a761-1ee1449a2618",
        "colab": {
          "base_uri": "https://localhost:8080/",
          "height": 35
        }
      },
      "source": [
        "#acessar lista dentro da lista\n",
        "lista[1][2]"
      ],
      "execution_count": 0,
      "outputs": [
        {
          "output_type": "execute_result",
          "data": {
            "text/plain": [
              "'c'"
            ]
          },
          "metadata": {
            "tags": []
          },
          "execution_count": 12
        }
      ]
    },
    {
      "cell_type": "code",
      "metadata": {
        "id": "Cj8iJw-uYPpD",
        "colab_type": "code",
        "outputId": "615c2ab1-1762-45a2-b9e7-a496ff813d11",
        "colab": {
          "base_uri": "https://localhost:8080/",
          "height": 35
        }
      },
      "source": [
        "#concatenar listas\n",
        "lista[0]+ compras_mercado"
      ],
      "execution_count": 0,
      "outputs": [
        {
          "output_type": "execute_result",
          "data": {
            "text/plain": [
              "[1, 2, 3, 'banana', 'açúcar']"
            ]
          },
          "metadata": {
            "tags": []
          },
          "execution_count": 13
        }
      ]
    },
    {
      "cell_type": "code",
      "metadata": {
        "id": "q8m1XKFsYz3U",
        "colab_type": "code",
        "outputId": "12cbca42-658f-476f-d491-16d1b1c0dcce",
        "colab": {
          "base_uri": "https://localhost:8080/",
          "height": 35
        }
      },
      "source": [
        "#operador in (verifica se tem uma valor na lista)\n",
        "print( 'banana' in compras_mercado)"
      ],
      "execution_count": 0,
      "outputs": [
        {
          "output_type": "stream",
          "text": [
            "True\n"
          ],
          "name": "stdout"
        }
      ]
    },
    {
      "cell_type": "code",
      "metadata": {
        "id": "oGsI6dwHZLBf",
        "colab_type": "code",
        "outputId": "24d78a9f-a317-453a-ae14-3f9db68ebf3d",
        "colab": {
          "base_uri": "https://localhost:8080/",
          "height": 35
        }
      },
      "source": [
        "#tamanho lista\n",
        "len(compras_mercado)"
      ],
      "execution_count": 0,
      "outputs": [
        {
          "output_type": "execute_result",
          "data": {
            "text/plain": [
              "2"
            ]
          },
          "metadata": {
            "tags": []
          },
          "execution_count": 15
        }
      ]
    },
    {
      "cell_type": "code",
      "metadata": {
        "id": "HuA3sjNsZQ8E",
        "colab_type": "code",
        "outputId": "0a0b5963-348e-402a-c43b-0a67ee8c3a21",
        "colab": {
          "base_uri": "https://localhost:8080/",
          "height": 35
        }
      },
      "source": [
        "#maior valor da lista\n",
        "max(compras_mercado)"
      ],
      "execution_count": 0,
      "outputs": [
        {
          "output_type": "execute_result",
          "data": {
            "text/plain": [
              "'banana'"
            ]
          },
          "metadata": {
            "tags": []
          },
          "execution_count": 16
        }
      ]
    },
    {
      "cell_type": "code",
      "metadata": {
        "id": "mhsIHP5aZTOy",
        "colab_type": "code",
        "outputId": "b1691149-0a3f-42c2-dfb6-369f2df452f0",
        "colab": {
          "base_uri": "https://localhost:8080/",
          "height": 35
        }
      },
      "source": [
        "#menor valor da lista\n",
        "min(compras_mercado)"
      ],
      "execution_count": 0,
      "outputs": [
        {
          "output_type": "execute_result",
          "data": {
            "text/plain": [
              "'açúcar'"
            ]
          },
          "metadata": {
            "tags": []
          },
          "execution_count": 17
        }
      ]
    },
    {
      "cell_type": "code",
      "metadata": {
        "id": "dG7BVDCUZZ1K",
        "colab_type": "code",
        "outputId": "ae9bfd11-802f-4f8f-874c-a6eb221812ce",
        "colab": {
          "base_uri": "https://localhost:8080/",
          "height": 35
        }
      },
      "source": [
        "#adicionar valores na lista\n",
        "compras_mercado.append('feijão')\n",
        "compras_mercado"
      ],
      "execution_count": 0,
      "outputs": [
        {
          "output_type": "execute_result",
          "data": {
            "text/plain": [
              "['banana', 'açúcar', 'feijão']"
            ]
          },
          "metadata": {
            "tags": []
          },
          "execution_count": 18
        }
      ]
    },
    {
      "cell_type": "code",
      "metadata": {
        "id": "LWEn9Uo_ZiaB",
        "colab_type": "code",
        "outputId": "d01a3087-5a48-44f3-e532-c6bca902b503",
        "colab": {
          "base_uri": "https://localhost:8080/",
          "height": 35
        }
      },
      "source": [
        "#contar itens repetidos\n",
        "compras_mercado.append('feijão')\n",
        "compras_mercado.count('feijão')"
      ],
      "execution_count": 0,
      "outputs": [
        {
          "output_type": "execute_result",
          "data": {
            "text/plain": [
              "2"
            ]
          },
          "metadata": {
            "tags": []
          },
          "execution_count": 19
        }
      ]
    },
    {
      "cell_type": "code",
      "metadata": {
        "id": "X5MkLy0kZ2Bh",
        "colab_type": "code",
        "colab": {}
      },
      "source": [
        "#criar lista vazia\n",
        "a = []"
      ],
      "execution_count": 0,
      "outputs": []
    },
    {
      "cell_type": "code",
      "metadata": {
        "id": "Fi2iokn7Z8XT",
        "colab_type": "code",
        "outputId": "ab4ea05b-c1cb-430f-b6eb-60ec216de353",
        "colab": {
          "base_uri": "https://localhost:8080/",
          "height": 35
        }
      },
      "source": [
        "type(a)"
      ],
      "execution_count": 0,
      "outputs": [
        {
          "output_type": "execute_result",
          "data": {
            "text/plain": [
              "list"
            ]
          },
          "metadata": {
            "tags": []
          },
          "execution_count": 21
        }
      ]
    },
    {
      "cell_type": "code",
      "metadata": {
        "id": "kfHj0I_mZ_Z3",
        "colab_type": "code",
        "outputId": "cdaf7c0b-48dd-4f5a-fb26-d6b76c3d9b39",
        "colab": {
          "base_uri": "https://localhost:8080/",
          "height": 35
        }
      },
      "source": [
        "#iteração\n",
        "lista_antiga = [1,1,2,3,5,8,13]\n",
        "lista_nova = []\n",
        "\n",
        "for item in lista_antiga:\n",
        "  lista_nova.append(item)\n",
        "\n",
        "lista_nova"
      ],
      "execution_count": 0,
      "outputs": [
        {
          "output_type": "execute_result",
          "data": {
            "text/plain": [
              "[1, 1, 2, 3, 5, 8, 13]"
            ]
          },
          "metadata": {
            "tags": []
          },
          "execution_count": 22
        }
      ]
    },
    {
      "cell_type": "code",
      "metadata": {
        "id": "Fh3O9XPgaZwI",
        "colab_type": "code",
        "outputId": "3032ca16-e8ba-4beb-8a42-bb6bc47ce060",
        "colab": {
          "base_uri": "https://localhost:8080/",
          "height": 35
        }
      },
      "source": [
        "#adicionar vários itens na lista de uma vez\n",
        "lista_nova.extend([21,34])\n",
        "lista_nova"
      ],
      "execution_count": 0,
      "outputs": [
        {
          "output_type": "execute_result",
          "data": {
            "text/plain": [
              "[1, 1, 2, 3, 5, 8, 13, 21, 34]"
            ]
          },
          "metadata": {
            "tags": []
          },
          "execution_count": 24
        }
      ]
    },
    {
      "cell_type": "code",
      "metadata": {
        "id": "YxuJBUd5a5ji",
        "colab_type": "code",
        "outputId": "90991957-77fd-4441-f7bd-8b9efdb16977",
        "colab": {
          "base_uri": "https://localhost:8080/",
          "height": 35
        }
      },
      "source": [
        "#descobrir indice de um item\n",
        "lista_nova.index(5)"
      ],
      "execution_count": 0,
      "outputs": [
        {
          "output_type": "execute_result",
          "data": {
            "text/plain": [
              "4"
            ]
          },
          "metadata": {
            "tags": []
          },
          "execution_count": 26
        }
      ]
    },
    {
      "cell_type": "code",
      "metadata": {
        "id": "jBqEoVFgbW1k",
        "colab_type": "code",
        "outputId": "6d9528d3-84c9-49b6-ffa8-1d9cb4a8aa73",
        "colab": {
          "base_uri": "https://localhost:8080/",
          "height": 35
        }
      },
      "source": [
        "#inserir item numa posição específica\n",
        "lista_nova.insert(0,0) #posição,item\n",
        "lista_nova"
      ],
      "execution_count": 0,
      "outputs": [
        {
          "output_type": "execute_result",
          "data": {
            "text/plain": [
              "[0, 1, 1, 2, 3, 5, 8, 13, 21, 34]"
            ]
          },
          "metadata": {
            "tags": []
          },
          "execution_count": 27
        }
      ]
    },
    {
      "cell_type": "code",
      "metadata": {
        "id": "HBtm-jQxbD6E",
        "colab_type": "code",
        "outputId": "646670c3-b456-43ec-8142-9fb6fcf7a6bd",
        "colab": {
          "base_uri": "https://localhost:8080/",
          "height": 35
        }
      },
      "source": [
        "#remover um item da lista citando o utem\n",
        "lista_nova.remove(34)\n",
        "lista_nova"
      ],
      "execution_count": 0,
      "outputs": [
        {
          "output_type": "execute_result",
          "data": {
            "text/plain": [
              "[0, 1, 1, 2, 3, 5, 8, 13, 21]"
            ]
          },
          "metadata": {
            "tags": []
          },
          "execution_count": 28
        }
      ]
    },
    {
      "cell_type": "code",
      "metadata": {
        "id": "hfNDL-XTbo4M",
        "colab_type": "code",
        "outputId": "281be41b-49aa-455f-e9b0-c2abe310fcb8",
        "colab": {
          "base_uri": "https://localhost:8080/",
          "height": 35
        }
      },
      "source": [
        "#inverter lista\n",
        "lista_nova.reverse()\n",
        "lista_nova"
      ],
      "execution_count": 0,
      "outputs": [
        {
          "output_type": "execute_result",
          "data": {
            "text/plain": [
              "[21, 13, 8, 5, 3, 2, 1, 1, 0]"
            ]
          },
          "metadata": {
            "tags": []
          },
          "execution_count": 29
        }
      ]
    },
    {
      "cell_type": "code",
      "metadata": {
        "id": "5jTdycxrby7m",
        "colab_type": "code",
        "outputId": "7aafcde9-6ed7-4972-eece-4b3f4e8687ad",
        "colab": {
          "base_uri": "https://localhost:8080/",
          "height": 35
        }
      },
      "source": [
        "#ordenar lista\n",
        "lista_nova.sort()\n",
        "lista_nova"
      ],
      "execution_count": 0,
      "outputs": [
        {
          "output_type": "execute_result",
          "data": {
            "text/plain": [
              "[0, 1, 1, 2, 3, 5, 8, 13, 21]"
            ]
          },
          "metadata": {
            "tags": []
          },
          "execution_count": 30
        }
      ]
    },
    {
      "cell_type": "markdown",
      "metadata": {
        "id": "cGZdLEGZcB1m",
        "colab_type": "text"
      },
      "source": [
        "####Dicionário"
      ]
    },
    {
      "cell_type": "code",
      "metadata": {
        "id": "wFUD8PCob3Eu",
        "colab_type": "code",
        "outputId": "1adf955f-de45-4b2d-9ba1-5c0c25d1da5a",
        "colab": {
          "base_uri": "https://localhost:8080/",
          "height": 35
        }
      },
      "source": [
        "#lista \n",
        "lista_estudantes = ['gabriela',17,'joão',16,'ketrine',17,'felipe',18] \n",
        "lista_estudantes"
      ],
      "execution_count": 0,
      "outputs": [
        {
          "output_type": "execute_result",
          "data": {
            "text/plain": [
              "['gabriela', 17, 'joão', 16, 'ketrine', 17, 'felipe', 18]"
            ]
          },
          "metadata": {
            "tags": []
          },
          "execution_count": 31
        }
      ]
    },
    {
      "cell_type": "code",
      "metadata": {
        "id": "bmGPrPBDdP5J",
        "colab_type": "code",
        "outputId": "b5d3a1d7-6441-4d90-b1c4-059ef5ab3731",
        "colab": {
          "base_uri": "https://localhost:8080/",
          "height": 35
        }
      },
      "source": [
        "#dicionario chaves\n",
        "dicionario_estudantes = {'gabriela':17,'joão':16,'ketrine':17,'felipe':18}\n",
        "dicionario_estudantes"
      ],
      "execution_count": 0,
      "outputs": [
        {
          "output_type": "execute_result",
          "data": {
            "text/plain": [
              "{'felipe': 18, 'gabriela': 17, 'joão': 16, 'ketrine': 17}"
            ]
          },
          "metadata": {
            "tags": []
          },
          "execution_count": 33
        }
      ]
    },
    {
      "cell_type": "code",
      "metadata": {
        "id": "sYo1KnucdbAe",
        "colab_type": "code",
        "outputId": "14fb6809-19c6-42e4-f71b-a0d89bf6a500",
        "colab": {
          "base_uri": "https://localhost:8080/",
          "height": 35
        }
      },
      "source": [
        "dicionario_estudantes['ketrine']"
      ],
      "execution_count": 0,
      "outputs": [
        {
          "output_type": "execute_result",
          "data": {
            "text/plain": [
              "17"
            ]
          },
          "metadata": {
            "tags": []
          },
          "execution_count": 34
        }
      ]
    },
    {
      "cell_type": "code",
      "metadata": {
        "id": "dCyLpl-YdqIh",
        "colab_type": "code",
        "outputId": "0ef5ce97-81ef-4bcc-cdd1-8eb52a63d1ae",
        "colab": {
          "base_uri": "https://localhost:8080/",
          "height": 35
        }
      },
      "source": [
        "dicionario_estudantes['gabriela'] = 16\n",
        "dicionario_estudantes['gabriela'] "
      ],
      "execution_count": 0,
      "outputs": [
        {
          "output_type": "execute_result",
          "data": {
            "text/plain": [
              "16"
            ]
          },
          "metadata": {
            "tags": []
          },
          "execution_count": 35
        }
      ]
    },
    {
      "cell_type": "code",
      "metadata": {
        "id": "o2ZjPDkAdw57",
        "colab_type": "code",
        "outputId": "ef121e06-f819-4155-a8e2-264f664fd750",
        "colab": {
          "base_uri": "https://localhost:8080/",
          "height": 35
        }
      },
      "source": [
        "#adicionar novo par de chave-valor (python percebe que não existe para atualizar então cria)\n",
        "dicionario_estudantes['pedro'] = 16\n",
        "dicionario_estudantes"
      ],
      "execution_count": 0,
      "outputs": [
        {
          "output_type": "execute_result",
          "data": {
            "text/plain": [
              "{'felipe': 18, 'gabriela': 16, 'joão': 16, 'ketrine': 17, 'pedro': 16}"
            ]
          },
          "metadata": {
            "tags": []
          },
          "execution_count": 36
        }
      ]
    },
    {
      "cell_type": "code",
      "metadata": {
        "id": "VRHqMtcXeS7y",
        "colab_type": "code",
        "outputId": "f76a5dc8-62fb-4363-864b-19ccaaf1bbf9",
        "colab": {
          "base_uri": "https://localhost:8080/",
          "height": 35
        }
      },
      "source": [
        "#comando limpa valores\n",
        "dicionario_estudantes.clear()\n",
        "dicionario_estudantes"
      ],
      "execution_count": 0,
      "outputs": [
        {
          "output_type": "execute_result",
          "data": {
            "text/plain": [
              "{}"
            ]
          },
          "metadata": {
            "tags": []
          },
          "execution_count": 37
        }
      ]
    },
    {
      "cell_type": "code",
      "metadata": {
        "id": "xmfbeZSpedN8",
        "colab_type": "code",
        "outputId": "1335095b-c137-4339-9d12-d799496896e2",
        "colab": {
          "base_uri": "https://localhost:8080/",
          "height": 189
        }
      },
      "source": [
        "#esse comando deleta completamente, não é mais possível utilizar o dicionário, precisa criar novamente\n",
        "del dicionario_estudantes\n",
        "dicionario_estudantes"
      ],
      "execution_count": 0,
      "outputs": [
        {
          "output_type": "error",
          "ename": "NameError",
          "evalue": "ignored",
          "traceback": [
            "\u001b[0;31m---------------------------------------------------------------------------\u001b[0m",
            "\u001b[0;31mNameError\u001b[0m                                 Traceback (most recent call last)",
            "\u001b[0;32m<ipython-input-39-61bae93cda6e>\u001b[0m in \u001b[0;36m<module>\u001b[0;34m()\u001b[0m\n\u001b[0;32m----> 1\u001b[0;31m \u001b[0;32mdel\u001b[0m \u001b[0mdicionario_estudantes\u001b[0m\u001b[0;34m\u001b[0m\u001b[0;34m\u001b[0m\u001b[0m\n\u001b[0m\u001b[1;32m      2\u001b[0m \u001b[0mdicionario_estudantes\u001b[0m\u001b[0;34m\u001b[0m\u001b[0;34m\u001b[0m\u001b[0m\n",
            "\u001b[0;31mNameError\u001b[0m: name 'dicionario_estudantes' is not defined"
          ]
        }
      ]
    },
    {
      "cell_type": "code",
      "metadata": {
        "id": "9eKRKklceq6l",
        "colab_type": "code",
        "outputId": "1303dbf4-c81e-4fa5-fed6-3c57b60afd96",
        "colab": {
          "base_uri": "https://localhost:8080/",
          "height": 35
        }
      },
      "source": [
        "dicionario_estudantes = {'gabriela':17,'joão':16,'ketrine':17,'felipe':18}\n",
        "len(dicionario_estudantes)"
      ],
      "execution_count": 0,
      "outputs": [
        {
          "output_type": "execute_result",
          "data": {
            "text/plain": [
              "4"
            ]
          },
          "metadata": {
            "tags": []
          },
          "execution_count": 40
        }
      ]
    },
    {
      "cell_type": "code",
      "metadata": {
        "id": "A1XefaYEe5_O",
        "colab_type": "code",
        "outputId": "5896561e-96a1-41b6-b753-9ad2f19b487b",
        "colab": {
          "base_uri": "https://localhost:8080/",
          "height": 35
        }
      },
      "source": [
        "#somente chaves\n",
        "dicionario_estudantes.keys()"
      ],
      "execution_count": 0,
      "outputs": [
        {
          "output_type": "execute_result",
          "data": {
            "text/plain": [
              "dict_keys(['gabriela', 'joão', 'ketrine', 'felipe'])"
            ]
          },
          "metadata": {
            "tags": []
          },
          "execution_count": 41
        }
      ]
    },
    {
      "cell_type": "code",
      "metadata": {
        "id": "ndoy_IiBe-dL",
        "colab_type": "code",
        "outputId": "fd7c1f92-7627-487a-dce9-03066545dfd6",
        "colab": {
          "base_uri": "https://localhost:8080/",
          "height": 35
        }
      },
      "source": [
        "#somente valores\n",
        "dicionario_estudantes.values()"
      ],
      "execution_count": 0,
      "outputs": [
        {
          "output_type": "execute_result",
          "data": {
            "text/plain": [
              "dict_values([17, 16, 17, 18])"
            ]
          },
          "metadata": {
            "tags": []
          },
          "execution_count": 42
        }
      ]
    },
    {
      "cell_type": "code",
      "metadata": {
        "id": "wquDd-W9e_ie",
        "colab_type": "code",
        "outputId": "0d9aaa2c-b82d-41c2-be67-8da919ec5ecd",
        "colab": {
          "base_uri": "https://localhost:8080/",
          "height": 35
        }
      },
      "source": [
        "#pares\n",
        "dicionario_estudantes.items()"
      ],
      "execution_count": 0,
      "outputs": [
        {
          "output_type": "execute_result",
          "data": {
            "text/plain": [
              "dict_items([('gabriela', 17), ('joão', 16), ('ketrine', 17), ('felipe', 18)])"
            ]
          },
          "metadata": {
            "tags": []
          },
          "execution_count": 44
        }
      ]
    },
    {
      "cell_type": "code",
      "metadata": {
        "id": "1BYF-NjLfBEQ",
        "colab_type": "code",
        "outputId": "2606abd7-b17d-40ff-894b-8d12ddb85565",
        "colab": {
          "base_uri": "https://localhost:8080/",
          "height": 162
        }
      },
      "source": [
        "#concatenar dicionários (fez em ordem alfabética pelas chaves)\n",
        "dicionario_estudantes2 = {'marcia':16,'bruno':16,'larissa':18,'henrique':18}\n",
        "dicionario_estudantes.update(dicionario_estudantes2)\n",
        "dicionario_estudantes"
      ],
      "execution_count": 0,
      "outputs": [
        {
          "output_type": "execute_result",
          "data": {
            "text/plain": [
              "{'bruno': 16,\n",
              " 'felipe': 18,\n",
              " 'gabriela': 17,\n",
              " 'henrique': 18,\n",
              " 'joão': 16,\n",
              " 'ketrine': 17,\n",
              " 'larissa': 18,\n",
              " 'marcia': 16}"
            ]
          },
          "metadata": {
            "tags": []
          },
          "execution_count": 45
        }
      ]
    },
    {
      "cell_type": "code",
      "metadata": {
        "id": "2UVS4ysmfaeb",
        "colab_type": "code",
        "outputId": "e4abd898-2301-4241-dd50-a58cc3574d6c",
        "colab": {
          "base_uri": "https://localhost:8080/",
          "height": 35
        }
      },
      "source": [
        "#chave valor com tipos distintos\n",
        "dicionario = {10:5, \"chave\":2}\n",
        "dicionario"
      ],
      "execution_count": 0,
      "outputs": [
        {
          "output_type": "execute_result",
          "data": {
            "text/plain": [
              "{10: 5, 'chave': 2}"
            ]
          },
          "metadata": {
            "tags": []
          },
          "execution_count": 46
        }
      ]
    },
    {
      "cell_type": "code",
      "metadata": {
        "id": "umPk2ayqfyL3",
        "colab_type": "code",
        "outputId": "b07828f7-2250-432b-b8f0-6a9ed6b235ec",
        "colab": {
          "base_uri": "https://localhost:8080/",
          "height": 35
        }
      },
      "source": [
        "dicionario[10.9] = 'texto'\n",
        "dicionario"
      ],
      "execution_count": 0,
      "outputs": [
        {
          "output_type": "execute_result",
          "data": {
            "text/plain": [
              "{10: 5, 10.9: 'texto', 'chave': 2}"
            ]
          },
          "metadata": {
            "tags": []
          },
          "execution_count": 47
        }
      ]
    },
    {
      "cell_type": "code",
      "metadata": {
        "id": "hl8ARyVWf6RF",
        "colab_type": "code",
        "outputId": "5536c97c-647d-43eb-93df-7235a62b1c18",
        "colab": {
          "base_uri": "https://localhost:8080/",
          "height": 35
        }
      },
      "source": [
        "#texto é chave e valor, tomar cuidado\n",
        "dicionario['texto'] = 2\n",
        "dicionario"
      ],
      "execution_count": 0,
      "outputs": [
        {
          "output_type": "execute_result",
          "data": {
            "text/plain": [
              "{10: 5, 10.9: 'texto', 'chave': 2, 'texto': 2}"
            ]
          },
          "metadata": {
            "tags": []
          },
          "execution_count": 48
        }
      ]
    },
    {
      "cell_type": "code",
      "metadata": {
        "id": "YIE-cpvdgDoD",
        "colab_type": "code",
        "outputId": "627eb8e8-f25d-4bee-bb61-1e50bc10f1f7",
        "colab": {
          "base_uri": "https://localhost:8080/",
          "height": 35
        }
      },
      "source": [
        "#dicionarios de listas\n",
        "dicion_list = {'key1':1200, 'key2':[2,1,4], 'key3': ['tomate', 'leite','batata']}\n",
        "dicion_list"
      ],
      "execution_count": 0,
      "outputs": [
        {
          "output_type": "execute_result",
          "data": {
            "text/plain": [
              "{'key1': 1200, 'key2': [2, 1, 4], 'key3': ['tomate', 'leite', 'batata']}"
            ]
          },
          "metadata": {
            "tags": []
          },
          "execution_count": 49
        }
      ]
    },
    {
      "cell_type": "code",
      "metadata": {
        "id": "d4mTGxW_glIz",
        "colab_type": "code",
        "outputId": "e939ea5f-bad8-421b-a583-8d4a0daefc6f",
        "colab": {
          "base_uri": "https://localhost:8080/",
          "height": 35
        }
      },
      "source": [
        "dicion_list['key3'][0].upper()"
      ],
      "execution_count": 0,
      "outputs": [
        {
          "output_type": "execute_result",
          "data": {
            "text/plain": [
              "'TOMATE'"
            ]
          },
          "metadata": {
            "tags": []
          },
          "execution_count": 51
        }
      ]
    },
    {
      "cell_type": "code",
      "metadata": {
        "id": "nxCAwHEVguho",
        "colab_type": "code",
        "outputId": "d497b572-10fc-4649-a7df-6bcc3e2cb291",
        "colab": {
          "base_uri": "https://localhost:8080/",
          "height": 35
        }
      },
      "source": [
        "#dicionários aninhados\n",
        "teste = {'chave1':{'key1':'teste', 'key2':'lalala'}, 'chave2':{'one':1, 'two':2}}\n",
        "teste"
      ],
      "execution_count": 0,
      "outputs": [
        {
          "output_type": "execute_result",
          "data": {
            "text/plain": [
              "{'chave1': {'key1': 'teste', 'key2': 'lalala'}, 'chave2': {'one': 1, 'two': 2}}"
            ]
          },
          "metadata": {
            "tags": []
          },
          "execution_count": 52
        }
      ]
    },
    {
      "cell_type": "markdown",
      "metadata": {
        "id": "BDOhnVFRhfmo",
        "colab_type": "text"
      },
      "source": [
        "####Tuplas"
      ]
    },
    {
      "cell_type": "code",
      "metadata": {
        "id": "rh7vZ3nChNi9",
        "colab_type": "code",
        "outputId": "8aeac810-ff25-4588-ce8e-3b7c04effa97",
        "colab": {
          "base_uri": "https://localhost:8080/",
          "height": 35
        }
      },
      "source": [
        "#tupla parênteses\n",
        "tupla_teste = ('matemática', 1 , 10.9)\n",
        "tupla_teste"
      ],
      "execution_count": 0,
      "outputs": [
        {
          "output_type": "execute_result",
          "data": {
            "text/plain": [
              "('matemática', 1, 10.9)"
            ]
          },
          "metadata": {
            "tags": []
          },
          "execution_count": 53
        }
      ]
    },
    {
      "cell_type": "code",
      "metadata": {
        "id": "RO7pR56riH3y",
        "colab_type": "code",
        "outputId": "78a1fcd7-7939-466f-fa02-c90863ebb396",
        "colab": {
          "base_uri": "https://localhost:8080/",
          "height": 35
        }
      },
      "source": [
        "#append e delete de item especifico não funcionam\n",
        "tupla_teste[0]\n"
      ],
      "execution_count": 0,
      "outputs": [
        {
          "output_type": "execute_result",
          "data": {
            "text/plain": [
              "'matemática'"
            ]
          },
          "metadata": {
            "tags": []
          },
          "execution_count": 54
        }
      ]
    },
    {
      "cell_type": "code",
      "metadata": {
        "id": "OX0pkKsdim9W",
        "colab_type": "code",
        "outputId": "87a93a18-2b2c-4ffb-c909-ef00767c1b1a",
        "colab": {
          "base_uri": "https://localhost:8080/",
          "height": 35
        }
      },
      "source": [
        "#slicing funciona\n",
        "tupla_teste[1:]"
      ],
      "execution_count": 0,
      "outputs": [
        {
          "output_type": "execute_result",
          "data": {
            "text/plain": [
              "(1, 10.9)"
            ]
          },
          "metadata": {
            "tags": []
          },
          "execution_count": 56
        }
      ]
    },
    {
      "cell_type": "code",
      "metadata": {
        "id": "5AQxZlSIiqRy",
        "colab_type": "code",
        "colab": {}
      },
      "source": [
        "del tupla_teste"
      ],
      "execution_count": 0,
      "outputs": []
    },
    {
      "cell_type": "code",
      "metadata": {
        "id": "Uj6HlNwbi1CP",
        "colab_type": "code",
        "outputId": "0fcfbfa7-228e-4697-b1c2-c9a289cb1531",
        "colab": {
          "base_uri": "https://localhost:8080/",
          "height": 35
        }
      },
      "source": [
        "#para alterar a tupla, dá para copiar para a lista alterar e devolver para a tupla\n",
        "tupla_teste = ('matemática', 1 , 10.9)\n",
        "lista1 = list(tupla_teste)\n",
        "lista1.append('novoItem')\n",
        "tupla_teste = tuple(lista1)\n",
        "tupla_teste"
      ],
      "execution_count": 0,
      "outputs": [
        {
          "output_type": "execute_result",
          "data": {
            "text/plain": [
              "('matemática', 1, 10.9, 'novoItem')"
            ]
          },
          "metadata": {
            "tags": []
          },
          "execution_count": 60
        }
      ]
    },
    {
      "cell_type": "code",
      "metadata": {
        "id": "yGwn7D8SjOXZ",
        "colab_type": "code",
        "outputId": "f7a423b5-267c-4115-ee73-62b606a6a9c2",
        "colab": {
          "base_uri": "https://localhost:8080/",
          "height": 35
        }
      },
      "source": [
        "  string_teste = 'marcella'\n",
        "  lista2 = list(string_teste)\n",
        "  lista2"
      ],
      "execution_count": 0,
      "outputs": [
        {
          "output_type": "execute_result",
          "data": {
            "text/plain": [
              "['m', 'a', 'r', 'c', 'e', 'l', 'l', 'a']"
            ]
          },
          "metadata": {
            "tags": []
          },
          "execution_count": 61
        }
      ]
    },
    {
      "cell_type": "markdown",
      "metadata": {
        "id": "Hl-hLl8ilf1F",
        "colab_type": "text"
      },
      "source": [
        "###Exercício"
      ]
    },
    {
      "cell_type": "markdown",
      "metadata": {
        "id": "6Yhz5uMQl4Nd",
        "colab_type": "text"
      },
      "source": [
        "Exercício <br>\n",
        "https://colab.research.google.com/github/marcellapbp/PythonFundamentos/blob/master/Cap02/Notebooks/DSA-Python-Cap02-Exercicios.ipynb\n",
        "\n",
        "Solução <br>\n",
        "https://colab.research.google.com/github/marcellapbp/PythonFundamentos/blob/master/Cap02/Notebooks/DSA-Python-Cap02-Exercicios-Solucao.ipynb"
      ]
    },
    {
      "cell_type": "markdown",
      "metadata": {
        "id": "xfVmf6sE2prZ",
        "colab_type": "text"
      },
      "source": [
        "###Lab 01 - Desenvolvendo Game em Python"
      ]
    },
    {
      "cell_type": "markdown",
      "metadata": {
        "id": "8GcmtCxHGVPF",
        "colab_type": "text"
      },
      "source": [
        "https://colab.research.google.com/github/marcellapbp/PythonFundamentos/blob/master/Cap02/Lab01/game_v1.ipynb\n"
      ]
    },
    {
      "cell_type": "markdown",
      "metadata": {
        "id": "z6UQTyHsHC_p",
        "colab_type": "text"
      },
      "source": [
        "##Capítulo 3 - Loops, Condicionais, Métodos e Funções"
      ]
    },
    {
      "cell_type": "markdown",
      "metadata": {
        "id": "-ZizW-JlHGwl",
        "colab_type": "text"
      },
      "source": [
        "###Condicionais - If/Else/Elif"
      ]
    },
    {
      "cell_type": "code",
      "metadata": {
        "id": "rbXUugwjNC67",
        "colab_type": "code",
        "outputId": "c4065a2f-e910-4ab9-d969-bde95921e107",
        "colab": {
          "base_uri": "https://localhost:8080/",
          "height": 35
        }
      },
      "source": [
        "#condicional se\n",
        "if 5>2:\n",
        "  print('5 é maior que 2')"
      ],
      "execution_count": 0,
      "outputs": [
        {
          "output_type": "stream",
          "text": [
            "5 é maior que 2\n"
          ],
          "name": "stdout"
        }
      ]
    },
    {
      "cell_type": "code",
      "metadata": {
        "id": "ltcGwGfRNqGB",
        "colab_type": "code",
        "outputId": "28dffd9e-0012-4aad-951e-33daa75c6ca3",
        "colab": {
          "base_uri": "https://localhost:8080/",
          "height": 35
        }
      },
      "source": [
        "#condicional se senão\n",
        "if 5<2:\n",
        "  print('5 é menor que 2')\n",
        "else:\n",
        "  print('5 não é menor que 2')"
      ],
      "execution_count": 0,
      "outputs": [
        {
          "output_type": "stream",
          "text": [
            "5 não é menor que 2\n"
          ],
          "name": "stdout"
        }
      ]
    },
    {
      "cell_type": "code",
      "metadata": {
        "id": "8oZsDt_pN94l",
        "colab_type": "code",
        "outputId": "b630c196-b373-417e-adfd-6bd14cb64d5e",
        "colab": {
          "base_uri": "https://localhost:8080/",
          "height": 35
        }
      },
      "source": [
        "x = 5\n",
        "y = 5\n",
        "\n",
        "if x==y:\n",
        "  print(x==y)\n",
        "else:\n",
        "  print('erro')"
      ],
      "execution_count": 0,
      "outputs": [
        {
          "output_type": "stream",
          "text": [
            "True\n"
          ],
          "name": "stdout"
        }
      ]
    },
    {
      "cell_type": "code",
      "metadata": {
        "id": "tQBu-AHsOf8g",
        "colab_type": "code",
        "outputId": "d8eea37a-e224-442e-9096-ba860e091574",
        "colab": {
          "base_uri": "https://localhost:8080/",
          "height": 35
        }
      },
      "source": [
        "#condicional aninhado\n",
        "idade = 24\n",
        "nome = 'marcella'\n",
        "\n",
        "if idade>20:\n",
        "  if nome == 'marcella':\n",
        "    print('Nome: ' + nome + ' Idade:' + str(idade))\n",
        "  else:\n",
        "    print('erro')\n"
      ],
      "execution_count": 0,
      "outputs": [
        {
          "output_type": "stream",
          "text": [
            "Nome: marcella Idade:24\n"
          ],
          "name": "stdout"
        }
      ]
    },
    {
      "cell_type": "code",
      "metadata": {
        "id": "aOx7jdbBPTJ1",
        "colab_type": "code",
        "outputId": "6391add9-f9a7-4ed0-a959-f977110c2014",
        "colab": {
          "base_uri": "https://localhost:8080/",
          "height": 35
        }
      },
      "source": [
        "if nome == 'marcella' and idade >20:\n",
        "  print('Pode entrar!')"
      ],
      "execution_count": 0,
      "outputs": [
        {
          "output_type": "stream",
          "text": [
            "Pode entrar!\n"
          ],
          "name": "stdout"
        }
      ]
    },
    {
      "cell_type": "code",
      "metadata": {
        "id": "z5dVpNMSPtgE",
        "colab_type": "code",
        "outputId": "e7cdd886-8636-4cdf-8da3-92a4052120da",
        "colab": {
          "base_uri": "https://localhost:8080/",
          "height": 35
        }
      },
      "source": [
        "if (nome == 'marcella') or (idade<20):\n",
        "  print('Ou você é a Marcella ou tem menos que 20 anos')"
      ],
      "execution_count": 0,
      "outputs": [
        {
          "output_type": "stream",
          "text": [
            "Ou você é a Marcella ou tem menos que 20 anos\n"
          ],
          "name": "stdout"
        }
      ]
    },
    {
      "cell_type": "code",
      "metadata": {
        "id": "puoAjF7WP7nm",
        "colab_type": "code",
        "outputId": "382564ed-7b51-4529-c9a6-1bf7a4b10575",
        "colab": {
          "base_uri": "https://localhost:8080/",
          "height": 35
        }
      },
      "source": [
        "#condicional elif (para evitar condicional aninhado)\n",
        "\n",
        "dia_semana = 'terça'\n",
        "\n",
        "if dia_semana == 'segunda':\n",
        "    print('Arroz feijão e nuggets')\n",
        "elif dia_semana == 'terça':\n",
        "    print('macarrão ao molho sugo')\n",
        "else:\n",
        "    print('cardaápio ainda não definido')"
      ],
      "execution_count": 0,
      "outputs": [
        {
          "output_type": "stream",
          "text": [
            "macarrão ao molho sugo\n"
          ],
          "name": "stdout"
        }
      ]
    },
    {
      "cell_type": "code",
      "metadata": {
        "id": "IWWlG9cKQnL7",
        "colab_type": "code",
        "outputId": "13459732-a2d5-4802-8dfa-cb61457bf4d7",
        "colab": {
          "base_uri": "https://localhost:8080/",
          "height": 35
        }
      },
      "source": [
        "#quando acaba a identação o python entende que acabou o trecho do if\n",
        "if dia_semana == 'segunda':\n",
        "    print('Arroz feijão e nuggets')\n",
        "print('macarrão ao molho sugo')#trecho fora do if, execução independente do resultado if\n"
      ],
      "execution_count": 0,
      "outputs": [
        {
          "output_type": "stream",
          "text": [
            "macarrão ao molho sugo\n"
          ],
          "name": "stdout"
        }
      ]
    },
    {
      "cell_type": "code",
      "metadata": {
        "id": "d606p-HMQ7QK",
        "colab_type": "code",
        "outputId": "b2a2470e-ead7-434a-a325-b997b73fd8c3",
        "colab": {
          "base_uri": "https://localhost:8080/",
          "height": 53
        }
      },
      "source": [
        "#input solicitar ao usuário a entrada\n",
        "idade = input('Qual sua idade?')\n",
        "nome = input('Qual seu nome?')\n"
      ],
      "execution_count": 0,
      "outputs": [
        {
          "output_type": "stream",
          "text": [
            "Qual sua idade?24\n",
            "Qual seu nome?Marcella\n"
          ],
          "name": "stdout"
        }
      ]
    },
    {
      "cell_type": "code",
      "metadata": {
        "id": "MR_gNCONeajf",
        "colab_type": "code",
        "outputId": "04530a9c-3e53-4897-9594-e7c173f1222e",
        "colab": {
          "base_uri": "https://localhost:8080/",
          "height": 35
        }
      },
      "source": [
        "if int(idade) > 18:\n",
        "  print(nome+', você é maior de idade!')"
      ],
      "execution_count": 0,
      "outputs": [
        {
          "output_type": "stream",
          "text": [
            "Marcella, você é maior de idade!\n"
          ],
          "name": "stdout"
        }
      ]
    },
    {
      "cell_type": "code",
      "metadata": {
        "id": "lIqgyCbIewAK",
        "colab_type": "code",
        "outputId": "3646a3c5-6160-4477-f72c-6607180ec5f7",
        "colab": {
          "base_uri": "https://localhost:8080/",
          "height": 53
        }
      },
      "source": [
        "#placeholder precisa usar uma letra dentro da string para funcionar\n",
        "#não funcionou usando qualquer letra, cada letra é um formato diferente\n",
        "#https://docs.python.org/3/library/string.html?highlight=placeholder\n",
        "\n",
        "if int(idade) > 18:\n",
        "  print('%r , você é maior de idade! Você tem %r anos' %(nome, idade)) #R usa aspas\n",
        "  print('%s , você é maior de idade! Você tem %s anos' %(nome, idade)) #sai como string sem aspas"
      ],
      "execution_count": 0,
      "outputs": [
        {
          "output_type": "stream",
          "text": [
            "'Marcella' , você é maior de idade! Você tem '24' anos\n",
            "Marcella , você é maior de idade! Você tem 24 anos\n"
          ],
          "name": "stdout"
        }
      ]
    },
    {
      "cell_type": "markdown",
      "metadata": {
        "id": "uXgAucIeicBK",
        "colab_type": "text"
      },
      "source": [
        "###Estrutura de Repetição - Loop For, Loop While e Comandos"
      ]
    },
    {
      "cell_type": "code",
      "metadata": {
        "id": "Ue00e7ihhsSV",
        "colab_type": "code",
        "outputId": "06444c8c-e1c8-40ec-88d3-7f71559d8587",
        "colab": {
          "base_uri": "https://localhost:8080/",
          "height": 72
        }
      },
      "source": [
        "#Loop For\n",
        "tupla1 = (2,3,5)\n",
        "\n",
        "for i in tupla1:\n",
        "  print(i)"
      ],
      "execution_count": 0,
      "outputs": [
        {
          "output_type": "stream",
          "text": [
            "2\n",
            "3\n",
            "5\n"
          ],
          "name": "stdout"
        }
      ]
    },
    {
      "cell_type": "code",
      "metadata": {
        "id": "WBJ6oRTjiY6Z",
        "colab_type": "code",
        "outputId": "cb26848d-22eb-486c-c623-50e89a0257bf",
        "colab": {
          "base_uri": "https://localhost:8080/",
          "height": 72
        }
      },
      "source": [
        "lista_mercado = ['arroz', 'café','feijão']\n",
        "\n",
        "for i in lista_mercado:\n",
        "  print(i)"
      ],
      "execution_count": 0,
      "outputs": [
        {
          "output_type": "stream",
          "text": [
            "arroz\n",
            "café\n",
            "feijão\n"
          ],
          "name": "stdout"
        }
      ]
    },
    {
      "cell_type": "code",
      "metadata": {
        "id": "OJ8xxH_VjAPx",
        "colab_type": "code",
        "outputId": "7c582b8b-b252-427b-b389-2e217cce366c",
        "colab": {
          "base_uri": "https://localhost:8080/",
          "height": 108
        }
      },
      "source": [
        "#range (começa em zero e termina quando atingit 5, no cinco, sai do loop, por isso não imprime o 5)\n",
        "for contador in range(0,5):\n",
        "  print(contador)"
      ],
      "execution_count": 0,
      "outputs": [
        {
          "output_type": "stream",
          "text": [
            "0\n",
            "1\n",
            "2\n",
            "3\n",
            "4\n"
          ],
          "name": "stdout"
        }
      ]
    },
    {
      "cell_type": "code",
      "metadata": {
        "id": "YdS5zXnfjJg1",
        "colab_type": "code",
        "outputId": "9a53b5d4-44bb-4279-8c37-c2340e3a639b",
        "colab": {
          "base_uri": "https://localhost:8080/",
          "height": 90
        }
      },
      "source": [
        "#incremendo de 3 em 3\n",
        "for contador in range(0,10,3):\n",
        "  print(contador)"
      ],
      "execution_count": 0,
      "outputs": [
        {
          "output_type": "stream",
          "text": [
            "0\n",
            "3\n",
            "6\n",
            "9\n"
          ],
          "name": "stdout"
        }
      ]
    },
    {
      "cell_type": "code",
      "metadata": {
        "id": "MHV-jDfyjTkJ",
        "colab_type": "code",
        "outputId": "f14ea5f7-f38b-4996-9646-7a6b63b41adb",
        "colab": {
          "base_uri": "https://localhost:8080/",
          "height": 126
        }
      },
      "source": [
        "#imprimir numeros pares\n",
        "for contador in range(0,11):\n",
        "  if contador%2==0:\n",
        "    print(contador)"
      ],
      "execution_count": 0,
      "outputs": [
        {
          "output_type": "stream",
          "text": [
            "0\n",
            "2\n",
            "4\n",
            "6\n",
            "8\n",
            "10\n"
          ],
          "name": "stdout"
        }
      ]
    },
    {
      "cell_type": "code",
      "metadata": {
        "id": "hkz5bPwEkAhl",
        "colab_type": "code",
        "outputId": "3b89a296-1787-440a-a9c3-3d8fb7de1e84",
        "colab": {
          "base_uri": "https://localhost:8080/",
          "height": 162
        }
      },
      "source": [
        "nome = 'Marcella'\n",
        "for contador in nome:\n",
        "  print(contador)"
      ],
      "execution_count": 0,
      "outputs": [
        {
          "output_type": "stream",
          "text": [
            "M\n",
            "a\n",
            "r\n",
            "c\n",
            "e\n",
            "l\n",
            "l\n",
            "a\n"
          ],
          "name": "stdout"
        }
      ]
    },
    {
      "cell_type": "code",
      "metadata": {
        "id": "bbQXD8_LkKE4",
        "colab_type": "code",
        "outputId": "2358b55c-c2ae-4a09-ec4e-3a476f4e6f43",
        "colab": {
          "base_uri": "https://localhost:8080/",
          "height": 290
        }
      },
      "source": [
        "#Loop For aninhado\n",
        "\n",
        "for i in range(0,5):\n",
        "  for j in range(0,3):\n",
        "    print(i,j)"
      ],
      "execution_count": 0,
      "outputs": [
        {
          "output_type": "stream",
          "text": [
            "0 0\n",
            "0 1\n",
            "0 2\n",
            "1 0\n",
            "1 1\n",
            "1 2\n",
            "2 0\n",
            "2 1\n",
            "2 2\n",
            "3 0\n",
            "3 1\n",
            "3 2\n",
            "4 0\n",
            "4 1\n",
            "4 2\n"
          ],
          "name": "stdout"
        }
      ]
    },
    {
      "cell_type": "code",
      "metadata": {
        "id": "Za_mc9J8ktNd",
        "colab_type": "code",
        "outputId": "8dc90b31-87c7-423f-a64c-d386dfdefb34",
        "colab": {
          "base_uri": "https://localhost:8080/",
          "height": 35
        }
      },
      "source": [
        "fibonacci = [1,1]\n",
        "\n",
        "for i in range(1,10):\n",
        "  soma =  fibonacci[i] + fibonacci[i-1]\n",
        "  fibonacci.append(soma)\n",
        "\n",
        "print(fibonacci)"
      ],
      "execution_count": 0,
      "outputs": [
        {
          "output_type": "stream",
          "text": [
            "[1, 1, 2, 3, 5, 8, 13, 21, 34, 55, 89]\n"
          ],
          "name": "stdout"
        }
      ]
    },
    {
      "cell_type": "code",
      "metadata": {
        "id": "vO1HiDE9lpX7",
        "colab_type": "code",
        "outputId": "88362374-d7ed-4dc4-a775-c8e365bac668",
        "colab": {
          "base_uri": "https://localhost:8080/",
          "height": 72
        }
      },
      "source": [
        "#loop com dicionario\n",
        "dict = {'k1':'gato', 'k2':'cachorro', 'k3':'papagaio'}\n",
        "for chave,valor in dict.items():\n",
        "  print('Chave: %s Valor: %s' %(chave, valor))"
      ],
      "execution_count": 0,
      "outputs": [
        {
          "output_type": "stream",
          "text": [
            "Chave: k1 Valor: gato\n",
            "Chave: k2 Valor: cachorro\n",
            "Chave: k3 Valor: papagaio\n"
          ],
          "name": "stdout"
        }
      ]
    },
    {
      "cell_type": "code",
      "metadata": {
        "id": "tWJYvVGUnOc-",
        "colab_type": "code",
        "outputId": "c37e1fda-8106-4e0a-f44c-63da67228947",
        "colab": {
          "base_uri": "https://localhost:8080/",
          "height": 72
        }
      },
      "source": [
        "#loop com dicionario (sem especificar itens, retorna apenas a chave)\n",
        "dict = {'k1':'gato', 'k2':'cachorro', 'k3':'papagaio'}\n",
        "for item in dict:\n",
        "  print(item)"
      ],
      "execution_count": 0,
      "outputs": [
        {
          "output_type": "stream",
          "text": [
            "k1\n",
            "k2\n",
            "k3\n"
          ],
          "name": "stdout"
        }
      ]
    },
    {
      "cell_type": "code",
      "metadata": {
        "id": "JVLHg1WgnY6E",
        "colab_type": "code",
        "outputId": "dcbbe089-5d7f-4459-a91c-e0a380fc1fcf",
        "colab": {
          "base_uri": "https://localhost:8080/",
          "height": 199
        }
      },
      "source": [
        "#Loop While\n",
        "\n",
        "cont = 0\n",
        "while cont < 10:\n",
        "  print(cont)\n",
        "  cont += 1"
      ],
      "execution_count": 0,
      "outputs": [
        {
          "output_type": "stream",
          "text": [
            "0\n",
            "1\n",
            "2\n",
            "3\n",
            "4\n",
            "5\n",
            "6\n",
            "7\n",
            "8\n",
            "9\n"
          ],
          "name": "stdout"
        }
      ]
    },
    {
      "cell_type": "code",
      "metadata": {
        "id": "5VKIVVumoCnC",
        "colab_type": "code",
        "outputId": "12eba345-3327-48e6-cc5f-a2340516660c",
        "colab": {
          "base_uri": "https://localhost:8080/",
          "height": 217
        }
      },
      "source": [
        "cont = 0\n",
        "while cont < 10:\n",
        "  print('O valor da expressão ainda é verdadeira, valor do contador:' + str(cont))\n",
        "  cont += 1\n",
        "else:\n",
        "  print('Expressão deixou de ser verdadeira, valor do contador:' + str(cont))"
      ],
      "execution_count": 0,
      "outputs": [
        {
          "output_type": "stream",
          "text": [
            "O valor da expressão ainda é verdadeira, valor do contador:0\n",
            "O valor da expressão ainda é verdadeira, valor do contador:1\n",
            "O valor da expressão ainda é verdadeira, valor do contador:2\n",
            "O valor da expressão ainda é verdadeira, valor do contador:3\n",
            "O valor da expressão ainda é verdadeira, valor do contador:4\n",
            "O valor da expressão ainda é verdadeira, valor do contador:5\n",
            "O valor da expressão ainda é verdadeira, valor do contador:6\n",
            "O valor da expressão ainda é verdadeira, valor do contador:7\n",
            "O valor da expressão ainda é verdadeira, valor do contador:8\n",
            "O valor da expressão ainda é verdadeira, valor do contador:9\n",
            "Expressão deixou de ser verdadeira, valor do contador:10\n"
          ],
          "name": "stdout"
        }
      ]
    },
    {
      "cell_type": "code",
      "metadata": {
        "id": "9cUqKMcOo72F",
        "colab_type": "code",
        "outputId": "43feb716-2469-4906-e8c0-f2897b380d20",
        "colab": {
          "base_uri": "https://localhost:8080/",
          "height": 108
        }
      },
      "source": [
        "#pass deixa continuar normalmente e break interrompe completamente o loop\n",
        "cont = 0\n",
        "while cont < 10:\n",
        "  if cont == 5:\n",
        "    break\n",
        "  else:\n",
        "    pass  \n",
        "  print(cont)\n",
        "  cont += 1\n"
      ],
      "execution_count": 0,
      "outputs": [
        {
          "output_type": "stream",
          "text": [
            "0\n",
            "1\n",
            "2\n",
            "3\n",
            "4\n"
          ],
          "name": "stdout"
        }
      ]
    },
    {
      "cell_type": "code",
      "metadata": {
        "id": "ePIzrpjhpGaW",
        "colab_type": "code",
        "outputId": "de7fd7ed-af15-4310-f536-d36895f819a2",
        "colab": {
          "base_uri": "https://localhost:8080/",
          "height": 108
        }
      },
      "source": [
        "#continue (pula a execução da vez)\n",
        "for i in 'Python':\n",
        "  if i == 'h':\n",
        "    continue\n",
        "  print(i)"
      ],
      "execution_count": 0,
      "outputs": [
        {
          "output_type": "stream",
          "text": [
            "P\n",
            "y\n",
            "t\n",
            "o\n",
            "n\n"
          ],
          "name": "stdout"
        }
      ]
    },
    {
      "cell_type": "code",
      "metadata": {
        "id": "vvJqilqQp5HB",
        "colab_type": "code",
        "outputId": "f95da051-ea0a-4e07-bf95-a8011adf301e",
        "colab": {
          "base_uri": "https://localhost:8080/",
          "height": 108
        }
      },
      "source": [
        "##algoritmo para número primo\n",
        "for i in range(2,12):\n",
        "    j = 2\n",
        "    counter = 0\n",
        "    while j < i:\n",
        "        if i % j == 0:\n",
        "            counter = 1\n",
        "            j = j + 1\n",
        "        else:\n",
        "            j = j + 1\n",
        "    \n",
        "    if counter == 0:\n",
        "        print(str(i) + \" é um número primo\")\n",
        "        counter = 0\n",
        "    else:\n",
        "        counter = 0"
      ],
      "execution_count": 0,
      "outputs": [
        {
          "output_type": "stream",
          "text": [
            "2 é um número primo\n",
            "3 é um número primo\n",
            "5 é um número primo\n",
            "7 é um número primo\n",
            "11 é um número primo\n"
          ],
          "name": "stdout"
        }
      ]
    },
    {
      "cell_type": "markdown",
      "metadata": {
        "id": "TqjF8f7Z1-SU",
        "colab_type": "text"
      },
      "source": [
        "###Range"
      ]
    },
    {
      "cell_type": "code",
      "metadata": {
        "id": "swoB7_KrrT5d",
        "colab_type": "code",
        "outputId": "15f1de4a-29a6-4ae5-a259-751475dd18d1",
        "colab": {
          "base_uri": "https://localhost:8080/",
          "height": 162
        }
      },
      "source": [
        "feira = ['maçã','tomate','alface','berinjela']\n",
        "\n",
        "for i in range(0,len(feira)):\n",
        "  print(i)\n",
        "  print(feira[i])"
      ],
      "execution_count": 0,
      "outputs": [
        {
          "output_type": "stream",
          "text": [
            "0\n",
            "maçã\n",
            "1\n",
            "tomate\n",
            "2\n",
            "alface\n",
            "3\n",
            "berinjela\n"
          ],
          "name": "stdout"
        }
      ]
    },
    {
      "cell_type": "code",
      "metadata": {
        "id": "tUEWWxuw2aGK",
        "colab_type": "code",
        "outputId": "a760d758-b57c-4fbf-b40e-48f2c9da75bd",
        "colab": {
          "base_uri": "https://localhost:8080/",
          "height": 199
        }
      },
      "source": [
        "#de traz para frente\n",
        "for contador in range(0,-10,-1):\n",
        "  print(contador)"
      ],
      "execution_count": 0,
      "outputs": [
        {
          "output_type": "stream",
          "text": [
            "0\n",
            "-1\n",
            "-2\n",
            "-3\n",
            "-4\n",
            "-5\n",
            "-6\n",
            "-7\n",
            "-8\n",
            "-9\n"
          ],
          "name": "stdout"
        }
      ]
    },
    {
      "cell_type": "code",
      "metadata": {
        "id": "FcQifAgt2nij",
        "colab_type": "code",
        "outputId": "542f212f-3a35-4a9d-fd27-204ccf8add3e",
        "colab": {
          "base_uri": "https://localhost:8080/",
          "height": 35
        }
      },
      "source": [
        "#é do tipo range\n",
        "type(range(1,11,1))"
      ],
      "execution_count": 0,
      "outputs": [
        {
          "output_type": "execute_result",
          "data": {
            "text/plain": [
              "range"
            ]
          },
          "metadata": {
            "tags": []
          },
          "execution_count": 85
        }
      ]
    },
    {
      "cell_type": "code",
      "metadata": {
        "id": "k4Px7ScH3iaJ",
        "colab_type": "code",
        "outputId": "63da0df7-3990-419e-aa64-566bf1f41bc4",
        "colab": {
          "base_uri": "https://localhost:8080/",
          "height": 35
        }
      },
      "source": [
        "#converter range em lista\n",
        "lista_range = []\n",
        "lista_range = list(range(1,11,1))\n",
        "lista_range"
      ],
      "execution_count": 0,
      "outputs": [
        {
          "output_type": "execute_result",
          "data": {
            "text/plain": [
              "[1, 2, 3, 4, 5, 6, 7, 8, 9, 10]"
            ]
          },
          "metadata": {
            "tags": []
          },
          "execution_count": 88
        }
      ]
    },
    {
      "cell_type": "code",
      "metadata": {
        "id": "VHpeEHRi35rP",
        "colab_type": "code",
        "outputId": "69df038e-d839-47ad-b2d5-ba29cde1d463",
        "colab": {
          "base_uri": "https://localhost:8080/",
          "height": 35
        }
      },
      "source": [
        "tupla_range = ()\n",
        "tupla_range = tuple(range(1,11,1))\n",
        "tupla_range"
      ],
      "execution_count": 0,
      "outputs": [
        {
          "output_type": "execute_result",
          "data": {
            "text/plain": [
              "(1, 2, 3, 4, 5, 6, 7, 8, 9, 10)"
            ]
          },
          "metadata": {
            "tags": []
          },
          "execution_count": 90
        }
      ]
    },
    {
      "cell_type": "markdown",
      "metadata": {
        "id": "-SIPHKjL4K-d",
        "colab_type": "text"
      },
      "source": [
        "###Exercícios Loops"
      ]
    },
    {
      "cell_type": "markdown",
      "metadata": {
        "id": "oYZ5x6sa4crd",
        "colab_type": "text"
      },
      "source": [
        "Exercício <br>\n",
        "https://colab.research.google.com/github/marcellapbp/PythonFundamentos/blob/master/Cap03/Notebooks/DSA-Python-Cap03-Exercicios-Loops-Condiconais.ipynb\n",
        "\n",
        "Solução <br>\n",
        "https://colab.research.google.com/github/marcellapbp/PythonFundamentos/blob/master/Cap03/Notebooks/DSA-Python-Cap03-Exercicios-Loops-Condiconais-Solucao.ipynb"
      ]
    },
    {
      "cell_type": "markdown",
      "metadata": {
        "id": "Zcc6kYMt4eCK",
        "colab_type": "text"
      },
      "source": [
        "###Métodos"
      ]
    },
    {
      "cell_type": "code",
      "metadata": {
        "id": "TXUq6itveU6L",
        "colab_type": "code",
        "outputId": "85fd024c-e269-43f4-e829-433ff0abd89b",
        "colab": {
          "base_uri": "https://localhost:8080/",
          "height": 35
        }
      },
      "source": [
        "#usando um método no objeto lista\n",
        "lista = [1,2,3,4]\n",
        "lista.append(5)\n",
        "lista"
      ],
      "execution_count": 0,
      "outputs": [
        {
          "output_type": "execute_result",
          "data": {
            "text/plain": [
              "[1, 2, 3, 4, 5]"
            ]
          },
          "metadata": {
            "tags": []
          },
          "execution_count": 2
        }
      ]
    },
    {
      "cell_type": "code",
      "metadata": {
        "id": "IJTynSkOe7Gn",
        "colab_type": "code",
        "outputId": "10eceafb-852f-40c6-dc89-ffbfbf38be14",
        "colab": {
          "base_uri": "https://localhost:8080/",
          "height": 108
        }
      },
      "source": [
        "#método help explica como usanr o método\n",
        "help(lista.count)"
      ],
      "execution_count": 0,
      "outputs": [
        {
          "output_type": "stream",
          "text": [
            "Help on built-in function count:\n",
            "\n",
            "count(...) method of builtins.list instance\n",
            "    L.count(value) -> integer -- return number of occurrences of value\n",
            "\n"
          ],
          "name": "stdout"
        }
      ]
    },
    {
      "cell_type": "code",
      "metadata": {
        "id": "JAMXdHhWfZVX",
        "colab_type": "code",
        "outputId": "604b0bbd-476f-4dd4-b95b-078f4f29302d",
        "colab": {
          "base_uri": "https://localhost:8080/",
          "height": 853
        }
      },
      "source": [
        "#dir função que mostra todos métodos e atributos do objeto\n",
        "dir(lista)"
      ],
      "execution_count": 0,
      "outputs": [
        {
          "output_type": "execute_result",
          "data": {
            "text/plain": [
              "['__add__',\n",
              " '__class__',\n",
              " '__contains__',\n",
              " '__delattr__',\n",
              " '__delitem__',\n",
              " '__dir__',\n",
              " '__doc__',\n",
              " '__eq__',\n",
              " '__format__',\n",
              " '__ge__',\n",
              " '__getattribute__',\n",
              " '__getitem__',\n",
              " '__gt__',\n",
              " '__hash__',\n",
              " '__iadd__',\n",
              " '__imul__',\n",
              " '__init__',\n",
              " '__init_subclass__',\n",
              " '__iter__',\n",
              " '__le__',\n",
              " '__len__',\n",
              " '__lt__',\n",
              " '__mul__',\n",
              " '__ne__',\n",
              " '__new__',\n",
              " '__reduce__',\n",
              " '__reduce_ex__',\n",
              " '__repr__',\n",
              " '__reversed__',\n",
              " '__rmul__',\n",
              " '__setattr__',\n",
              " '__setitem__',\n",
              " '__sizeof__',\n",
              " '__str__',\n",
              " '__subclasshook__',\n",
              " 'append',\n",
              " 'clear',\n",
              " 'copy',\n",
              " 'count',\n",
              " 'extend',\n",
              " 'index',\n",
              " 'insert',\n",
              " 'pop',\n",
              " 'remove',\n",
              " 'reverse',\n",
              " 'sort']"
            ]
          },
          "metadata": {
            "tags": []
          },
          "execution_count": 4
        }
      ]
    },
    {
      "cell_type": "code",
      "metadata": {
        "id": "rvuCv5a1fsrb",
        "colab_type": "code",
        "outputId": "3a83c430-59f7-4ec8-f8ce-b717ad7c10ae",
        "colab": {
          "base_uri": "https://localhost:8080/",
          "height": 35
        }
      },
      "source": [
        "#método sendo executado dentro de uma função\n",
        "#método sempre abre e fecha parênteses ao final, pode ter parâmetros ou não\n",
        "print(lista.count(1))"
      ],
      "execution_count": 0,
      "outputs": [
        {
          "output_type": "stream",
          "text": [
            "1\n"
          ],
          "name": "stdout"
        }
      ]
    },
    {
      "cell_type": "markdown",
      "metadata": {
        "id": "1-NG-_ldhO_j",
        "colab_type": "text"
      },
      "source": [
        "###Funções"
      ]
    },
    {
      "cell_type": "code",
      "metadata": {
        "id": "_oZ2lSLygDqn",
        "colab_type": "code",
        "colab": {}
      },
      "source": [
        "#criando função\n",
        "\n",
        "def primeiraFuncao():\n",
        "  print('Hello World')"
      ],
      "execution_count": 0,
      "outputs": []
    },
    {
      "cell_type": "code",
      "metadata": {
        "id": "nRBdba1Thf7x",
        "colab_type": "code",
        "outputId": "b0a5ab60-71f1-4870-cf07-14cb7060e0dc",
        "colab": {
          "base_uri": "https://localhost:8080/",
          "height": 35
        }
      },
      "source": [
        "#chamando a função\n",
        "primeiraFuncao()"
      ],
      "execution_count": 0,
      "outputs": [
        {
          "output_type": "stream",
          "text": [
            "Hello World\n"
          ],
          "name": "stdout"
        }
      ]
    },
    {
      "cell_type": "code",
      "metadata": {
        "id": "gUgFN750hh8o",
        "colab_type": "code",
        "colab": {}
      },
      "source": [
        "#começar com letra minúscula, e próximas palavras com a primeira letra maiúscula\n",
        "#frase pequena\n",
        "def bemVindo(nome):\n",
        "  print('Olá %s' %(nome))"
      ],
      "execution_count": 0,
      "outputs": []
    },
    {
      "cell_type": "code",
      "metadata": {
        "id": "gHX9Xkbfh2z2",
        "colab_type": "code",
        "outputId": "d5d4ec3c-4c55-44e7-d998-9d7de3a7b112",
        "colab": {
          "base_uri": "https://localhost:8080/",
          "height": 35
        }
      },
      "source": [
        "bemvindo('Marcella')"
      ],
      "execution_count": 0,
      "outputs": [
        {
          "output_type": "stream",
          "text": [
            "Olá Marcella\n"
          ],
          "name": "stdout"
        }
      ]
    },
    {
      "cell_type": "code",
      "metadata": {
        "id": "oOZxVxC8h4zT",
        "colab_type": "code",
        "outputId": "eab183e1-9b81-4e36-a7be-dae5beecd9dc",
        "colab": {
          "base_uri": "https://localhost:8080/",
          "height": 53
        }
      },
      "source": [
        "#Variáveis Globais e Locais\n",
        "\n",
        "var_global = 10\n",
        "\n",
        "def soma(num1, num2):\n",
        "  var_global = num1 + num2 #essa é uma variável local, não afeta a global\n",
        "  print(var_global)\n",
        "\n",
        "soma(2,10)\n",
        "print(var_global)\n"
      ],
      "execution_count": 0,
      "outputs": [
        {
          "output_type": "stream",
          "text": [
            "12\n",
            "10\n"
          ],
          "name": "stdout"
        }
      ]
    },
    {
      "cell_type": "code",
      "metadata": {
        "id": "eHaoDGY3jqgl",
        "colab_type": "code",
        "outputId": "fa7a2f16-27a1-41a7-ddbd-d14810e07b65",
        "colab": {
          "base_uri": "https://localhost:8080/",
          "height": 35
        }
      },
      "source": [
        "lista = [1,2,3,4]\n",
        "sum(lista)"
      ],
      "execution_count": 0,
      "outputs": [
        {
          "output_type": "execute_result",
          "data": {
            "text/plain": [
              "10"
            ]
          },
          "metadata": {
            "tags": []
          },
          "execution_count": 13
        }
      ]
    },
    {
      "cell_type": "code",
      "metadata": {
        "id": "N5ncWKfFlC1B",
        "colab_type": "code",
        "outputId": "7f7f46a0-9bfc-42ec-81c3-5b50a7ab9aff",
        "colab": {
          "base_uri": "https://localhost:8080/",
          "height": 35
        }
      },
      "source": [
        "import math\n",
        "\n",
        "num = 16\n",
        "\n",
        "math.sqrt(num)"
      ],
      "execution_count": 0,
      "outputs": [
        {
          "output_type": "execute_result",
          "data": {
            "text/plain": [
              "4.0"
            ]
          },
          "metadata": {
            "tags": []
          },
          "execution_count": 14
        }
      ]
    },
    {
      "cell_type": "code",
      "metadata": {
        "id": "8IN8kIj7oHNJ",
        "colab_type": "code",
        "outputId": "f57d86d3-eb3c-499b-9d1c-1891c064fccf",
        "colab": {
          "base_uri": "https://localhost:8080/",
          "height": 144
        }
      },
      "source": [
        "#quando não souber a qtde de parâmetros antes da execução\n",
        "#usar * antes do nome do parâmetro\n",
        "def variosParam(arg1, *varios):\n",
        "  print(arg1)\n",
        "  for i in varios:\n",
        "    print(i)\n",
        "  return;\n",
        "\n",
        "variosParam(1,2,3,4,5,6)\n",
        "variosParam(30)\n"
      ],
      "execution_count": 0,
      "outputs": [
        {
          "output_type": "stream",
          "text": [
            "1\n",
            "2\n",
            "3\n",
            "4\n",
            "5\n",
            "6\n",
            "30\n"
          ],
          "name": "stdout"
        }
      ]
    },
    {
      "cell_type": "markdown",
      "metadata": {
        "id": "CEgjcBiEpgMJ",
        "colab_type": "text"
      },
      "source": [
        "###Lambda"
      ]
    },
    {
      "cell_type": "code",
      "metadata": {
        "id": "0ck6Du0bpQzb",
        "colab_type": "code",
        "colab": {}
      },
      "source": [
        "# Definindo uma função - 3 linhas de código\n",
        "def potencia(num):\n",
        "    result = num**2\n",
        "    return result\n",
        "\n",
        "potencia(5)"
      ],
      "execution_count": 0,
      "outputs": []
    },
    {
      "cell_type": "code",
      "metadata": {
        "id": "hRYRszXsrKGm",
        "colab_type": "code",
        "outputId": "8ceef552-1e43-47b9-8c38-d9f74fd2ec41",
        "colab": {
          "base_uri": "https://localhost:8080/",
          "height": 35
        }
      },
      "source": [
        "# Definindo uma função - 2 linhas de código\n",
        "def potencia(num):\n",
        "    return num**2\n",
        "\n",
        "potencia(5)"
      ],
      "execution_count": 0,
      "outputs": [
        {
          "output_type": "execute_result",
          "data": {
            "text/plain": [
              "25"
            ]
          },
          "metadata": {
            "tags": []
          },
          "execution_count": 23
        }
      ]
    },
    {
      "cell_type": "code",
      "metadata": {
        "id": "spUuc8I1rKvH",
        "colab_type": "code",
        "outputId": "4aa39d38-c596-4f1d-e0d2-d080e64f194e",
        "colab": {
          "base_uri": "https://localhost:8080/",
          "height": 35
        }
      },
      "source": [
        "# Definindo uma função - 1 linha de código\n",
        "def potencia(num): return num**2\n",
        "\n",
        "potencia(5)"
      ],
      "execution_count": 0,
      "outputs": [
        {
          "output_type": "execute_result",
          "data": {
            "text/plain": [
              "25"
            ]
          },
          "metadata": {
            "tags": []
          },
          "execution_count": 22
        }
      ]
    },
    {
      "cell_type": "code",
      "metadata": {
        "id": "VVJnI0EJrMSQ",
        "colab_type": "code",
        "outputId": "539236c0-5156-47c6-c097-804580901c34",
        "colab": {
          "base_uri": "https://localhost:8080/",
          "height": 35
        }
      },
      "source": [
        "# Definindo uma expressão lambda (é uma função anônima, sem nome)\n",
        "potencia = lambda num: num**2\n",
        "\n",
        "potencia(5)\n"
      ],
      "execution_count": 0,
      "outputs": [
        {
          "output_type": "execute_result",
          "data": {
            "text/plain": [
              "25"
            ]
          },
          "metadata": {
            "tags": []
          },
          "execution_count": 24
        }
      ]
    },
    {
      "cell_type": "code",
      "metadata": {
        "id": "bUy1DWlsrNtp",
        "colab_type": "code",
        "outputId": "c801c926-978a-46e9-dfb9-099621d3b47c",
        "colab": {
          "base_uri": "https://localhost:8080/",
          "height": 53
        }
      },
      "source": [
        "isBolean = lambda b: b % 2 == 0\n",
        "\n",
        "print(isBolean(2))\n",
        "print(isBolean(3))"
      ],
      "execution_count": 0,
      "outputs": [
        {
          "output_type": "stream",
          "text": [
            "True\n",
            "False\n"
          ],
          "name": "stdout"
        }
      ]
    },
    {
      "cell_type": "code",
      "metadata": {
        "id": "ibNwruGcr6Ia",
        "colab_type": "code",
        "outputId": "37c61cdb-c80e-4f39-8297-4bec1f049b1d",
        "colab": {
          "base_uri": "https://localhost:8080/",
          "height": 35
        }
      },
      "source": [
        "inverso = lambda sentenca: sentenca[::-1]\n",
        "\n",
        "inverso('Marcella')"
      ],
      "execution_count": 0,
      "outputs": [
        {
          "output_type": "execute_result",
          "data": {
            "text/plain": [
              "'allecraM'"
            ]
          },
          "metadata": {
            "tags": []
          },
          "execution_count": 27
        }
      ]
    },
    {
      "cell_type": "code",
      "metadata": {
        "id": "DmkHjHfBsNYA",
        "colab_type": "code",
        "outputId": "a56f4d21-db7d-4a0f-b5df-cef4e2363316",
        "colab": {
          "base_uri": "https://localhost:8080/",
          "height": 35
        }
      },
      "source": [
        "#2 parâmetros\n",
        "soma = lambda x,y: x+y\n",
        "\n",
        "soma(1,2)"
      ],
      "execution_count": 0,
      "outputs": [
        {
          "output_type": "execute_result",
          "data": {
            "text/plain": [
              "3"
            ]
          },
          "metadata": {
            "tags": []
          },
          "execution_count": 28
        }
      ]
    },
    {
      "cell_type": "markdown",
      "metadata": {
        "id": "xzDyJGHjsz-U",
        "colab_type": "text"
      },
      "source": [
        "###Exercícios Funções\n",
        "Exercícios <br>\n",
        "https://colab.research.google.com/github/marcellapbp/PythonFundamentos/blob/master/Cap03/Notebooks/DSA-Python-Cap03-Exercicios-Funcoes.ipynb\n",
        "\n",
        "Solução <br>\n",
        "https://colab.research.google.com/github/marcellapbp/PythonFundamentos/blob/master/Cap03/Notebooks/DSA-Python-Cap03-Exercicios-Funcoes-Solucao.ipynb"
      ]
    },
    {
      "cell_type": "markdown",
      "metadata": {
        "id": "9bw7AL3VioWe",
        "colab_type": "text"
      },
      "source": [
        "###Lab 02 - Desenvolvendo Uma Calculadora em Python"
      ]
    },
    {
      "cell_type": "code",
      "metadata": {
        "id": "h6qhqCdhszhB",
        "colab_type": "code",
        "outputId": "14c15d2a-293a-441c-e429-2c2e1766990c",
        "colab": {
          "base_uri": "https://localhost:8080/",
          "height": 726
        }
      },
      "source": [
        "def executarCalculadora():\n",
        "  print('********************Python Calculator********************')\n",
        "  opcao = 1\n",
        "  while opcao > 0 and opcao < 5:\n",
        "    print('1 - Soma')\n",
        "    print('2 - Subtração')\n",
        "    print('3 - Multiplicação')\n",
        "    print('4 - Divisão')\n",
        "\n",
        "    opcao = int(input('Digite sua opção (1/2/3/4):'))\n",
        "\n",
        "    if (opcao > 0 and opcao <5):\n",
        "      num1 = int(input('Digite o primeiro número:'))\n",
        "      num2 = int(input('Digite o segundo número:'))\n",
        "      if (opcao == 1):#Soma\n",
        "        print('%s + %s = %s' %(num1,num2,num1+num2))\n",
        "      elif (opcao == 2):#Subtração\n",
        "        print('%s - %s = %s' %(num1,num2,num1-num2))\n",
        "      elif (opcao == 3):#Multiplicação\n",
        "        print('%s * %s = %s' %(num1,num2,num1*num2))\n",
        "      elif (opcao == 4):#Divisão\n",
        "        print('%s / %s = %s' %(num1,num2,num1/num2))\n",
        "\n",
        "  print('Opção Inválida! Calculadora Encerrada!')\n",
        "\n",
        "executarCalculadora()"
      ],
      "execution_count": 0,
      "outputs": [
        {
          "output_type": "stream",
          "text": [
            "********************Python Calculator********************\n",
            "1 - Soma\n",
            "2 - Subtração\n",
            "3 - Multiplicação\n",
            "4 - Divisão\n",
            "Digite sua opção (1/2/3/4):1\n",
            "Digite o primeiro número:20\n",
            "Digite o segundo número:30\n",
            "20 + 30 = 50\n",
            "1 - Soma\n",
            "2 - Subtração\n",
            "3 - Multiplicação\n",
            "4 - Divisão\n",
            "Digite sua opção (1/2/3/4):2\n",
            "Digite o primeiro número:30\n",
            "Digite o segundo número:20\n",
            "30 - 20 = 10\n",
            "1 - Soma\n",
            "2 - Subtração\n",
            "3 - Multiplicação\n",
            "4 - Divisão\n",
            "Digite sua opção (1/2/3/4):3\n",
            "Digite o primeiro número:2\n",
            "Digite o segundo número:3\n",
            "2 * 3 = 6\n",
            "1 - Soma\n",
            "2 - Subtração\n",
            "3 - Multiplicação\n",
            "4 - Divisão\n",
            "Digite sua opção (1/2/3/4):4\n",
            "Digite o primeiro número:50\n",
            "Digite o segundo número:10\n",
            "50 / 10 = 5.0\n",
            "1 - Soma\n",
            "2 - Subtração\n",
            "3 - Multiplicação\n",
            "4 - Divisão\n",
            "Digite sua opção (1/2/3/4):-1\n",
            "Opção Inválida! Calculadora Encerrada!\n"
          ],
          "name": "stdout"
        }
      ]
    },
    {
      "cell_type": "markdown",
      "metadata": {
        "id": "v19GImYLS-3_",
        "colab_type": "text"
      },
      "source": [
        "##Capítulo 4 - Tratamento de Arquivos, Métodos, Pacotes e Funções Built-in"
      ]
    },
    {
      "cell_type": "code",
      "metadata": {
        "id": "MwuBHg-JytgH",
        "colab_type": "code",
        "colab": {}
      },
      "source": [
        "#abrindo arquivo para somente leitura\n",
        "arq1 = open('arquivo1.txt','r')"
      ],
      "execution_count": 0,
      "outputs": []
    },
    {
      "cell_type": "code",
      "metadata": {
        "id": "8LK0NRzreQh7",
        "colab_type": "code",
        "colab": {
          "base_uri": "https://localhost:8080/",
          "height": 35
        },
        "outputId": "ea80b332-94ee-44aa-ee11-d5080a52fee6"
      },
      "source": [
        "#ler o arquivo\n",
        "print(arq1.read())"
      ],
      "execution_count": 2,
      "outputs": [
        {
          "output_type": "stream",
          "text": [
            "Python é uma linguagem poderosa!\n"
          ],
          "name": "stdout"
        }
      ]
    },
    {
      "cell_type": "code",
      "metadata": {
        "id": "9EuwODJkeblS",
        "colab_type": "code",
        "colab": {
          "base_uri": "https://localhost:8080/",
          "height": 35
        },
        "outputId": "f6c23e1d-6626-4f49-a68d-603b974a8b94"
      },
      "source": [
        "#conta caracteres\n",
        "print(arq1.tell())"
      ],
      "execution_count": 3,
      "outputs": [
        {
          "output_type": "stream",
          "text": [
            "33\n"
          ],
          "name": "stdout"
        }
      ]
    },
    {
      "cell_type": "code",
      "metadata": {
        "id": "_xEeHepJeeg7",
        "colab_type": "code",
        "colab": {
          "base_uri": "https://localhost:8080/",
          "height": 35
        },
        "outputId": "a0bce246-7fa9-427f-a62e-3a62fb7f6e71"
      },
      "source": [
        "#retornar a um ponto específico do arquivo\n",
        "print(arq1.seek(0,0))#<linha>,<coluna>"
      ],
      "execution_count": 13,
      "outputs": [
        {
          "output_type": "stream",
          "text": [
            "0\n"
          ],
          "name": "stdout"
        }
      ]
    },
    {
      "cell_type": "code",
      "metadata": {
        "id": "R_9mV3JeeqTz",
        "colab_type": "code",
        "colab": {
          "base_uri": "https://localhost:8080/",
          "height": 35
        },
        "outputId": "99e1480a-facd-46d3-b58c-3eb9fb60870b"
      },
      "source": [
        "#ler os 10 primeiros caracteres do arquivo a partir de onde o cursor parou\n",
        "print(arq1.read(10))"
      ],
      "execution_count": 14,
      "outputs": [
        {
          "output_type": "stream",
          "text": [
            "Python é u\n"
          ],
          "name": "stdout"
        }
      ]
    },
    {
      "cell_type": "code",
      "metadata": {
        "id": "Po0WN5Kre4PB",
        "colab_type": "code",
        "colab": {}
      },
      "source": [
        "#abrindo arquivo para somente escrita (não permite executar método read)\n",
        "arq2 = open('arquivo1.txt','w')"
      ],
      "execution_count": 0,
      "outputs": []
    },
    {
      "cell_type": "code",
      "metadata": {
        "id": "SjcgNAe_ft7-",
        "colab_type": "code",
        "colab": {
          "base_uri": "https://localhost:8080/",
          "height": 35
        },
        "outputId": "bc99f0ef-e779-4e61-cfd6-a1f961980525"
      },
      "source": [
        "arq2.write('Testando escrita')"
      ],
      "execution_count": 17,
      "outputs": [
        {
          "output_type": "execute_result",
          "data": {
            "text/plain": [
              "16"
            ]
          },
          "metadata": {
            "tags": []
          },
          "execution_count": 17
        }
      ]
    },
    {
      "cell_type": "code",
      "metadata": {
        "id": "_vYT5jj-f34E",
        "colab_type": "code",
        "colab": {}
      },
      "source": [
        "arq2 = open('arquivo1.txt','r')"
      ],
      "execution_count": 0,
      "outputs": []
    },
    {
      "cell_type": "code",
      "metadata": {
        "id": "mg-xJe8Of6_n",
        "colab_type": "code",
        "colab": {
          "base_uri": "https://localhost:8080/",
          "height": 35
        },
        "outputId": "43c56807-5c41-4f7d-dd7e-a7b9f3a0b11d"
      },
      "source": [
        "print(arq2.read())"
      ],
      "execution_count": 19,
      "outputs": [
        {
          "output_type": "stream",
          "text": [
            "Testando escrita\n"
          ],
          "name": "stdout"
        }
      ]
    },
    {
      "cell_type": "code",
      "metadata": {
        "id": "INX3aE8Ff85g",
        "colab_type": "code",
        "colab": {}
      },
      "source": [
        "#append, adiciona ao final\n",
        "arq2 = open('arquivo1.txt','a')"
      ],
      "execution_count": 0,
      "outputs": []
    },
    {
      "cell_type": "code",
      "metadata": {
        "id": "z1r3d0c0gDpk",
        "colab_type": "code",
        "colab": {
          "base_uri": "https://localhost:8080/",
          "height": 35
        },
        "outputId": "a344a1c8-a559-4d5f-b1d1-aa953d2ccb94"
      },
      "source": [
        "arq2.write('adicionando ao final')"
      ],
      "execution_count": 22,
      "outputs": [
        {
          "output_type": "execute_result",
          "data": {
            "text/plain": [
              "20"
            ]
          },
          "metadata": {
            "tags": []
          },
          "execution_count": 22
        }
      ]
    },
    {
      "cell_type": "code",
      "metadata": {
        "id": "RAlHkTCYgS2f",
        "colab_type": "code",
        "colab": {}
      },
      "source": [
        "#fechar arquivo\n",
        "arq2.close()"
      ],
      "execution_count": 0,
      "outputs": []
    },
    {
      "cell_type": "code",
      "metadata": {
        "id": "nfYEKNuugIe9",
        "colab_type": "code",
        "colab": {}
      },
      "source": [
        "arq2 = open('arquivo1.txt','r')"
      ],
      "execution_count": 0,
      "outputs": []
    },
    {
      "cell_type": "code",
      "metadata": {
        "id": "CvDpYwndgLle",
        "colab_type": "code",
        "colab": {
          "base_uri": "https://localhost:8080/",
          "height": 35
        },
        "outputId": "0653b01a-0925-4ebc-847e-e79b029f9a78"
      },
      "source": [
        "print(arq2.read())"
      ],
      "execution_count": 27,
      "outputs": [
        {
          "output_type": "stream",
          "text": [
            "Testando escritaadicionando ao final\n"
          ],
          "name": "stdout"
        }
      ]
    },
    {
      "cell_type": "code",
      "metadata": {
        "id": "O3D1rzfygN__",
        "colab_type": "code",
        "colab": {}
      },
      "source": [
        ""
      ],
      "execution_count": 0,
      "outputs": []
    }
  ]
}