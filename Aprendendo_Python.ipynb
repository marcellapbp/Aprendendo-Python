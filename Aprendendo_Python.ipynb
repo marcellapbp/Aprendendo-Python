{
  "nbformat": 4,
  "nbformat_minor": 0,
  "metadata": {
    "colab": {
      "name": "Aprendendo Python",
      "provenance": [],
      "toc_visible": true,
      "authorship_tag": "ABX9TyNJNctIXwl7BKX9z4fTEWWB",
      "include_colab_link": true
    },
    "kernelspec": {
      "name": "python3",
      "display_name": "Python 3"
    }
  },
  "cells": [
    {
      "cell_type": "markdown",
      "metadata": {
        "id": "view-in-github",
        "colab_type": "text"
      },
      "source": [
        "<a href=\"https://colab.research.google.com/github/marcellapbp/Aprendendo-Python/blob/master/Aprendendo_Python.ipynb\" target=\"_parent\"><img src=\"https://colab.research.google.com/assets/colab-badge.svg\" alt=\"Open In Colab\"/></a>"
      ]
    },
    {
      "cell_type": "markdown",
      "metadata": {
        "id": "McDTypVPgKvH",
        "colab_type": "text"
      },
      "source": [
        "#Primeiro Teste\n",
        "\n"
      ]
    },
    {
      "cell_type": "code",
      "metadata": {
        "colab_type": "code",
        "cellView": "both",
        "id": "PymD2-xdhzXI",
        "outputId": "7dcb1eb8-a957-4ac9-dacb-f2a2fc3fbc5d",
        "colab": {
          "base_uri": "https://localhost:8080/",
          "height": 35
        }
      },
      "source": [
        "x = 1 + 1\n",
        "print (x)\n",
        "\n"
      ],
      "execution_count": 0,
      "outputs": [
        {
          "output_type": "stream",
          "text": [
            "2\n"
          ],
          "name": "stdout"
        }
      ]
    },
    {
      "cell_type": "markdown",
      "metadata": {
        "id": "NfUeqGsaYaGp",
        "colab_type": "text"
      },
      "source": [
        "# Curso - DSA 3 Python Fundamentos para Análise de Dados"
      ]
    },
    {
      "cell_type": "markdown",
      "metadata": {
        "id": "QDuRqbF8YiIv",
        "colab_type": "text"
      },
      "source": [
        "## Capítulo 2 - Variáveis, Tipos e Estruturas de Dados\n",
        "\n"
      ]
    },
    {
      "cell_type": "markdown",
      "metadata": {
        "id": "1cSXa-EpCtpg",
        "colab_type": "text"
      },
      "source": [
        "###Comentário"
      ]
    },
    {
      "cell_type": "code",
      "metadata": {
        "id": "nYOBGsvyY1TS",
        "colab_type": "code",
        "outputId": "412ccb7d-3347-4156-db6e-5a549922ac9a",
        "colab": {
          "base_uri": "https://localhost:8080/",
          "height": 35
        }
      },
      "source": [
        "#Isso é um comentário de uma única Linha\n",
        "\"\"\"\n",
        "Isso é uma comentário de várias linhas\n",
        "teste\n",
        "\"\"\""
      ],
      "execution_count": 0,
      "outputs": [
        {
          "output_type": "execute_result",
          "data": {
            "text/plain": [
              "'\\nIsso é uma comentário de várias linhas\\nteste\\n'"
            ]
          },
          "metadata": {
            "tags": []
          },
          "execution_count": 2
        }
      ]
    },
    {
      "cell_type": "markdown",
      "metadata": {
        "id": "jo0YetvHCxyh",
        "colab_type": "text"
      },
      "source": [
        "###Números e Operações Matemáticas"
      ]
    },
    {
      "cell_type": "code",
      "metadata": {
        "id": "naa7SWYFYyjc",
        "colab_type": "code",
        "outputId": "39e4a987-f5eb-467f-8b9c-1c6f15321da4",
        "colab": {
          "base_uri": "https://localhost:8080/",
          "height": 35
        }
      },
      "source": [
        "#soma\n",
        "10+10"
      ],
      "execution_count": 0,
      "outputs": [
        {
          "output_type": "execute_result",
          "data": {
            "text/plain": [
              "20"
            ]
          },
          "metadata": {
            "tags": []
          },
          "execution_count": 3
        }
      ]
    },
    {
      "cell_type": "code",
      "metadata": {
        "id": "xhoQwqoVDyac",
        "colab_type": "code",
        "outputId": "d7d8d64c-e97d-40eb-d37c-fc44b9c98607",
        "colab": {
          "base_uri": "https://localhost:8080/",
          "height": 35
        }
      },
      "source": [
        "#subtração\n",
        "10-9"
      ],
      "execution_count": 0,
      "outputs": [
        {
          "output_type": "execute_result",
          "data": {
            "text/plain": [
              "1"
            ]
          },
          "metadata": {
            "tags": []
          },
          "execution_count": 4
        }
      ]
    },
    {
      "cell_type": "code",
      "metadata": {
        "id": "kD5uq8LVD2Mh",
        "colab_type": "code",
        "outputId": "ff092743-a16c-4310-abd8-492fd5a4db63",
        "colab": {
          "base_uri": "https://localhost:8080/",
          "height": 35
        }
      },
      "source": [
        "#multiplicação\n",
        "2*2"
      ],
      "execution_count": 0,
      "outputs": [
        {
          "output_type": "execute_result",
          "data": {
            "text/plain": [
              "4"
            ]
          },
          "metadata": {
            "tags": []
          },
          "execution_count": 5
        }
      ]
    },
    {
      "cell_type": "code",
      "metadata": {
        "id": "CW4K7gM7D2yP",
        "colab_type": "code",
        "outputId": "24b53a18-fb92-488e-8b18-57861a53c39c",
        "colab": {
          "base_uri": "https://localhost:8080/",
          "height": 35
        }
      },
      "source": [
        "#divisão com saída float\n",
        "3/2"
      ],
      "execution_count": 0,
      "outputs": [
        {
          "output_type": "execute_result",
          "data": {
            "text/plain": [
              "1.5"
            ]
          },
          "metadata": {
            "tags": []
          },
          "execution_count": 17
        }
      ]
    },
    {
      "cell_type": "code",
      "metadata": {
        "id": "TflK2JVgFlIH",
        "colab_type": "code",
        "outputId": "8d521584-d10f-4005-d427-381d69a827d5",
        "colab": {
          "base_uri": "https://localhost:8080/",
          "height": 35
        }
      },
      "source": [
        "#divisão com saída inteira \n",
        "3//2"
      ],
      "execution_count": 0,
      "outputs": [
        {
          "output_type": "execute_result",
          "data": {
            "text/plain": [
              "1"
            ]
          },
          "metadata": {
            "tags": []
          },
          "execution_count": 18
        }
      ]
    },
    {
      "cell_type": "code",
      "metadata": {
        "id": "qr0QzoMoFyZ5",
        "colab_type": "code",
        "outputId": "776e6dc3-7cc3-4113-b462-76261d84596a",
        "colab": {
          "base_uri": "https://localhost:8080/",
          "height": 35
        }
      },
      "source": [
        "#(se na divisão usar float a saída é float)\n",
        "3//2.0"
      ],
      "execution_count": 0,
      "outputs": [
        {
          "output_type": "execute_result",
          "data": {
            "text/plain": [
              "1.0"
            ]
          },
          "metadata": {
            "tags": []
          },
          "execution_count": 19
        }
      ]
    },
    {
      "cell_type": "code",
      "metadata": {
        "id": "tI-cRwiDD-mX",
        "colab_type": "code",
        "outputId": "21efb945-9a9a-46ee-9e6f-5415a173db94",
        "colab": {
          "base_uri": "https://localhost:8080/",
          "height": 35
        }
      },
      "source": [
        "#div/módulo divisão sem sobra\n",
        "10%10"
      ],
      "execution_count": 0,
      "outputs": [
        {
          "output_type": "execute_result",
          "data": {
            "text/plain": [
              "1"
            ]
          },
          "metadata": {
            "tags": []
          },
          "execution_count": 9
        }
      ]
    },
    {
      "cell_type": "code",
      "metadata": {
        "id": "9pG6aspBEIeq",
        "colab_type": "code",
        "outputId": "a27180db-bb0c-402d-9833-d60ebc104fd9",
        "colab": {
          "base_uri": "https://localhost:8080/",
          "height": 35
        }
      },
      "source": [
        "#div/módulo divisão com sobra \n",
        "13%10"
      ],
      "execution_count": 0,
      "outputs": [
        {
          "output_type": "execute_result",
          "data": {
            "text/plain": [
              "3"
            ]
          },
          "metadata": {
            "tags": []
          },
          "execution_count": 11
        }
      ]
    },
    {
      "cell_type": "code",
      "metadata": {
        "id": "NtLwneMeEeLz",
        "colab_type": "code",
        "outputId": "a837393c-42e1-4b79-bd85-8bb702a1ebea",
        "colab": {
          "base_uri": "https://localhost:8080/",
          "height": 35
        }
      },
      "source": [
        "#potência\n",
        "2**4"
      ],
      "execution_count": 0,
      "outputs": [
        {
          "output_type": "execute_result",
          "data": {
            "text/plain": [
              "16"
            ]
          },
          "metadata": {
            "tags": []
          },
          "execution_count": 12
        }
      ]
    },
    {
      "cell_type": "code",
      "metadata": {
        "id": "rjGoDVGjEouW",
        "colab_type": "code",
        "outputId": "f32a5255-5c7d-4e19-bb38-93e52e55ee61",
        "colab": {
          "base_uri": "https://localhost:8080/",
          "height": 35
        }
      },
      "source": [
        "#função Type() identifica tipo do dado\n",
        "type(1.0)"
      ],
      "execution_count": 0,
      "outputs": [
        {
          "output_type": "execute_result",
          "data": {
            "text/plain": [
              "float"
            ]
          },
          "metadata": {
            "tags": []
          },
          "execution_count": 16
        }
      ]
    },
    {
      "cell_type": "code",
      "metadata": {
        "id": "zEPLC8-YFWaL",
        "colab_type": "code",
        "outputId": "a5d9190e-7723-45f0-d3ff-6340f0f8f632",
        "colab": {
          "base_uri": "https://localhost:8080/",
          "height": 35
        }
      },
      "source": [
        "type(1)"
      ],
      "execution_count": 0,
      "outputs": [
        {
          "output_type": "execute_result",
          "data": {
            "text/plain": [
              "int"
            ]
          },
          "metadata": {
            "tags": []
          },
          "execution_count": 15
        }
      ]
    },
    {
      "cell_type": "markdown",
      "metadata": {
        "id": "QYUooZ-ZF-TS",
        "colab_type": "text"
      },
      "source": [
        "###Conversão"
      ]
    },
    {
      "cell_type": "code",
      "metadata": {
        "id": "SxjuuhfUFah7",
        "colab_type": "code",
        "outputId": "d8b69ebd-4c59-4464-d257-e8b464b5c295",
        "colab": {
          "base_uri": "https://localhost:8080/",
          "height": 35
        }
      },
      "source": [
        "#transformar int em float\n",
        "float(1)"
      ],
      "execution_count": 0,
      "outputs": [
        {
          "output_type": "execute_result",
          "data": {
            "text/plain": [
              "1.0"
            ]
          },
          "metadata": {
            "tags": []
          },
          "execution_count": 20
        }
      ]
    },
    {
      "cell_type": "code",
      "metadata": {
        "id": "Dxro1GqzGTyw",
        "colab_type": "code",
        "outputId": "62b6a339-cc61-4f65-eb9f-fa92b124bc48",
        "colab": {
          "base_uri": "https://localhost:8080/",
          "height": 35
        }
      },
      "source": [
        "#transformar string em float\n",
        "float('1')"
      ],
      "execution_count": 0,
      "outputs": [
        {
          "output_type": "execute_result",
          "data": {
            "text/plain": [
              "1.0"
            ]
          },
          "metadata": {
            "tags": []
          },
          "execution_count": 21
        }
      ]
    },
    {
      "cell_type": "code",
      "metadata": {
        "id": "Hv8cDTvrGaYR",
        "colab_type": "code",
        "outputId": "5bbf4120-465c-4790-f095-e668100eec14",
        "colab": {
          "base_uri": "https://localhost:8080/",
          "height": 35
        }
      },
      "source": [
        "#transformar string em int\n",
        "int('1')"
      ],
      "execution_count": 0,
      "outputs": [
        {
          "output_type": "execute_result",
          "data": {
            "text/plain": [
              "1"
            ]
          },
          "metadata": {
            "tags": []
          },
          "execution_count": 22
        }
      ]
    },
    {
      "cell_type": "code",
      "metadata": {
        "id": "lfl_1Iw6GkkU",
        "colab_type": "code",
        "outputId": "e749da69-72c5-4310-eea7-00b46bb076bf",
        "colab": {
          "base_uri": "https://localhost:8080/",
          "height": 35
        }
      },
      "source": [
        "#transformar string em int (não dá para direto, dá erro)\n",
        "int(float('1.0'))"
      ],
      "execution_count": 0,
      "outputs": [
        {
          "output_type": "execute_result",
          "data": {
            "text/plain": [
              "1"
            ]
          },
          "metadata": {
            "tags": []
          },
          "execution_count": 24
        }
      ]
    },
    {
      "cell_type": "code",
      "metadata": {
        "id": "Cpfm8cMbGv0_",
        "colab_type": "code",
        "outputId": "1fc1d8f0-e5a2-4434-ab59-ba7fe1c122a5",
        "colab": {
          "base_uri": "https://localhost:8080/",
          "height": 35
        }
      },
      "source": [
        "#transformar float em int (não faz arredondamento)\n",
        "int(1.5)"
      ],
      "execution_count": 0,
      "outputs": [
        {
          "output_type": "execute_result",
          "data": {
            "text/plain": [
              "1"
            ]
          },
          "metadata": {
            "tags": []
          },
          "execution_count": 26
        }
      ]
    },
    {
      "cell_type": "code",
      "metadata": {
        "id": "stZW2zkDIJdl",
        "colab_type": "code",
        "outputId": "88fa8c43-063d-47a4-fc0d-8c1791369f93",
        "colab": {
          "base_uri": "https://localhost:8080/",
          "height": 35
        }
      },
      "source": [
        "#transformar int em hexadecimal\n",
        "hex(1)"
      ],
      "execution_count": 0,
      "outputs": [
        {
          "output_type": "execute_result",
          "data": {
            "text/plain": [
              "'0x1'"
            ]
          },
          "metadata": {
            "tags": []
          },
          "execution_count": 28
        }
      ]
    },
    {
      "cell_type": "code",
      "metadata": {
        "id": "yxXLbUSLIaa2",
        "colab_type": "code",
        "outputId": "533dd008-6432-48e3-95ba-d45df326407d",
        "colab": {
          "base_uri": "https://localhost:8080/",
          "height": 35
        }
      },
      "source": [
        "#transformar int em hexadecimal\n",
        "hex(15)"
      ],
      "execution_count": 0,
      "outputs": [
        {
          "output_type": "execute_result",
          "data": {
            "text/plain": [
              "'0xf'"
            ]
          },
          "metadata": {
            "tags": []
          },
          "execution_count": 43
        }
      ]
    },
    {
      "cell_type": "code",
      "metadata": {
        "id": "1Pw7cc4BH8IG",
        "colab_type": "code",
        "outputId": "f79659ea-f7ad-447a-a36d-27fad8815d50",
        "colab": {
          "base_uri": "https://localhost:8080/",
          "height": 35
        }
      },
      "source": [
        "#transformar int em binário\n",
        "bin(10)"
      ],
      "execution_count": 0,
      "outputs": [
        {
          "output_type": "execute_result",
          "data": {
            "text/plain": [
              "'0b1010'"
            ]
          },
          "metadata": {
            "tags": []
          },
          "execution_count": 44
        }
      ]
    },
    {
      "cell_type": "markdown",
      "metadata": {
        "id": "fWWG2eNSJO1Z",
        "colab_type": "text"
      },
      "source": [
        "###Funções Built-in"
      ]
    },
    {
      "cell_type": "code",
      "metadata": {
        "id": "qi3bQWegIUXq",
        "colab_type": "code",
        "outputId": "ccfac3c0-47ec-4eca-a29e-307e4f7d28e4",
        "colab": {
          "base_uri": "https://localhost:8080/",
          "height": 35
        }
      },
      "source": [
        "#Número absoluto (sem sinal)\n",
        "abs(-8)"
      ],
      "execution_count": 0,
      "outputs": [
        {
          "output_type": "execute_result",
          "data": {
            "text/plain": [
              "8"
            ]
          },
          "metadata": {
            "tags": []
          },
          "execution_count": 45
        }
      ]
    },
    {
      "cell_type": "code",
      "metadata": {
        "id": "W-xas683JWjX",
        "colab_type": "code",
        "outputId": "efca719e-3289-4537-da9a-58c940e96f79",
        "colab": {
          "base_uri": "https://localhost:8080/",
          "height": 35
        }
      },
      "source": [
        "#arredondamento para 2 casas decimais\n",
        "round(3.1424,2)"
      ],
      "execution_count": 0,
      "outputs": [
        {
          "output_type": "execute_result",
          "data": {
            "text/plain": [
              "3.14"
            ]
          },
          "metadata": {
            "tags": []
          },
          "execution_count": 47
        }
      ]
    },
    {
      "cell_type": "code",
      "metadata": {
        "id": "yXE_5j_BJfHj",
        "colab_type": "code",
        "outputId": "ccc5a978-2081-4c17-a7ca-863085f1edd6",
        "colab": {
          "base_uri": "https://localhost:8080/",
          "height": 35
        }
      },
      "source": [
        "round(3.1454,2)"
      ],
      "execution_count": 0,
      "outputs": [
        {
          "output_type": "execute_result",
          "data": {
            "text/plain": [
              "3.15"
            ]
          },
          "metadata": {
            "tags": []
          },
          "execution_count": 48
        }
      ]
    },
    {
      "cell_type": "code",
      "metadata": {
        "id": "xnu0Ge9LJifF",
        "colab_type": "code",
        "outputId": "f3a1be3f-79c2-497d-b424-a10f4439b0b8",
        "colab": {
          "base_uri": "https://localhost:8080/",
          "height": 35
        }
      },
      "source": [
        "#potência através de função, mesmo efeito que **\n",
        "pow(2,4)"
      ],
      "execution_count": 0,
      "outputs": [
        {
          "output_type": "execute_result",
          "data": {
            "text/plain": [
              "16"
            ]
          },
          "metadata": {
            "tags": []
          },
          "execution_count": 49
        }
      ]
    },
    {
      "cell_type": "code",
      "metadata": {
        "id": "VuoKPB0KJpy7",
        "colab_type": "code",
        "outputId": "e78205cb-a4b9-4a04-967b-e3dc4d12095d",
        "colab": {
          "base_uri": "https://localhost:8080/",
          "height": 35
        }
      },
      "source": [
        "#retorna tamanho da string\n",
        "len('111222333')"
      ],
      "execution_count": 0,
      "outputs": [
        {
          "output_type": "execute_result",
          "data": {
            "text/plain": [
              "9"
            ]
          },
          "metadata": {
            "tags": []
          },
          "execution_count": 51
        }
      ]
    },
    {
      "cell_type": "code",
      "metadata": {
        "id": "Wfr9i3g6LbTa",
        "colab_type": "code",
        "outputId": "c12d8c23-9934-45dd-f17a-6b0e452e4789",
        "colab": {
          "base_uri": "https://localhost:8080/",
          "height": 35
        }
      },
      "source": [
        "#tranforma valor em string\n",
        "str(1)"
      ],
      "execution_count": 0,
      "outputs": [
        {
          "output_type": "execute_result",
          "data": {
            "text/plain": [
              "'1'"
            ]
          },
          "metadata": {
            "tags": []
          },
          "execution_count": 53
        }
      ]
    },
    {
      "cell_type": "code",
      "metadata": {
        "id": "yC_KBO_RLueg",
        "colab_type": "code",
        "colab": {}
      },
      "source": [
        "#executa documentação do python\n",
        "#dá para digitar uma função por exemplo para saber mais e ter exemplos\n",
        "help()"
      ],
      "execution_count": 0,
      "outputs": []
    },
    {
      "cell_type": "markdown",
      "metadata": {
        "id": "tAA-GETZM2HW",
        "colab_type": "text"
      },
      "source": [
        "###Variáveis e Operadores"
      ]
    },
    {
      "cell_type": "code",
      "metadata": {
        "id": "wCfjUFWML8VL",
        "colab_type": "code",
        "colab": {}
      },
      "source": [
        "#atribuição\n",
        "var_teste = 10"
      ],
      "execution_count": 0,
      "outputs": []
    },
    {
      "cell_type": "code",
      "metadata": {
        "id": "N3gF-xO_M1nm",
        "colab_type": "code",
        "outputId": "d088083b-b219-4130-cdcf-9fc84a9c5910",
        "colab": {
          "base_uri": "https://localhost:8080/",
          "height": 35
        }
      },
      "source": [
        "var_teste"
      ],
      "execution_count": 0,
      "outputs": [
        {
          "output_type": "execute_result",
          "data": {
            "text/plain": [
              "10"
            ]
          },
          "metadata": {
            "tags": []
          },
          "execution_count": 56
        }
      ]
    },
    {
      "cell_type": "code",
      "metadata": {
        "id": "K54iiLrTO5fl",
        "colab_type": "code",
        "outputId": "e41d9b17-cd7f-4d1a-8d8c-f257dd1b6b8a",
        "colab": {
          "base_uri": "https://localhost:8080/",
          "height": 35
        }
      },
      "source": [
        "print(var_teste)\n"
      ],
      "execution_count": 0,
      "outputs": [
        {
          "output_type": "stream",
          "text": [
            "10\n"
          ],
          "name": "stdout"
        }
      ]
    },
    {
      "cell_type": "code",
      "metadata": {
        "id": "lXyvVcckO7Es",
        "colab_type": "code",
        "outputId": "f3f8bdb6-e769-4cd9-fe9a-d35ea055e863",
        "colab": {
          "base_uri": "https://localhost:8080/",
          "height": 35
        }
      },
      "source": [
        "#ainda está considerando o valor da célula acima\n",
        "var_teste +=11\n",
        "var_teste"
      ],
      "execution_count": 0,
      "outputs": [
        {
          "output_type": "execute_result",
          "data": {
            "text/plain": [
              "21"
            ]
          },
          "metadata": {
            "tags": []
          },
          "execution_count": 62
        }
      ]
    },
    {
      "cell_type": "code",
      "metadata": {
        "id": "0R_1Kr1EO9X-",
        "colab_type": "code",
        "outputId": "e579260d-68fd-4745-d8ac-69685ebe38a6",
        "colab": {
          "base_uri": "https://localhost:8080/",
          "height": 35
        }
      },
      "source": [
        "#concatenação\n",
        "nome = 'Marcella'\n",
        "sobrenome = 'Pedro'\n",
        "nome_completo = nome + ' ' + sobrenome\n",
        "nome_completo"
      ],
      "execution_count": 0,
      "outputs": [
        {
          "output_type": "execute_result",
          "data": {
            "text/plain": [
              "'Marcella Pedro'"
            ]
          },
          "metadata": {
            "tags": []
          },
          "execution_count": 63
        }
      ]
    },
    {
      "cell_type": "code",
      "metadata": {
        "id": "IMFACOulQIwS",
        "colab_type": "code",
        "outputId": "f5a5e88a-2be5-481a-8465-451a6fd0db98",
        "colab": {
          "base_uri": "https://localhost:8080/",
          "height": 35
        }
      },
      "source": [
        "#string com aspas simples\n",
        "'texto1'"
      ],
      "execution_count": 0,
      "outputs": [
        {
          "output_type": "execute_result",
          "data": {
            "text/plain": [
              "'texto1'"
            ]
          },
          "metadata": {
            "tags": []
          },
          "execution_count": 64
        }
      ]
    },
    {
      "cell_type": "code",
      "metadata": {
        "id": "qVtGyjoSRvHY",
        "colab_type": "code",
        "outputId": "b431a565-7e9e-4e07-8e83-04fa48c336d9",
        "colab": {
          "base_uri": "https://localhost:8080/",
          "height": 35
        }
      },
      "source": [
        "#string com aspas duplas\n",
        "\"texto2\""
      ],
      "execution_count": 0,
      "outputs": [
        {
          "output_type": "execute_result",
          "data": {
            "text/plain": [
              "'texto2'"
            ]
          },
          "metadata": {
            "tags": []
          },
          "execution_count": 65
        }
      ]
    },
    {
      "cell_type": "code",
      "metadata": {
        "id": "DPFg1T3_RzMi",
        "colab_type": "code",
        "outputId": "b971222e-a043-4ae0-cfd5-9d4810d4e53d",
        "colab": {
          "base_uri": "https://localhost:8080/",
          "height": 35
        }
      },
      "source": [
        "\"texto com 'aspas'\""
      ],
      "execution_count": 0,
      "outputs": [
        {
          "output_type": "execute_result",
          "data": {
            "text/plain": [
              "\"texto com 'aspas'\""
            ]
          },
          "metadata": {
            "tags": []
          },
          "execution_count": 67
        }
      ]
    },
    {
      "cell_type": "code",
      "metadata": {
        "id": "tlwCMhNYR-fC",
        "colab_type": "code",
        "outputId": "5984c4ee-cbaa-4a5e-9241-e158cb212fbc",
        "colab": {
          "base_uri": "https://localhost:8080/",
          "height": 53
        }
      },
      "source": [
        "print('texto \\n com enter')"
      ],
      "execution_count": 0,
      "outputs": [
        {
          "output_type": "stream",
          "text": [
            "texto \n",
            " com enter\n"
          ],
          "name": "stdout"
        }
      ]
    },
    {
      "cell_type": "code",
      "metadata": {
        "id": "MlGljDnqSRAS",
        "colab_type": "code",
        "outputId": "ec64b777-52b2-45c1-f36d-93f3906015d0",
        "colab": {
          "base_uri": "https://localhost:8080/",
          "height": 35
        }
      },
      "source": [
        "#retornar posição específica do texto\n",
        "ordem = 'Marcella'\n",
        "ordem[0]"
      ],
      "execution_count": 0,
      "outputs": [
        {
          "output_type": "execute_result",
          "data": {
            "text/plain": [
              "'M'"
            ]
          },
          "metadata": {
            "tags": []
          },
          "execution_count": 81
        }
      ]
    },
    {
      "cell_type": "code",
      "metadata": {
        "id": "l4sbnmcUSY2D",
        "colab_type": "code",
        "outputId": "16e470e0-8ed9-4c61-fea9-3846f6b0a25c",
        "colab": {
          "base_uri": "https://localhost:8080/",
          "height": 35
        }
      },
      "source": [
        "ordem[2]"
      ],
      "execution_count": 0,
      "outputs": [
        {
          "output_type": "execute_result",
          "data": {
            "text/plain": [
              "'r'"
            ]
          },
          "metadata": {
            "tags": []
          },
          "execution_count": 82
        }
      ]
    },
    {
      "cell_type": "code",
      "metadata": {
        "id": "iCcmlyAgScTR",
        "colab_type": "code",
        "outputId": "eacbf4c2-e036-42e1-f93a-b232eb13cc4b",
        "colab": {
          "base_uri": "https://localhost:8080/",
          "height": 35
        }
      },
      "source": [
        "#slicing (pegar posição 1 até o final)\n",
        "ordem[1:]"
      ],
      "execution_count": 0,
      "outputs": [
        {
          "output_type": "execute_result",
          "data": {
            "text/plain": [
              "'arcella'"
            ]
          },
          "metadata": {
            "tags": []
          },
          "execution_count": 83
        }
      ]
    },
    {
      "cell_type": "code",
      "metadata": {
        "id": "6ehcNNyYSpo2",
        "colab_type": "code",
        "outputId": "1d18d5a6-c323-418c-e81f-4cf956151b21",
        "colab": {
          "base_uri": "https://localhost:8080/",
          "height": 35
        }
      },
      "source": [
        "#slicing (pegar posição inicial até o 4)\n",
        "ordem[:4]"
      ],
      "execution_count": 0,
      "outputs": [
        {
          "output_type": "execute_result",
          "data": {
            "text/plain": [
              "'Marc'"
            ]
          },
          "metadata": {
            "tags": []
          },
          "execution_count": 84
        }
      ]
    },
    {
      "cell_type": "code",
      "metadata": {
        "id": "6dCgEWFESvGf",
        "colab_type": "code",
        "outputId": "8749a063-40a8-4b89-bed9-4035b2617ad4",
        "colab": {
          "base_uri": "https://localhost:8080/",
          "height": 35
        }
      },
      "source": [
        "#slicing (pegar posição 1 até 2)\n",
        "ordem[1:4]"
      ],
      "execution_count": 0,
      "outputs": [
        {
          "output_type": "execute_result",
          "data": {
            "text/plain": [
              "'arc'"
            ]
          },
          "metadata": {
            "tags": []
          },
          "execution_count": 86
        }
      ]
    },
    {
      "cell_type": "code",
      "metadata": {
        "id": "xE8Jg9dES2Sf",
        "colab_type": "code",
        "outputId": "0f225506-fed3-4579-8c27-14fc6804f592",
        "colab": {
          "base_uri": "https://localhost:8080/",
          "height": 35
        }
      },
      "source": [
        "#slicing (traz tudo)\n",
        "ordem[:]"
      ],
      "execution_count": 0,
      "outputs": [
        {
          "output_type": "execute_result",
          "data": {
            "text/plain": [
              "'Marcella'"
            ]
          },
          "metadata": {
            "tags": []
          },
          "execution_count": 87
        }
      ]
    },
    {
      "cell_type": "code",
      "metadata": {
        "id": "xx1bx05jTKqZ",
        "colab_type": "code",
        "outputId": "5fe323a2-fa93-481d-8ec9-8f461452ad8f",
        "colab": {
          "base_uri": "https://localhost:8080/",
          "height": 35
        }
      },
      "source": [
        "#slicing (traz última letra)\n",
        "ordem[-1]"
      ],
      "execution_count": 0,
      "outputs": [
        {
          "output_type": "execute_result",
          "data": {
            "text/plain": [
              "'a'"
            ]
          },
          "metadata": {
            "tags": []
          },
          "execution_count": 88
        }
      ]
    },
    {
      "cell_type": "code",
      "metadata": {
        "id": "UFymbQfYTQpY",
        "colab_type": "code",
        "outputId": "76567fb8-e25a-48dc-e7bb-6953e78abe6c",
        "colab": {
          "base_uri": "https://localhost:8080/",
          "height": 35
        }
      },
      "source": [
        "#slicing (traz penúltima letra)\n",
        "ordem[-3]"
      ],
      "execution_count": 0,
      "outputs": [
        {
          "output_type": "execute_result",
          "data": {
            "text/plain": [
              "'l'"
            ]
          },
          "metadata": {
            "tags": []
          },
          "execution_count": 89
        }
      ]
    },
    {
      "cell_type": "code",
      "metadata": {
        "id": "5zWajoSBTXtr",
        "colab_type": "code",
        "outputId": "13c232df-0f69-4aab-c59b-559fbead7988",
        "colab": {
          "base_uri": "https://localhost:8080/",
          "height": 35
        }
      },
      "source": [
        "#slicing (corta string de traz pra frente)\n",
        "ordem[:-3]"
      ],
      "execution_count": 0,
      "outputs": [
        {
          "output_type": "execute_result",
          "data": {
            "text/plain": [
              "'Marce'"
            ]
          },
          "metadata": {
            "tags": []
          },
          "execution_count": 90
        }
      ]
    },
    {
      "cell_type": "code",
      "metadata": {
        "id": "Wu2H9c8VTpz1",
        "colab_type": "code",
        "outputId": "78f28210-b199-45d0-ca6c-be12948f9264",
        "colab": {
          "base_uri": "https://localhost:8080/",
          "height": 35
        }
      },
      "source": [
        "ordem[-3:]"
      ],
      "execution_count": 0,
      "outputs": [
        {
          "output_type": "execute_result",
          "data": {
            "text/plain": [
              "'lla'"
            ]
          },
          "metadata": {
            "tags": []
          },
          "execution_count": 91
        }
      ]
    },
    {
      "cell_type": "code",
      "metadata": {
        "id": "ousr3P06TvMu",
        "colab_type": "code",
        "outputId": "c535ee69-ee4c-44a0-b407-1ff97ce4287d",
        "colab": {
          "base_uri": "https://localhost:8080/",
          "height": 35
        }
      },
      "source": [
        "#slicing (indicando posição inicial e final e quantas casas pula)\n",
        "ordem[::1]"
      ],
      "execution_count": 0,
      "outputs": [
        {
          "output_type": "execute_result",
          "data": {
            "text/plain": [
              "'Marcella'"
            ]
          },
          "metadata": {
            "tags": []
          },
          "execution_count": 92
        }
      ]
    },
    {
      "cell_type": "code",
      "metadata": {
        "id": "xKVp7bJVVWhT",
        "colab_type": "code",
        "outputId": "9fd5c119-51f9-4859-9672-30a9a91bd393",
        "colab": {
          "base_uri": "https://localhost:8080/",
          "height": 35
        }
      },
      "source": [
        "ordem[::2]"
      ],
      "execution_count": 0,
      "outputs": [
        {
          "output_type": "execute_result",
          "data": {
            "text/plain": [
              "'Mrel'"
            ]
          },
          "metadata": {
            "tags": []
          },
          "execution_count": 93
        }
      ]
    },
    {
      "cell_type": "code",
      "metadata": {
        "id": "Owq4vdSqVXWv",
        "colab_type": "code",
        "outputId": "49d1908c-2b7c-4f2c-ecf6-a37eb7fee1c8",
        "colab": {
          "base_uri": "https://localhost:8080/",
          "height": 35
        }
      },
      "source": [
        "ordem[::-3]"
      ],
      "execution_count": 0,
      "outputs": [
        {
          "output_type": "execute_result",
          "data": {
            "text/plain": [
              "'aea'"
            ]
          },
          "metadata": {
            "tags": []
          },
          "execution_count": 95
        }
      ]
    },
    {
      "cell_type": "code",
      "metadata": {
        "id": "EOwsc4IiWBpm",
        "colab_type": "code",
        "outputId": "2be05f48-a5e9-424f-d03b-6e8c05e9448b",
        "colab": {
          "base_uri": "https://localhost:8080/",
          "height": 35
        }
      },
      "source": [
        "ordem*3"
      ],
      "execution_count": 0,
      "outputs": [
        {
          "output_type": "execute_result",
          "data": {
            "text/plain": [
              "'MarcellaMarcellaMarcella'"
            ]
          },
          "metadata": {
            "tags": []
          },
          "execution_count": 99
        }
      ]
    },
    {
      "cell_type": "markdown",
      "metadata": {
        "id": "P3ZDi6W6WSvI",
        "colab_type": "text"
      },
      "source": [
        "###Funções com String"
      ]
    },
    {
      "cell_type": "code",
      "metadata": {
        "id": "K7TvUufbWNdl",
        "colab_type": "code",
        "outputId": "610f9c93-8237-4fb1-ee7e-5b474ed6a584",
        "colab": {
          "base_uri": "https://localhost:8080/",
          "height": 35
        }
      },
      "source": [
        "#Maiúscula\n",
        "ordem.upper()"
      ],
      "execution_count": 0,
      "outputs": [
        {
          "output_type": "execute_result",
          "data": {
            "text/plain": [
              "'MARCELLA'"
            ]
          },
          "metadata": {
            "tags": []
          },
          "execution_count": 100
        }
      ]
    },
    {
      "cell_type": "code",
      "metadata": {
        "id": "jeT9qRCGWZa5",
        "colab_type": "code",
        "outputId": "a984a1c0-3ea9-46f9-fa20-c262cfe1a6dd",
        "colab": {
          "base_uri": "https://localhost:8080/",
          "height": 35
        }
      },
      "source": [
        "#Minúscula\n",
        "ordem.lower()"
      ],
      "execution_count": 0,
      "outputs": [
        {
          "output_type": "execute_result",
          "data": {
            "text/plain": [
              "'marcella'"
            ]
          },
          "metadata": {
            "tags": []
          },
          "execution_count": 101
        }
      ]
    },
    {
      "cell_type": "code",
      "metadata": {
        "id": "Tx5IWmWfWcZP",
        "colab_type": "code",
        "outputId": "57271c20-a3f5-43d8-eaaa-333724128d53",
        "colab": {
          "base_uri": "https://localhost:8080/",
          "height": 35
        }
      },
      "source": [
        "#dividir com base em uma letra\n",
        "ordem.split('e')"
      ],
      "execution_count": 0,
      "outputs": [
        {
          "output_type": "execute_result",
          "data": {
            "text/plain": [
              "['Marc', 'lla']"
            ]
          },
          "metadata": {
            "tags": []
          },
          "execution_count": 104
        }
      ]
    },
    {
      "cell_type": "code",
      "metadata": {
        "id": "jBLKym3fWhNA",
        "colab_type": "code",
        "outputId": "b5af3583-3b18-46ba-eda4-0df26c409419",
        "colab": {
          "base_uri": "https://localhost:8080/",
          "height": 35
        }
      },
      "source": [
        "#se não passar parâmetro, separa por espaço em branco\n",
        "nome_completo.split()"
      ],
      "execution_count": 0,
      "outputs": [
        {
          "output_type": "execute_result",
          "data": {
            "text/plain": [
              "['Marcella', 'Pedro']"
            ]
          },
          "metadata": {
            "tags": []
          },
          "execution_count": 106
        }
      ]
    },
    {
      "cell_type": "code",
      "metadata": {
        "id": "WwjPHh_5W2Yh",
        "colab_type": "code",
        "outputId": "e99a485e-bcda-4a46-ad17-0ea2e3d9ae1c",
        "colab": {
          "base_uri": "https://localhost:8080/",
          "height": 35
        }
      },
      "source": [
        "#Capitalize coloca primeira letra em maiúsculo\n",
        "ordem.lower().capitalize()"
      ],
      "execution_count": 0,
      "outputs": [
        {
          "output_type": "execute_result",
          "data": {
            "text/plain": [
              "'Marcella'"
            ]
          },
          "metadata": {
            "tags": []
          },
          "execution_count": 111
        }
      ]
    },
    {
      "cell_type": "code",
      "metadata": {
        "id": "bwfLlBGnXMTg",
        "colab_type": "code",
        "outputId": "7e098018-b3d9-4d70-d488-d4ac57f96dc9",
        "colab": {
          "base_uri": "https://localhost:8080/",
          "height": 35
        }
      },
      "source": [
        "#contar quantas vezes o caractere aparece\n",
        "ordem.count('ll')"
      ],
      "execution_count": 0,
      "outputs": [
        {
          "output_type": "execute_result",
          "data": {
            "text/plain": [
              "1"
            ]
          },
          "metadata": {
            "tags": []
          },
          "execution_count": 116
        }
      ]
    },
    {
      "cell_type": "code",
      "metadata": {
        "id": "bsED4aXlXY4k",
        "colab_type": "code",
        "outputId": "9235293a-c213-455d-cbe0-8dfb575acd82",
        "colab": {
          "base_uri": "https://localhost:8080/",
          "height": 35
        }
      },
      "source": [
        "#encontrar a posição de uma letra\n",
        "ordem.find('r')"
      ],
      "execution_count": 0,
      "outputs": [
        {
          "output_type": "execute_result",
          "data": {
            "text/plain": [
              "2"
            ]
          },
          "metadata": {
            "tags": []
          },
          "execution_count": 117
        }
      ]
    },
    {
      "cell_type": "code",
      "metadata": {
        "id": "7flhz2w8Xqgh",
        "colab_type": "code",
        "outputId": "b27139ae-d4f7-4810-ec61-4373bb957b4c",
        "colab": {
          "base_uri": "https://localhost:8080/",
          "height": 35
        }
      },
      "source": [
        "#verifica se todas letras são minúsculas, retorna boolean\n",
        "ordem.islower()"
      ],
      "execution_count": 0,
      "outputs": [
        {
          "output_type": "execute_result",
          "data": {
            "text/plain": [
              "False"
            ]
          },
          "metadata": {
            "tags": []
          },
          "execution_count": 118
        }
      ]
    },
    {
      "cell_type": "code",
      "metadata": {
        "id": "istwZ7qkXwFs",
        "colab_type": "code",
        "outputId": "7d424ee6-50fc-431a-a6d1-420bb70ebc89",
        "colab": {
          "base_uri": "https://localhost:8080/",
          "height": 35
        }
      },
      "source": [
        "#verifica se a string é formada apenas por espaços\n",
        "ordem.isspace()"
      ],
      "execution_count": 0,
      "outputs": [
        {
          "output_type": "execute_result",
          "data": {
            "text/plain": [
              "False"
            ]
          },
          "metadata": {
            "tags": []
          },
          "execution_count": 119
        }
      ]
    },
    {
      "cell_type": "code",
      "metadata": {
        "id": "Rv98j__5X5cJ",
        "colab_type": "code",
        "outputId": "38dfad18-2f50-460f-d935-865bfd46ce09",
        "colab": {
          "base_uri": "https://localhost:8080/",
          "height": 35
        }
      },
      "source": [
        "##verifica se termina a string com determinada letra\n",
        "ordem.endswith('a')"
      ],
      "execution_count": 0,
      "outputs": [
        {
          "output_type": "execute_result",
          "data": {
            "text/plain": [
              "True"
            ]
          },
          "metadata": {
            "tags": []
          },
          "execution_count": 121
        }
      ]
    },
    {
      "cell_type": "code",
      "metadata": {
        "id": "Woc2Nug9YJAr",
        "colab_type": "code",
        "outputId": "7d67c3c3-e373-42c3-8d5f-75f53656b9d3",
        "colab": {
          "base_uri": "https://localhost:8080/",
          "height": 35
        }
      },
      "source": [
        "#comparação\n",
        "print('Python' == 'Python')"
      ],
      "execution_count": 0,
      "outputs": [
        {
          "output_type": "stream",
          "text": [
            "True\n"
          ],
          "name": "stdout"
        }
      ]
    },
    {
      "cell_type": "markdown",
      "metadata": {
        "id": "8f8iOsSmV_Zc",
        "colab_type": "text"
      },
      "source": [
        "###Estrutura de Dados"
      ]
    },
    {
      "cell_type": "markdown",
      "metadata": {
        "id": "CUk0A8siWyJX",
        "colab_type": "text"
      },
      "source": [
        "####Listas"
      ]
    },
    {
      "cell_type": "code",
      "metadata": {
        "id": "rPDlw7O3YU2F",
        "colab_type": "code",
        "colab": {
          "base_uri": "https://localhost:8080/",
          "height": 35
        },
        "outputId": "ee662a63-ba37-4148-c8c3-0caf61f07069"
      },
      "source": [
        "#lista de strings chaves\n",
        "compras_mercado = ['banana','açúcar','óleo']\n",
        "compras_mercado[0]"
      ],
      "execution_count": 1,
      "outputs": [
        {
          "output_type": "execute_result",
          "data": {
            "text/plain": [
              "'banana'"
            ]
          },
          "metadata": {
            "tags": []
          },
          "execution_count": 1
        }
      ]
    },
    {
      "cell_type": "code",
      "metadata": {
        "id": "2QCPmhvDXFld",
        "colab_type": "code",
        "colab": {
          "base_uri": "https://localhost:8080/",
          "height": 35
        },
        "outputId": "1b8f9e96-fe9e-43df-d75a-addbf90c22d0"
      },
      "source": [
        "#lista aceita tipos diferentes na mesma lista\n",
        "tipos_diferentes = [10,'teste']\n",
        "tipos_diferentes"
      ],
      "execution_count": 2,
      "outputs": [
        {
          "output_type": "execute_result",
          "data": {
            "text/plain": [
              "[10, 'teste']"
            ]
          },
          "metadata": {
            "tags": []
          },
          "execution_count": 2
        }
      ]
    },
    {
      "cell_type": "code",
      "metadata": {
        "id": "N5p-tnxGXQlv",
        "colab_type": "code",
        "colab": {
          "base_uri": "https://localhost:8080/",
          "height": 35
        },
        "outputId": "40175321-3709-42ff-e8a2-095ebdbca570"
      },
      "source": [
        "compras_mercado[2] = 'arroz'\n",
        "compras_mercado"
      ],
      "execution_count": 3,
      "outputs": [
        {
          "output_type": "execute_result",
          "data": {
            "text/plain": [
              "['banana', 'açúcar', 'arroz']"
            ]
          },
          "metadata": {
            "tags": []
          },
          "execution_count": 3
        }
      ]
    },
    {
      "cell_type": "code",
      "metadata": {
        "id": "lGq5TAhhXbcZ",
        "colab_type": "code",
        "colab": {
          "base_uri": "https://localhost:8080/",
          "height": 35
        },
        "outputId": "72aa7efe-9c9a-4871-b668-3f48fb8eda82"
      },
      "source": [
        "#apagar item da lista\n",
        "del compras_mercado[2]\n",
        "compras_mercado"
      ],
      "execution_count": 5,
      "outputs": [
        {
          "output_type": "execute_result",
          "data": {
            "text/plain": [
              "['banana', 'açúcar']"
            ]
          },
          "metadata": {
            "tags": []
          },
          "execution_count": 5
        }
      ]
    },
    {
      "cell_type": "code",
      "metadata": {
        "id": "2-TZQxcVXiwm",
        "colab_type": "code",
        "colab": {
          "base_uri": "https://localhost:8080/",
          "height": 35
        },
        "outputId": "8861e47b-fdb3-4d0a-edd7-1d6404835bd0"
      },
      "source": [
        "#lista aninhada (Lista composta por outras listas = matriz)\n",
        "lista = [[1,2,3],['a','b','c'],['!','@','#']]\n",
        "lista"
      ],
      "execution_count": 6,
      "outputs": [
        {
          "output_type": "execute_result",
          "data": {
            "text/plain": [
              "[[1, 2, 3], ['a', 'b', 'c'], ['!', '@', '#']]"
            ]
          },
          "metadata": {
            "tags": []
          },
          "execution_count": 6
        }
      ]
    },
    {
      "cell_type": "code",
      "metadata": {
        "id": "BVor0PWKX9H3",
        "colab_type": "code",
        "colab": {
          "base_uri": "https://localhost:8080/",
          "height": 35
        },
        "outputId": "302fd89e-a1a3-4354-d53d-7aa8fbd42810"
      },
      "source": [
        "a = lista[0]\n",
        "a"
      ],
      "execution_count": 7,
      "outputs": [
        {
          "output_type": "execute_result",
          "data": {
            "text/plain": [
              "[1, 2, 3]"
            ]
          },
          "metadata": {
            "tags": []
          },
          "execution_count": 7
        }
      ]
    },
    {
      "cell_type": "code",
      "metadata": {
        "id": "YVPB_gJYYD_e",
        "colab_type": "code",
        "colab": {
          "base_uri": "https://localhost:8080/",
          "height": 35
        },
        "outputId": "41302ae6-583e-4ae7-c0f9-7b3f4d5e4c4f"
      },
      "source": [
        "b = [0]\n",
        "b"
      ],
      "execution_count": 8,
      "outputs": [
        {
          "output_type": "execute_result",
          "data": {
            "text/plain": [
              "[0]"
            ]
          },
          "metadata": {
            "tags": []
          },
          "execution_count": 8
        }
      ]
    },
    {
      "cell_type": "code",
      "metadata": {
        "id": "9AK_yv-DYHGU",
        "colab_type": "code",
        "colab": {
          "base_uri": "https://localhost:8080/",
          "height": 35
        },
        "outputId": "1f03b541-203b-44da-a761-1ee1449a2618"
      },
      "source": [
        "#acessar lista dentro da lista\n",
        "lista[1][2]"
      ],
      "execution_count": 12,
      "outputs": [
        {
          "output_type": "execute_result",
          "data": {
            "text/plain": [
              "'c'"
            ]
          },
          "metadata": {
            "tags": []
          },
          "execution_count": 12
        }
      ]
    },
    {
      "cell_type": "code",
      "metadata": {
        "id": "Cj8iJw-uYPpD",
        "colab_type": "code",
        "colab": {
          "base_uri": "https://localhost:8080/",
          "height": 35
        },
        "outputId": "615c2ab1-1762-45a2-b9e7-a496ff813d11"
      },
      "source": [
        "#concatenar listas\n",
        "lista[0]+ compras_mercado"
      ],
      "execution_count": 13,
      "outputs": [
        {
          "output_type": "execute_result",
          "data": {
            "text/plain": [
              "[1, 2, 3, 'banana', 'açúcar']"
            ]
          },
          "metadata": {
            "tags": []
          },
          "execution_count": 13
        }
      ]
    },
    {
      "cell_type": "code",
      "metadata": {
        "id": "q8m1XKFsYz3U",
        "colab_type": "code",
        "colab": {
          "base_uri": "https://localhost:8080/",
          "height": 35
        },
        "outputId": "12cbca42-658f-476f-d491-16d1b1c0dcce"
      },
      "source": [
        "#operador in (verifica se tem uma valor na lista)\n",
        "print( 'banana' in compras_mercado)"
      ],
      "execution_count": 14,
      "outputs": [
        {
          "output_type": "stream",
          "text": [
            "True\n"
          ],
          "name": "stdout"
        }
      ]
    },
    {
      "cell_type": "code",
      "metadata": {
        "id": "oGsI6dwHZLBf",
        "colab_type": "code",
        "colab": {
          "base_uri": "https://localhost:8080/",
          "height": 35
        },
        "outputId": "24d78a9f-a317-453a-ae14-3f9db68ebf3d"
      },
      "source": [
        "#tamanho lista\n",
        "len(compras_mercado)"
      ],
      "execution_count": 15,
      "outputs": [
        {
          "output_type": "execute_result",
          "data": {
            "text/plain": [
              "2"
            ]
          },
          "metadata": {
            "tags": []
          },
          "execution_count": 15
        }
      ]
    },
    {
      "cell_type": "code",
      "metadata": {
        "id": "HuA3sjNsZQ8E",
        "colab_type": "code",
        "colab": {
          "base_uri": "https://localhost:8080/",
          "height": 35
        },
        "outputId": "0a0b5963-348e-402a-c43b-0a67ee8c3a21"
      },
      "source": [
        "#maior valor da lista\n",
        "max(compras_mercado)"
      ],
      "execution_count": 16,
      "outputs": [
        {
          "output_type": "execute_result",
          "data": {
            "text/plain": [
              "'banana'"
            ]
          },
          "metadata": {
            "tags": []
          },
          "execution_count": 16
        }
      ]
    },
    {
      "cell_type": "code",
      "metadata": {
        "id": "mhsIHP5aZTOy",
        "colab_type": "code",
        "colab": {
          "base_uri": "https://localhost:8080/",
          "height": 35
        },
        "outputId": "b1691149-0a3f-42c2-dfb6-369f2df452f0"
      },
      "source": [
        "#menor valor da lista\n",
        "min(compras_mercado)"
      ],
      "execution_count": 17,
      "outputs": [
        {
          "output_type": "execute_result",
          "data": {
            "text/plain": [
              "'açúcar'"
            ]
          },
          "metadata": {
            "tags": []
          },
          "execution_count": 17
        }
      ]
    },
    {
      "cell_type": "code",
      "metadata": {
        "id": "dG7BVDCUZZ1K",
        "colab_type": "code",
        "colab": {
          "base_uri": "https://localhost:8080/",
          "height": 35
        },
        "outputId": "ae9bfd11-802f-4f8f-874c-a6eb221812ce"
      },
      "source": [
        "#adicionar valores na lista\n",
        "compras_mercado.append('feijão')\n",
        "compras_mercado"
      ],
      "execution_count": 18,
      "outputs": [
        {
          "output_type": "execute_result",
          "data": {
            "text/plain": [
              "['banana', 'açúcar', 'feijão']"
            ]
          },
          "metadata": {
            "tags": []
          },
          "execution_count": 18
        }
      ]
    },
    {
      "cell_type": "code",
      "metadata": {
        "id": "LWEn9Uo_ZiaB",
        "colab_type": "code",
        "colab": {
          "base_uri": "https://localhost:8080/",
          "height": 35
        },
        "outputId": "d01a3087-5a48-44f3-e532-c6bca902b503"
      },
      "source": [
        "#contar itens repetidos\n",
        "compras_mercado.append('feijão')\n",
        "compras_mercado.count('feijão')"
      ],
      "execution_count": 19,
      "outputs": [
        {
          "output_type": "execute_result",
          "data": {
            "text/plain": [
              "2"
            ]
          },
          "metadata": {
            "tags": []
          },
          "execution_count": 19
        }
      ]
    },
    {
      "cell_type": "code",
      "metadata": {
        "id": "X5MkLy0kZ2Bh",
        "colab_type": "code",
        "colab": {}
      },
      "source": [
        "#criar lista vazia\n",
        "a = []"
      ],
      "execution_count": 0,
      "outputs": []
    },
    {
      "cell_type": "code",
      "metadata": {
        "id": "Fi2iokn7Z8XT",
        "colab_type": "code",
        "colab": {
          "base_uri": "https://localhost:8080/",
          "height": 35
        },
        "outputId": "ab4ea05b-c1cb-430f-b6eb-60ec216de353"
      },
      "source": [
        "type(a)"
      ],
      "execution_count": 21,
      "outputs": [
        {
          "output_type": "execute_result",
          "data": {
            "text/plain": [
              "list"
            ]
          },
          "metadata": {
            "tags": []
          },
          "execution_count": 21
        }
      ]
    },
    {
      "cell_type": "code",
      "metadata": {
        "id": "kfHj0I_mZ_Z3",
        "colab_type": "code",
        "colab": {
          "base_uri": "https://localhost:8080/",
          "height": 35
        },
        "outputId": "cdaf7c0b-48dd-4f5a-fb26-d6b76c3d9b39"
      },
      "source": [
        "#iteração\n",
        "lista_antiga = [1,1,2,3,5,8,13]\n",
        "lista_nova = []\n",
        "\n",
        "for item in lista_antiga:\n",
        "  lista_nova.append(item)\n",
        "\n",
        "lista_nova"
      ],
      "execution_count": 22,
      "outputs": [
        {
          "output_type": "execute_result",
          "data": {
            "text/plain": [
              "[1, 1, 2, 3, 5, 8, 13]"
            ]
          },
          "metadata": {
            "tags": []
          },
          "execution_count": 22
        }
      ]
    },
    {
      "cell_type": "code",
      "metadata": {
        "id": "Fh3O9XPgaZwI",
        "colab_type": "code",
        "colab": {
          "base_uri": "https://localhost:8080/",
          "height": 35
        },
        "outputId": "3032ca16-e8ba-4beb-8a42-bb6bc47ce060"
      },
      "source": [
        "#adicionar vários itens na lista de uma vez\n",
        "lista_nova.extend([21,34])\n",
        "lista_nova"
      ],
      "execution_count": 24,
      "outputs": [
        {
          "output_type": "execute_result",
          "data": {
            "text/plain": [
              "[1, 1, 2, 3, 5, 8, 13, 21, 34]"
            ]
          },
          "metadata": {
            "tags": []
          },
          "execution_count": 24
        }
      ]
    },
    {
      "cell_type": "code",
      "metadata": {
        "id": "YxuJBUd5a5ji",
        "colab_type": "code",
        "colab": {
          "base_uri": "https://localhost:8080/",
          "height": 35
        },
        "outputId": "90991957-77fd-4441-f7bd-8b9efdb16977"
      },
      "source": [
        "#descobrir indice de um item\n",
        "lista_nova.index(5)"
      ],
      "execution_count": 26,
      "outputs": [
        {
          "output_type": "execute_result",
          "data": {
            "text/plain": [
              "4"
            ]
          },
          "metadata": {
            "tags": []
          },
          "execution_count": 26
        }
      ]
    },
    {
      "cell_type": "code",
      "metadata": {
        "id": "jBqEoVFgbW1k",
        "colab_type": "code",
        "colab": {
          "base_uri": "https://localhost:8080/",
          "height": 35
        },
        "outputId": "6d9528d3-84c9-49b6-ffa8-1d9cb4a8aa73"
      },
      "source": [
        "#inserir item numa posição específica\n",
        "lista_nova.insert(0,0) #posição,item\n",
        "lista_nova"
      ],
      "execution_count": 27,
      "outputs": [
        {
          "output_type": "execute_result",
          "data": {
            "text/plain": [
              "[0, 1, 1, 2, 3, 5, 8, 13, 21, 34]"
            ]
          },
          "metadata": {
            "tags": []
          },
          "execution_count": 27
        }
      ]
    },
    {
      "cell_type": "code",
      "metadata": {
        "id": "HBtm-jQxbD6E",
        "colab_type": "code",
        "colab": {
          "base_uri": "https://localhost:8080/",
          "height": 35
        },
        "outputId": "646670c3-b456-43ec-8142-9fb6fcf7a6bd"
      },
      "source": [
        "#remover um item da lista citando o utem\n",
        "lista_nova.remove(34)\n",
        "lista_nova"
      ],
      "execution_count": 28,
      "outputs": [
        {
          "output_type": "execute_result",
          "data": {
            "text/plain": [
              "[0, 1, 1, 2, 3, 5, 8, 13, 21]"
            ]
          },
          "metadata": {
            "tags": []
          },
          "execution_count": 28
        }
      ]
    },
    {
      "cell_type": "code",
      "metadata": {
        "id": "hfNDL-XTbo4M",
        "colab_type": "code",
        "colab": {
          "base_uri": "https://localhost:8080/",
          "height": 35
        },
        "outputId": "281be41b-49aa-455f-e9b0-c2abe310fcb8"
      },
      "source": [
        "#inverter lista\n",
        "lista_nova.reverse()\n",
        "lista_nova"
      ],
      "execution_count": 29,
      "outputs": [
        {
          "output_type": "execute_result",
          "data": {
            "text/plain": [
              "[21, 13, 8, 5, 3, 2, 1, 1, 0]"
            ]
          },
          "metadata": {
            "tags": []
          },
          "execution_count": 29
        }
      ]
    },
    {
      "cell_type": "code",
      "metadata": {
        "id": "5jTdycxrby7m",
        "colab_type": "code",
        "colab": {
          "base_uri": "https://localhost:8080/",
          "height": 35
        },
        "outputId": "7aafcde9-6ed7-4972-eece-4b3f4e8687ad"
      },
      "source": [
        "#ordenar lista\n",
        "lista_nova.sort()\n",
        "lista_nova"
      ],
      "execution_count": 30,
      "outputs": [
        {
          "output_type": "execute_result",
          "data": {
            "text/plain": [
              "[0, 1, 1, 2, 3, 5, 8, 13, 21]"
            ]
          },
          "metadata": {
            "tags": []
          },
          "execution_count": 30
        }
      ]
    },
    {
      "cell_type": "markdown",
      "metadata": {
        "id": "cGZdLEGZcB1m",
        "colab_type": "text"
      },
      "source": [
        "####Dicionário"
      ]
    },
    {
      "cell_type": "code",
      "metadata": {
        "id": "wFUD8PCob3Eu",
        "colab_type": "code",
        "colab": {
          "base_uri": "https://localhost:8080/",
          "height": 35
        },
        "outputId": "1adf955f-de45-4b2d-9ba1-5c0c25d1da5a"
      },
      "source": [
        "#lista \n",
        "lista_estudantes = ['gabriela',17,'joão',16,'ketrine',17,'felipe',18] \n",
        "lista_estudantes"
      ],
      "execution_count": 31,
      "outputs": [
        {
          "output_type": "execute_result",
          "data": {
            "text/plain": [
              "['gabriela', 17, 'joão', 16, 'ketrine', 17, 'felipe', 18]"
            ]
          },
          "metadata": {
            "tags": []
          },
          "execution_count": 31
        }
      ]
    },
    {
      "cell_type": "code",
      "metadata": {
        "id": "bmGPrPBDdP5J",
        "colab_type": "code",
        "colab": {
          "base_uri": "https://localhost:8080/",
          "height": 35
        },
        "outputId": "b5d3a1d7-6441-4d90-b1c4-059ef5ab3731"
      },
      "source": [
        "#dicionario chaves\n",
        "dicionario_estudantes = {'gabriela':17,'joão':16,'ketrine':17,'felipe':18}\n",
        "dicionario_estudantes"
      ],
      "execution_count": 33,
      "outputs": [
        {
          "output_type": "execute_result",
          "data": {
            "text/plain": [
              "{'felipe': 18, 'gabriela': 17, 'joão': 16, 'ketrine': 17}"
            ]
          },
          "metadata": {
            "tags": []
          },
          "execution_count": 33
        }
      ]
    },
    {
      "cell_type": "code",
      "metadata": {
        "id": "sYo1KnucdbAe",
        "colab_type": "code",
        "colab": {
          "base_uri": "https://localhost:8080/",
          "height": 35
        },
        "outputId": "14fb6809-19c6-42e4-f71b-a0d89bf6a500"
      },
      "source": [
        "dicionario_estudantes['ketrine']"
      ],
      "execution_count": 34,
      "outputs": [
        {
          "output_type": "execute_result",
          "data": {
            "text/plain": [
              "17"
            ]
          },
          "metadata": {
            "tags": []
          },
          "execution_count": 34
        }
      ]
    },
    {
      "cell_type": "code",
      "metadata": {
        "id": "dCyLpl-YdqIh",
        "colab_type": "code",
        "colab": {
          "base_uri": "https://localhost:8080/",
          "height": 35
        },
        "outputId": "0ef5ce97-81ef-4bcc-cdd1-8eb52a63d1ae"
      },
      "source": [
        "dicionario_estudantes['gabriela'] = 16\n",
        "dicionario_estudantes['gabriela'] "
      ],
      "execution_count": 35,
      "outputs": [
        {
          "output_type": "execute_result",
          "data": {
            "text/plain": [
              "16"
            ]
          },
          "metadata": {
            "tags": []
          },
          "execution_count": 35
        }
      ]
    },
    {
      "cell_type": "code",
      "metadata": {
        "id": "o2ZjPDkAdw57",
        "colab_type": "code",
        "colab": {
          "base_uri": "https://localhost:8080/",
          "height": 35
        },
        "outputId": "ef121e06-f819-4155-a8e2-264f664fd750"
      },
      "source": [
        "#adicionar novo par de chave-valor (python percebe que não existe para atualizar então cria)\n",
        "dicionario_estudantes['pedro'] = 16\n",
        "dicionario_estudantes"
      ],
      "execution_count": 36,
      "outputs": [
        {
          "output_type": "execute_result",
          "data": {
            "text/plain": [
              "{'felipe': 18, 'gabriela': 16, 'joão': 16, 'ketrine': 17, 'pedro': 16}"
            ]
          },
          "metadata": {
            "tags": []
          },
          "execution_count": 36
        }
      ]
    },
    {
      "cell_type": "code",
      "metadata": {
        "id": "VRHqMtcXeS7y",
        "colab_type": "code",
        "colab": {
          "base_uri": "https://localhost:8080/",
          "height": 35
        },
        "outputId": "f76a5dc8-62fb-4363-864b-19ccaaf1bbf9"
      },
      "source": [
        "#comando limpa valores\n",
        "dicionario_estudantes.clear()\n",
        "dicionario_estudantes"
      ],
      "execution_count": 37,
      "outputs": [
        {
          "output_type": "execute_result",
          "data": {
            "text/plain": [
              "{}"
            ]
          },
          "metadata": {
            "tags": []
          },
          "execution_count": 37
        }
      ]
    },
    {
      "cell_type": "code",
      "metadata": {
        "id": "xmfbeZSpedN8",
        "colab_type": "code",
        "colab": {
          "base_uri": "https://localhost:8080/",
          "height": 189
        },
        "outputId": "1335095b-c137-4339-9d12-d799496896e2"
      },
      "source": [
        "#esse comando deleta completamente, não é mais possível utilizar o dicionário, precisa criar novamente\n",
        "del dicionario_estudantes\n",
        "dicionario_estudantes"
      ],
      "execution_count": 39,
      "outputs": [
        {
          "output_type": "error",
          "ename": "NameError",
          "evalue": "ignored",
          "traceback": [
            "\u001b[0;31m---------------------------------------------------------------------------\u001b[0m",
            "\u001b[0;31mNameError\u001b[0m                                 Traceback (most recent call last)",
            "\u001b[0;32m<ipython-input-39-61bae93cda6e>\u001b[0m in \u001b[0;36m<module>\u001b[0;34m()\u001b[0m\n\u001b[0;32m----> 1\u001b[0;31m \u001b[0;32mdel\u001b[0m \u001b[0mdicionario_estudantes\u001b[0m\u001b[0;34m\u001b[0m\u001b[0;34m\u001b[0m\u001b[0m\n\u001b[0m\u001b[1;32m      2\u001b[0m \u001b[0mdicionario_estudantes\u001b[0m\u001b[0;34m\u001b[0m\u001b[0;34m\u001b[0m\u001b[0m\n",
            "\u001b[0;31mNameError\u001b[0m: name 'dicionario_estudantes' is not defined"
          ]
        }
      ]
    },
    {
      "cell_type": "code",
      "metadata": {
        "id": "9eKRKklceq6l",
        "colab_type": "code",
        "colab": {
          "base_uri": "https://localhost:8080/",
          "height": 35
        },
        "outputId": "1303dbf4-c81e-4fa5-fed6-3c57b60afd96"
      },
      "source": [
        "dicionario_estudantes = {'gabriela':17,'joão':16,'ketrine':17,'felipe':18}\n",
        "len(dicionario_estudantes)"
      ],
      "execution_count": 40,
      "outputs": [
        {
          "output_type": "execute_result",
          "data": {
            "text/plain": [
              "4"
            ]
          },
          "metadata": {
            "tags": []
          },
          "execution_count": 40
        }
      ]
    },
    {
      "cell_type": "code",
      "metadata": {
        "id": "A1XefaYEe5_O",
        "colab_type": "code",
        "colab": {
          "base_uri": "https://localhost:8080/",
          "height": 35
        },
        "outputId": "5896561e-96a1-41b6-b753-9ad2f19b487b"
      },
      "source": [
        "#somente chaves\n",
        "dicionario_estudantes.keys()"
      ],
      "execution_count": 41,
      "outputs": [
        {
          "output_type": "execute_result",
          "data": {
            "text/plain": [
              "dict_keys(['gabriela', 'joão', 'ketrine', 'felipe'])"
            ]
          },
          "metadata": {
            "tags": []
          },
          "execution_count": 41
        }
      ]
    },
    {
      "cell_type": "code",
      "metadata": {
        "id": "ndoy_IiBe-dL",
        "colab_type": "code",
        "colab": {
          "base_uri": "https://localhost:8080/",
          "height": 35
        },
        "outputId": "fd7c1f92-7627-487a-dce9-03066545dfd6"
      },
      "source": [
        "#somente valores\n",
        "dicionario_estudantes.values()"
      ],
      "execution_count": 42,
      "outputs": [
        {
          "output_type": "execute_result",
          "data": {
            "text/plain": [
              "dict_values([17, 16, 17, 18])"
            ]
          },
          "metadata": {
            "tags": []
          },
          "execution_count": 42
        }
      ]
    },
    {
      "cell_type": "code",
      "metadata": {
        "id": "wquDd-W9e_ie",
        "colab_type": "code",
        "colab": {
          "base_uri": "https://localhost:8080/",
          "height": 35
        },
        "outputId": "0d9aaa2c-b82d-41c2-be67-8da919ec5ecd"
      },
      "source": [
        "#pares\n",
        "dicionario_estudantes.items()"
      ],
      "execution_count": 44,
      "outputs": [
        {
          "output_type": "execute_result",
          "data": {
            "text/plain": [
              "dict_items([('gabriela', 17), ('joão', 16), ('ketrine', 17), ('felipe', 18)])"
            ]
          },
          "metadata": {
            "tags": []
          },
          "execution_count": 44
        }
      ]
    },
    {
      "cell_type": "code",
      "metadata": {
        "id": "1BYF-NjLfBEQ",
        "colab_type": "code",
        "colab": {
          "base_uri": "https://localhost:8080/",
          "height": 162
        },
        "outputId": "2606abd7-b17d-40ff-894b-8d12ddb85565"
      },
      "source": [
        "#concatenar dicionários (fez em ordem alfabética pelas chaves)\n",
        "dicionario_estudantes2 = {'marcia':16,'bruno':16,'larissa':18,'henrique':18}\n",
        "dicionario_estudantes.update(dicionario_estudantes2)\n",
        "dicionario_estudantes"
      ],
      "execution_count": 45,
      "outputs": [
        {
          "output_type": "execute_result",
          "data": {
            "text/plain": [
              "{'bruno': 16,\n",
              " 'felipe': 18,\n",
              " 'gabriela': 17,\n",
              " 'henrique': 18,\n",
              " 'joão': 16,\n",
              " 'ketrine': 17,\n",
              " 'larissa': 18,\n",
              " 'marcia': 16}"
            ]
          },
          "metadata": {
            "tags": []
          },
          "execution_count": 45
        }
      ]
    },
    {
      "cell_type": "code",
      "metadata": {
        "id": "2UVS4ysmfaeb",
        "colab_type": "code",
        "colab": {
          "base_uri": "https://localhost:8080/",
          "height": 35
        },
        "outputId": "e4abd898-2301-4241-dd50-a58cc3574d6c"
      },
      "source": [
        "#chave valor com tipos distintos\n",
        "dicionario = {10:5, \"chave\":2}\n",
        "dicionario"
      ],
      "execution_count": 46,
      "outputs": [
        {
          "output_type": "execute_result",
          "data": {
            "text/plain": [
              "{10: 5, 'chave': 2}"
            ]
          },
          "metadata": {
            "tags": []
          },
          "execution_count": 46
        }
      ]
    },
    {
      "cell_type": "code",
      "metadata": {
        "id": "umPk2ayqfyL3",
        "colab_type": "code",
        "colab": {
          "base_uri": "https://localhost:8080/",
          "height": 35
        },
        "outputId": "b07828f7-2250-432b-b8f0-6a9ed6b235ec"
      },
      "source": [
        "dicionario[10.9] = 'texto'\n",
        "dicionario"
      ],
      "execution_count": 47,
      "outputs": [
        {
          "output_type": "execute_result",
          "data": {
            "text/plain": [
              "{10: 5, 10.9: 'texto', 'chave': 2}"
            ]
          },
          "metadata": {
            "tags": []
          },
          "execution_count": 47
        }
      ]
    },
    {
      "cell_type": "code",
      "metadata": {
        "id": "hl8ARyVWf6RF",
        "colab_type": "code",
        "colab": {
          "base_uri": "https://localhost:8080/",
          "height": 35
        },
        "outputId": "5536c97c-647d-43eb-93df-7235a62b1c18"
      },
      "source": [
        "#texto é chave e valor, tomar cuidado\n",
        "dicionario['texto'] = 2\n",
        "dicionario"
      ],
      "execution_count": 48,
      "outputs": [
        {
          "output_type": "execute_result",
          "data": {
            "text/plain": [
              "{10: 5, 10.9: 'texto', 'chave': 2, 'texto': 2}"
            ]
          },
          "metadata": {
            "tags": []
          },
          "execution_count": 48
        }
      ]
    },
    {
      "cell_type": "code",
      "metadata": {
        "id": "YIE-cpvdgDoD",
        "colab_type": "code",
        "colab": {
          "base_uri": "https://localhost:8080/",
          "height": 35
        },
        "outputId": "627eb8e8-f25d-4bee-bb61-1e50bc10f1f7"
      },
      "source": [
        "#dicionarios de listas\n",
        "dicion_list = {'key1':1200, 'key2':[2,1,4], 'key3': ['tomate', 'leite','batata']}\n",
        "dicion_list"
      ],
      "execution_count": 49,
      "outputs": [
        {
          "output_type": "execute_result",
          "data": {
            "text/plain": [
              "{'key1': 1200, 'key2': [2, 1, 4], 'key3': ['tomate', 'leite', 'batata']}"
            ]
          },
          "metadata": {
            "tags": []
          },
          "execution_count": 49
        }
      ]
    },
    {
      "cell_type": "code",
      "metadata": {
        "id": "d4mTGxW_glIz",
        "colab_type": "code",
        "colab": {
          "base_uri": "https://localhost:8080/",
          "height": 35
        },
        "outputId": "e939ea5f-bad8-421b-a583-8d4a0daefc6f"
      },
      "source": [
        "dicion_list['key3'][0].upper()"
      ],
      "execution_count": 51,
      "outputs": [
        {
          "output_type": "execute_result",
          "data": {
            "text/plain": [
              "'TOMATE'"
            ]
          },
          "metadata": {
            "tags": []
          },
          "execution_count": 51
        }
      ]
    },
    {
      "cell_type": "code",
      "metadata": {
        "id": "nxCAwHEVguho",
        "colab_type": "code",
        "colab": {
          "base_uri": "https://localhost:8080/",
          "height": 35
        },
        "outputId": "d497b572-10fc-4649-a7df-6bcc3e2cb291"
      },
      "source": [
        "#dicionários aninhados\n",
        "teste = {'chave1':{'key1':'teste', 'key2':'lalala'}, 'chave2':{'one':1, 'two':2}}\n",
        "teste"
      ],
      "execution_count": 52,
      "outputs": [
        {
          "output_type": "execute_result",
          "data": {
            "text/plain": [
              "{'chave1': {'key1': 'teste', 'key2': 'lalala'}, 'chave2': {'one': 1, 'two': 2}}"
            ]
          },
          "metadata": {
            "tags": []
          },
          "execution_count": 52
        }
      ]
    },
    {
      "cell_type": "markdown",
      "metadata": {
        "id": "BDOhnVFRhfmo",
        "colab_type": "text"
      },
      "source": [
        "####Tuplas"
      ]
    },
    {
      "cell_type": "code",
      "metadata": {
        "id": "rh7vZ3nChNi9",
        "colab_type": "code",
        "colab": {
          "base_uri": "https://localhost:8080/",
          "height": 35
        },
        "outputId": "8aeac810-ff25-4588-ce8e-3b7c04effa97"
      },
      "source": [
        "#tupla parênteses\n",
        "tupla_teste = ('matemática', 1 , 10.9)\n",
        "tupla_teste"
      ],
      "execution_count": 53,
      "outputs": [
        {
          "output_type": "execute_result",
          "data": {
            "text/plain": [
              "('matemática', 1, 10.9)"
            ]
          },
          "metadata": {
            "tags": []
          },
          "execution_count": 53
        }
      ]
    },
    {
      "cell_type": "code",
      "metadata": {
        "id": "RO7pR56riH3y",
        "colab_type": "code",
        "colab": {
          "base_uri": "https://localhost:8080/",
          "height": 35
        },
        "outputId": "78a1fcd7-7939-466f-fa02-c90863ebb396"
      },
      "source": [
        "#append e delete de item especifico não funcionam\n",
        "tupla_teste[0]\n"
      ],
      "execution_count": 54,
      "outputs": [
        {
          "output_type": "execute_result",
          "data": {
            "text/plain": [
              "'matemática'"
            ]
          },
          "metadata": {
            "tags": []
          },
          "execution_count": 54
        }
      ]
    },
    {
      "cell_type": "code",
      "metadata": {
        "id": "OX0pkKsdim9W",
        "colab_type": "code",
        "colab": {
          "base_uri": "https://localhost:8080/",
          "height": 35
        },
        "outputId": "87a93a18-2b2c-4ffb-c909-ef00767c1b1a"
      },
      "source": [
        "#slicing funciona\n",
        "tupla_teste[1:]"
      ],
      "execution_count": 56,
      "outputs": [
        {
          "output_type": "execute_result",
          "data": {
            "text/plain": [
              "(1, 10.9)"
            ]
          },
          "metadata": {
            "tags": []
          },
          "execution_count": 56
        }
      ]
    },
    {
      "cell_type": "code",
      "metadata": {
        "id": "5AQxZlSIiqRy",
        "colab_type": "code",
        "colab": {}
      },
      "source": [
        "del tupla_teste"
      ],
      "execution_count": 0,
      "outputs": []
    },
    {
      "cell_type": "code",
      "metadata": {
        "id": "Uj6HlNwbi1CP",
        "colab_type": "code",
        "colab": {
          "base_uri": "https://localhost:8080/",
          "height": 35
        },
        "outputId": "0fcfbfa7-228e-4697-b1c2-c9a289cb1531"
      },
      "source": [
        "#para alterar a tupla, dá para copiar para a lista alterar e devolver para a tupla\n",
        "tupla_teste = ('matemática', 1 , 10.9)\n",
        "lista1 = list(tupla_teste)\n",
        "lista1.append('novoItem')\n",
        "tupla_teste = tuple(lista1)\n",
        "tupla_teste"
      ],
      "execution_count": 60,
      "outputs": [
        {
          "output_type": "execute_result",
          "data": {
            "text/plain": [
              "('matemática', 1, 10.9, 'novoItem')"
            ]
          },
          "metadata": {
            "tags": []
          },
          "execution_count": 60
        }
      ]
    },
    {
      "cell_type": "code",
      "metadata": {
        "id": "yGwn7D8SjOXZ",
        "colab_type": "code",
        "colab": {
          "base_uri": "https://localhost:8080/",
          "height": 35
        },
        "outputId": "f7a423b5-267c-4115-ee73-62b606a6a9c2"
      },
      "source": [
        "  string_teste = 'marcella'\n",
        "  lista2 = list(string_teste)\n",
        "  lista2"
      ],
      "execution_count": 61,
      "outputs": [
        {
          "output_type": "execute_result",
          "data": {
            "text/plain": [
              "['m', 'a', 'r', 'c', 'e', 'l', 'l', 'a']"
            ]
          },
          "metadata": {
            "tags": []
          },
          "execution_count": 61
        }
      ]
    },
    {
      "cell_type": "markdown",
      "metadata": {
        "id": "Hl-hLl8ilf1F",
        "colab_type": "text"
      },
      "source": [
        "###Exercício"
      ]
    },
    {
      "cell_type": "markdown",
      "metadata": {
        "id": "6Yhz5uMQl4Nd",
        "colab_type": "text"
      },
      "source": [
        "https://colab.research.google.com/github/marcellapbp/PythonFundamentos/blob/master/Cap02/Notebooks/DSA-Python-Cap02-Exercicios.ipynb"
      ]
    }
  ]
}