{
  "nbformat": 4,
  "nbformat_minor": 0,
  "metadata": {
    "colab": {
      "name": "Aprendendo Python",
      "provenance": [],
      "toc_visible": true,
      "authorship_tag": "ABX9TyN/BT4DJ7I8mXahwYSVKjvU",
      "include_colab_link": true
    },
    "kernelspec": {
      "name": "python3",
      "display_name": "Python 3"
    }
  },
  "cells": [
    {
      "cell_type": "markdown",
      "metadata": {
        "id": "view-in-github",
        "colab_type": "text"
      },
      "source": [
        "<a href=\"https://colab.research.google.com/github/marcellapbp/Aprendendo-Python/blob/master/Aprendendo_Python.ipynb\" target=\"_parent\"><img src=\"https://colab.research.google.com/assets/colab-badge.svg\" alt=\"Open In Colab\"/></a>"
      ]
    },
    {
      "cell_type": "code",
      "metadata": {
        "id": "z73MIHRHf5UT",
        "colab_type": "code",
        "colab": {}
      },
      "source": [
        ""
      ],
      "execution_count": 0,
      "outputs": []
    },
    {
      "cell_type": "markdown",
      "metadata": {
        "id": "McDTypVPgKvH",
        "colab_type": "text"
      },
      "source": [
        "#Primeiro Teste\n",
        "\n"
      ]
    },
    {
      "cell_type": "code",
      "metadata": {
        "colab_type": "code",
        "cellView": "both",
        "id": "PymD2-xdhzXI",
        "colab": {}
      },
      "source": [
        "x = 1 + 1\n",
        "print (x)\n",
        "\n"
      ],
      "execution_count": 0,
      "outputs": []
    }
  ]
}